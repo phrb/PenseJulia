{
 "cells": [
  {
   "cell_type": "markdown",
   "metadata": {},
   "source": [
    "# 1. O Caminho do Programa\n",
    "\n",
    "O objetivo deste livro é ensinar a pensar como um cientista da computação. Esta maneira de pensar combina algumas das melhores características da matemática, da engenharia, e das ciências naturais. Assim como os matemáticos, os cientistas da computação usam linguagens formais para representar ideias, ou mais especificamente, operações de computação. Assim como engenheiros, eles projetam coisas, reunindo componentes em sistemas e avaliando os custos e os benefícios das alternativas à disposição. Assim como cientistas, observam o comportamento de sistemas complexos, formam hipóteses e testam previsões.\n",
    "\n",
    "A habilidade mais importante para um cientista da computação é a *resolução de problemas*, isto é, a capacidade de formular problemas, pensar em soluções criativas, e expressá-las de maneira clara e precisa. No fim das contas, o processo de aprender a programar é uma ótima oportunidade para praticar suas habilidades de resolução de problemas. Por isso, este capítulo se chama \"O Caminho do Programa\".\n",
    "\n",
    "Num nível, você vai aprender a programar, o que é uma habilidade útil por si só. Num outro nível, vai usar a programação como um meio para um fim. Conforme avançarmos, este fim vai ficar mais claro.\n",
    "\n",
    "## O Quê é um Programa?\n",
    "\n",
    "Um *programa* é uma sequência de instruções que especifica como realizar uma operação de computação. A operação de computação pode ser relacionada com a matemática, como solucionar um sistema de equações ou encontrar as raízes de um polinômio, mas também pode ser uma operação de computação simbólica, como a busca e a substituição de textos em um documento, ou uma operação relacionada ao audiovisual, como o processamento de uma imagem ou a reprodução de um vídeo.\n",
    "\n",
    "Os detalhes de cada operação mudam de uma linguagem de programação a outra, mas alguns conceitos e instruções básicas aparecem em praticamente todas as linguagens:\n",
    "\n",
    "**Entrada**\n",
    "\n",
    "Receber dados do teclado, de um arquivo, da rede, ou de algum outro dispositivo.\n",
    "\n",
    "**Saída**\n",
    "\n",
    "Exibir dados na tela, salvá-los em um arquivo, enviá-los pela rede etc.\n",
    "\n",
    "**Matemática**\n",
    "\n",
    "Executar operações matemáticas básicas, como adição e multiplicação.\n",
    "\n",
    "**Execução Condicional**\n",
    "\n",
    "Verificar a veracidade de determinadas condições e executar o código adequado.\n",
    "    \n",
    "**Repetição**\n",
    "\n",
    "Repetir uma ação, normalmente com pequenas variações.\n",
    "\n",
    "Você pode não acreditar, mas isso é praticamente tudo o que você precisa saber. Todo programa que você já usou, não importa o quão complicado, consiste em instruções muito parecidas com essas. Portanto, você pode pensar sobre programação como sendo o processo de quebrar tarefas grandes e complexas em *subtarefas*, e de quebrar essas subtarefas em \"sub-subtarefas\" cada vez menores, até que elas sejam suficientemente simples para serem descritas e realizadas por uma das instruções básicas da lista acima.\n",
    "\n",
    "## Instalando e Executando Julia\n",
    "\n",
    "Um dos desafios de começar a programar em Julia é a instalação da linguagem e de seu *software* de apoio em seu computador. Se você já conhece bem o *sistema operacional* de seu computador e, principalmente, é confortável na *interface de linha de comando*, você não terá nenhum problema instalando Julia. Para principiantes, no entanto, pode ser doloroso ter que aprender sobre programação e gerenciamento de sistemas ao mesmo tempo.\n",
    "\n",
    "Para evitar esse problema, recomendo que você comece executando Julia no seu navegador. Mais tarde, quando estiver confortável com a linguagem, vou sugerir como instalar Julia no seu computador. No momento da tradução deste livro, a maneira mais simples de experimentar a linguagem Julia é através de um *Notebook Jupyter* para Julia, acessando o [site do Projeto Jupyter](https://jupyter.org/try) e escolhendo a linguagem Julia. Você pode começar por lá e tentar executar os exemplos deste capítulo enquanto não instala Julia em seu computador.\n",
    "\n",
    "No entanto, a maneira recomendada de acompanhar esta versão de *Pense Julia* é [instalar o Notebook Jupyter](https://jupyter.org/install) e o pacote Julia [IJulia](https://github.com/JuliaLang/IJulia.jl). Dessa maneira, você vai poder executar os capítulos em seu próprio computador, à medida que vai avançando no material. Como o material é disponibilizado em Notebooks Jupyter, essa é a maneira mais fluida de acompanhar o curso.\n",
    "\n",
    "Se quiser, você também pode fazer uma conta no [site da Julia Computing](https://juliacomputing.com/), e rodar Julia no seu navegador usando a [JuliaBox](https://juliabox.com/). Além disso, você pode baixar o [JuliaPro](https://juliacomputing.com/products/juliapro.html), que vem com uma série de pacotes Julia já instalados. No momento da tradução deste material, todos esses serviços são gratuitos.\n",
    "\n",
    "O *Laço de Leitura-Avaliação-Impressão*, ou *Read-Eval-Print Loop* (REPL) em inglês, é um programa que lê e executa código em Julia. \n",
    "\n",
    "Os Notebooks Jupyter funcionam com diversas linguagens de programação. O Notebook que você usando neste momento está executando um REPL de Julia com o qual podemos interagir através de *células*, com as quais você vai se familiarizar bastante ao longo do livro. As células de um Notebook contêm instruções para o REPL, também chamadas de *código* ou *programa*. Ao clicar em uma célula, você vai observar uma borda colorida aparecer em volta dela.\n",
    "\n",
    "Se você apertar a combinação de teclas `Ctrl + Enter` depois de selecionar uma célula, vai executar o programa contido na célula e vai observar seu resultado, também chamado de *saída do programa*. Agora, interaja com o REPL clicando na célula abaixo e pressionando simultaneamente as teclas `Ctrl` e `Enter` em seu teclado. A instrução `Base.banner()` dentro da célula é uma instrução de **saída**, e portanto vai mostrar informações em sua tela. A instrução abaixo mostra informações sobre o REPL que está sendo executado por este Notebook:"
   ]
  },
  {
   "cell_type": "code",
   "execution_count": 14,
   "metadata": {
    "slideshow": {
     "slide_type": "-"
    }
   },
   "outputs": [
    {
     "name": "stdout",
     "output_type": "stream",
     "text": [
      "               \u001b[1m\u001b[32m_\u001b[0m\n",
      "   \u001b[1m\u001b[34m_\u001b[0m       \u001b[0m_\u001b[0m \u001b[1m\u001b[31m_\u001b[1m\u001b[32m(_)\u001b[1m\u001b[35m_\u001b[0m     |  Documentation: https://docs.julialang.org\n",
      "  \u001b[1m\u001b[34m(_)\u001b[0m     | \u001b[1m\u001b[31m(_)\u001b[0m \u001b[1m\u001b[35m(_)\u001b[0m    |\n",
      "   \u001b[0m_ _   _| |_  __ _\u001b[0m   |  Type \"?\" for help, \"]?\" for Pkg help.\n",
      "  \u001b[0m| | | | | | |/ _` |\u001b[0m  |\n",
      "  \u001b[0m| | |_| | | | (_| |\u001b[0m  |  Version 1.1.1 (2019-05-16)\n",
      " \u001b[0m_/ |\\__'_|_|_|\\__'_|\u001b[0m  |  \n",
      "\u001b[0m|__/\u001b[0m                   |\n",
      "\n"
     ]
    }
   ],
   "source": [
    "Base.banner()"
   ]
  },
  {
   "cell_type": "markdown",
   "metadata": {},
   "source": [
    "### Instalando Julia, IJulia e o Notebook Jupyter\n",
    "\n",
    "Esta seção contém um *tutorial* para a instalação da versão mais recente de Julia, do pacote IJulia, e do Notebook Jupyter.\n",
    "\n",
    "1. Instale Julia:\n",
    "\n",
    "    1.1 Baixe a versão do instalador para o seu sistema [aqui](https://julialang.org/downloads/)\n",
    "    \n",
    "    1.2 Execute o binário para instalar Julia (estamos usando a versão `1.1.1` neste livro)\n",
    "    \n",
    "    \n",
    "2. Instale o pacote IJulia:\n",
    "\n",
    "    2.1 Abra o interpretador Julia, o REPL, que você instalou no passo anterior\n",
    "    \n",
    "    2.2 Instale o pacote IJulia, fazendo o seguinte:\n",
    "    \n",
    "    ```julia\n",
    "    using Pkg\n",
    "    Pkg.add(\"IJulia\")\n",
    "    ```\n",
    "    \n",
    "    2.3. Verifique a instalação do pacote IJulia:\n",
    "    \n",
    "    ```julia\n",
    "    Pkg.status()\n",
    "    ```\n",
    "    \n",
    "4. Instale o Notebook Jupyter:\n",
    "\n",
    "    4.1 Você vai precisar instalar o Python. Você pode instalá-lo separadamente e depois instalar o Notebook Jupyter, ou instalar a distribuição Anaconda [aqui](https://www.anaconda.com/distribution/#download-section)\n",
    "    \n",
    "\n",
    "Agora estamos prontos para começar. Daqui pra frente, vou assumir que você sabe como inicializar o Notebook Jupyter e executar código dentro de células.\n",
    "\n",
    "## O Primeiro Programa\n",
    "\n",
    "A tradição é que o *Olá, Mundo!* é primeiro programa que você escreve quando está aprendendo uma nova linguagem de programação, pois tudo que esse programa faz é mostrar \"Olá, Mundo!\" na tela do seu computador. Em Julia, escrevemos esse programa assim:"
   ]
  },
  {
   "cell_type": "code",
   "execution_count": 15,
   "metadata": {},
   "outputs": [
    {
     "name": "stdout",
     "output_type": "stream",
     "text": [
      "Olá, Mundo!\n"
     ]
    }
   ],
   "source": [
    "println(\"Olá, Mundo!\")"
   ]
  },
  {
   "cell_type": "markdown",
   "metadata": {},
   "source": [
    "A instrução nesse exemplo é uma *instrução de impressão*, mesmo que ela não imprima nada no papel. Seu propósito é mostrar informações na tela.\n",
    "\n",
    "As *aspas duplas* no programa marcam o início e o fim do texto que deve ser mostrado. Elas não aparecem no resultado.\n",
    "\n",
    "Os *parênteses* indicam que `println` é uma *função*. Nós vamos falar de funções no capítulo Funções.\n",
    "\n",
    "## Operadores Aritméticos\n",
    "\n",
    "Depois do \"Olá, Mundo!\", o próximo passo é a *aritmética*. A linguagem Julia fornece símbolos, chamados de *operadores*, que representam operações de computação como *adição* e *multiplicação*.\n",
    "\n",
    "Os operadores `+`, `-`, e `*` fazem adição, subtração, e multiplicação nos exemplos abaixo:"
   ]
  },
  {
   "cell_type": "code",
   "execution_count": 17,
   "metadata": {},
   "outputs": [
    {
     "data": {
      "text/plain": [
       "42"
      ]
     },
     "execution_count": 17,
     "metadata": {},
     "output_type": "execute_result"
    }
   ],
   "source": [
    "40 + 2"
   ]
  },
  {
   "cell_type": "code",
   "execution_count": 18,
   "metadata": {},
   "outputs": [
    {
     "data": {
      "text/plain": [
       "42"
      ]
     },
     "execution_count": 18,
     "metadata": {},
     "output_type": "execute_result"
    }
   ],
   "source": [
    "43 - 1"
   ]
  },
  {
   "cell_type": "code",
   "execution_count": 19,
   "metadata": {},
   "outputs": [
    {
     "data": {
      "text/plain": [
       "42"
      ]
     },
     "execution_count": 19,
     "metadata": {},
     "output_type": "execute_result"
    }
   ],
   "source": [
    "6 * 7"
   ]
  },
  {
   "cell_type": "markdown",
   "metadata": {},
   "source": [
    "O operador `/` faz divisão:"
   ]
  },
  {
   "cell_type": "code",
   "execution_count": 20,
   "metadata": {},
   "outputs": [
    {
     "data": {
      "text/plain": [
       "42.0"
      ]
     },
     "execution_count": 20,
     "metadata": {},
     "output_type": "execute_result"
    }
   ],
   "source": [
    "84 / 2"
   ]
  },
  {
   "cell_type": "markdown",
   "metadata": {},
   "source": [
    "Talvez você esteja se perguntando porque o resultado é `42.0` e não `42`. Eu vou explicar na próxima seção.\n",
    "\n",
    "Finalmente, o operador `^` faz *exponenciação*, isto é, eleva um número a uma potência:"
   ]
  },
  {
   "cell_type": "code",
   "execution_count": 21,
   "metadata": {},
   "outputs": [
    {
     "data": {
      "text/plain": [
       "42"
      ]
     },
     "execution_count": 21,
     "metadata": {},
     "output_type": "execute_result"
    }
   ],
   "source": [
    "6 ^ 2 + 6"
   ]
  },
  {
   "cell_type": "markdown",
   "metadata": {},
   "source": [
    "## Valores e Tipos\n",
    "\n",
    "Um *valor* é uma das coisas simples com as quais um programa trabalha, como uma *letra* ou um *número*. Alguns valores que vimos até agora são `2`, `42.0`, e `\"Olá, Mundo!\"`.\n",
    "\n",
    "Esses valores pertencem a *tipos* diferentes: `2` é um *inteiro*, `42.0` é um *número de ponto flutuante*, e `\"Olá, Mundo!\"` é uma *cadeia de caracteres*, ou *string* em inglês, chamado assim pois as letras que compõem esse valor estão encadeadas em sequência.\n",
    "\n",
    "Se você não souber qual o tipo de um valor, o REPL pode te contar:"
   ]
  },
  {
   "cell_type": "code",
   "execution_count": 1,
   "metadata": {},
   "outputs": [
    {
     "data": {
      "text/plain": [
       "Int64"
      ]
     },
     "execution_count": 1,
     "metadata": {},
     "output_type": "execute_result"
    }
   ],
   "source": [
    "typeof(2)"
   ]
  },
  {
   "cell_type": "code",
   "execution_count": 2,
   "metadata": {},
   "outputs": [
    {
     "data": {
      "text/plain": [
       "Float64"
      ]
     },
     "execution_count": 2,
     "metadata": {},
     "output_type": "execute_result"
    }
   ],
   "source": [
    "typeof(42.0)"
   ]
  },
  {
   "cell_type": "code",
   "execution_count": 3,
   "metadata": {},
   "outputs": [
    {
     "data": {
      "text/plain": [
       "String"
      ]
     },
     "execution_count": 3,
     "metadata": {},
     "output_type": "execute_result"
    }
   ],
   "source": [
    "typeof(\"Olá, Mundo!\")"
   ]
  },
  {
   "cell_type": "markdown",
   "metadata": {},
   "source": [
    "Valores inteiros são de tipo `Int64`, strings são de tipo `String`, e números de ponto flutuante são de tipo `Float64`.\n",
    "\n",
    "E valores como `\"2\"` e `\"42\"`? Eles parecem ser números, mas estão entre aspas como as strings. Valores assim também são strings:"
   ]
  },
  {
   "cell_type": "code",
   "execution_count": 4,
   "metadata": {},
   "outputs": [
    {
     "data": {
      "text/plain": [
       "String"
      ]
     },
     "execution_count": 4,
     "metadata": {},
     "output_type": "execute_result"
    }
   ],
   "source": [
    "typeof(\"2\")"
   ]
  },
  {
   "cell_type": "code",
   "execution_count": 5,
   "metadata": {},
   "outputs": [
    {
     "data": {
      "text/plain": [
       "String"
      ]
     },
     "execution_count": 5,
     "metadata": {},
     "output_type": "execute_result"
    }
   ],
   "source": [
    "typeof(\"42.0\")"
   ]
  },
  {
   "cell_type": "markdown",
   "metadata": {},
   "source": [
    "Se você digitar um número decimal usando a notação que usamos no Brasil, como `1,99`, por exemplo, não vai observar o resultado desejado. O valor `1,99` é *válido* em Julia, mas não é um *inteiro*:"
   ]
  },
  {
   "cell_type": "code",
   "execution_count": 6,
   "metadata": {},
   "outputs": [
    {
     "data": {
      "text/plain": [
       "(1, 99)"
      ]
     },
     "execution_count": 6,
     "metadata": {},
     "output_type": "execute_result"
    }
   ],
   "source": [
    "1,99"
   ]
  },
  {
   "cell_type": "markdown",
   "metadata": {},
   "source": [
    "Esse resultado não é o esperado! Julia interpreta `1,99` como uma *sequência de inteiros separada por vírgula*. Nós vamos aprender sobre esse tipo de valor mais tarde.\n",
    "\n",
    "Se você precisar escrever um número muito grande, como `1000000`, pode escrevê-lo de uma maneira mais fácil de ler assim:"
   ]
  },
  {
   "cell_type": "code",
   "execution_count": 7,
   "metadata": {},
   "outputs": [
    {
     "data": {
      "text/plain": [
       "1000000"
      ]
     },
     "execution_count": 7,
     "metadata": {},
     "output_type": "execute_result"
    }
   ],
   "source": [
    "1_000_000"
   ]
  },
  {
   "cell_type": "markdown",
   "metadata": {},
   "source": [
    "## Linguagens Formais e Naturais\n",
    "\n",
    "*Linguagens naturais*, ou *línguas*, são as línguas faladas pelas pessoas, como Português, Espanhol, e Inglês. Essas linguagens não foram *projetadas* por ninguém. Embora algumas pessoas tentem impor ordem sobre elas, essas linguagens\n",
    "evoluíram naturalmente.\n",
    "\n",
    "*Linguagens formais* são linguagens projetadas por pessoas, para aplicações específicas. A notação usada por matemáticos, por exemplo, é uma linguagem formal que é especialmente boa para representar relações entre números e símbolos. Químicos usam uma linguagem formal para representar a estrutura química de moléculas. E o mais importante: Linguagens de programação são linguagens formais projetadas para expressar operações de computação.\n",
    "\n",
    "Linguagens formais, em geral, são regidas por *regras de sintaxe estritas* que governam a estrutura de *declarações* e *instruções*. Por exemplo, a equação $3 + 3 = 6$ tem uma *sintaxe matemática correta*, mas a expressão $3 += 3\\$6$ não. Em química, $\\mathrm{H_{2}O}$ é uma fórmula molecular com *sintaxe correta*, mas $\\mathrm{_2Zz}$ não é.\n",
    "\n",
    "Podemos classificar as regras de sintaxe em duas categorias, relativas a *símbolos* e *estruturas*. Símbolos são os elementos fundamentais de uma linguagem, como palavras, números e elementos químicos. Um dos problemas com a expressão $3 += 3\\$6$ é que $\\$$ não é um símbolo válido na linguagem matemática. Da mesma maneira, $\\mathrm{_2Zz}$ não é uma fórmula molecular válida, pois não existe nenhum elemento que seja escrito como $\\mathrm{Zz}$.\n",
    "\n",
    "A segunda categoria de regra de sintaxe diz respeito à forma como os símbolos são combinados. A expressão $3 += 3$ é inválida porque, mesmo que $+$ e $=$ sejam símbolos válidos, você não pode escrever um depois do outro. Da mesma forma, o subscrito em uma fórmula molecular deve vir depois do nome do elemento e não antes.\n",
    "\n",
    "Es7a é um@ frase c0m estrutura correta em portuguê$, mas que contém s*mbolos inválidos. Símbolos válidos todos tem essa frase, mas válida estrutura não.\n",
    "\n",
    "Quando você lê uma frase em português ou uma declaração numa linguagem formal, você precisa encontrar sua estrutura. Numa linguagem natural, você a encontra de maneira subconsciente. Numa linguagem formal, esse processo se chama *análise*.\n",
    "\n",
    "Embora linguagens formais e naturais apresentem muitas características em comum, como símbolos, estrutura e sintaxe, existem algumas diferenças:\n",
    "\n",
    "**Ambiguidade**\n",
    "\n",
    "Linguagens naturais são repletas de ambiguidades, com as quais as pessoas lidam através de dicas e outras informações contextuais. Linguagens formais são projetadas para serem quase, ou completamente, livres de ambiguidades, o que faz com que cada declaração tenha um único sentido, independente de contexto.\n",
    "\n",
    "**Redundância**\n",
    "\n",
    "Para compensar a ambiguidade e reduzir mal-entendidos, as linguagens naturais utilizam muita redundância. Como resultado, são frequentemente muito verbosas. Linguagens formais são menos redundantes e mais concisas.\n",
    "\n",
    "**Literalidade**\n",
    "\n",
    "Linguagens naturais são repletas de expressões idiomáticas e metáforas. Se eu digo que \"a ficha caiu\", provavelmente não há nenhuma ficha e nada de fato caiu, pois essa expressão significa que acabei de compreender algo que ainda não tinha entendido. O significado em linguagens formais é exatamente aquele que é expressado.\n",
    "\n",
    "Como crescemos falando linguagens naturais, às vezes é difícil se adaptar às linguagens formais. A diferença entre linguagens formais e naturais é parecida com a diferença entre *poesia* e *prosa*, mas vai além:\n",
    "\n",
    "**Poesia**\n",
    "\n",
    "Palavras são escolhidas tanto por seu *som* como por seu *significado*. O poema como um todo causa um efeito ou uma resposta emocional. A ambiguidade é não só comum, como proposital.\n",
    "\n",
    "**Prosa**\n",
    "\n",
    "O significado literal das palavras é mais importante, e a estrutura também contribui com o significado. A prosa é mais fácil de analisar do que a poesia, mas ainda assim pode ser ambígua.\n",
    "\n",
    "**Programas**\n",
    "\n",
    "O significado de um programa de computador é *preciso* e *literal*, e pode ser completamente compreendido através da análise de seus símbolos e de sua estrutura.\n",
    "\n",
    "Linguagens formais são *mais densas* do que linguagens naturais, e portanto leva-se mais tempo para lê-las. Além disso, sua estrutura também é importante, e portanto nem sempre devem ser lidas de cima para baixo e da esquerda para direita.\n",
    "\n",
    "Ao invés disso, você vai aprender a analisar programas em sua cabeça, identificando os símbolos e interpretando a estrutura. Finalmente, atenção aos detalhes é importante. Erros pequenos de ortografia e pontuação, que são aceitáveis em linguagens naturais, podem fazer uma enorme diferença numa linguagem formal.\n",
    "\n",
    "## Depuração, ou *Debugging*\n",
    "\n",
    "Programadores cometem erros. Por razões curiosas, erros em programas são chamados de *bugs*, da palavra em inglês para *inseto*, e o processo de rastrear e corrigir um bug chama-se *debugging*, ou *depuração* em português.\n",
    "\n",
    "O processo de programar e depurar um programa costuma trazer à tona emoções fortes. Se você estiver tendo dificuldades com um bug, você pode se sentir irritado, desanimado, ou envergonhado.\n",
    "\n",
    "[Existem evidências](https://web.stanford.edu/group/cslipublications/cslipublications/site/1575860538.shtml) de que as pessoas tratam os computadores como se eles fossem pessoas. Quando os computadores funcionam bem, os vemos como colegas de trabalho, e quando são teimosos ou rudes, respondemos da mesma maneira que respondemos a pessoas teimosas e rudes.\n",
    "\n",
    "Preparar-se para essas reações pode te ajudar a lidar com elas. Uma abordagem é pensar no computador como um funcionário com algumas qualidades, como velocidade e precisão, e alguns pontos fracos, como a falta de empatia e a incapacidade de compreender contexto.\n",
    "\n",
    "Seu trabalho é ser um bom gerente: encontre maneiras de utilizar as qualidades e mitigar os pontos fracos. E encontre formas de usar suas emoções para enfrentar o problema, sem deixar suas reações interferirem com sua capacidade de trabalhar.\n",
    "\n",
    "Aprender a depurar programas pode ser frustrante, mas é uma habilidade valiosa e útil em diversas atividades além de programar. No fim de cada capítulo deste livro há uma seção, como esta, com minhas sugestões sobre depuração. Espero que elas ajudem!\n",
    "\n",
    "## Glossário\n",
    "\n",
    "**resolução de problemas**\n",
    "\n",
    "O processo de formular um problema, encontrar uma solução e expressá-la.\n",
    "    \n",
    "**linguagem de alto nível**\n",
    "\n",
    "Uma linguagem de programação como Julia, projetada para ser fácil para humanos escreverem e lerem.\n",
    "\n",
    "**linguagem de baixo nível**\n",
    "\n",
    "Uma linguagem de programação criada para o computador executar com facilidade, também chamada de *linguagem de máquina*, *linguagem de montagem*, ou *linguagem assembly*.\n",
    "\n",
    "**portabilidade**\n",
    "\n",
    "A propriedade de um programa de poder ser executado em mais de um tipo de computador.\n",
    "\n",
    "**interpretador**\n",
    "\n",
    "Um programa que lê outro programa e o executa.\n",
    "\n",
    "**prompt**\n",
    "\n",
    "Caracteres mostrados no interpretador, que indicam que ele está pronto para receber entradas do usuário.\n",
    "\n",
    "**programa**\n",
    "\n",
    "Conjunto de instruções que especificam uma operação de computação.\n",
    "\n",
    "**instrução `println`**\n",
    "\n",
    "Uma instrução que faz o interpretador Julia exibir um valor na tela.\n",
    "\n",
    "**operador**\n",
    "\n",
    "Um símbolo especial que representa uma operação de computação simples como adição, multiplicação, e divisão.\n",
    "\n",
    "**valor**\n",
    "\n",
    "Uma das unidades básicas de dados manipuladas por um programa, como um número ou string.\n",
    "\n",
    "**tipo**\n",
    "\n",
    "Uma categoria de valores. Os tipos que vimos por enquanto são números inteiros (`Int64`), números de ponto flutuante (`Float64`) e strings (`String`).\n",
    "\n",
    "**inteiro**\n",
    "\n",
    "Um tipo que representa números inteiros.\n",
    "\n",
    "**ponto flutuante**\n",
    "\n",
    "Um tipo que representa números com partes fracionárias.\n",
    "\n",
    "**string**\n",
    "\n",
    "Um tipo que representa sequências de caracteres.\n",
    "\n",
    "**linguagem natural**\n",
    "\n",
    "Toda linguagem que se desenvolveu naturalmente, e falada por pessoas.\n",
    "\n",
    "**linguagem formal**\n",
    "\n",
    "Toda linguagem projetada com um propósito específico, como representar ideias matemáticas ou programas de computador. Todas as linguagens de programação são linguagens formais.\n",
    "\n",
    "**símbolo**\n",
    "\n",
    "Um dos elementos básicos da estrutura sintática de um programa, análogo a uma palavra numa linguagem natural.\n",
    "\n",
    "**sintaxe**\n",
    "\n",
    "As regras que governam a estrutura de um programa.\n",
    "\n",
    "**análise**\n",
    "\n",
    "Examinar um programa e sua estrutura sintática.\n",
    "\n",
    "**bug**\n",
    "\n",
    "Um erro em um programa.\n",
    "\n",
    "**depuração**\n",
    "\n",
    "O processo de encontrar e corrigir (depurar) bugs. \n",
    "\n",
    "## Exercícios\n",
    "\n",
    "### Exercício 1.1\n",
    "\n",
    "Quando você testa um novo recurso, deve tentar cometer erros. Por exemplo, no programa \"Olá, Mundo!\", repetido abaixo, o que acontece se você esquecer uma das aspas? E se você esquecer as duas? E se você escrever `println` errado?"
   ]
  },
  {
   "cell_type": "code",
   "execution_count": 8,
   "metadata": {},
   "outputs": [
    {
     "name": "stdout",
     "output_type": "stream",
     "text": [
      "Olá, Mundo!\n"
     ]
    }
   ],
   "source": [
    "println(\"Olá, Mundo!\")"
   ]
  },
  {
   "cell_type": "markdown",
   "metadata": {},
   "source": [
    "Esse tipo de experimento te ajuda a lembrar do que leu, e também te ajuda quando estiver programando, pois você passa a entender o que significam as mensagens erro. É melhor cometer erros agora, e de propósito, do que fazê-lo acidentalmente mais tarde.\n",
    "\n",
    "Continue brincando com o REPL, e tente cometer os seguintes erros:\n",
    "\n",
    "1. Numa instrução `println`, o que acontece se você esquece um dos parênteses, ou se esquece os dois?\n",
    "2. O que acontece se você tentar imprimir uma string sem uma ou duas aspas?\n",
    "3. Você pode usar um sinal de menos para criar um *número negativo*, como `-2`. O que acontece se você coloca um sinal de mais antes de um número? E se você escrever `2++2`?\n",
    "4. Na notação matemática, é válido adicionar zeros ao início de um número, como em `02`. O que acontece se você tentar fazer isso em Julia?\n",
    "5. O que acontece se você tiver dois valores sem operadores entre eles?\n",
    "\n",
    "Para fazer os exercícios de 1 a 5, crie células abaixo usando o botão marcado com ✚ na barra de tarefas do Notebook.\n",
    "\n",
    "### Exercício 1.2\n",
    "\n",
    "\n",
    "Crie uma célula para cada item abaixo, para usar como calculadora, e responda:\n",
    "\n",
    "1. 42 minutos e 42 segundos equivalem a quantos segundos?\n",
    "2. 10 quilômetros equivalem a quantas *milhas*?\n",
    "\n",
    "> *Dica*: Uma milha equivale a 1.61 quilômetros\n",
    "\n",
    "3. Se você correr 10 quilômetros em 37 minutos e 48 segundos, qual é o seu *ritmo médio* **em milhas**, isto é, seu *tempo por milha*, em minutos e segundos? E a sua *velocidade média*, em **milhas por hora**?\n",
    "\n"
   ]
  }
 ],
 "metadata": {
  "kernelspec": {
   "display_name": "Julia 1.1.1",
   "language": "julia",
   "name": "julia-1.1"
  },
  "language_info": {
   "file_extension": ".jl",
   "mimetype": "application/julia",
   "name": "julia",
   "version": "1.1.1"
  }
 },
 "nbformat": 4,
 "nbformat_minor": 2
}
