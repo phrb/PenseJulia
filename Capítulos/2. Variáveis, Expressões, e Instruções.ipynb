{
 "cells": [
  {
   "cell_type": "markdown",
   "metadata": {},
   "source": [
    "# 2. Variáveis, Expressões, e Instruções\n",
    "\n",
    "Um dos recursos mais poderosos de uma linguagem de programação é capacidade de manipular *variáveis*. Uma variável é um *nome dado a um valor*.\n",
    "\n",
    "## Instruções de Atribuição\n",
    "\n",
    "Uma *instrução de atribuição* cria uma nova variável, e dá um valor a ela:"
   ]
  },
  {
   "cell_type": "code",
   "execution_count": 1,
   "metadata": {},
   "outputs": [
    {
     "data": {
      "text/plain": [
       "\"E agora, uma coisa completamente diferente\""
      ]
     },
     "execution_count": 1,
     "metadata": {},
     "output_type": "execute_result"
    }
   ],
   "source": [
    "mensagem = \"E agora, uma coisa completamente diferente\""
   ]
  },
  {
   "cell_type": "code",
   "execution_count": 2,
   "metadata": {},
   "outputs": [
    {
     "data": {
      "text/plain": [
       "17"
      ]
     },
     "execution_count": 2,
     "metadata": {},
     "output_type": "execute_result"
    }
   ],
   "source": [
    "n  = 17"
   ]
  },
  {
   "cell_type": "code",
   "execution_count": 3,
   "metadata": {},
   "outputs": [
    {
     "data": {
      "text/plain": [
       "3.141592653589793"
      ]
     },
     "execution_count": 3,
     "metadata": {},
     "output_type": "execute_result"
    }
   ],
   "source": [
    "π_val = 3.141592653589793"
   ]
  },
  {
   "cell_type": "markdown",
   "metadata": {},
   "source": [
    "O exemplo acima executa três atribuições. A primeira instrução *atribui* uma string a uma nova variável chamada `mensagem`, a segunda atribui o inteiro `17` a `n`, e a terceira atribui uma aproximação do valor de $\\pi$ à variável $\\pi$_val. Numa célula de código, você pode fazer o símbolo $\\pi$ digitando `\\pi` e apertando a tecla `TAB`.\n",
    "\n",
    "Uma maneira comum de representar variáveis no papel é escrever o nome da variável, e uma flecha apontando para seu valor. Esse tipo de figura é chamado de *diagrama de estado*, pois mostra qual o *estado* no qual cada variável se encontra. Você pensar no estado de uma variável como se fosse um *estado mental*. Abaixo, você pode ver um diagrama de estado para o exemplo anterior:\n",
    "\n",
    "| Variável | $\\rightarrow$ | Valor |\n",
    "| --- | --- | --- |\n",
    "| `mensagem` | $\\rightarrow$ | \"E agora, uma coisa completamente diferente\" |\n",
    "| `n` | $\\rightarrow$ | `17` |\n",
    "| $\\pi$_val | $\\rightarrow$ | `3.141592653589793` |\n",
    "\n",
    "## Nomes de Variáveis\n",
    "\n",
    "Normalmente, programadores nomeiam suas varíaveis usando nomes com significado específico. O propósito desses nomes é *documentar* o uso de uma variável.\n",
    "\n",
    "O nome de uma variável pode ser tão longo quanto você quiser. Nomes podem conter quase todos os caracteres *Unicode*, como você pode ver na seção Unicode, mas não podem começar com números. É válido usar caracteres em *CAIXA ALTA*, isto é, letras maiúsculas, mas a *convenção* é usar apenas letras minúsculas no nome de variáveis.\n",
    "\n",
    "Caracteres *Unicode* podem ser escritos pressionando a tecla `TAB` após escrever marcações $\\LaTeX$ no REPL.\n",
    "\n",
    "O caracter `_`, chamado de *traço baixo*, ou *sublinhado*, pode ser usado em nomes. Normalmente, ele é usado em nomes compostos de várias palavras, como `seu_nome` ou `velocidade_andorinha_descarregada`.\n",
    "\n",
    "Se você der um nome *inválido* a uma variável, vai ver um *erro de sintaxe*:"
   ]
  },
  {
   "cell_type": "code",
   "execution_count": 4,
   "metadata": {},
   "outputs": [
    {
     "ename": "ErrorException",
     "evalue": "syntax: \"76\" is not a valid function argument name",
     "output_type": "error",
     "traceback": [
      "syntax: \"76\" is not a valid function argument name",
      ""
     ]
    }
   ],
   "source": [
    "76trombones = \"grande desfile\""
   ]
  },
  {
   "cell_type": "code",
   "execution_count": 5,
   "metadata": {},
   "outputs": [
    {
     "ename": "LoadError",
     "evalue": "syntax: extra token \"@\" after end of expression",
     "output_type": "error",
     "traceback": [
      "syntax: extra token \"@\" after end of expression",
      ""
     ]
    }
   ],
   "source": [
    "mais@ = 1000000"
   ]
  },
  {
   "cell_type": "code",
   "execution_count": 6,
   "metadata": {},
   "outputs": [
    {
     "ename": "LoadError",
     "evalue": "syntax: unexpected \"=\"",
     "output_type": "error",
     "traceback": [
      "syntax: unexpected \"=\"",
      ""
     ]
    }
   ],
   "source": [
    "struct = \"Zimurgia Teórica Avançada\""
   ]
  },
  {
   "cell_type": "markdown",
   "metadata": {},
   "source": [
    "O nome `76trombones` é inválido por que começa com um número. O nome `more@` é inválido por que contém um caracter inválido, isto é, o `@`. Mas qual o problema com `struct`?\n",
    "\n",
    "O problema é que `struct` é uma das *palavras-chave* da linguagem Julia. O REPL usa as palavras-chave para identificar a estrutura do programa, e *palavras-chave não podem ser usadas como nome de variáveis*.\n",
    "\n",
    "Os seguintes nomes são palavras-chave, ou *palavras reservadas*, e não podem ser usados como nome de variáveis em Julia:\n",
    "\n",
    "```julia\n",
    "baremodule, begin, break, catch, const, continue,\n",
    "do, else, elseif, end, export, false, finally, for,\n",
    "function, global, if, import, let, local, macro,\n",
    "module, quote, return, struct, true, try, using, while\n",
    "```\n",
    "\n",
    "As seguintes sequências de dois nomes também são reservadas em Julia:\n",
    "\n",
    "```julia\n",
    "abstract type, mutable struct, primitive type\n",
    "```\n",
    "\n",
    "No entanto, você pode criar variáveis com nomes `abstract`, `mutable`, `primitive` e `type`.\n",
    "\n",
    "Você não precisa memorizar essa lista. A maioria dos ambientes de desenvolvimento *realça* as palavras-chave usando uma cor diferente. Se você tentar usar uma palavra reservada como nome de variável, o ambiente vai te dizer.\n",
    "\n",
    "## Expressões e Instruções\n",
    "\n",
    "Uma *expressão* é uma combinação de *valores*, *variáveis*, e *operadores*. Um valor ou uma variável sozinhos também são considerados expressões, e portanto, as expressões a seguir são todas válidas:"
   ]
  },
  {
   "cell_type": "code",
   "execution_count": 7,
   "metadata": {},
   "outputs": [
    {
     "data": {
      "text/plain": [
       "42"
      ]
     },
     "execution_count": 7,
     "metadata": {},
     "output_type": "execute_result"
    }
   ],
   "source": [
    "42"
   ]
  },
  {
   "cell_type": "code",
   "execution_count": 8,
   "metadata": {},
   "outputs": [
    {
     "data": {
      "text/plain": [
       "17"
      ]
     },
     "execution_count": 8,
     "metadata": {},
     "output_type": "execute_result"
    }
   ],
   "source": [
    "n"
   ]
  },
  {
   "cell_type": "code",
   "execution_count": 9,
   "metadata": {},
   "outputs": [
    {
     "data": {
      "text/plain": [
       "42"
      ]
     },
     "execution_count": 9,
     "metadata": {},
     "output_type": "execute_result"
    }
   ],
   "source": [
    "n + 25"
   ]
  },
  {
   "cell_type": "markdown",
   "metadata": {},
   "source": [
    "Quando você digita uma expressão em uma célula, o REPL a *avalia*, o que significa que ele *encontra o valor da expressão*. Num dos exemplos acima, `n` tem valor `17`, e `n + 25` tem valor `42`.\n",
    "\n",
    "Uma *instrução*, ou *declaração*, é uma *unidade de código* que produz um *efeito*, como criar uma variável através da atribuição ou mostrar um valor na tela."
   ]
  },
  {
   "cell_type": "code",
   "execution_count": 10,
   "metadata": {},
   "outputs": [
    {
     "data": {
      "text/plain": [
       "17"
      ]
     },
     "execution_count": 10,
     "metadata": {},
     "output_type": "execute_result"
    }
   ],
   "source": [
    "n = 17"
   ]
  },
  {
   "cell_type": "code",
   "execution_count": 11,
   "metadata": {},
   "outputs": [
    {
     "name": "stdout",
     "output_type": "stream",
     "text": [
      "17\n"
     ]
    }
   ],
   "source": [
    "println(n)"
   ]
  },
  {
   "cell_type": "markdown",
   "metadata": {},
   "source": [
    "A primeira das células acima contém uma instrução de atribuição que dá valor a `n`. A segunda linha é uma instrução de print que mostra, ou imprime, o valor de `n`.\n",
    "\n",
    "Quando você digita uma instrução numa célula de código e pressiona `Ctrl + Enter`, você faz com que o REPL *execute* o código na célula, o que quer fazer o que a instrução diz.\n",
    "\n",
    "## Modo de Script\n",
    "\n",
    "Até agora,  usamos Julia no *modo  interativo*, isto é, você  estava interagindo\n",
    "diretamente com o REPL  nesses exemplos. O modo interativo é  uma boa maneira de\n",
    "começar, mas se você estiver trabalhando com programas mais longos, ele pode ser\n",
    "desajeitado.\n",
    "\n",
    "A alternativa  é *salvar* seu  código num arquivo  chamado de *script*,  e então\n",
    "executar Julia no *modo script* para rodar seu script. Por convenção, os scripts\n",
    "Julia têm nomes terminados em `.jl`.\n",
    "\n",
    "Se você souber como  criar e executar, ou *rodar*, um  script no seu computador,\n",
    "podemos seguir  adiante. Caso contrário,  recomendo abrir um *editor  de texto*,\n",
    "como o *gedit* ou o *bloco de notas*, por exemplo, escrever seu script, e salvar\n",
    "o arquivo com  a *extensão* `.jl`. Fazendo dessa maneira,  seu script poderá ser\n",
    "executado num terminal com o comando:\n",
    "\n",
    "```bash\n",
    "julia nome_do_script.jl\n",
    "```\n",
    "\n",
    "Ou, de dentro do interpretador Julia, com o comando:\n",
    "\n",
    "```julia\n",
    "input(\"caminho_do_script/nome_do_script.jl\")\n",
    "```\n",
    "\n",
    "Como Julia  possui tanto  o modo  interativo como  o modo  de script,  você pode\n",
    "testar  porções pequenas  de código  no interpretador  *antes de  colocá-las num\n",
    "script*.  Mas há diferenças entre os dois modos, e elas podem causar confusões.\n",
    "\n",
    "Por exemplo, se  você estivesse usando Julia como uma  calculadora, você poderia\n",
    "digitar:"
   ]
  },
  {
   "cell_type": "code",
   "execution_count": 12,
   "metadata": {},
   "outputs": [
    {
     "data": {
      "text/plain": [
       "26.2"
      ]
     },
     "execution_count": 12,
     "metadata": {},
     "output_type": "execute_result"
    }
   ],
   "source": [
    "milhas = 26.2"
   ]
  },
  {
   "cell_type": "code",
   "execution_count": 13,
   "metadata": {},
   "outputs": [
    {
     "data": {
      "text/plain": [
       "42.182"
      ]
     },
     "execution_count": 13,
     "metadata": {},
     "output_type": "execute_result"
    }
   ],
   "source": [
    "milhas * 1.61"
   ]
  },
  {
   "cell_type": "markdown",
   "metadata": {},
   "source": [
    "A primeira célula atribui um valor à  variável `milhas`, e mostra esse valor.  A\n",
    "segunda  célula é  uma  expressão, e  portanto  o  REPL a  avalia  e mostra  seu\n",
    "resultado.  No fim  das contas, uma maratona  (26.2 milhas) tem por  volta de 42\n",
    "quilômetros.\n",
    "\n",
    "No entanto, se  você digitar o mesmo  código num script e rodá-lo,  você não vai\n",
    "ver  nenhuma saída.  No modo  script, uma  expressão por  si só  não tem  nenhum\n",
    "*efeito visível na saída*. Acontece algo parecido nas *células com mais de uma\n",
    "instrução*, onde apenas a *última expressão avaliada* é mostrada na saída:"
   ]
  },
  {
   "cell_type": "code",
   "execution_count": 14,
   "metadata": {},
   "outputs": [
    {
     "data": {
      "text/plain": [
       "42.182"
      ]
     },
     "execution_count": 14,
     "metadata": {},
     "output_type": "execute_result"
    }
   ],
   "source": [
    "milhas = 26.2\n",
    "milhas * 0.805 * 2\n",
    "milhas * 1.61"
   ]
  },
  {
   "cell_type": "markdown",
   "metadata": {},
   "source": [
    "A expressão foi avaliada, mas nada é mostrado na saída,\n",
    "a não ser que você peça. Para mostrar algo na saída, um script deve ter uma\n",
    "instrução `println`:\n",
    "\n",
    "```julia\n",
    "miles = 26.2\n",
    "println(miles * 1.61)\n",
    "```\n",
    "\n",
    "O mesmo acontece numa célula com mais de uma instrução:"
   ]
  },
  {
   "cell_type": "code",
   "execution_count": 15,
   "metadata": {},
   "outputs": [
    {
     "name": "stdout",
     "output_type": "stream",
     "text": [
      "42.182\n",
      "42.182\n"
     ]
    }
   ],
   "source": [
    "milhas = 26.2\n",
    "println(milhas * 0.805 * 2)\n",
    "println(milhas * 1.61)"
   ]
  },
  {
   "cell_type": "markdown",
   "metadata": {},
   "source": [
    "Esse comportamento  pode ser desconcertante  a princípio. Um  script normalmente\n",
    "contém  uma sequência  de  instruções. Se  houver mais  de  uma instrução,  os\n",
    "resultados aparecerão  um de cada  vez, conforme as instruções são executadas:"
   ]
  },
  {
   "cell_type": "code",
   "execution_count": 16,
   "metadata": {},
   "outputs": [
    {
     "name": "stdout",
     "output_type": "stream",
     "text": [
      "1\n",
      "2\n"
     ]
    }
   ],
   "source": [
    "println(1)\n",
    "x = 2\n",
    "println(x)"
   ]
  },
  {
   "cell_type": "markdown",
   "metadata": {},
   "source": [
    "### Exercício 2.1\n",
    "\n",
    "Para verificar sua compreensão, crie 3 células abaixo, digite as seguintes instruções, *uma em cada célula*, e veja a saída que elas produzem:\n",
    "\n",
    "```julia\n",
    "5\n",
    "x = 5\n",
    "x + 1\n",
    "```\n",
    "\n",
    "Digite também as três instruções *na mesma célula*. O que mudou?\n",
    "\n",
    "Agora, digite essas mesmas instruções num script, e rode o script. Qual é a saída? Modifique o script, transformando as instruções em instruções `println`, e rode o script de novo.\n",
    "\n",
    "## Precedência de Operadores\n",
    "\n",
    "Quando uma expressão contém mais de um operador, a ordem de avaliação depende da\n",
    "*precedência  dos  operadores*.  Julia  segue  a  convenção para  os  operadores\n",
    "matemáticos.   O  acrônimo  *PEMDAS*  pode   ajudar  a  memorizar  a  *ordem  de\n",
    "precedência* dos operadores:\n",
    "\n",
    "- **P**arênteses  têm a  maior prioridade,  e podem ser  usados para  forçar uma expressão  a  ser  avaliada  na  ordem desejada.  Como  expressões  dentro  de parênteses são avaliadas primeiro, `2  * (3 - 1)` vale `4`, e `(1  + 1) ^ (5 -  2)` vale  `8`. Você também  pode utilizar  parênteses para tornar  uma expressão mais legível, como por exemplo `(minutos * 100) / 60`, mesmo que isso não mude seu resultado\n",
    "\n",
    "- **E**xponenciação é o próximo operador na ordem de precedência, e portanto `1 + 2 ^ 3` é `9` e não `27`, e `2 * 3 ^ 2` é `18` e não `36`\n",
    "\n",
    "- **M**ultiplicação e **D**ivisão têm ordem de precedência *maior* do que **A**dição e **S**ubtração. Assim, `2 * 3 - 1` é `5` e não `4`, e `6 + 4 / 2` é `8` e não `5`\n",
    "\n",
    "- Operadores com mesma precedência são avaliados *da esquerda para a direita*, exceto exponenciação. Portanto, na expressão `graus / 2 * pi`, a divisão acontece primeiro, e o resultado é multiplicado por `pi`. Para dividir por `2pi`, você pode usar parênteses, ou escrever `graus / 2 / pi` ou `graus / 2pi`\n",
    "\n",
    "> *Dica Importante*: Não se preocupe demais em decorar a ordem de precedência dos operadores. Se não for possível compreender uma expressão à primeira vista, use parênteses para tornar o significado mais explícito\n",
    "\n",
    "## Operações com Strings\n",
    "\n",
    "Em geral, você não pode fazer operações matemáticas em strings, mesmo que elas pareçam ser números. Assim, as operações seguintes são inválidas:"
   ]
  },
  {
   "cell_type": "code",
   "execution_count": 17,
   "metadata": {},
   "outputs": [
    {
     "ename": "MethodError",
     "evalue": "MethodError: no method matching -(::String, ::String)",
     "output_type": "error",
     "traceback": [
      "MethodError: no method matching -(::String, ::String)",
      "",
      "Stacktrace:",
      " [1] top-level scope at In[17]:1"
     ]
    }
   ],
   "source": [
    "\"2\" - \"1\""
   ]
  },
  {
   "cell_type": "code",
   "execution_count": 18,
   "metadata": {},
   "outputs": [
    {
     "ename": "MethodError",
     "evalue": "MethodError: no method matching /(::String, ::String)",
     "output_type": "error",
     "traceback": [
      "MethodError: no method matching /(::String, ::String)",
      "",
      "Stacktrace:",
      " [1] top-level scope at In[18]:1"
     ]
    }
   ],
   "source": [
    "\"ovos\" / \"fáceis\""
   ]
  },
  {
   "cell_type": "code",
   "execution_count": 19,
   "metadata": {},
   "outputs": [
    {
     "ename": "MethodError",
     "evalue": "MethodError: no method matching +(::String, ::String)\nClosest candidates are:\n  +(::Any, ::Any, !Matched::Any, !Matched::Any...) at operators.jl:502",
     "output_type": "error",
     "traceback": [
      "MethodError: no method matching +(::String, ::String)\nClosest candidates are:\n  +(::Any, ::Any, !Matched::Any, !Matched::Any...) at operators.jl:502",
      "",
      "Stacktrace:",
      " [1] top-level scope at In[19]:1"
     ]
    }
   ],
   "source": [
    "\"terceira vez\" + \"é a que conta\""
   ]
  },
  {
   "cell_type": "markdown",
   "metadata": {},
   "source": [
    "Mas existem duas exceções, os operadores `*` e `^`. O operador `*` faz a *concatenação* de strings, isto é, ele *junta* duas strings, *ligando-as ponta a ponta*. Por exemplo:"
   ]
  },
  {
   "cell_type": "code",
   "execution_count": 20,
   "metadata": {},
   "outputs": [
    {
     "data": {
      "text/plain": [
       "\"arara azul\""
      ]
     },
     "execution_count": 20,
     "metadata": {},
     "output_type": "execute_result"
    }
   ],
   "source": [
    "primeira_string = \"arara\"\n",
    "segunda_string = \" azul\"\n",
    "primeira_string * segunda_string"
   ]
  },
  {
   "cell_type": "markdown",
   "metadata": {},
   "source": [
    "O operador `^` também pode ser usado com strings. Ele faz a *repetição* de strings. Por exemplo:"
   ]
  },
  {
   "cell_type": "code",
   "execution_count": 21,
   "metadata": {},
   "outputs": [
    {
     "data": {
      "text/plain": [
       "\"SpamSpamSpam\""
      ]
     },
     "execution_count": 21,
     "metadata": {},
     "output_type": "execute_result"
    }
   ],
   "source": [
    "\"Spam\" ^ 3"
   ]
  },
  {
   "cell_type": "markdown",
   "metadata": {},
   "source": [
    "Se o valor à esquerda for uma string, o valor à direita deverá ser um inteiro.\n",
    "\n",
    "Esse uso para `*` e `^` pode ser compreendido por analogia com a multiplicação e a exponenciação matemáticas. O funcionamento de `*` e `^` é equivalente para valores do tipo inteiro e do tipo string. Assim como temos:"
   ]
  },
  {
   "cell_type": "code",
   "execution_count": 22,
   "metadata": {},
   "outputs": [
    {
     "data": {
      "text/plain": [
       "64"
      ]
     },
     "execution_count": 22,
     "metadata": {},
     "output_type": "execute_result"
    }
   ],
   "source": [
    "4 ^ 3"
   ]
  },
  {
   "cell_type": "code",
   "execution_count": 23,
   "metadata": {},
   "outputs": [
    {
     "data": {
      "text/plain": [
       "64"
      ]
     },
     "execution_count": 23,
     "metadata": {},
     "output_type": "execute_result"
    }
   ],
   "source": [
    "4 * 4 * 4"
   ]
  },
  {
   "cell_type": "markdown",
   "metadata": {},
   "source": [
    "Também podemos escrever:"
   ]
  },
  {
   "cell_type": "code",
   "execution_count": 24,
   "metadata": {},
   "outputs": [
    {
     "data": {
      "text/plain": [
       "\"SpamSpamSpam\""
      ]
     },
     "execution_count": 24,
     "metadata": {},
     "output_type": "execute_result"
    }
   ],
   "source": [
    "\"Spam\" ^ 3"
   ]
  },
  {
   "cell_type": "code",
   "execution_count": 25,
   "metadata": {},
   "outputs": [
    {
     "data": {
      "text/plain": [
       "\"SpamSpamSpam\""
      ]
     },
     "execution_count": 25,
     "metadata": {},
     "output_type": "execute_result"
    }
   ],
   "source": [
    "\"Spam\" * \"Spam\" * \"Spam\""
   ]
  },
  {
   "cell_type": "markdown",
   "metadata": {},
   "source": [
    "## Comentários\n",
    "\n",
    "Programas ficam mais difíceis de ler conforme aumentam de tamanho e de complexidade. Linguagens formais são densas, e é frequentemente difícil descobrir o que um pedaço de código faz, e por quê.\n",
    "\n",
    "Por isso, pode ser uma boa ideia adicionar notas a seus programas para explicar o que eles fazem usando linguagem natural. Esse tipo de nota é chamado de *comentário*, e começa com o símbolo `#`:"
   ]
  },
  {
   "cell_type": "code",
   "execution_count": 26,
   "metadata": {},
   "outputs": [
    {
     "data": {
      "text/plain": [
       "42.0"
      ]
     },
     "execution_count": 26,
     "metadata": {},
     "output_type": "execute_result"
    }
   ],
   "source": [
    "minuto = 25.2\n",
    "# calcula a porcentagem de hora passada\n",
    "porcentagem = (minuto * 100) / 60"
   ]
  },
  {
   "cell_type": "markdown",
   "metadata": {},
   "source": [
    "Nesse caso, o comentário aparece em sua própria linha. Você também pode adicionar comentários no fim de uma linha:"
   ]
  },
  {
   "cell_type": "code",
   "execution_count": 27,
   "metadata": {},
   "outputs": [
    {
     "data": {
      "text/plain": [
       "42.0"
      ]
     },
     "execution_count": 27,
     "metadata": {},
     "output_type": "execute_result"
    }
   ],
   "source": [
    "minuto = 25.2\n",
    "porcentagem = (minuto * 100) / 60 # calcula a porcentagem de hora passada"
   ]
  },
  {
   "cell_type": "markdown",
   "metadata": {},
   "source": [
    "Tudo que é escrito a partir do `#`, e até o término da linha, é ignorado e não afeta a execução do programa.\n",
    "\n",
    "Os comentários são úteis quando *documentam* propriedades não óbvias do código. É razoável supor que o leitor conseguirá descobrir *o quê* o código faz, é mais útil explicar *o porquê*.\n",
    "\n",
    "O comentário abaixo é redundante e inútil:"
   ]
  },
  {
   "cell_type": "code",
   "execution_count": 28,
   "metadata": {},
   "outputs": [
    {
     "data": {
      "text/plain": [
       "5"
      ]
     },
     "execution_count": 28,
     "metadata": {},
     "output_type": "execute_result"
    }
   ],
   "source": [
    "v = 5 # atribui 5 a v"
   ]
  },
  {
   "cell_type": "markdown",
   "metadata": {},
   "source": [
    "O comentário abaixo, por outro lado, contém informação útil que não está no código:"
   ]
  },
  {
   "cell_type": "code",
   "execution_count": 29,
   "metadata": {},
   "outputs": [
    {
     "data": {
      "text/plain": [
       "5"
      ]
     },
     "execution_count": 29,
     "metadata": {},
     "output_type": "execute_result"
    }
   ],
   "source": [
    "v = 5 # velocidade em metros/segundo"
   ]
  },
  {
   "cell_type": "markdown",
   "metadata": {},
   "source": [
    "> *Aviso*: Nomes de variável bem escolhidos podem diminuir a necessidade de comentários, mas nomes muito longos podem dificultar a leitura de expressões mais complexas. É necessário avaliar os custos e os benefícios.\n",
    "\n",
    "## Depuração\n",
    "\n",
    "Três tipos de erros podem ocorrer num programa, erros de *sintaxe*, erros em *tempo de execução*, e erros *sintáticos*. É útil diferenciá-los para poder encontrá-los mais rapidamente.\n",
    "\n",
    "**Erros de sintaxe**\n",
    "\n",
    "O termo *sintaxe* diz respeito à estrutura de um programa, e às regras sobre essa estrutura. Por exemplo, parênteses devem vir em pares, assim, `(1 + 2)` é uma expressão válida, mas `8)` é um erro de sintaxe.\n",
    "\n",
    "No modo script, se houver um erro de sintaxe *em qualquer lugar do seu programa*, o interpretador mostrará uma mensagem de erro e terminará a execução do seu programa. Durante as primeiras semanas do seu aprendizado de programação, talvez você passe muito tempo tentando encontrar erros de sintaxe. Conforme ganhar experiência, você cometerá menos erros e os encontrará mais facilmente.\n",
    "\n",
    "**Erros em tempo de execução**\n",
    "\n",
    "O segundo tipo de erro é um erro *em tempo de execução*, chamado assim por que esse tipo de erro não é detectável até o momento da execução das instruções de um programa. Também são chamados de *exceções*, pois normalmente indicam que algo excepcional, e ruim, aconteceu.\n",
    "\n",
    "Erros em tempo de execução serão raros nos programas simples que você vai encontrar nos primeiros capítulos do livro, então pode demorar um pouco até que você os encontre.\n",
    "\n",
    "**Erros semânticos**\n",
    "\n",
    "O terceiro tipo de erro é o *semântico*, isto é, relacionado ao *significado* do programa. Se houver um erro semântico em seu programa, ele não gerará nenhuma mensagem de erro, mas não produzirá a saída correta. Ele fará algo diferente. Mais precisamente, seu programa fará *exatamente o que você o instruiu a fazer*.\n",
    "\n",
    "Identificar erros semânticos pode ser complicado, pois requer uma análise cuidadosa da saída do seu programa no *sentido contrário ao da execução do programa*, a fim de identificar o que está sendo feito pelo programa.\n",
    "\n",
    "## Glossário\n",
    "\n",
    "\n",
    "\n",
    "**variável**\n",
    "    \n",
    "Um nome que se refere a um valor.\n",
    "    \n",
    "**atribuição**\n",
    "\n",
    "Uma instrução que atribui um valor a uma variável.\n",
    "\n",
    "**diagrama de estado**\n",
    "\n",
    "Uma representação gráfica de um grupo de variáveis e os valores a que se referem.\n",
    "\n",
    "**palavra-chave**\n",
    "\n",
    "Uma palavra reservada, usada para analisar um programa; não é possível usar palavras-chave como `if`, `function` e `while` como nomes de variáveis.\n",
    "\n",
    "**operando**\n",
    "\n",
    "Um dos valores que um operador produz.\n",
    "\n",
    "**expressão**\n",
    "\n",
    "Uma combinação de variáveis, operadores, e valores que representa um resultado único.\n",
    "\n",
    "**avaliar**\n",
    "\n",
    "Simplificar uma expressão executando as operações para produzir um valor único.\n",
    "\n",
    "**instrução**\n",
    "\n",
    "Uma seção do código que representa um comando ou ação. Por enquanto, as instruções que vimos são instruções de atribuições, exibição de valores, e operações matemáticas.\n",
    "\n",
    "**executar**\n",
    "\n",
    "Executar uma instrução.\n",
    "\n",
    "**modo interativo**\n",
    "\n",
    "Um modo de usar o REPL, digitando o código numa célula do Notebook ou no interpretador Julia.\n",
    "\n",
    "**modo script**\n",
    "\n",
    "Um modo de usar o REPL para executar código num script.\n",
    "\n",
    "**script**\n",
    "\n",
    "Um programa armazenado em um arquivo.\n",
    "\n",
    "**precedência de operadores**, ou **ordem das operações**\n",
    "\n",
    "As regras que governam a ordem na qual as expressões que envolvem vários operadores e operandos são avaliadas.\n",
    "\n",
    "**concatenar**\n",
    "\n",
    "Juntar dois operandos pelas extremidades.\n",
    "\n",
    "**comentários**\n",
    "\n",
    "Informações em um programa destinadas a outros programadores, ou a qualquer pessoa que leia o código, e que não têm efeito sobre a execução do programa.\n",
    "\n",
    "**erro de sintaxe**\n",
    "\n",
    "Um erro em um programa que torna sua análise impossível, e por isso impossível de interpretar.\n",
    "\n",
    "**erro em tempo de execução**, ou **exceção**\n",
    "\n",
    "Um erro que só se descobre quando o programa é executado.\n",
    "\n",
    "**semântica**\n",
    "\n",
    "O significado de um programa.\n",
    "\n",
    "**erro semântico**\n",
    "\n",
    "Um erro que faz com que um programa faça algo diferente do que o programador pretendia.\n",
    "\n",
    "\n",
    "## Exercícios\n",
    "\n",
    "### Exercício 2.2\n",
    "\n",
    "Repetindo meu conselho do capítulo anterior, sempre que você aprender um novo recurso, você deve testá-lo no modo interativo ou em células do Notebook, e fazer erros de propósito, para entender o que acontece de errado.\n",
    "\n",
    "1. Vimos que `n = 42` é uma expressão válida. E `42 = n`?\n",
    "2. E `x = y = 1`?\n",
    "3. Em algumas linguagens, toda intrução termina com um *ponto-e-vírgula* (`;`). O que acontece se você colocar um ponto-e-vírgula no fim de uma instrução em Julia?\n",
    "3. E se você colocar um *ponto-final* (`.`) no fim de uma instrução?\n",
    "4. Na notação matemática você pode multiplicar `x` e `y` assim: `xy`. O que acontece se você tentar fazer isso em Julia? E se você tentar `5x`?\n",
    "\n",
    "Para fazer os exercícios 1 a 4, crie células abaixo usando o botão marcado com ✚ na barra de tarefas do Notebook.\n",
    "\n",
    "### Exercício 2.3\n",
    "\n",
    "Crie uma célula para cada item abaixo, para usar como calculadora, e responda:\n",
    "\n",
    "1. O volume de uma esfera de raio $r$ é $\\frac{4}{3} \\pi r^3$. Qual é o volume de uma esfera de raio $5$?\n",
    "2. Suponha que o preço de um livro seja R\\\\$24.95, mas que livrarias tenham 40\\% de desconto. O custo de entrega é R\\\\$3 para a primeira cópia, e 75 centavos para cada cópia adicional. Qual o preço de 60 cópias para uma livraria?\n",
    "3. Se eu saio da minha casa às 06:52 e corro 1 milha num passo leve, de 8 minutos e 15 segundos por milha, depois 3 milhas rápidas, de 7 minutos e 12 segundos por milha, e depois 1 milha a passo leve de novo, a que horas eu chego em casa?\n",
    "\n"
   ]
  }
 ],
 "metadata": {
  "kernelspec": {
   "display_name": "Julia 1.1.1",
   "language": "julia",
   "name": "julia-1.1"
  },
  "language_info": {
   "file_extension": ".jl",
   "mimetype": "application/julia",
   "name": "julia",
   "version": "1.1.1"
  }
 },
 "nbformat": 4,
 "nbformat_minor": 2
}
