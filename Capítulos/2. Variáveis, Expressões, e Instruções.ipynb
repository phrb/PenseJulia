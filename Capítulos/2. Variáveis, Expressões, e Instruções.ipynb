{
 "cells": [
  {
   "cell_type": "markdown",
   "metadata": {},
   "source": [
    "# 2. Variáveis, Expressões, e Instruções\n",
    "\n",
    "Um dos recursos mais poderosos de uma linguagem de programação é capacidade de manipular *variáveis*. Uma variável é um *nome dado a um valor*.\n",
    "\n",
    "## Instruções de Atribuição\n",
    "\n",
    "Uma *instrução de atribuição* cria uma nova variável, e dá um valor a ela:"
   ]
  },
  {
   "cell_type": "code",
   "execution_count": 1,
   "metadata": {},
   "outputs": [
    {
     "data": {
      "text/plain": [
       "\"E agora, uma coisa completamente diferente\""
      ]
     },
     "execution_count": 1,
     "metadata": {},
     "output_type": "execute_result"
    }
   ],
   "source": [
    "mensagem = \"E agora, uma coisa completamente diferente\""
   ]
  },
  {
   "cell_type": "code",
   "execution_count": 2,
   "metadata": {},
   "outputs": [
    {
     "data": {
      "text/plain": [
       "17"
      ]
     },
     "execution_count": 2,
     "metadata": {},
     "output_type": "execute_result"
    }
   ],
   "source": [
    "n  = 17"
   ]
  },
  {
   "cell_type": "code",
   "execution_count": 3,
   "metadata": {},
   "outputs": [
    {
     "data": {
      "text/plain": [
       "3.141592653589793"
      ]
     },
     "execution_count": 3,
     "metadata": {},
     "output_type": "execute_result"
    }
   ],
   "source": [
    "π_val = 3.141592653589793"
   ]
  },
  {
   "cell_type": "markdown",
   "metadata": {},
   "source": [
    "O exemplo acima executa três atribuições. A primeira instrução *atribui* uma string a uma nova variável chamada `mensagem`, a segunda atribui o inteiro `17` a `n`, e a terceira atribui uma aproximação do valor de $\\pi$ à variável $\\pi$_val. Numa célula de código, você pode fazer o símbolo $\\pi$ digitando `\\pi` e apertando a tecla `TAB`.\n",
    "\n",
    "Uma maneira comum de representar variáveis no papel é escrever o nome da variável, e uma flecha apontando para seu valor. Esse tipo de figura é chamado de *diagrama de estado*, pois mostra qual o *estado* no qual cada variável se encontra. Você pensar no estado de uma variável como se fosse um *estado mental*. Abaixo, você pode ver um diagrama de estado para o exemplo anterior:\n",
    "\n",
    "| Variável | $\\rightarrow$ | Valor |\n",
    "| --- | --- | --- |\n",
    "| `mensagem` | $\\rightarrow$ | \"E agora, uma coisa completamente diferente\" |\n",
    "| `n` | $\\rightarrow$ | `17` |\n",
    "| $\\pi$_val | $\\rightarrow$ | `3.141592653589793` |\n",
    "\n",
    "## Nomes de Variáveis\n",
    "\n",
    "Normalmente, programadores nomeiam suas varíaveis usando nomes com significado específico. O propósito desses nomes é *documentar* o uso de uma variável.\n",
    "\n",
    "O nome de uma variável pode ser tão longo quanto você quiser. Nomes podem conter quase todos os caracteres *Unicode*, como você pode ver na seção Unicode, mas não podem começar com números. É válido usar caracteres em *CAIXA ALTA*, isto é, letras maiúsculas, mas a *convenção* é usar apenas letras minúsculas no nome de variáveis.\n",
    "\n",
    "Caracteres *Unicode* podem ser escritos pressionando a tecla `TAB` após escrever marcações $\\LaTeX$ no REPL.\n",
    "\n",
    "O caracter `_`, chamado de *traço baixo*, ou *sublinhado*, pode ser usado em nomes. Normalmente, ele é usado em nomes compostos de várias palavras, como `seu_nome` ou `velocidade_andorinha_descarregada`.\n",
    "\n",
    "Se você der um nome *inválido* a uma variável, vai ver um *erro de sintaxe*:"
   ]
  },
  {
   "cell_type": "code",
   "execution_count": 4,
   "metadata": {},
   "outputs": [
    {
     "ename": "ErrorException",
     "evalue": "syntax: \"76\" is not a valid function argument name",
     "output_type": "error",
     "traceback": [
      "syntax: \"76\" is not a valid function argument name",
      ""
     ]
    }
   ],
   "source": [
    "76trombones = \"grande desfile\""
   ]
  },
  {
   "cell_type": "code",
   "execution_count": 5,
   "metadata": {},
   "outputs": [
    {
     "ename": "LoadError",
     "evalue": "syntax: extra token \"@\" after end of expression",
     "output_type": "error",
     "traceback": [
      "syntax: extra token \"@\" after end of expression",
      ""
     ]
    }
   ],
   "source": [
    "mais@ = 1000000"
   ]
  },
  {
   "cell_type": "code",
   "execution_count": 6,
   "metadata": {},
   "outputs": [
    {
     "ename": "LoadError",
     "evalue": "syntax: unexpected \"=\"",
     "output_type": "error",
     "traceback": [
      "syntax: unexpected \"=\"",
      ""
     ]
    }
   ],
   "source": [
    "struct = \"Zimurgia Teórica Avançada\""
   ]
  },
  {
   "cell_type": "markdown",
   "metadata": {},
   "source": [
    "O nome `76trombones` é inválido por que começa com um número. O nome `more@` é inválido por que contém um caracter inválido, isto é, o `@`. Mas qual o problema com `struct`?\n",
    "\n",
    "O problema é que `struct` é uma das *palavras-chave* da linguagem Julia. O REPL usa as palavras-chave para identificar a estrutura do programa, e *palavras-chave não podem ser usadas como nome de variáveis*.\n",
    "\n",
    "Os seguintes nomes são palavras-chave, ou *palavras reservadas*, e não podem ser usados como nome de variáveis em Julia:\n",
    "\n",
    "```julia\n",
    "baremodule, begin, break, catch, const, continue,\n",
    "do, else, elseif, end, export, false, finally, for,\n",
    "function, global, if, import, let, local, macro,\n",
    "module, quote, return, struct, true, try, using, while\n",
    "```\n",
    "\n",
    "As seguintes sequências de dois nomes também são reservadas em Julia:\n",
    "\n",
    "```julia\n",
    "abstract type, mutable struct, primitive type\n",
    "```\n",
    "\n",
    "No entanto, você pode criar variáveis com nomes `abstract`, `mutable`, `primitive` e `type`.\n",
    "\n",
    "Você não precisa memorizar essa lista. A maioria dos ambientes de desenvolvimento *realça* as palavras-chave usando uma cor diferente. Se você tentar usar uma palavra reservada como nome de variável, o ambiente vai te dizer.\n",
    "\n",
    "## Expressões e Instruções\n",
    "\n",
    "Uma *expressão* é uma combinação de *valores*, *variáveis*, e *operadores*. Um valor ou uma variável sozinhos também são considerados expressões, e portanto, as expressões a seguir são todas válidas:"
   ]
  },
  {
   "cell_type": "code",
   "execution_count": 7,
   "metadata": {},
   "outputs": [
    {
     "data": {
      "text/plain": [
       "42"
      ]
     },
     "execution_count": 7,
     "metadata": {},
     "output_type": "execute_result"
    }
   ],
   "source": [
    "42"
   ]
  },
  {
   "cell_type": "code",
   "execution_count": 8,
   "metadata": {},
   "outputs": [
    {
     "data": {
      "text/plain": [
       "17"
      ]
     },
     "execution_count": 8,
     "metadata": {},
     "output_type": "execute_result"
    }
   ],
   "source": [
    "n"
   ]
  },
  {
   "cell_type": "code",
   "execution_count": 9,
   "metadata": {},
   "outputs": [
    {
     "data": {
      "text/plain": [
       "42"
      ]
     },
     "execution_count": 9,
     "metadata": {},
     "output_type": "execute_result"
    }
   ],
   "source": [
    "n + 25"
   ]
  },
  {
   "cell_type": "markdown",
   "metadata": {},
   "source": [
    "Quando você digita uma expressão em uma célula, o REPL a *avalia*, o que significa que ele *encontra o valor da expressão*. Num dos exemplos acima, `n` tem valor `17`, e `n + 25` tem valor `42`.\n",
    "\n",
    "Uma *instrução*, ou *declaração*, é uma *unidade de código* que produz um *efeito*, como criar uma variável através da atribuição ou mostrar um valor na tela."
   ]
  },
  {
   "cell_type": "code",
   "execution_count": 12,
   "metadata": {},
   "outputs": [
    {
     "data": {
      "text/plain": [
       "17"
      ]
     },
     "execution_count": 12,
     "metadata": {},
     "output_type": "execute_result"
    }
   ],
   "source": [
    "n = 17"
   ]
  },
  {
   "cell_type": "code",
   "execution_count": 13,
   "metadata": {},
   "outputs": [
    {
     "name": "stdout",
     "output_type": "stream",
     "text": [
      "17\n"
     ]
    }
   ],
   "source": [
    "println(n)"
   ]
  },
  {
   "cell_type": "markdown",
   "metadata": {},
   "source": [
    "A primeira das células acima contém uma instrução de atribuição que dá valor a `n`. A segunda linha é uma instrução de print que mostra, ou imprime, o valor de `n`.\n",
    "\n",
    "Quando você digita uma instrução numa célula de código e pressiona `Ctrl + Enter`, você faz com que o REPL *execute* o código na célula, o que quer fazer o que a instrução diz.\n",
    "\n",
    "## Modo de Script\n",
    "\n",
    "Até agora,  usamos Julia no *modo  interativo*, isto é, você  estava interagindo\n",
    "diretamente com o REPL  nesses exemplos. O modo interativo é  uma boa maneira de\n",
    "começar, mas se você estiver trabalhando com programas mais longos, ele pode ser\n",
    "desajeitado.\n",
    "\n",
    "A alternativa  é *salvar* seu  código num arquivo  chamado de *script*,  e então\n",
    "executar Julia no *modo script* para rodar seu script. Por convenção, os scripts\n",
    "Julia têm nomes terminados em `.jl`.\n",
    "\n",
    "Se você souber como  criar e executar, ou *rodar*, um  script no seu computador,\n",
    "podemos seguir  adiante. Caso contrário,  recomendo abrir um *editor  de texto*,\n",
    "como o *gedit* ou o *bloco de notas*, por exemplo, escrever seu script, e salvar\n",
    "o arquivo com  a *extensão* `.jl`. Fazendo dessa maneira,  seu script poderá ser\n",
    "executado num terminal com o comando:\n",
    "\n",
    "```bash\n",
    "julia nome_do_script.jl\n",
    "```\n",
    "\n",
    "Ou, de dentro do interpretador Julia, com o comando:\n",
    "\n",
    "```julia\n",
    "input(\"caminho_do_script/nome_do_script.jl\")\n",
    "```\n",
    "\n",
    "Como Julia  possui tanto  o modo  interativo como  o modo  de script,  você pode\n",
    "testar  porções pequenas  de código  no interpretador  *antes de  colocá-las num\n",
    "script*.  Mas há diferenças entre os dois modos, e elas podem causar confusões.\n",
    "\n",
    "Por exemplo, se  você estivesse usando Julia como uma  calculadora, você poderia\n",
    "digitar:\n"
   ]
  },
  {
   "cell_type": "code",
   "execution_count": 16,
   "metadata": {},
   "outputs": [
    {
     "data": {
      "text/plain": [
       "26.2"
      ]
     },
     "execution_count": 16,
     "metadata": {},
     "output_type": "execute_result"
    }
   ],
   "source": [
    "milhas = 26.2"
   ]
  },
  {
   "cell_type": "code",
   "execution_count": 17,
   "metadata": {},
   "outputs": [
    {
     "data": {
      "text/plain": [
       "42.182"
      ]
     },
     "execution_count": 17,
     "metadata": {},
     "output_type": "execute_result"
    }
   ],
   "source": [
    "milhas * 1.61"
   ]
  },
  {
   "cell_type": "markdown",
   "metadata": {},
   "source": [
    "A primeira célula atribui um valor à  variável `milhas`, e mostra esse valor.  A\n",
    "segunda  célula é  uma  expressão, e  portanto  o  REPL a  avalia  e mostra  seu\n",
    "resultado.  No fim  das contas, uma maratona  (26.2 milhas) tem por  volta de 42\n",
    "quilômetros.\n",
    "\n",
    "No entanto, se  você digitar o mesmo  código num script e rodá-lo,  você não vai\n",
    "ver  nenhuma saída.  No modo  script, uma  expressão por  si só  não tem  nenhum\n",
    "*efeito visível na saída*. A expressão foi avaliada, mas nada é mostrado na saída,\n",
    "a não ser que você peça. Para mostrar algo na saída, um script deve ter uma\n",
    "instrução `println`:\n",
    "\n",
    "```julia\n",
    "miles = 26.2\n",
    "println(miles * 1.61)\n",
    "```\n",
    "\n",
    "Esse comportamento  pode ser desconcertante  a princípio. Um  script normalmente\n",
    "contém  uma sequência  de  instruções. Se  houver mais  de  uma instrução,  os\n",
    "resultados aparecerão  um de cada  vez, conforme as instruções são executadas.\n",
    "Por exemplo, o script\n",
    "\n",
    "```julia\n",
    "println(1)\n",
    "x = 2\n",
    "println(x)\n",
    "```\n",
    "\n",
    "produz a saída\n",
    "\n",
    "```bash\n",
    "1\n",
    "2\n",
    "```\n",
    "\n",
    "### Exercício 2-1\n",
    "\n",
    "Para verificar sua compreensão, crie 3 células abaixo, digite as seguintes instruções, e veja a saída que elas produzem:\n",
    "\n",
    "```julia\n",
    "5\n",
    "x = 5\n",
    "x + 1\n",
    "```\n",
    "\n",
    "Agora, digite essas mesmas instruções num script, e rode o script. Qual é a saída? Modifique o script, transformando as instruções em instruções `println`, e rode o script de novo.\n",
    "\n",
    "## Precedência de Operadores"
   ]
  }
 ],
 "metadata": {
  "kernelspec": {
   "display_name": "Julia 1.1.1",
   "language": "julia",
   "name": "julia-1.1"
  },
  "language_info": {
   "file_extension": ".jl",
   "mimetype": "application/julia",
   "name": "julia",
   "version": "1.1.1"
  }
 },
 "nbformat": 4,
 "nbformat_minor": 2
}
