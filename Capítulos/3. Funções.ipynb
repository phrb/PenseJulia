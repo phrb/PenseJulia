{
 "cells": [
  {
   "cell_type": "markdown",
   "metadata": {},
   "source": [
    "# 3. Funções\n",
    "\n",
    "Uma *função* é uma sequência de declarações que executam operações de computação. Quando define uma função, você especifica um *nome* e uma sequência de instruções. Depois, você pode *chamar*, ou *utilizar a função*, pelo nome que você especificou.\n",
    "\n",
    "## Chamada de Funções\n",
    "\n",
    "Nós já vimos um exemplo de chamada de função:"
   ]
  },
  {
   "cell_type": "code",
   "execution_count": 1,
   "metadata": {},
   "outputs": [
    {
     "name": "stdout",
     "output_type": "stream",
     "text": [
      "Olá, Mundo!\n"
     ]
    }
   ],
   "source": [
    "println(\"Olá, Mundo!\")"
   ]
  },
  {
   "cell_type": "markdown",
   "metadata": {},
   "source": [
    "O nome dessa função é `println`. A expressão entre parênteses é chamada de *argumento* da função.\n",
    "É comum dizer que uma função *recebe* um argumento e *devolve* um resultado. O resultado é chamado de *valor de retorno*.\n",
    "\n",
    "Julia possui funções que convertem valores de um tipo para outro. A função `parse`, por exemplo, recebe uma string e a converte em um número, se possível, ou imprime uma mensagem de erro caso contrário."
   ]
  },
  {
   "cell_type": "code",
   "execution_count": 2,
   "metadata": {},
   "outputs": [
    {
     "data": {
      "text/plain": [
       "32"
      ]
     },
     "execution_count": 2,
     "metadata": {},
     "output_type": "execute_result"
    }
   ],
   "source": [
    "parse(Int64, \"32\")"
   ]
  },
  {
   "cell_type": "code",
   "execution_count": 3,
   "metadata": {},
   "outputs": [
    {
     "data": {
      "text/plain": [
       "3.14159"
      ]
     },
     "execution_count": 3,
     "metadata": {},
     "output_type": "execute_result"
    }
   ],
   "source": [
    "parse(Float64, \"3.14159\")"
   ]
  },
  {
   "cell_type": "code",
   "execution_count": 4,
   "metadata": {},
   "outputs": [
    {
     "ename": "ArgumentError",
     "evalue": "ArgumentError: invalid base 10 digit 'O' in \"Olá\"",
     "output_type": "error",
     "traceback": [
      "ArgumentError: invalid base 10 digit 'O' in \"Olá\"",
      "",
      "Stacktrace:",
      " [1] tryparse_internal(::Type{Int64}, ::String, ::Int64, ::Int64, ::Int64, ::Bool) at ./parse.jl:131",
      " [2] #parse#348(::Nothing, ::Function, ::Type{Int64}, ::String) at ./parse.jl:238",
      " [3] parse(::Type{Int64}, ::String) at ./parse.jl:238",
      " [4] top-level scope at In[4]:1"
     ]
    }
   ],
   "source": [
    "parse(Int64, \"Olá\")"
   ]
  },
  {
   "cell_type": "markdown",
   "metadata": {},
   "source": [
    "No último caso não foi possível fazer a conversão, pois não é possível converter letras para inteiros. Nos dois primeiros casos, fizemos a conversão de uma string com números para inteiros e floats.\n",
    "\n",
    "A função `trunc` pode converter números de ponto flutuante para números inteiros, mas ao invés de arredondar o valor, ela remove sua parte decimal:"
   ]
  },
  {
   "cell_type": "code",
   "execution_count": 5,
   "metadata": {},
   "outputs": [
    {
     "data": {
      "text/plain": [
       "3"
      ]
     },
     "execution_count": 5,
     "metadata": {},
     "output_type": "execute_result"
    }
   ],
   "source": [
    "trunc(Int64, 3.99999)"
   ]
  },
  {
   "cell_type": "code",
   "execution_count": 6,
   "metadata": {},
   "outputs": [
    {
     "data": {
      "text/plain": [
       "-2"
      ]
     },
     "execution_count": 6,
     "metadata": {},
     "output_type": "execute_result"
    }
   ],
   "source": [
    "trunc(Int64, -2.3)"
   ]
  },
  {
   "cell_type": "markdown",
   "metadata": {},
   "source": [
    "A função `float` converte números inteiros para números de ponto flutuante:"
   ]
  },
  {
   "cell_type": "code",
   "execution_count": 7,
   "metadata": {},
   "outputs": [
    {
     "data": {
      "text/plain": [
       "32.0"
      ]
     },
     "execution_count": 7,
     "metadata": {},
     "output_type": "execute_result"
    }
   ],
   "source": [
    "float(32)"
   ]
  },
  {
   "cell_type": "markdown",
   "metadata": {},
   "source": [
    "Por fim, a função `string` converte seu argumento para string:"
   ]
  },
  {
   "cell_type": "code",
   "execution_count": 8,
   "metadata": {},
   "outputs": [
    {
     "data": {
      "text/plain": [
       "\"32\""
      ]
     },
     "execution_count": 8,
     "metadata": {},
     "output_type": "execute_result"
    }
   ],
   "source": [
    "string(32)"
   ]
  },
  {
   "cell_type": "code",
   "execution_count": 9,
   "metadata": {},
   "outputs": [
    {
     "data": {
      "text/plain": [
       "\"3.14159\""
      ]
     },
     "execution_count": 9,
     "metadata": {},
     "output_type": "execute_result"
    }
   ],
   "source": [
    "string(3.14159)"
   ]
  },
  {
   "cell_type": "markdown",
   "metadata": {},
   "source": [
    "## Funções Matemáticas\n",
    "\n",
    "A maioria das funções matemáticas conhecidas está disponível para utilização direta em Julia:\n",
    "\n",
    "O exemplo abaixo usa a função `log10` para calcular uma razão entre as intensidades de sinal e ruído em decibéis. A função `log`, que calcula logaritmos naturais, também está disponível."
   ]
  },
  {
   "cell_type": "code",
   "execution_count": 5,
   "metadata": {},
   "outputs": [
    {
     "data": {
      "text/plain": [
       "42.0"
      ]
     },
     "execution_count": 5,
     "metadata": {},
     "output_type": "execute_result"
    }
   ],
   "source": [
    "intensidade_sinal = 15.848931924611142\n",
    "intensidade_ruido = 0.001\n",
    "\n",
    "razão = intensidade_sinal / intensidade_ruido\n",
    "decibéis = 10 * log10(razão)"
   ]
  },
  {
   "cell_type": "markdown",
   "metadata": {},
   "source": [
    "O próximo exemplo calcula o seno de `radianos`. O nome da variável é uma dica, pois `sin` e as outras funções trigonométricas, como `cos` e `tan`, recebem argumentos em radianos. Para converter *graus* para *radianos*, divida por 180 e multiplique por $\\pi$, como mostrado nos exemplos seguintes:"
   ]
  },
  {
   "cell_type": "code",
   "execution_count": 6,
   "metadata": {},
   "outputs": [
    {
     "data": {
      "text/plain": [
       "0.644217687237691"
      ]
     },
     "execution_count": 6,
     "metadata": {},
     "output_type": "execute_result"
    }
   ],
   "source": [
    "radianos = 0.7\n",
    "altura = sin(radianos)"
   ]
  },
  {
   "cell_type": "code",
   "execution_count": 9,
   "metadata": {},
   "outputs": [
    {
     "data": {
      "text/plain": [
       "45"
      ]
     },
     "execution_count": 9,
     "metadata": {},
     "output_type": "execute_result"
    }
   ],
   "source": [
    "graus = 45"
   ]
  },
  {
   "cell_type": "code",
   "execution_count": 3,
   "metadata": {
    "scrolled": true
   },
   "outputs": [
    {
     "data": {
      "text/plain": [
       "0.7853981633974483"
      ]
     },
     "execution_count": 3,
     "metadata": {},
     "output_type": "execute_result"
    }
   ],
   "source": [
    "radianos = graus / 180 * π"
   ]
  },
  {
   "cell_type": "code",
   "execution_count": 7,
   "metadata": {},
   "outputs": [
    {
     "data": {
      "text/plain": [
       "0.644217687237691"
      ]
     },
     "execution_count": 7,
     "metadata": {},
     "output_type": "execute_result"
    }
   ],
   "source": [
    "sin(radianos)"
   ]
  },
  {
   "cell_type": "markdown",
   "metadata": {},
   "source": [
    "> *Aviso*: Note que a constante $\\pi$ pode ser usada sem definição prévia através dos símbolos $\\pi$, obtido digitando `\\pi` e apertando a tecla `TAB`, ou simplesmente digitando `pi`.\n",
    "\n",
    "o valor da variável $\\pi$ é uma aproximação em ponto flutuante para o número $\\pi$ com precisão de aproximadamente 16 dígitos. Você pode checar o resultado anterior comparando-o com $\\dfrac{\\sqrt{2}}{2}$:"
   ]
  },
  {
   "cell_type": "code",
   "execution_count": 15,
   "metadata": {},
   "outputs": [
    {
     "data": {
      "text/plain": [
       "0.7071067811865476"
      ]
     },
     "execution_count": 15,
     "metadata": {},
     "output_type": "execute_result"
    }
   ],
   "source": [
    "sqrt(2) / 2"
   ]
  },
  {
   "cell_type": "markdown",
   "metadata": {},
   "source": [
    "## Composição de Funções\n",
    "\n",
    "Até agora, consideramos separadamente os elementos de um programa, isto é, *variáveis*, *expressões* e *declarações*, sem discutir como combiná-los.\n",
    "Um dos recursos mais úteis em linguagens de programação é a possibilidade de combinar operações simples para construir operações mais complexas. Os argumentos passados a uma função podem ser expressões de qualquer tipo, incluindo operações aritméticas:"
   ]
  },
  {
   "cell_type": "code",
   "execution_count": 10,
   "metadata": {},
   "outputs": [
    {
     "data": {
      "text/plain": [
       "0.7071067811865475"
      ]
     },
     "execution_count": 10,
     "metadata": {},
     "output_type": "execute_result"
    }
   ],
   "source": [
    "x = sin(graus / 360 * 2 * π)"
   ]
  },
  {
   "cell_type": "markdown",
   "metadata": {},
   "source": [
    "Os argumentos passados a uma função também podem ser *chamadas a outras funções*:"
   ]
  },
  {
   "cell_type": "code",
   "execution_count": 11,
   "metadata": {},
   "outputs": [
    {
     "data": {
      "text/plain": [
       "1.7071067811865475"
      ]
     },
     "execution_count": 11,
     "metadata": {},
     "output_type": "execute_result"
    }
   ],
   "source": [
    "x = exp(log(x+1))"
   ]
  },
  {
   "cell_type": "markdown",
   "metadata": {},
   "source": [
    "Você pode usar expressões em quase todos os lugares onde pode usar valores, contanto que *o lado esquerdo de uma atribuição seja um nome de variável*. Qualquer outra expressão no lado esquerdo é considerada *erro de sintaxe*. Veremos exceções para essa regra mais tarde.\n",
    "\n",
    "Considere o exemplo abaixo:"
   ]
  },
  {
   "cell_type": "code",
   "execution_count": 14,
   "metadata": {},
   "outputs": [
    {
     "data": {
      "text/plain": [
       "3600"
      ]
     },
     "execution_count": 14,
     "metadata": {},
     "output_type": "execute_result"
    }
   ],
   "source": [
    "horas = 60 # 1 hora equivale a 60 minutos\n",
    "minutos = horas * 60 # certo"
   ]
  },
  {
   "cell_type": "code",
   "execution_count": 13,
   "metadata": {},
   "outputs": [
    {
     "ename": "ErrorException",
     "evalue": "syntax: \"60\" is not a valid function argument name",
     "output_type": "error",
     "traceback": [
      "syntax: \"60\" is not a valid function argument name",
      ""
     ]
    }
   ],
   "source": [
    "horas * 60 = minutos # errado!"
   ]
  },
  {
   "cell_type": "markdown",
   "metadata": {},
   "source": [
    "## Adicionando Novas Funções\n",
    "\n",
    "Até agora, usamos apenas funções já disponíveis na linguagem Julia, mas também podemos adicionar nossas próprias funções. Uma *definição de função* define o nome de uma nova função e a sequência de instruções que será executada quando a função for utilizada.\n",
    "\n",
    "Considere exemplo abaixo:"
   ]
  },
  {
   "cell_type": "code",
   "execution_count": 39,
   "metadata": {},
   "outputs": [
    {
     "data": {
      "text/plain": [
       "printmusica (generic function with 1 method)"
      ]
     },
     "execution_count": 39,
     "metadata": {},
     "output_type": "execute_result"
    }
   ],
   "source": [
    "function printmusica()\n",
    "    println(\"Sou um lenhador, e tá tudo maneiro.\")\n",
    "    println(\"Durmo a noite inteira, e trabalho o dia inteiro.\")\n",
    "end"
   ]
  },
  {
   "cell_type": "markdown",
   "metadata": {},
   "source": [
    "A palavra-chave `function` faz desse trecho de código uma definição de função. O nome da função nesse exemplo é `printmusica`. As regras para nomes de função são as mesmas utilizadas para nomes de variáveis. Nomes de função podem conter quase todos os caracteres *Unicode*, mas *o primeiro caractere não pode ser um número*. Veja o capítulo Caracteres. Você não pode usar uma palavra-chave como nome de uma função, e você deve evitar dar nomes idênticos a variáveis e funções.\n",
    "\n",
    "Parênteses vazios depois de um nome indicam que a função não recebe argumentos.\n",
    "A primeira linha de uma definição de função é chamada de *cabeçalho*, e o resto da função é chamado de *corpo*.\n",
    "\n",
    "O corpo de uma função é marcado pela palavra-chave `end`, e pode conter qualquer quantidade de instruções. O corpo de uma função deve ser indentado para melhorar sua legibilidade.\n",
    "\n",
    "Deve-se utilizar \"aspas duplas\", geralmente localizadas perto da tecla de *número 1* no teclado. «Aspas angulares» não são permitidas em Julia.\n",
    "\n",
    "Se você definir uma função no modo interativo, o REPL a indentará automaticamente. Se você esquecer de terminar, ou *fechar*, uma definição de função com a palavra-chave `end`, verá um erro:"
   ]
  },
  {
   "cell_type": "code",
   "execution_count": 40,
   "metadata": {},
   "outputs": [
    {
     "ename": "LoadError",
     "evalue": "syntax: incomplete: \"function\" at none:1 requires end",
     "output_type": "error",
     "traceback": [
      "syntax: incomplete: \"function\" at none:1 requires end",
      ""
     ]
    }
   ],
   "source": [
    "function printmusica()\n",
    "    println(\"Sou um lenhador, e tá tudo maneiro.\")"
   ]
  },
  {
   "cell_type": "markdown",
   "metadata": {},
   "source": [
    "Para encerrar uma função, você deve inserir a palavra-chave `end`. Completando a célula acima, temos:"
   ]
  },
  {
   "cell_type": "code",
   "execution_count": 41,
   "metadata": {},
   "outputs": [
    {
     "data": {
      "text/plain": [
       "printmusica (generic function with 1 method)"
      ]
     },
     "execution_count": 41,
     "metadata": {},
     "output_type": "execute_result"
    }
   ],
   "source": [
    "function printmusica()\n",
    "    println(\"Sou um lenhador, e tá tudo maneiro.\")\n",
    "    println(\"Durmo a noite inteira, e trabalho o dia inteiro\")\n",
    "end"
   ]
  },
  {
   "cell_type": "markdown",
   "metadata": {},
   "source": [
    "A sintaxe para chamar funções definidas pelo usuário é a mesma utilizada para chamar funções pré-definidas na linguagem:"
   ]
  },
  {
   "cell_type": "code",
   "execution_count": 42,
   "metadata": {},
   "outputs": [
    {
     "name": "stdout",
     "output_type": "stream",
     "text": [
      "Sou um lenhador, e tá tudo maneiro.\n",
      "Durmo a noite inteira, e trabalho o dia inteiro\n"
     ]
    }
   ],
   "source": [
    "printmusica()"
   ]
  },
  {
   "cell_type": "markdown",
   "metadata": {},
   "source": [
    "Após definir uma função, você pode usá-la dentro de outras funções. Por exemplo, para repetir o primeiro refrão nós podemos escrever a função `repetemusica`:"
   ]
  },
  {
   "cell_type": "code",
   "execution_count": 43,
   "metadata": {},
   "outputs": [
    {
     "data": {
      "text/plain": [
       "repetemusica (generic function with 1 method)"
      ]
     },
     "execution_count": 43,
     "metadata": {},
     "output_type": "execute_result"
    }
   ],
   "source": [
    "function repetemusica()\n",
    "    printmusica()\n",
    "    printmusica()\n",
    "end"
   ]
  },
  {
   "cell_type": "markdown",
   "metadata": {},
   "source": [
    "E depois chamar `repetemusica`:"
   ]
  },
  {
   "cell_type": "code",
   "execution_count": 44,
   "metadata": {},
   "outputs": [
    {
     "name": "stdout",
     "output_type": "stream",
     "text": [
      "Sou um lenhador, e tá tudo maneiro.\n",
      "Durmo a noite inteira, e trabalho o dia inteiro\n",
      "Sou um lenhador, e tá tudo maneiro.\n",
      "Durmo a noite inteira, e trabalho o dia inteiro\n"
     ]
    }
   ],
   "source": [
    "repetemusica()"
   ]
  },
  {
   "cell_type": "markdown",
   "metadata": {},
   "source": [
    "No entanto, não é exatamente assim que a música toca."
   ]
  },
  {
   "cell_type": "markdown",
   "metadata": {},
   "source": [
    "## Definições e Utilizações\n",
    "\n",
    "Combinando os fragmentos de código das seções anteriores, o programa resultante fica da seguinte maneira:"
   ]
  },
  {
   "cell_type": "code",
   "execution_count": 47,
   "metadata": {},
   "outputs": [
    {
     "name": "stdout",
     "output_type": "stream",
     "text": [
      "Sou um lenhador, e tá tudo maneiro.\n",
      "Durmo a noite inteira, e trabalho o dia inteiro.\n",
      "Sou um lenhador, e tá tudo maneiro.\n",
      "Durmo a noite inteira, e trabalho o dia inteiro.\n"
     ]
    }
   ],
   "source": [
    "function printmusica()\n",
    "    println(\"Sou um lenhador, e tá tudo maneiro.\")\n",
    "    println(\"Durmo a noite inteira, e trabalho o dia inteiro.\")\n",
    "end\n",
    "\n",
    "function printmusica()\n",
    "    printmusica()\n",
    "    printmusica()\n",
    "end\n",
    "\n",
    "repetemusica()"
   ]
  },
  {
   "cell_type": "markdown",
   "metadata": {},
   "source": [
    "Esse programa contém duas definições de função: `printmusica` e `repetemusica`. As definições de função são executadas da mesma forma que outras instruções, mas seu efeito é *definir funções*. Instruções dentro de funções não são executadas enquanto a função não for chamada, e a definição de função não produz valores.\n",
    "\n",
    "É necessário definir uma função antes de chamá-la, isto é, uma definição de função deve ser executada antes da própria função ser chamada.\n",
    "\n",
    "### Exercício 3.1\n",
    "\n",
    "1. Mova para o início a última linha do programa completo acima, de forma que a chamada da função apareça *antes* das definições. Execute o programa e veja a mensagem de erro.\n",
    "2. Agora, mova a chamada de função de volta para o final do programa, e mova a definição de `printmusica` para depois da definição de `repetemusica`. O que acontece se você executa o programa?\n",
    "\n",
    "## Fluxo de Execução\n",
    "\n",
    "Para garantir que uma função seja definida antes de sua primeira utilização, você deve saber a ordem em que instruções são executadas no seu programa, isto é, você deve conhecer o *fluxo de execução* do seu programa.\n",
    "\n",
    "Um programa sempre começa por sua primeira instrução. Instruções são executadas uma de cada vez, de cima para baixo.\n",
    "\n",
    "> *Dica*: *Instruções paralelas* podem ser executadas ao mesmo tempo. Veremos mais sobre isso mais tarde.\n",
    "\n",
    "Definições de função não alteram o fluxo de execução de um programa, mas lembre-se de que as instruções dentro de uma função não são executadas antes de sua chamada.\n",
    "\n",
    "Chamar uma função é como fazer um desvio no fluxo de execução. Ao invés de ir para a próxima instrução, o fluxo de execução *pula* para o corpo da função chamada, executa suas instruções, e pula novamente para a próxima instrução *após a chamada de função*.\n",
    "\n",
    "Parece simples, até que você se dê conta de que *uma função pode chamar outra*. Assim, no meio de uma função, um programa pode passar executar instruções de outra função. Complicando ainda mais, enquanto executa essa nova função, o programa pode passar a executar uma terceira função, e assim por diante!\n",
    "\n",
    "Por sorte, o REPL é capaz de acompanhar esse fluxo sem nenhum problema. Assim, cada vez que uma função é *termina* sua execução, o programa volta ao ponto onde a chamada foi feita. Quando o programa todo chega ao fim, ele termina.\n",
    "\n",
    "Por causa disso, nem sempre a melhor opção é ler um programa de cima para baixo. Às vezes o programa é mais fácil de ler se você acompanhar seu fluxo de execução.\n",
    "\n",
    "## Parâmetros e Argumentos\n",
    "\n",
    "Algumas das funções que vimos requerem *argumentos*. Quando você chama `sin`, por exemplo, você deve passar um número como argumento. Algumas funções recebem mais de um argumento, como a função `parse`, que recebe um argumento de tipo número e outro de tipo string.\n",
    "\n",
    "Os argumentos de uma função são designados a variáveis dentro da função chamadas de *parâmetros*. O exemplo abaixo define uma função que recebe um *argumento*:"
   ]
  },
  {
   "cell_type": "code",
   "execution_count": 27,
   "metadata": {},
   "outputs": [
    {
     "data": {
      "text/plain": [
       "printduasvezes (generic function with 1 method)"
      ]
     },
     "execution_count": 27,
     "metadata": {},
     "output_type": "execute_result"
    }
   ],
   "source": [
    "function printduasvezes(bruno)\n",
    "    println(bruno)\n",
    "    println(bruno)\n",
    "end"
   ]
  },
  {
   "cell_type": "markdown",
   "metadata": {},
   "source": [
    "A função definida acima designa seu *argumento* a um *parâmetro* chamado `bruno`. Quando uma função é chamada, ela imprime o valor do parâmetro duas vezes, independentemente do valor e do tipo do parâmetro.\n",
    "\n",
    "Essa função pode receber qualquer valor que possa ser impresso:"
   ]
  },
  {
   "cell_type": "code",
   "execution_count": 29,
   "metadata": {},
   "outputs": [
    {
     "name": "stdout",
     "output_type": "stream",
     "text": [
      "Spam\n",
      "Spam\n"
     ]
    }
   ],
   "source": [
    "printduasvezes(\"Spam\")"
   ]
  },
  {
   "cell_type": "code",
   "execution_count": 31,
   "metadata": {},
   "outputs": [
    {
     "name": "stdout",
     "output_type": "stream",
     "text": [
      "42\n",
      "42\n"
     ]
    }
   ],
   "source": [
    "printduasvezes(42)"
   ]
  },
  {
   "cell_type": "code",
   "execution_count": 32,
   "metadata": {},
   "outputs": [
    {
     "name": "stdout",
     "output_type": "stream",
     "text": [
      "π = 3.1415926535897...\n",
      "π = 3.1415926535897...\n"
     ]
    }
   ],
   "source": [
    "printduasvezes(π)"
   ]
  },
  {
   "cell_type": "markdown",
   "metadata": {},
   "source": [
    "As regras de composição que valem para funções já disponíveis na linguagem também valem para funções definidas num programa. Podemos utilizar qualquer expressões de qualquer tipo como argumento para `printduasvezes`:"
   ]
  },
  {
   "cell_type": "code",
   "execution_count": 34,
   "metadata": {},
   "outputs": [
    {
     "name": "stdout",
     "output_type": "stream",
     "text": [
      "Spam Spam Spam Spam \n",
      "Spam Spam Spam Spam \n"
     ]
    }
   ],
   "source": [
    "printduasvezes(\"Spam \" ^ 4)"
   ]
  },
  {
   "cell_type": "code",
   "execution_count": 35,
   "metadata": {},
   "outputs": [
    {
     "name": "stdout",
     "output_type": "stream",
     "text": [
      "-1.0\n",
      "-1.0\n"
     ]
    }
   ],
   "source": [
    "printduasvezes(cos(π))"
   ]
  },
  {
   "cell_type": "markdown",
   "metadata": {},
   "source": [
    "Argumentos são avaliados antes da chamada de uma função, assim, nos exemplos anteriores, as expressões `\"Spam\" ^ 4` e `cos(pi)` são avaliadas apenas uma vez.\n",
    "\n",
    "Uma variável também pode ser usada como argumento:"
   ]
  },
  {
   "cell_type": "code",
   "execution_count": 36,
   "metadata": {},
   "outputs": [
    {
     "data": {
      "text/plain": [
       "\"Eric meia-abelha.\""
      ]
     },
     "execution_count": 36,
     "metadata": {},
     "output_type": "execute_result"
    }
   ],
   "source": [
    "michel = \"Eric meia-abelha.\""
   ]
  },
  {
   "cell_type": "code",
   "execution_count": 37,
   "metadata": {},
   "outputs": [
    {
     "name": "stdout",
     "output_type": "stream",
     "text": [
      "Eric meia-abelha.\n",
      "Eric meia-abelha.\n"
     ]
    }
   ],
   "source": [
    "printduasvezes(michel)"
   ]
  },
  {
   "cell_type": "markdown",
   "metadata": {},
   "source": [
    "O nome da variável `michel`, passada como argumento, não tem relação com o nome do parâmetro `bruno`. O nome anterior do valor não importa, pois dentro da função `printduasvezes` a variável se chamará `bruno`.\n",
    "\n",
    "## Variáveis e Parâmetros são Locais\n",
    "\n",
    "Uma variável criada dentro de uma função é *local*, isto é, ela existe apenas dentro daquela função. Por exemplo:"
   ]
  },
  {
   "cell_type": "code",
   "execution_count": 57,
   "metadata": {},
   "outputs": [
    {
     "data": {
      "text/plain": [
       "concatena_printduasvezes (generic function with 1 method)"
      ]
     },
     "execution_count": 57,
     "metadata": {},
     "output_type": "execute_result"
    }
   ],
   "source": [
    "function concatena_printduasvezes(parte1, parte2)\n",
    "    concat = parte1 * parte2\n",
    "    printduasvezes(concat)\n",
    "end"
   ]
  },
  {
   "cell_type": "markdown",
   "metadata": {},
   "source": [
    "Essa função recebe dois argumentos, concatena os argumentos, e imprime o resultado duas vezes. Vamos usar a função:"
   ]
  },
  {
   "cell_type": "code",
   "execution_count": 51,
   "metadata": {},
   "outputs": [
    {
     "data": {
      "text/plain": [
       "\"Bing tiddle \""
      ]
     },
     "execution_count": 51,
     "metadata": {},
     "output_type": "execute_result"
    }
   ],
   "source": [
    "linha1 = \"Bing tiddle \""
   ]
  },
  {
   "cell_type": "code",
   "execution_count": 49,
   "metadata": {},
   "outputs": [
    {
     "data": {
      "text/plain": [
       "\"tiddle bang.\""
      ]
     },
     "execution_count": 49,
     "metadata": {},
     "output_type": "execute_result"
    }
   ],
   "source": [
    "linha2 = \"tiddle bang.\""
   ]
  },
  {
   "cell_type": "code",
   "execution_count": 58,
   "metadata": {},
   "outputs": [
    {
     "name": "stdout",
     "output_type": "stream",
     "text": [
      "Bing tiddle tiddle bang.\n",
      "Bing tiddle tiddle bang.\n"
     ]
    }
   ],
   "source": [
    "concatena_printduasvezes(linha1, linha2)"
   ]
  },
  {
   "cell_type": "markdown",
   "metadata": {},
   "source": [
    "Quando `concatena_printduasvezes` termina, a variável `concat` é destruída. Se tentarmos imprimí-la, veremos o seguinte erro:"
   ]
  },
  {
   "cell_type": "code",
   "execution_count": 53,
   "metadata": {},
   "outputs": [
    {
     "ename": "UndefVarError",
     "evalue": "UndefVarError: concat not defined",
     "output_type": "error",
     "traceback": [
      "UndefVarError: concat not defined",
      "",
      "Stacktrace:",
      " [1] top-level scope at In[53]:1"
     ]
    }
   ],
   "source": [
    "println(concat)"
   ]
  },
  {
   "cell_type": "markdown",
   "metadata": {},
   "source": [
    "Parâmetros de uma função também são locais. Por exemplo, fora da função `printduasvezes`, não existe nenhuma variável chamada `bruno`.\n",
    "\n",
    "## Diagramas de Pilha\n",
    "\n",
    "Para acompanhar e saber onde cada variável pode ser usada, as vezes é útil desenhar um *diagrama de pilha*. Assim como um diagrama de estados, um diagrama de pilha relaciona os valores de cada variável às funções às quais cada variável pertence.\n",
    "\n",
    "Cada função é representada como um *quadro*. Um quadro é representado por uma caixa com o nome da função, e seus parâmetros e variáveis. As tabelas abaixo mostram diagramas de pilha para as funções do nosso programa de exemplo:\n",
    "\n",
    "| Função | Variável | Valor |\n",
    "| --- | --- | --- |\n",
    "| `Main` | `linha1` | `\"Bing tiddle \"` |\n",
    "|  \" | `linha2` | `\"tiddle bang.\"` |\n",
    "\n",
    "| Função | Variável | Valor |\n",
    "| --- | --- | --- |\n",
    "| `concatena_printduasvezes` | `parte1` | `\"Bing tiddle \"` |\n",
    "| \" | `parte1` | `\"tiddle bang.\"` |\n",
    "| \" | `concat` | `\"Bing tiddle tiddle bang.\"` |\n",
    "\n",
    "| Função | Variável | Valor |\n",
    "| --- | --- | --- |\n",
    "| `printduasvezes` | `bruno` | `\"Bing tiddle tiddle bang.\"` |\n",
    "\n",
    "\n",
    "A ordem das tabelas na pilha indica a *ordem de chamada*. Nesse exemplo, `printduasvezes` foi chamada por `concatena_printduasvezes`, que por sua vez foi chamada pelo quadro principal, chamado de `Main`. Quando você cria uma variável fora de qualquer função, ela pertence ao quadro principal, denotado pela função `Main`.\n",
    "\n",
    "Cada parâmetro se refere ao valor do argumento correspondente. Assim, `parte1` tem o mesmo valor de `linha1`, `parte2` tem o mesmo valor de `linha2`, e `bruno` tem o mesmo valor de `concat`.\n",
    "\n",
    "Se houver algum erro durante uma chamada de função, o REPL imprimirá o nome da função onde houve o erro, e os nomes das funções que chamaram a função onde o erro ocorreu, até que se chegue à função `Main`.\n",
    "\n",
    "Por exemplo, se você tentasse acessar a variável `concat` de dentro da função `printduasvezes`, você veria a seguinte mensagem de erro:\n",
    "\n",
    "```julia\n",
    "ERROR: UndefVarError: concat not defined        \n",
    "Stacktrace:                                     \n",
    " [1] printduasvezes at ./REPL[1]:2 [inlined]         \n",
    " [2] concatena_printduasvezes(::String, ::String) at ./REPL[2]:3\n",
    "```\n",
    "\n",
    "Essa pilha de funções é chamada de *rastro de chamada*, *rastro de pilha*, ou *stack trace*, em inglês. Ela mostra em qual arquivo e em qual linha do programa o erro ocorreu, além das funções que estavam sendo executadas no momento do erro.\n",
    "\n",
    "As funções no rastro de chamadas aparecem na ordem inversa à dos quadros no diagrama de pilhas. A função que estava sendo executada no momento do erro aparece no início.\n",
    "\n",
    "## Funções com Resultado e Funções Nulas\n",
    "\n",
    "Algumas das funções que usamos até agora, como as funções matemáticas, devolvem resultados, isto é, valores. Esse tipo de função é chamado de *função com resultado*. Outras funções, como `printduasvezes`, não devolvem resultados. Essas funções são chamadas de *funções nulas*.\n",
    "\n",
    "Quanto você chama uma função com resultado, o objetivo é quase sempre utilizar seu resultado para algo. Por exemplo, você pode salvar o resultado numa variável, ou usá-lo como parte de uma expressão matemática:"
   ]
  },
  {
   "cell_type": "code",
   "execution_count": 60,
   "metadata": {},
   "outputs": [
    {
     "data": {
      "text/plain": [
       "-1.0"
      ]
     },
     "execution_count": 60,
     "metadata": {},
     "output_type": "execute_result"
    }
   ],
   "source": [
    "x = cos(π)"
   ]
  },
  {
   "cell_type": "code",
   "execution_count": 61,
   "metadata": {},
   "outputs": [
    {
     "data": {
      "text/plain": [
       "1.618033988749895"
      ]
     },
     "execution_count": 61,
     "metadata": {},
     "output_type": "execute_result"
    }
   ],
   "source": [
    "golden = (sqrt(5) + 1) / 2"
   ]
  },
  {
   "cell_type": "markdown",
   "metadata": {},
   "source": [
    "Quando você chama uma função no modo interativo, ou numa célula com apenas uma instrução, o REPL imprime seu resultado:"
   ]
  },
  {
   "cell_type": "code",
   "execution_count": 62,
   "metadata": {},
   "outputs": [
    {
     "data": {
      "text/plain": [
       "2.23606797749979"
      ]
     },
     "execution_count": 62,
     "metadata": {},
     "output_type": "execute_result"
    }
   ],
   "source": [
    "sqrt(5)"
   ]
  },
  {
   "cell_type": "markdown",
   "metadata": {},
   "source": [
    "O código acima calcula $\\sqrt{5}$, mas como não salvamos ou imprimimos o resultado, esse código não é muito útil.\n",
    "O REPL imprimiu o resultado no exemplo acima, mas num script, no entanto, se chamarmos uma função com resultado sem salvar seu valor de retorno, esse valor será perdido para sempre!\n",
    "\n",
    "Funções nulas podem imprimir algo na tela ou ter algum outro *efeito*, mas não possuem valor de retorno. Se salvar seu resultado em uma variável, você verá um valor especial chamado `nothing`:"
   ]
  },
  {
   "cell_type": "code",
   "execution_count": 63,
   "metadata": {},
   "outputs": [
    {
     "name": "stdout",
     "output_type": "stream",
     "text": [
      "Bing\n",
      "Bing\n"
     ]
    }
   ],
   "source": [
    "result = printduasvezes(\"Bing\")"
   ]
  },
  {
   "cell_type": "code",
   "execution_count": 64,
   "metadata": {},
   "outputs": [
    {
     "name": "stdout",
     "output_type": "stream",
     "text": [
      "nothing"
     ]
    }
   ],
   "source": [
    "show(result)"
   ]
  },
  {
   "cell_type": "markdown",
   "metadata": {},
   "source": [
    "Para imprimir o valor `nothing` você deve usar a função `show`, que funciona como a função `print` mas sabe lidar com o valor `nothing`.\n",
    "\n",
    "O valor `nothing` não é o mesmo que a string `\"nothing\"`, mas um valor especial, de seu próprio tipo:"
   ]
  },
  {
   "cell_type": "code",
   "execution_count": 65,
   "metadata": {},
   "outputs": [
    {
     "data": {
      "text/plain": [
       "Nothing"
      ]
     },
     "execution_count": 65,
     "metadata": {},
     "output_type": "execute_result"
    }
   ],
   "source": [
    "typeof(nothing)"
   ]
  },
  {
   "cell_type": "code",
   "execution_count": 66,
   "metadata": {},
   "outputs": [
    {
     "data": {
      "text/plain": [
       "String"
      ]
     },
     "execution_count": 66,
     "metadata": {},
     "output_type": "execute_result"
    }
   ],
   "source": [
    "typeof(\"nothing\")"
   ]
  },
  {
   "cell_type": "markdown",
   "metadata": {},
   "source": [
    "As funções que escrevemos até agora são todas nulas. Vamos começar a escrever funções com resultado nos próximos capítulos.\n",
    "\n",
    "## Por que Funções?\n",
    "\n",
    "Pode não estar claro por que se dar ao trabalho de dividir um programa em funções. Alguns motivos de se fazer isso são:\n",
    "\n",
    "- Criar novas funções permite nomear um grupo de instruções, tornando seu programa mais fácil de ser lido e depurado\n",
    "- Funções deixam seu programa menor, eliminando trechos repetitivos de código. Mais tarde, se você fizer alguma modificação no código, você precisará modificar apenas um lugar\n",
    "- Dividir um programa longo em funções permite depurar um pedaço por vez\n",
    "- Funções bem estruturadas podem ser são reutilizadas. Uma vez que você escreveu e depurou uma função, você pode reutilizá-la\n",
    "- Em Julia, funções podem otimizar muito o desempenho de um programa\n",
    "\n",
    "## Depuração\n",
    "\n",
    "Uma das habilidades mais importantes que você irá adiquirir é *depurar*. Embora possa ser frustante, depurar é uma das partes mais intelectualmente ricas, desafiadoras, e interessantes da programação.\n",
    "\n",
    "De certa forma, depurar é como o trabalho de um detetive. Você possui pistas e tem que inferir quais processos e eventos estão levando aos resultados que você recebe.\n",
    "\n",
    "Depurar também é como uma ciência experimental. Uma vez que você tem alguma ideia do porque as coisas estão dando errado, você modifica o seu programa e tenta novamente. Se suas hipóteses estavam corretas, você pode prever o resultado de suas modificações, e então chegar um passo mais perto de ter seu programa funcionando. Se suas hipóteses estavam erradas, você tem que formular uma nova. \n",
    "\n",
    "Como Sherlock Holmes salientou: \"*Quando você eliminar o impossível, o que restar, mesmo que improvável, deve ser a verdade.*\" - A. Conan Doyle, The Sign of Four.\n",
    "\n",
    "Para algumas pessoas, programação e depuração é a mesma coisa. Ou seja, programar é o processo gradual de depurar um programa até que ele faça o que você quer. A ideia é que você comece com um programa funcional e faça pequenas modificações, depurando-as conforme avançar.\n",
    "\n",
    "Por exemplo, o Linux é um sistema operacional que contém milhões de linhas de código, mas ele foi iniciado como um programa simples que Linus Torvalds utilizava para explorar o microprocessador Intel 80386. De acordo com Larry Greenfield, \"*Um dos primeiros projetos do Linus era um programa que alternava entre exibir \"AAAA\" e \"BBBB\". Mais tarde, isso evoluiu para o Linux.*\" (*The Linux User's Guide* Beta Version 1).\n",
    "\n",
    "## Glossário\n",
    "\n",
    "**função**\n",
    "\n",
    "Uma sequência (nomeada) de instruções que calculam alguma operação útil. As funções podem ou não receber argumentos e podem ou não retornar resultados.\n",
    "\n",
    "**definição de função**\n",
    "\n",
    "Uma instrução que cria novas funções, especificando seu nome, parâmentros, e as intruções que ela contém.\n",
    "\n",
    "**objeto de função**\n",
    "\n",
    "O valor criado por uma definição de função. O nome de uma função é uma variável que se refere a um objeto de função.\n",
    "\n",
    "**cabeçalho**\n",
    "\n",
    "A primeira linha de uma definição de função.\n",
    "\n",
    "**corpo**\n",
    "\n",
    "A sequência de instruções dentro de uma definição de função.\n",
    "\n",
    "**parâmetro**\n",
    "\n",
    "Um nome usado dentro de uma função que se refere aos valores passados como argumento.\n",
    "\n",
    "**chamada de função**\n",
    "\n",
    "A instrução que executa uma função. Consiste no nome da função seguido de uma lista de parâmetros entre parênteses.\n",
    "\n",
    "**argumento**\n",
    "\n",
    "Um valor passado para uma função no momento de sua chamada. Esse valor é atribuído a um parâmetro correspondente dentro da função.\n",
    "\n",
    "**variável local**\n",
    "\n",
    "Uma variável definida dentro de uma função. Uma variável local pode ser usada apenas dentro de sua função.\n",
    "\n",
    "**função frutífera**\n",
    "\n",
    "Uma função que retorna (ou devolve) um resultado.\n",
    "\n",
    "**função nula**\n",
    "\n",
    "Uma função que sempre retorna `nothing`\n",
    "\n",
    "`nothing`\n",
    "\n",
    "Um valor especial retornado por funções nulas.\n",
    "\n",
    "**composição**\n",
    "\n",
    "O uso de uma expressão como parte de uma outra maior, ou uma instrução compondo uma instrução maior.\n",
    "\n",
    "**fluxo de execução**\n",
    "\n",
    "A ordem de intruções executadas.\n",
    "\n",
    "**diagrama de pilha**\n",
    "\n",
    "Uma representação gráfica de uma pilha de funções, suas variáveis, e os valores aos quais se referem.\n",
    "\n",
    "**quadro**\n",
    "\n",
    "Uma caixa em um diagrama de pilha representando uma chamada de função. Ela contém as variáveis locais e os parâmetros de uma função.\n",
    "\n",
    "**stacktrace**\n",
    "\n",
    "Uma lista de funções que estão sendo executadas, exibidas quando um erro ocorre.\n",
    "\n",
    "## Exercícios\n",
    "\n",
    "> *Dica*: \n",
    "> Esses exercícios devem ser feitos utilizando apenas as instruções e os outros recursos que temos aprendido até agora.\n",
    "\n",
    "### Exercício 3-2\n",
    "\n",
    "Escreva uma função chamada `jutificadireita` que recebe uma string chamada `s` como parâmetro e imprime a string com espaços suficientes para que a última letra da string esteja na coluna 70 da tela. Por exemplo:\n",
    "\n",
    "`justificadireita(\"monty\")`\n",
    "`monty`\n",
    "\n",
    "> *Dica*: Use concatenação e repetição de strings. Além disso, Julia oferece uma função nativa chamada `lenght` que retorna o tamanho de uma string, então o valor de `lenght(\"monty\")` é 5.\n",
    "\n",
    "### Exercício 3-3\n",
    "\n",
    "Um objeto de função é um valor que pode ser atribuído à uma variável ou passado como um argumento. Por exemplo, `facaduasvezes` é uma função que recebe um objeto de função como um argumento e o chama duas vezes:"
   ]
  },
  {
   "cell_type": "code",
   "execution_count": 1,
   "metadata": {},
   "outputs": [
    {
     "data": {
      "text/plain": [
       "facaduasvezes (generic function with 1 method)"
      ]
     },
     "execution_count": 1,
     "metadata": {},
     "output_type": "execute_result"
    }
   ],
   "source": [
    "function facaduasvezes(f)\n",
    "    f()\n",
    "    f()\n",
    "end"
   ]
  },
  {
   "cell_type": "markdown",
   "metadata": {},
   "source": [
    "Aqui temos um exemplo em que `facaduasvezes` chama a função `imprimespam` duas vezes:"
   ]
  },
  {
   "cell_type": "code",
   "execution_count": 2,
   "metadata": {},
   "outputs": [
    {
     "name": "stdout",
     "output_type": "stream",
     "text": [
      "spam\n",
      "spam\n"
     ]
    }
   ],
   "source": [
    "function imprimespam()\n",
    "    println(\"spam\")\n",
    "end\n",
    "\n",
    "facaduasvezes(imprimespam)"
   ]
  },
  {
   "cell_type": "markdown",
   "metadata": {},
   "source": [
    "1. Use esse exemplo em um script e teste-o.\n",
    "2. Modifique a função `facaduasvezes` para que ela receba dois argumentos, um objeto de função, um valor, e chame essa função duas vezes, passando o valor como um argumento.\n",
    "3. Copie a definição da função `printduasvezes`, que vimos mais cedo nesse capítulo, para seu script.\n",
    "4. Use a versão modificada de `facaduasvezes` para chamar a função `printduasvezes` duas vezes, passando `\"spam\"` como um argumento.\n",
    "5. Crie uma nova função chamada `facaquatrovezes` que recebe um objeto de função, um valor e chame a função quatro vezes, passando o valor como um parâmetro. Devem haver apenas duas intruções no corpo dessa função, não quatro.\n",
    "\n",
    "### Exercício 3-4\n",
    "\n",
    "1. Escreva a função `imprimegrade` que desenhe uma grade como o exemplo a seguir:\n",
    "\n",
    "`imprimegrade()`\n",
    "![grid](../docs/img/cap3-exec3.png)\n",
    "\n",
    "2. Escreva uma função que desenhe uma grade similar om quatro linhas e quatro colunhas.\n",
    "\n",
    "\n",
    "Créditos: Esses exercícios são baseados no livro Oualline, Practical C Programming, Third Edition, O’Reilly Media, 1997.\n",
    "\n",
    "> *Dica*: Para imprimir mais de um valor em uma linha, você pode imprimir uma vírgula como separador de uma sequência de valores: `println(\"+\", \"-\")`. A função `print` não avança para a próxima linha, por exemplo: `print(\"+ \") println(\"-\")` exibirá a saída `\"+ -\"`, na mesma linha. A saída da próxima instrução de print começará na próxima linha, pois a última instrução foi `println` ao invés de `print`.\n",
    "\n"
   ]
  }
 ],
 "metadata": {
  "kernelspec": {
   "display_name": "Julia 1.1.1",
   "language": "julia",
   "name": "julia-1.1"
  },
  "language_info": {
   "file_extension": ".jl",
   "mimetype": "application/julia",
   "name": "julia",
   "version": "1.1.1"
  }
 },
 "nbformat": 4,
 "nbformat_minor": 2
}
