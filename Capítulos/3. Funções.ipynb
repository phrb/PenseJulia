{
 "cells": [
  {
   "cell_type": "markdown",
   "metadata": {},
   "source": [
    "# 3. Funções\n",
    "\n",
    "Uma *função* é uma sequência de declarações que executam operações de computação. Quando define uma função, você especifica um *nome* e uma sequência de instruções. Depois, você pode *chamar*, ou *utilizar a função*, pelo nome que você especificou.\n",
    "\n",
    "## Chamada de Funções\n",
    "\n",
    "Nós já vimos um exemplo de chamada de função:"
   ]
  },
  {
   "cell_type": "code",
   "execution_count": 1,
   "metadata": {},
   "outputs": [
    {
     "name": "stdout",
     "output_type": "stream",
     "text": [
      "Olá, Mundo!\n"
     ]
    }
   ],
   "source": [
    "println(\"Olá, Mundo!\")"
   ]
  },
  {
   "cell_type": "markdown",
   "metadata": {},
   "source": [
    "O nome dessa função é `println`. A expressão entre parênteses é chamada de *argumento* da função.\n",
    "É comum dizer que uma função *recebe* um argumento e *devolve* um resultado. O resultado é chamado de *valor de retorno*.\n",
    "\n",
    "Julia possui funções que convertem valores de um tipo para outro. A função `parse`, por exemplo, recebe uma string e a converte em um número, se possível, ou exibe uma mensagem de erro caso contrário."
   ]
  },
  {
   "cell_type": "code",
   "execution_count": 2,
   "metadata": {},
   "outputs": [
    {
     "data": {
      "text/plain": [
       "32"
      ]
     },
     "execution_count": 2,
     "metadata": {},
     "output_type": "execute_result"
    }
   ],
   "source": [
    "parse(Int64, \"32\")"
   ]
  },
  {
   "cell_type": "code",
   "execution_count": 3,
   "metadata": {},
   "outputs": [
    {
     "data": {
      "text/plain": [
       "3.14159"
      ]
     },
     "execution_count": 3,
     "metadata": {},
     "output_type": "execute_result"
    }
   ],
   "source": [
    "parse(Float64, \"3.14159\")"
   ]
  },
  {
   "cell_type": "code",
   "execution_count": 4,
   "metadata": {},
   "outputs": [
    {
     "ename": "ArgumentError",
     "evalue": "ArgumentError: invalid base 10 digit 'O' in \"Olá\"",
     "output_type": "error",
     "traceback": [
      "ArgumentError: invalid base 10 digit 'O' in \"Olá\"",
      "",
      "Stacktrace:",
      " [1] tryparse_internal(::Type{Int64}, ::String, ::Int64, ::Int64, ::Int64, ::Bool) at ./parse.jl:131",
      " [2] #parse#348(::Nothing, ::Function, ::Type{Int64}, ::String) at ./parse.jl:238",
      " [3] parse(::Type{Int64}, ::String) at ./parse.jl:238",
      " [4] top-level scope at In[4]:1"
     ]
    }
   ],
   "source": [
    "parse(Int64, \"Olá\")"
   ]
  },
  {
   "cell_type": "markdown",
   "metadata": {},
   "source": [
    "No último caso não foi possível fazer a conversão, pois não é possível converter letras para inteiros. Nos dois primeiros casos, fizemos a conversão de uma string com números para inteiros e floats.\n",
    "\n",
    "A função `trunc` pode converter números de ponto flutuante para números inteiros, mas ao invés de arredondar o valor, ela remove sua parte decimal:"
   ]
  },
  {
   "cell_type": "code",
   "execution_count": 5,
   "metadata": {},
   "outputs": [
    {
     "data": {
      "text/plain": [
       "3"
      ]
     },
     "execution_count": 5,
     "metadata": {},
     "output_type": "execute_result"
    }
   ],
   "source": [
    "trunc(Int64, 3.99999)"
   ]
  },
  {
   "cell_type": "code",
   "execution_count": 6,
   "metadata": {},
   "outputs": [
    {
     "data": {
      "text/plain": [
       "-2"
      ]
     },
     "execution_count": 6,
     "metadata": {},
     "output_type": "execute_result"
    }
   ],
   "source": [
    "trunc(Int64, -2.3)"
   ]
  },
  {
   "cell_type": "markdown",
   "metadata": {},
   "source": [
    "A função `float` converte números inteiros para números de ponto flutuante:"
   ]
  },
  {
   "cell_type": "code",
   "execution_count": 7,
   "metadata": {},
   "outputs": [
    {
     "data": {
      "text/plain": [
       "32.0"
      ]
     },
     "execution_count": 7,
     "metadata": {},
     "output_type": "execute_result"
    }
   ],
   "source": [
    "float(32)"
   ]
  },
  {
   "cell_type": "markdown",
   "metadata": {},
   "source": [
    "Por fim, a função `string` converte seu argumento para string:"
   ]
  },
  {
   "cell_type": "code",
   "execution_count": 8,
   "metadata": {},
   "outputs": [
    {
     "data": {
      "text/plain": [
       "\"32\""
      ]
     },
     "execution_count": 8,
     "metadata": {},
     "output_type": "execute_result"
    }
   ],
   "source": [
    "string(32)"
   ]
  },
  {
   "cell_type": "code",
   "execution_count": 9,
   "metadata": {},
   "outputs": [
    {
     "data": {
      "text/plain": [
       "\"3.14159\""
      ]
     },
     "execution_count": 9,
     "metadata": {},
     "output_type": "execute_result"
    }
   ],
   "source": [
    "string(3.14159)"
   ]
  },
  {
   "cell_type": "markdown",
   "metadata": {},
   "source": [
    "## Funções Matemáticas\n",
    "\n",
    "A maioria das funções matemáticas conhecidas está disponível para utilização direta em Julia:\n",
    "\n",
    "O exemplo abaixo usa a função `log10` para calcular uma razão entre as intensidades de sinal e ruído em decibéis. A função `log`, que calcula logaritmos naturais, também está disponível."
   ]
  },
  {
   "cell_type": "code",
   "execution_count": 5,
   "metadata": {},
   "outputs": [
    {
     "data": {
      "text/plain": [
       "42.0"
      ]
     },
     "execution_count": 5,
     "metadata": {},
     "output_type": "execute_result"
    }
   ],
   "source": [
    "intensidade_sinal = 15.848931924611142\n",
    "intensidade_ruido = 0.001\n",
    "\n",
    "razão = intensidade_sinal / intensidade_ruido\n",
    "decibéis = 10 * log10(razão)"
   ]
  },
  {
   "cell_type": "markdown",
   "metadata": {},
   "source": [
    "O próximo exemplo calcula o seno de `radianos` . O nome da variável é uma dica, pois `sin` e as outras funções trigonométricas, como `cos` e `tan`, recebem argumentos em radianos. Para converter *graus* para *radianos* , divida por 180 e multiplique por $\\pi$, como mostrado nos exemplos seguintes:"
   ]
  },
  {
   "cell_type": "code",
   "execution_count": 6,
   "metadata": {},
   "outputs": [
    {
     "data": {
      "text/plain": [
       "0.644217687237691"
      ]
     },
     "execution_count": 6,
     "metadata": {},
     "output_type": "execute_result"
    }
   ],
   "source": [
    "radianos = 0.7\n",
    "altura = sin(radianos)"
   ]
  },
  {
   "cell_type": "code",
   "execution_count": 9,
   "metadata": {},
   "outputs": [
    {
     "data": {
      "text/plain": [
       "45"
      ]
     },
     "execution_count": 9,
     "metadata": {},
     "output_type": "execute_result"
    }
   ],
   "source": [
    "graus = 45"
   ]
  },
  {
   "cell_type": "code",
   "execution_count": 3,
   "metadata": {
    "scrolled": true
   },
   "outputs": [
    {
     "data": {
      "text/plain": [
       "0.7853981633974483"
      ]
     },
     "execution_count": 3,
     "metadata": {},
     "output_type": "execute_result"
    }
   ],
   "source": [
    "radianos = graus / 180 * π"
   ]
  },
  {
   "cell_type": "code",
   "execution_count": 7,
   "metadata": {},
   "outputs": [
    {
     "data": {
      "text/plain": [
       "0.644217687237691"
      ]
     },
     "execution_count": 7,
     "metadata": {},
     "output_type": "execute_result"
    }
   ],
   "source": [
    "sin(radianos)"
   ]
  },
  {
   "cell_type": "markdown",
   "metadata": {},
   "source": [
    "> *Aviso*: Note que a constante $\\pi$ pode ser usada sem definição prévia através dos símbolos $\\pi$, obtido digitando `\\pi` e apertando a tecla `TAB`, ou simplesmente digitando `pi`.\n",
    "\n",
    "o valor da variável $\\pi$ é uma aproximação em ponto flutuante para o número $\\pi$ com precisão de aproximadamente 16 dígitos. Você pode checar o resultado anterior comparando-o com $\\dfrac{\\sqrt{2}}{2}$:"
   ]
  },
  {
   "cell_type": "code",
   "execution_count": 15,
   "metadata": {},
   "outputs": [
    {
     "data": {
      "text/plain": [
       "0.7071067811865476"
      ]
     },
     "execution_count": 15,
     "metadata": {},
     "output_type": "execute_result"
    }
   ],
   "source": [
    "sqrt(2) / 2"
   ]
  },
  {
   "cell_type": "markdown",
   "metadata": {},
   "source": [
    "## Composição de Funções\n",
    "\n",
    "Até agora, consideramos separadamente os elementos de um programa, isto é, *variáveis*, *expressões* e *declarações*, sem discutir como combiná-los.\n",
    "Um dos recursos mais úteis em linguagens de programação é a possibilidade de combinar operações simples para construir operações mais complexas. Os argumentos passados a uma função podem ser expressões de qualquer tipo, incluindo operações aritméticas:"
   ]
  },
  {
   "cell_type": "code",
   "execution_count": 10,
   "metadata": {},
   "outputs": [
    {
     "data": {
      "text/plain": [
       "0.7071067811865475"
      ]
     },
     "execution_count": 10,
     "metadata": {},
     "output_type": "execute_result"
    }
   ],
   "source": [
    "x = sin(graus / 360 * 2 * π)"
   ]
  },
  {
   "cell_type": "markdown",
   "metadata": {},
   "source": [
    "Os argumentos passados a uma função também podem ser *chamadas a outras funções*:"
   ]
  },
  {
   "cell_type": "code",
   "execution_count": 11,
   "metadata": {},
   "outputs": [
    {
     "data": {
      "text/plain": [
       "1.7071067811865475"
      ]
     },
     "execution_count": 11,
     "metadata": {},
     "output_type": "execute_result"
    }
   ],
   "source": [
    "x = exp(log(x+1))"
   ]
  },
  {
   "cell_type": "markdown",
   "metadata": {},
   "source": [
    "Você pode usar expressões em quase todos os lugares onde pode usar valores, contanto que *o lado esquerdo de uma atribuição seja um nome de variável*. Qualquer outra expressão no lado esquerdo é considerada *erro de sintaxe*. Veremos exceções para essa regra mais tarde.\n",
    "\n",
    "Considere o exemplo abaixo:"
   ]
  },
  {
   "cell_type": "code",
   "execution_count": 14,
   "metadata": {},
   "outputs": [
    {
     "data": {
      "text/plain": [
       "3600"
      ]
     },
     "execution_count": 14,
     "metadata": {},
     "output_type": "execute_result"
    }
   ],
   "source": [
    "horas = 60 # 1 hora equivale a 60 minutos\n",
    "minutos = horas * 60 # certo"
   ]
  },
  {
   "cell_type": "code",
   "execution_count": 13,
   "metadata": {},
   "outputs": [
    {
     "ename": "ErrorException",
     "evalue": "syntax: \"60\" is not a valid function argument name",
     "output_type": "error",
     "traceback": [
      "syntax: \"60\" is not a valid function argument name",
      ""
     ]
    }
   ],
   "source": [
    "horas * 60 = minutos # errado!"
   ]
  },
  {
   "cell_type": "markdown",
   "metadata": {},
   "source": [
    "## Adicionando Novas Funções\n",
    "\n",
    "Até agora, usamos apenas funções já disponíveis na linguagem Julia, mas também podemos adicionar nossas próprias funções. Uma *definição de função* define o nome de uma nova função e a sequência de instruções que será executada quando a função for utilizada.\n",
    "\n",
    "Considere exemplo abaixo:"
   ]
  },
  {
   "cell_type": "code",
   "execution_count": 20,
   "metadata": {},
   "outputs": [
    {
     "data": {
      "text/plain": [
       "exibemusica (generic function with 1 method)"
      ]
     },
     "execution_count": 20,
     "metadata": {},
     "output_type": "execute_result"
    }
   ],
   "source": [
    "function exibemusica()\n",
    "    println(\"Sou um lenhador, e tá tudo maneiro.\")\n",
    "    println(\"Durmo a noite inteira, e trabalho o dia inteiro.\")\n",
    "end"
   ]
  },
  {
   "cell_type": "markdown",
   "metadata": {},
   "source": [
    "A palavra-chave `function` faz desse trecho de código uma definição de função. O nome da função nesse exemplo é `exibemusica`. As regras para nomes de função são as mesmas utilizadas para nomes de variáveis. Nomes de função podem conter quase todos os caracteres *Unicode*, mas *o primeiro caractere não pode ser um número*. Veja o capítulo Caracteres. Você não pode usar uma palavra-chave como nome de uma função, e você deve evitar dar nomes idênticos a variáveis e funções.\n",
    "\n",
    "Parênteses vazios depois de um nome indicam que a função não recebe argumentos.\n",
    "A primeira linha de uma definição de função é chamada de *cabeçalho*, e o resto da função é chamado de *corpo*.\n",
    "\n",
    "O corpo de uma função é marcado pela palavra-chave `end`, e pode conter qualquer quantidade de instruções. O corpo de uma função deve ser indentado para melhorar sua legibilidade.\n",
    "\n",
    "Deve-se utilizar \"aspas duplas\", geralmente localizadas perto da tecla de *número 1* no teclado. «Aspas angulares» não são permitidas em Julia.\n",
    "\n",
    "Se você definir uma função no modo interativo, o REPL a indentará automaticamente. Se você esquecer de terminar, ou *fechar*, uma definição de função com a palavra-chave `end`, verá um erro:"
   ]
  },
  {
   "cell_type": "code",
   "execution_count": 15,
   "metadata": {},
   "outputs": [
    {
     "ename": "LoadError",
     "evalue": "syntax: incomplete: \"function\" at none:1 requires end",
     "output_type": "error",
     "traceback": [
      "syntax: incomplete: \"function\" at none:1 requires end",
      ""
     ]
    }
   ],
   "source": [
    "function exibemusica()\n",
    "    println(\"Sou um lenhador, e tá tudo maneiro.\")"
   ]
  },
  {
   "cell_type": "markdown",
   "metadata": {},
   "source": [
    "Para encerrar uma função, você deve inserir a palavra-chave `end`. Completando a célula acima, temos:"
   ]
  },
  {
   "cell_type": "code",
   "execution_count": 19,
   "metadata": {},
   "outputs": [
    {
     "data": {
      "text/plain": [
       "exibemusica (generic function with 1 method)"
      ]
     },
     "execution_count": 19,
     "metadata": {},
     "output_type": "execute_result"
    }
   ],
   "source": [
    "function exibemusica()\n",
    "    println(\"Sou um lenhador, e tá tudo maneiro.\")\n",
    "    println(\"Durmo a noite inteira, e trabalho o dia inteiro\")\n",
    "end"
   ]
  },
  {
   "cell_type": "markdown",
   "metadata": {},
   "source": [
    "A sintaxe para chamar funções definidas pelo usuário é a mesma utilizada para chamar funções pré-definidas na linguagem:"
   ]
  },
  {
   "cell_type": "code",
   "execution_count": 20,
   "metadata": {},
   "outputs": [
    {
     "name": "stdout",
     "output_type": "stream",
     "text": [
      "Sou um lenhador, e tá tudo maneiro.\n",
      "Durmo a noite inteira, e trabalho o dia inteiro\n"
     ]
    }
   ],
   "source": [
    "exibemusica()"
   ]
  },
  {
   "cell_type": "markdown",
   "metadata": {},
   "source": [
    "Após definir uma função, você pode usá-la dentro de outras funções. Por exemplo, para repetir o primeiro refrão nós podemos escrever a função `repetemusica` :"
   ]
  },
  {
   "cell_type": "code",
   "execution_count": 22,
   "metadata": {},
   "outputs": [
    {
     "data": {
      "text/plain": [
       "repetemusica (generic function with 1 method)"
      ]
     },
     "execution_count": 22,
     "metadata": {},
     "output_type": "execute_result"
    }
   ],
   "source": [
    "function repetemusica()\n",
    "    exibemusica()\n",
    "    exibemusica()\n",
    "end"
   ]
  },
  {
   "cell_type": "markdown",
   "metadata": {},
   "source": [
    "E depois chamar `repetemusica`:"
   ]
  },
  {
   "cell_type": "code",
   "execution_count": 23,
   "metadata": {},
   "outputs": [
    {
     "name": "stdout",
     "output_type": "stream",
     "text": [
      "Sou um lenhador, e tá tudo maneiro.\n",
      "Durmo a noite inteira, e trabalho o dia inteiro\n",
      "Sou um lenhador, e tá tudo maneiro.\n",
      "Durmo a noite inteira, e trabalho o dia inteiro\n"
     ]
    }
   ],
   "source": [
    "repetemusica()"
   ]
  },
  {
   "cell_type": "markdown",
   "metadata": {},
   "source": [
    "No entanto, não é exatamente assim que a música toca."
   ]
  },
  {
   "cell_type": "markdown",
   "metadata": {},
   "source": [
    "## Definições e Utilizações\n",
    "\n",
    "Combinando os fragmentos de código das seções anteriores, o programa inteiro fica da seguinte maneira:"
   ]
  },
  {
   "cell_type": "code",
   "execution_count": 24,
   "metadata": {},
   "outputs": [
    {
     "name": "stdout",
     "output_type": "stream",
     "text": [
      "Sou um lenhador, e tá tudo maneiro.\n",
      "Durmo a noite inteira, e trabalho o dia inteiro.\n",
      "Sou um lenhador, e tá tudo maneiro.\n",
      "Durmo a noite inteira, e trabalho o dia inteiro.\n"
     ]
    }
   ],
   "source": [
    "function exibemusica()\n",
    "    println(\"Sou um lenhador, e tá tudo maneiro.\")\n",
    "    println(\"Durmo a noite inteira, e trabalho o dia inteiro.\")\n",
    "end\n",
    "\n",
    "function repetemusica()\n",
    "    exibemusica()\n",
    "    exibemusica()\n",
    "end\n",
    "\n",
    "repetemusica()"
   ]
  },
  {
   "cell_type": "markdown",
   "metadata": {},
   "source": [
    "Esse programa contém duas definições de funções: `exibemusica` e `repetemusica` . As definições de funções são executadas da mesma forma que outras instruções, mas o efeito é criar funções. As instruções dentro das funções não são executadas enquanto a função não é chamada, e a definição de função não gera saídas.\n",
    "\n",
    "Como você deve estar pensando, você precisa criar uma função antes de usá-la. Em outras palavras, uma definição de função tem que ser executada antes da própria função ser chamada.\n",
    "\n",
    "### Exercício 3-1\n",
    "\n",
    "a) Mova a última linha do seguinte programa para o início, então a chamada da função aparecerá antes das definições. Execute o programa e veja a mensagem de erro que aparecerá.\n",
    "\n",
    "b) Agora, mova a chamada de função de volta para o final do programa e mova a definição de `exibemusica` para depois da definição de `repetemusica` . O que acontece quando voce roda esse programa?\n",
    "\n",
    "## Fluxo de Execução\n",
    "\n",
    "Para garantir que uma função é definida antes de sua primeira utilização, você tem que conhecer a ordem em que as instruções são executadas, o que é chamado de *fluxo de execução*.\n",
    "\n",
    "As execuções sempre começam na primeira instrução de um programa. As instruções são executadas uma por vez, na ordem do topo ao final.\n",
    "\n",
    "> *Dica*: Conhecido como *paralelismo*, é a forma conhecida para se executar mais de uma instrução por vez.\n",
    "\n",
    "As definições de função não alteram o fluxo de execução de um programa, mas lembre-se que as instruções dentro de uma função não são executadas antes de sua chamada.\n",
    "\n",
    "Uma chamada de função pode ser entendida como um desvio no fluxo de execução. Ao invés de ir para a próxima instrução, o fluxo é direcionado para o corpo da função chamada, executa suas instruções, e então volta ao ponto onde o fluxo havia sido interrompido.\n",
    "\n",
    "Isso parace simples, antes que você se lembre de que uma função pode chamar outra. Assim, no meio de uma função, o programa poderá executar as instruções de outra. Então, enquanto executa uma função, o programa poderá executar ainda outra função!\n",
    "\n",
    "Por sorte, Julia é boa para acompanhar esse fluxo, então cada vez que uma função é encerrada, o programa mostra onde ocorreu o encerramente dentro de sua chamada. Quando o programa chega ao fim, ele é encerrado.\n",
    "\n",
    "Em resumo, quando você lê um programa, nem sempre a melhor opção é ler do topo ao fim. As vezes, faz mais sentido você acompanhar o fluxo de execução.\n",
    "\n",
    "## Parâmetros e Argumentos\n",
    "\n",
    "Algumas das funções que temos visto requerem *argumentos*. Por exemplo, quando você chama `sin` você passa um número como argumento. Algumas funções recebem mais que um argumento, como por exemplo: `parse` recebe dois argumentos, um do tipo número e outro do tipo string.\n",
    "\n",
    "Dentro de uma função, os argumentos são atribuídos a variáveis chamadas *parâmetros*. Aqui temos um exemplo de definição para uma função que recebe um *argumento*:"
   ]
  },
  {
   "cell_type": "code",
   "execution_count": 17,
   "metadata": {},
   "outputs": [
    {
     "data": {
      "text/plain": [
       "exibeduasvezes (generic function with 1 method)"
      ]
     },
     "execution_count": 17,
     "metadata": {},
     "output_type": "execute_result"
    }
   ],
   "source": [
    "function exibeduasvezes(bruce)\n",
    "    println(bruce)\n",
    "    println(bruce)\n",
    "end"
   ]
  },
  {
   "cell_type": "markdown",
   "metadata": {},
   "source": [
    "Essa função atribui o *argumento* para um *parâmetro* chamado `bruce`. Quando uma função é chamada, ela exibe o valor do parâmetro (não importa o que seja) duas vezes.\n",
    "\n",
    "Essa função utiliza qualquer valor que pode ser exibido."
   ]
  },
  {
   "cell_type": "code",
   "execution_count": 18,
   "metadata": {},
   "outputs": [
    {
     "name": "stdout",
     "output_type": "stream",
     "text": [
      "Spam\n",
      "Spam\n"
     ]
    }
   ],
   "source": [
    "exibeduasvezes(\"Spam\")"
   ]
  },
  {
   "cell_type": "code",
   "execution_count": 28,
   "metadata": {},
   "outputs": [
    {
     "name": "stdout",
     "output_type": "stream",
     "text": [
      "42\n",
      "42\n"
     ]
    }
   ],
   "source": [
    "exibeduasvezes(42)"
   ]
  },
  {
   "cell_type": "code",
   "execution_count": 29,
   "metadata": {},
   "outputs": [
    {
     "name": "stdout",
     "output_type": "stream",
     "text": [
      "π = 3.1415926535897...\n",
      "π = 3.1415926535897...\n"
     ]
    }
   ],
   "source": [
    "exibeduasvezes(π)"
   ]
  },
  {
   "cell_type": "markdown",
   "metadata": {},
   "source": [
    "As mesmas regras de composição que se aplicam à funções nativas também se aplicam à funções criadas pelo programador, então nós podemos utilizar qualquer tipo de expressão como argumento para `exibeduasvezes`:"
   ]
  },
  {
   "cell_type": "code",
   "execution_count": 30,
   "metadata": {},
   "outputs": [
    {
     "name": "stdout",
     "output_type": "stream",
     "text": [
      "Spam Spam Spam Spam \n",
      "Spam Spam Spam Spam \n"
     ]
    }
   ],
   "source": [
    "exibeduasvezes(\"Spam \"^4)"
   ]
  },
  {
   "cell_type": "code",
   "execution_count": 31,
   "metadata": {},
   "outputs": [
    {
     "name": "stdout",
     "output_type": "stream",
     "text": [
      "-1.0\n",
      "-1.0\n"
     ]
    }
   ],
   "source": [
    "exibeduasvezes(cos(π))"
   ]
  },
  {
   "cell_type": "markdown",
   "metadata": {},
   "source": [
    "Os argumentos são calculados antes da chamada de função, então o exemplo de expressões como `\"Spam \"^4` e `cos($\\pi$)` são calculadas apenas uma vez.\n",
    "\n",
    "Você também pode usar uma variável como argumento:"
   ]
  },
  {
   "cell_type": "code",
   "execution_count": 32,
   "metadata": {},
   "outputs": [
    {
     "data": {
      "text/plain": [
       "\"Eric, a metade de uma abelha.\""
      ]
     },
     "execution_count": 32,
     "metadata": {},
     "output_type": "execute_result"
    }
   ],
   "source": [
    "michael = \"Eric, a metade de uma abelha.\""
   ]
  },
  {
   "cell_type": "code",
   "execution_count": 33,
   "metadata": {},
   "outputs": [
    {
     "name": "stdout",
     "output_type": "stream",
     "text": [
      "Eric, a metade de uma abelha.\n",
      "Eric, a metade de uma abelha.\n"
     ]
    }
   ],
   "source": [
    "exibeduasvezes(michael)"
   ]
  },
  {
   "cell_type": "markdown",
   "metadata": {},
   "source": [
    "O nome da variável que nós passamos como argumento (`michael`) não tem relação com o nome do parâmetro (`bruce`). Então não importa como o valor é chamado anteriormente (em relação à chamada de função). Aqui na função `exibeduasvezes`, nós chamamos todas as variáveis de  `bruce`.\n",
    "\n",
    "## Variáveis e Parâmetros São Locais\n",
    "\n",
    "Quando você cria uma variável dentro de uma função, ela é *local*, o que significa que ela existe apenas dentro daquela função. Por exemplo:"
   ]
  },
  {
   "cell_type": "code",
   "execution_count": 19,
   "metadata": {},
   "outputs": [
    {
     "data": {
      "text/plain": [
       "concatenaexibe (generic function with 1 method)"
      ]
     },
     "execution_count": 19,
     "metadata": {},
     "output_type": "execute_result"
    }
   ],
   "source": [
    "function concatenaexibe(parte1, parte2)\n",
    "    concat = parte1 * parte2\n",
    "    exibeduasvezes(concat)\n",
    "end"
   ]
  },
  {
   "cell_type": "markdown",
   "metadata": {},
   "source": [
    "Essa função recebe dois argumentos, os concatena e exibe o resultado duas vezes. Aqui temos um exemplo de sua utilização:"
   ]
  },
  {
   "cell_type": "code",
   "execution_count": 12,
   "metadata": {},
   "outputs": [
    {
     "data": {
      "text/plain": [
       "\"Bing tiddle \""
      ]
     },
     "execution_count": 12,
     "metadata": {},
     "output_type": "execute_result"
    }
   ],
   "source": [
    "linha1 = \"Bing tiddle \""
   ]
  },
  {
   "cell_type": "code",
   "execution_count": 14,
   "metadata": {},
   "outputs": [
    {
     "data": {
      "text/plain": [
       "\"tiddle bang.\""
      ]
     },
     "execution_count": 14,
     "metadata": {},
     "output_type": "execute_result"
    }
   ],
   "source": [
    "linha2 = \"tiddle bang.\""
   ]
  },
  {
   "cell_type": "code",
   "execution_count": 20,
   "metadata": {},
   "outputs": [
    {
     "name": "stdout",
     "output_type": "stream",
     "text": [
      "Bing tiddle tiddle bang.\n",
      "Bing tiddle tiddle bang.\n"
     ]
    }
   ],
   "source": [
    "concatenaexibe(linha1, linha2)"
   ]
  },
  {
   "cell_type": "markdown",
   "metadata": {},
   "source": [
    "Quando `concatenaexibe` é encerrada, a variável `concat` é destruída. Se nós tentarmos exibí-la, receberemos o seguinte erro:"
   ]
  },
  {
   "cell_type": "code",
   "execution_count": 21,
   "metadata": {},
   "outputs": [
    {
     "ename": "UndefVarError",
     "evalue": "UndefVarError: concat not defined",
     "output_type": "error",
     "traceback": [
      "UndefVarError: concat not defined",
      "",
      "Stacktrace:",
      " [1] top-level scope at In[21]:1"
     ]
    }
   ],
   "source": [
    "println(concat)"
   ]
  },
  {
   "cell_type": "markdown",
   "metadata": {},
   "source": [
    "Os parâmetros também são locais. Por exemplo, fora de `exibeduasvezes`, não existe nada chamado `bruce`.\n",
    "\n",
    "## Diagramas de Pilha\n",
    "\n",
    "Para acompanhar e saber onde cada variável pode ser usada, as vezes é útil desenhar um *diagrama de pilha*. Como um diagrama de estados, um diagrama de pilha mostra os valores de cada variável e as funções as quais cada variável pertence.\n",
    "\n",
    "Cada função é representada como um *quadro*. Um quadro é uma caixa com o nome da função, ao lado, e seus parâmetros e variáveis dentro. Veja alguns exemplos:\n",
    "\n",
    "![diagrama de pilha](../docs/img/cap3-fig2-stack.png)\n",
    "*Figura 2. Diagrama de pilha*\n",
    "\n",
    "Os quadros são organizados em uma pilha que indica o que cada função chama. Nesse exemplo, `exibeduasvezes` foi chamada por `concatenaexibe`, e `concatenaexibe` foi chamada pela `Main`, que é um nome especial para o quadro que fica no topo. Quando você cria uma variável fora de qualquer função, ela pertence a função `Main`.\n",
    "\n",
    "Cada parâmetro se refere ao mesmo valor que seu argumento correspondente. Então, `parte1` tem o mesmo valor que `linha1`, `parte2` tem o mesmo valor que `linha2`, e `bruce` tem o mesmo valor que `concat` .\n",
    "\n",
    "Se ocorrer algum erro durante uma chamada de função, Julia exibe o nome da função onde houve o erro, o nome da função que a chamou, e assim por diante, até que chegue à função `Main` .\n",
    "\n",
    "Por exemplo, se você tentar acessar a variável `concat` de dentro da função `exibeduasvezes`, você verá a seguinte mensagem de erro:\n",
    "\n",
    "ERROR: UndefVarError: concat not defined        \n",
    "Stacktrace:                                     \n",
    " [1] exibeduasvezes at ./REPL[1]:2 [inlined]         \n",
    " [2] concatenaexibe(::String, ::String) at ./REPL[2]:3\n",
    "\n",
    "Essa lista de funções é chamada de *stacktrace*. Ela te mostra em qual arquivo do programa o erro ocorreu, assim como a linha e quais funções estavam sendo executadas no momento do erro.\n",
    "\n",
    "A ordem das funções na stacktrace é inversa à oderm dos quadros no diagrama de pilhas. A função que estava sendo executada no momento do erro é a que está no topo.\n",
    "\n",
    "## Funções com Resultado e Funções Nulas\n",
    "\n",
    "Algumas das funções que nós temos usado, tais como as funções matemáticas, retornam resultados (valores). Por falta de um nome melhor, eu as chamo de *Funções Frutíferas*. Outras funções como `exibeduasvezes` que não devolvem resultados, elas são chamadas de *Funções nulas* .\n",
    "\n",
    "Quanto você chama uma função frutífera, você quase sempre quer utilizar o resultado para alguma coisa. Por exemplo, você pode salvar esse valor em uma variável e usá-lo como parte de uma expressão matemática:\n",
    "\n",
    "## Funções Frutíferas e Funções Nulas\n",
    "\n",
    "Algumas das funções que nós temos usado, tais como as funções matemáticas, retornam resultados (valores). Por falta de um nome melhor, eu as chamo de *Funções Frutíferas*. Outras funções como `exibeduasvezes` que não devolvem resultados, elas são chamadas de *Funções nulas* .\n",
    "\n",
    "Quanto você chama uma função frutífera, você quase sempre quer utilizar o resultado para alguma coisa. Por exemplo, você pode salvar esse valor em uma variável e usá-lo como parte de uma expressão matemática:"
   ]
  },
  {
   "cell_type": "code",
   "execution_count": 39,
   "metadata": {},
   "outputs": [
    {
     "data": {
      "text/plain": [
       "1.618033988749895"
      ]
     },
     "execution_count": 39,
     "metadata": {},
     "output_type": "execute_result"
    }
   ],
   "source": [
    "x = cos(radians)\n",
    "golden = (sqrt(5) + 1) / 2"
   ]
  },
  {
   "cell_type": "markdown",
   "metadata": {},
   "source": [
    "Quando você chama uma função no modo interativo, Julia mostra o resultado:"
   ]
  },
  {
   "cell_type": "code",
   "execution_count": 40,
   "metadata": {},
   "outputs": [
    {
     "data": {
      "text/plain": [
       "2.23606797749979"
      ]
     },
     "execution_count": 40,
     "metadata": {},
     "output_type": "execute_result"
    }
   ],
   "source": [
    "sqrt(5)"
   ]
  },
  {
   "cell_type": "markdown",
   "metadata": {},
   "source": [
    "Esse script calcula a raiz quadrada de 5, mas, como nós não salvamos ou imprimimos o resultado, esse script não é muito útil.\n",
    "\n",
    "Funções nulas podem imprimir algum resultado na tela ou ter algum outro efeito, mas elas não possuem valor de retorno. Se você salva seu resultado em uma variável, você verá um valor especial chamado `nothing`\n",
    "\n",
    "Mas em um script, se você chama uma função frutífera sem salvar seu valor de retorno, o valor será perdido para sempre!\n",
    "\n",
    "`sqrt(5)`\n",
    "\n",
    "Output:\n",
    "\n",
    "`2.23606797749979`\n",
    "\n",
    "Mas em um script, se você chama uma função frutífera sem salvar seu valor de retorno, o valor será perdido para sempre!\n",
    "\n",
    "`sqrt(5)`\n",
    "\n",
    "Output:\n",
    "\n",
    "`2.23606797749979`"
   ]
  },
  {
   "cell_type": "code",
   "execution_count": 41,
   "metadata": {},
   "outputs": [
    {
     "name": "stdout",
     "output_type": "stream",
     "text": [
      "Bing\n",
      "Bing\n"
     ]
    }
   ],
   "source": [
    "result = exibeduasvezes(\"Bing\")"
   ]
  },
  {
   "cell_type": "code",
   "execution_count": 42,
   "metadata": {},
   "outputs": [
    {
     "name": "stdout",
     "output_type": "stream",
     "text": [
      "nothing"
     ]
    }
   ],
   "source": [
    "show(result)"
   ]
  },
  {
   "cell_type": "markdown",
   "metadata": {},
   "source": [
    "Para imprimir o valor `nothing`, você tem que usar a função `show` que funciona como a função `print` mas pode exibir o valor `nothing`.\n",
    "\n",
    "O valor `nothing` não é o mesmo que a string `\"nothing\"`. Esse é um valor especial, com seu próprio tipo:"
   ]
  },
  {
   "cell_type": "code",
   "execution_count": 43,
   "metadata": {},
   "outputs": [
    {
     "data": {
      "text/plain": [
       "Nothing"
      ]
     },
     "execution_count": 43,
     "metadata": {},
     "output_type": "execute_result"
    }
   ],
   "source": [
    "typeof(nothing)"
   ]
  },
  {
   "cell_type": "code",
   "execution_count": 44,
   "metadata": {},
   "outputs": [
    {
     "data": {
      "text/plain": [
       "String"
      ]
     },
     "execution_count": 44,
     "metadata": {},
     "output_type": "execute_result"
    }
   ],
   "source": [
    "typeof(\"nothing\")"
   ]
  },
  {
   "cell_type": "markdown",
   "metadata": {},
   "source": [
    "As funções que nós temos escrito até agora são todas nulas. Nós começaremos a escrever funções frutíferas em alguns capítulos."
   ]
  },
  {
   "cell_type": "markdown",
   "metadata": {},
   "source": [
    "## Por que Funções?"
   ]
  },
  {
   "cell_type": "markdown",
   "metadata": {},
   "source": [
    "Pode não estar claro o porque do trabalho de dividir um programa em funções. Aqui temos alguns motivos:\n",
    "\n",
    "- Criar novas funções te permite nomear um grupo de instruções, o que torna seu programa mais fácil de ser lido e depurado.\n",
    "- As funções podem deixar seu programa menor, eliminando trechos repetitivos de código. Mais tarde, se você fizer alguma modificação no código, você só precisará fazer tal alteração em apenas um local.\n",
    "- Dividir um programa longo em funções te permite depurá-lo um pedaço por vez, e depois montá-los novamente.\n",
    "- Funções bem estruturadas geralmente são utilizadas por vários programas. Uma vez que você a escreveu e depurou, você pode reutilizá-la.\n",
    "- Em Julia, funções podem otimizar muito a performance de um programa."
   ]
  },
  {
   "cell_type": "markdown",
   "metadata": {},
   "source": [
    "## Depurando"
   ]
  },
  {
   "cell_type": "markdown",
   "metadata": {},
   "source": [
    "Uma das habilidades mais importantes que você irá adiquirir é *depurar*. Embora possa ser frustante, depurar é uma das partes mais intelectualmente ricas, desafiadoras, e interessantes da programação.\n",
    "\n",
    "De certa forma, depurar é como o trabalho de um detetive. Você possui pistas e tem que inferir quais processos e eventos estão levando aos resultados que você recebe.\n",
    "\n",
    "Depurar também é como uma ciência experimental. Uma vez que você tem alguma ideia do porque as coisas estão dando errado, você modifica o seu programa e tenta novamente. Se suas hipóteses estavam corretas, você pode prever o resultado de suas modificações, e então chegar um passo mais perto de ter seu programa funcionando. Se suas hipóteses estavam erradas, você tem que formular uma nova. \n",
    "\n",
    "Como Sherlock Holmes salientou: \"*Quando você eliminar o impossível, o que restar, mesmo que improvável, deve ser a verdade.*\" - A. Conan Doyle, The Sign of Four.\n",
    "\n",
    "Para algumas pessoas, programação e depuração é a mesma coisa. Ou seja, programar é o processo gradual de depurar um programa até que ele faça o que você quer. A ideia é que você comece com um programa funcional e faça pequenas modificações, depurando-as conforme avançar.\n",
    "\n",
    "Por exemplo, o Linux é um sistema operacional que contém milhões de linhas de código, mas ele foi iniciado como um programa simples que Linus Torvalds utilizava para explorar o microprocessador Intel 80386. De acordo com Larry Greenfield, \"*Um dos primeiros projetos do Linus era um programa que alternava entre exibir \"AAAA\" e \"BBBB\". Mais tarde, isso evoluiu para o Linux.*\" (*The Linux User's Guide* Beta Version 1)."
   ]
  },
  {
   "cell_type": "markdown",
   "metadata": {},
   "source": [
    "## Glossário"
   ]
  },
  {
   "cell_type": "markdown",
   "metadata": {},
   "source": [
    "**função**\n",
    "\n",
    "Uma sequência (nomeada) de instruções que calculam alguma operação útil. As funções podem ou não receber argumentos e podem ou não retornar resultados.\n",
    "\n",
    "**definição de função**\n",
    "\n",
    "Uma instrução que cria novas funções, especificando seu nome, parâmentros, e as intruções que ela contém.\n",
    "\n",
    "**objeto de função**\n",
    "\n",
    "O valor criado por uma definição de função. O nome de uma função é uma variável que se refere a um objeto de função.\n",
    "\n",
    "**cabeçalho**\n",
    "\n",
    "A primeira linha de uma definição de função.\n",
    "\n",
    "**corpo**\n",
    "\n",
    "A sequência de instruções dentro de uma definição de função.\n",
    "\n",
    "**parâmetro**\n",
    "\n",
    "Um nome usado dentro de uma função que se refere aos valores passados como argumento.\n",
    "\n",
    "**chamada de função**\n",
    "\n",
    "A instrução que executa uma função. Consiste no nome da função seguido de uma lista de parâmetros entre parênteses.\n",
    "\n",
    "**argumento**\n",
    "\n",
    "Um valor passado para uma função no momento de sua chamada. Esse valor é atribuído a um parâmetro correspondente dentro da função.\n",
    "\n",
    "**variável local**\n",
    "\n",
    "Uma variável definida dentro de uma função. Uma variável local pode ser usada apenas dentro de sua função.\n",
    "\n",
    "**função frutífera**\n",
    "\n",
    "Uma função que retorna (ou devolve) um resultado.\n",
    "\n",
    "**função nula**\n",
    "\n",
    "Uma função que sempre retorna `nothing`\n",
    "\n",
    "`nothing`\n",
    "\n",
    "Um valor especial retornado por funções nulas.\n",
    "\n",
    "**composição**\n",
    "\n",
    "O uso de uma expressão como parte de uma outra maior, ou uma instrução compondo uma instrução maior.\n",
    "\n",
    "**fluxo de execução**\n",
    "\n",
    "A ordem de intruções executadas.\n",
    "\n",
    "**diagrama de pilha**\n",
    "\n",
    "Uma representação gráfica de uma pilha de funções, suas variáveis, e os valores aos quais se referem.\n",
    "\n",
    "**quadro**\n",
    "\n",
    "Uma caixa em um diagrama de pilha representando uma chamada de função. Ela contém as variáveis locais e os parâmetros de uma função.\n",
    "\n",
    "**stacktrace**\n",
    "\n",
    "Uma lista de funções que estão sendo executadas, exibidas quando um erro ocorre."
   ]
  },
  {
   "cell_type": "markdown",
   "metadata": {},
   "source": [
    "## Exercícios"
   ]
  },
  {
   "cell_type": "markdown",
   "metadata": {},
   "source": [
    "> *Dica*: \n",
    "> Esses exercícios devem ser feitos utilizando apenas as instruções e os outros recursos que temos aprendido até agora."
   ]
  },
  {
   "cell_type": "markdown",
   "metadata": {},
   "source": [
    "### Exercício 3-2\n",
    "\n",
    "Escreva uma função chamada `jutificadireita` que recebe uma string chamada `s` como parâmetro e exibe a string com espaços suficientes para que a última letra da string esteja na coluna 70 da tela. Por exemplo:\n",
    "\n",
    "`justificadireita(\"monty\")`\n",
    "`monty`\n",
    "\n",
    "> *Dica*: Use concatenação e repetição de strings. Além disso, Julia oferece uma função nativa chamada `lenght` que retorna o tamanho de uma string, então o valor de `lenght(\"monty\")` é 5."
   ]
  },
  {
   "cell_type": "markdown",
   "metadata": {},
   "source": [
    "### Exercício 3-3\n",
    "\n",
    "Um objeto de função é um valor que pode ser atribuído à uma variável ou passado como um argumento. Por exemplo, `facaduasvezes` é uma função que recebe um objeto de função como um argumento e o chama duas vezes:"
   ]
  },
  {
   "cell_type": "code",
   "execution_count": 1,
   "metadata": {},
   "outputs": [
    {
     "data": {
      "text/plain": [
       "facaduasvezes (generic function with 1 method)"
      ]
     },
     "execution_count": 1,
     "metadata": {},
     "output_type": "execute_result"
    }
   ],
   "source": [
    "function facaduasvezes(f)\n",
    "    f()\n",
    "    f()\n",
    "end"
   ]
  },
  {
   "cell_type": "markdown",
   "metadata": {},
   "source": [
    "Aqui temos um exemplo em que `facaduasvezes` chama a função `imprimespam` duas vezes:"
   ]
  },
  {
   "cell_type": "code",
   "execution_count": 2,
   "metadata": {},
   "outputs": [
    {
     "name": "stdout",
     "output_type": "stream",
     "text": [
      "spam\n",
      "spam\n"
     ]
    }
   ],
   "source": [
    "function imprimespam()\n",
    "    println(\"spam\")\n",
    "end\n",
    "\n",
    "facaduasvezes(imprimespam)"
   ]
  },
  {
   "cell_type": "markdown",
   "metadata": {},
   "source": [
    "1. Use esse exemplo em um script e teste-o.\n",
    "2. Modifique a função `facaduasvezes` para que ela receba dois argumentos, um objeto de função, um valor, e chame essa função duas vezes, passando o valor como um argumento.\n",
    "3. Copie a definição da função `exibeduasvezes`, que vimos mais cedo nesse capítulo, para seu script.\n",
    "4. Use a versão modificada de `facaduasvezes` para chamar a função `exibeduasvezes` duas vezes, passando `\"spam\"` como um argumento.\n",
    "5. Crie uma nova função chamada `facaquatrovezes` que recebe um objeto de função, um valor e chame a função quatro vezes, passando o valor como um parâmetro. Devem haver apenas duas intruções no corpo dessa função, não quatro."
   ]
  },
  {
   "cell_type": "markdown",
   "metadata": {},
   "source": [
    "### Exercício 3-4\n",
    "\n",
    "1. Escreva a função `imprimegrade` que desenhe uma grade como o exemplo a seguir:\n",
    "\n",
    "`imprimegrade()`\n",
    "![grid](../docs/img/cap3-exec3.png)\n",
    "\n",
    "2. Escreva uma função que desenhe uma grade similar om quatro linhas e quatro colunhas.\n"
   ]
  },
  {
   "cell_type": "markdown",
   "metadata": {},
   "source": [
    "Créditos: Esses exercícios são baseados no livro Oualline, Practical C Programming, Third Edition, O’Reilly Media, 1997."
   ]
  },
  {
   "cell_type": "markdown",
   "metadata": {},
   "source": [
    "> *Dica*: Para imprimir mais de um valor em uma linha, você pode imprimir uma vírgula como separador de uma sequência de valores: `println(\"+\", \"-\")`. A função `print` não avança para a próxima linha, por exemplo: `print(\"+ \") println(\"-\")` exibirá a saída `\"+ -\"`, na mesma linha. A saída da próxima instrução de print começará na próxima linha, pois a última instrução foi `println` ao invés de `print`.\n",
    "\n"
   ]
  }
 ],
 "metadata": {
  "kernelspec": {
   "display_name": "Julia 1.1.1",
   "language": "julia",
   "name": "julia-1.1"
  },
  "language_info": {
   "file_extension": ".jl",
   "mimetype": "application/julia",
   "name": "julia",
   "version": "1.1.1"
  }
 },
 "nbformat": 4,
 "nbformat_minor": 2
}
