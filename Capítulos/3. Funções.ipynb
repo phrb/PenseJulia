{
 "cells": [
  {
   "cell_type": "markdown",
   "metadata": {},
   "source": [
    "# 3. Funções"
   ]
  },
  {
   "cell_type": "markdown",
   "metadata": {},
   "source": [
    "No contexto de programação, é conhecido como *função* uma sequência de declarações que executam operações de computação. Quando você define uma função, você especifica o nome e a sequência de declarações. Depois, você poderá *chamar* ou utilizar essa função pelo nome especificado."
   ]
  },
  {
   "cell_type": "markdown",
   "metadata": {},
   "source": [
    "## Chamada de Funções"
   ]
  },
  {
   "cell_type": "markdown",
   "metadata": {},
   "source": [
    "Nós já vimos um exemplo de chamada de função:"
   ]
  },
  {
   "cell_type": "code",
   "execution_count": 2,
   "metadata": {},
   "outputs": [
    {
     "name": "stdout",
     "output_type": "stream",
     "text": [
      "Olá, Mundo!\n"
     ]
    }
   ],
   "source": [
    "println(\"Olá, Mundo!\")"
   ]
  },
  {
   "cell_type": "markdown",
   "metadata": {},
   "source": [
    "O nome dessa função é `println` . A expressão em parênteses é chamada de *argumento* de função.\n",
    "É comum dizer que uma função *recebe* um argumento e *devolve* um resultado. O resultado é chamado de *Valor de retorno*.\n",
    "Julia fornece funções quem convertem valores de um tipo para outro. A função `parse` recebe uma string e a converte em um número, se possível, ou exibe uma mensagem de erro caso contrário."
   ]
  },
  {
   "cell_type": "code",
   "execution_count": 3,
   "metadata": {},
   "outputs": [
    {
     "data": {
      "text/plain": [
       "32"
      ]
     },
     "execution_count": 3,
     "metadata": {},
     "output_type": "execute_result"
    }
   ],
   "source": [
    "parse(Int64, \"32\")"
   ]
  },
  {
   "cell_type": "code",
   "execution_count": 4,
   "metadata": {},
   "outputs": [
    {
     "data": {
      "text/plain": [
       "3.14159"
      ]
     },
     "execution_count": 4,
     "metadata": {},
     "output_type": "execute_result"
    }
   ],
   "source": [
    "parse(Float64, \"3.14159\")"
   ]
  },
  {
   "cell_type": "code",
   "execution_count": 5,
   "metadata": {},
   "outputs": [
    {
     "ename": "ArgumentError",
     "evalue": "ArgumentError: invalid base 10 digit 'O' in \"Olá\"",
     "output_type": "error",
     "traceback": [
      "ArgumentError: invalid base 10 digit 'O' in \"Olá\"",
      "",
      "Stacktrace:",
      " [1] tryparse_internal(::Type{Int64}, ::String, ::Int64, ::Int64, ::Int64, ::Bool) at ./parse.jl:131",
      " [2] #parse#348(::Nothing, ::Function, ::Type{Int64}, ::String) at ./parse.jl:238",
      " [3] parse(::Type{Int64}, ::String) at ./parse.jl:238",
      " [4] top-level scope at In[5]:1"
     ]
    }
   ],
   "source": [
    "parse(Int64, \"Olá\")"
   ]
  },
  {
   "cell_type": "markdown",
   "metadata": {},
   "source": [
    "No último caso, não foi possível fazer a conversão, pois não é possível converter letras em número. Nos dois primeiros casos, fizemos a conversão de uma string de números em números."
   ]
  },
  {
   "cell_type": "markdown",
   "metadata": {},
   "source": [
    "A função `trunc` pode converter números em formato float para números em formato int, mas essa função não faz arredondamentos, ela remova a pate decimal do valor:"
   ]
  },
  {
   "cell_type": "code",
   "execution_count": 6,
   "metadata": {},
   "outputs": [
    {
     "data": {
      "text/plain": [
       "3"
      ]
     },
     "execution_count": 6,
     "metadata": {},
     "output_type": "execute_result"
    }
   ],
   "source": [
    "trunc(Int64, 3.99999)"
   ]
  },
  {
   "cell_type": "code",
   "execution_count": 7,
   "metadata": {},
   "outputs": [
    {
     "data": {
      "text/plain": [
       "-2"
      ]
     },
     "execution_count": 7,
     "metadata": {},
     "output_type": "execute_result"
    }
   ],
   "source": [
    "trunc(Int64, -2.3)"
   ]
  },
  {
   "cell_type": "markdown",
   "metadata": {},
   "source": [
    "A função `float` converte números em formato int em formato float:"
   ]
  },
  {
   "cell_type": "code",
   "execution_count": 8,
   "metadata": {},
   "outputs": [
    {
     "data": {
      "text/plain": [
       "32.0"
      ]
     },
     "execution_count": 8,
     "metadata": {},
     "output_type": "execute_result"
    }
   ],
   "source": [
    "float(32)"
   ]
  },
  {
   "cell_type": "markdown",
   "metadata": {},
   "source": [
    "Por fim, a função `string` converte o argumento recebido em uma string:"
   ]
  },
  {
   "cell_type": "code",
   "execution_count": 9,
   "metadata": {},
   "outputs": [
    {
     "data": {
      "text/plain": [
       "\"32\""
      ]
     },
     "execution_count": 9,
     "metadata": {},
     "output_type": "execute_result"
    }
   ],
   "source": [
    "string(32)"
   ]
  },
  {
   "cell_type": "code",
   "execution_count": 10,
   "metadata": {},
   "outputs": [
    {
     "data": {
      "text/plain": [
       "\"3.14159\""
      ]
     },
     "execution_count": 10,
     "metadata": {},
     "output_type": "execute_result"
    }
   ],
   "source": [
    "string(3.14159)"
   ]
  },
  {
   "cell_type": "markdown",
   "metadata": {},
   "source": [
    "## Funções Matemáticas"
   ]
  },
  {
   "cell_type": "markdown",
   "metadata": {},
   "source": [
    "Em Julia, a maioria das funções matemáticas conhecidas estão disponíveis para utilização direta:"
   ]
  },
  {
   "cell_type": "code",
   "execution_count": 11,
   "metadata": {},
   "outputs": [
    {
     "ename": "UndefVarError",
     "evalue": "UndefVarError: signal_power not defined",
     "output_type": "error",
     "traceback": [
      "UndefVarError: signal_power not defined",
      "",
      "Stacktrace:",
      " [1] top-level scope at In[11]:1"
     ]
    }
   ],
   "source": [
    "ratio = signal_power / noise_power\n",
    "decibels = 10 * log10(ratio)"
   ]
  },
  {
   "cell_type": "markdown",
   "metadata": {},
   "source": [
    "O primeiro exemplo usa `log 10` para calcular uma proporção sinal-ruído em decibéis (assumindo que `signal_power` e `noise_power` estão definidos). `log`, que calcula logaritmo natural, também está disponível."
   ]
  },
  {
   "cell_type": "code",
   "execution_count": 12,
   "metadata": {},
   "outputs": [
    {
     "data": {
      "text/plain": [
       "0.644217687237691"
      ]
     },
     "execution_count": 12,
     "metadata": {},
     "output_type": "execute_result"
    }
   ],
   "source": [
    "radians = 0.7\n",
    "height = sin(radians)"
   ]
  },
  {
   "cell_type": "markdown",
   "metadata": {},
   "source": [
    "Esse segundo exemplo calcula o seno de `radians` . O nome da variável é uma dica, pois `sin` e as outras funções trigonométricas (`cos` , `tan` , etc.) recebem argumentos em radiano. Para converter de *graus* para *radianos* , divida por 180 e muitplique por $\\pi$:  "
   ]
  },
  {
   "cell_type": "code",
   "execution_count": 13,
   "metadata": {},
   "outputs": [
    {
     "data": {
      "text/plain": [
       "45"
      ]
     },
     "execution_count": 13,
     "metadata": {},
     "output_type": "execute_result"
    }
   ],
   "source": [
    "degrees = 45"
   ]
  },
  {
   "cell_type": "code",
   "execution_count": 14,
   "metadata": {},
   "outputs": [
    {
     "data": {
      "text/plain": [
       "0.7853981633974483"
      ]
     },
     "execution_count": 14,
     "metadata": {},
     "output_type": "execute_result"
    }
   ],
   "source": [
    "radians = degrees / 180 * π"
   ]
  },
  {
   "cell_type": "code",
   "execution_count": 15,
   "metadata": {},
   "outputs": [
    {
     "data": {
      "text/plain": [
       "0.7071067811865475"
      ]
     },
     "execution_count": 15,
     "metadata": {},
     "output_type": "execute_result"
    }
   ],
   "source": [
    "sin(radians)"
   ]
  },
  {
   "cell_type": "markdown",
   "metadata": {},
   "source": [
    "O valor da variável $\\pi$ é uma aproximação em float para o número $\\pi$, que possui representação fiel próxima de 16 dígitos.\n",
    "Se você sabe trigonometria, você pode checar o resulado anterior comparando-o com a ($\\sqrt{2}$)/2:"
   ]
  },
  {
   "cell_type": "code",
   "execution_count": 16,
   "metadata": {},
   "outputs": [
    {
     "data": {
      "text/plain": [
       "0.7071067811865476"
      ]
     },
     "execution_count": 16,
     "metadata": {},
     "output_type": "execute_result"
    }
   ],
   "source": [
    "sqrt(2) / 2"
   ]
  },
  {
   "cell_type": "markdown",
   "metadata": {},
   "Composição"
   ]
  },
  {
   "cell_type": "markdown",
   "metadata": {},
   "source": [
    "Até agora, vimos os elementos de um programa: *variáveis, expressões e declarações* separadamente,sem falarmos sobre como combiná-los.\n",
    "Um dos recursos mais úteis em linguagens de programação é a possibilidade de usar pequenos blocos e combiná-los. Por exemplo, o argumento de uma função pode ser qualquer tipo de expressão, incluindo uma operação aritmética:"
   ]
  },
  {
   "cell_type": "code",
   "execution_count": 17,
   "metadata": {},
   "outputs": [
    {
     "data": {
      "text/plain": [
       "0.7071067811865475"
      ]
     },
     "execution_count": 17,
     "metadata": {},
     "output_type": "execute_result"
    }
   ],
   "source": [
    "x = sin(degrees / 360 * 2 * π)"
   ]
  },
  {
   "cell_type": "markdown",
   "metadata": {},
   "source": [
    "E também podem ser chamadas de funções:"
   ]
  },
  {
   "cell_type": "code",
   "execution_count": 18,
   "metadata": {},
   "outputs": [
    {
     "data": {
      "text/plain": [
       "1.7071067811865475"
      ]
     },
     "execution_count": 18,
     "metadata": {},
     "output_type": "execute_result"
    }
   ],
   "source": [
    "x = exp(log(x+1))"
   ]
  },
  {
   "cell_type": "markdown",
   "metadata": {},
   "source": [
    "Você pode usar expressões arbitrárias em quase todos os lugares onde você pode usar valores, com uma exceção: o lado esquerdo de uma definição tem que ser um nome de variável. Qualquer outra expressão no lado esquerdo é considerado um *erro de sintaxe* (nós vamos ver exceções para essa regra mais tarde)."
   ]
  },
  {
   "cell_type": "code",
   "execution_count": 19,
   "metadata": {},
   "outputs": [
    {
     "data": {
      "text/plain": [
       "3600"
      ]
     },
     "execution_count": 19,
     "metadata": {},
     "output_type": "execute_result"
    }
   ],
   "source": [
    "hours = 60 # 1 hora é igual a 60 minutos\n",
    "minutes = hours * 60 # direita"
   ]
  },
  {
   "cell_type": "code",
   "execution_count": 20,
   "metadata": {},
   "outputs": [
    {
     "ename": "ErrorException",
     "evalue": "syntax: \"60\" is not a valid function argument name",
     "output_type": "error",
     "traceback": [
      "syntax: \"60\" is not a valid function argument name",
      ""
     ]
    }
   ],
   "source": [
    "hours * 60 = minutes # errado!"
   ]
  },
  {
   "cell_type": "markdown",
   "metadata": {},
   "source": [
    "## Adicionando Novas Funções"
   ]
  },
  {
   "cell_type": "markdown",
   "metadata": {},
   "source": [
    "Até agora, temos usado as funções oferecidas pela linguagem Julia, mas também é possivel adicionar novas funções. Uma *definição de função* especifica o nome de uma nova função e a sequência de instruções que serão executadas quando a função é utilizada. Veja o exemplo abaixo:"
   ]
  },
  {
   "cell_type": "code",
   "execution_count": 21,
   "metadata": {},
   "outputs": [
    {
     "data": {
      "text/plain": [
       "printlyrics (generic function with 1 method)"
      ]
     },
     "execution_count": 21,
     "metadata": {},
     "output_type": "execute_result"
    }
   ],
   "source": [
    "function printlyrics()\n",
    "    println(\"Sou um lenhador, e tá tudo maneiro.\")\n",
    "    println(\"Durmo a noite inteira, e trabalho o dia inteiro.\")\n",
    "end"
   ]
  },
  {
   "cell_type": "markdown",
   "metadata": {},
   "source": [
    "A palavra-chave `function` indica que esse trecho é um definição de função. O nome da função exemplificada é `printlyrics`. As regras para nomes de funções são as mesmas que as utilizadas para nomes de variáveis: eles podem conter quase todos os catacteres *Unicode*, mas *o primeiro caractere não pode ser um número*. Veja o capítulo Caracteres. Você não pode usar uma palavra-chave como nome de uma função, e você deve evitar utilizar variáveis e funções com o mesmo nome."
   ]
  },
  {
   "cell_type": "markdown",
   "metadata": {},
   "source": [
    "Os parênteses vazios depois de um nome indicam que a função não recebe nenhum argumento.\n",
    "A primeira linha de uma definição de função é chamado de *cabeçalho* (*header*, em inglês); o resto da função é chamado de *corpo*, (em inglês, *body*). O fim da função é marcada com o uso da palavra-chave `end` no final do corpo da função, e não pode conter nenhum número ou instrução. Para facilitar a leitura e compreensão, o corpo da função deve ser indentado."
   ]
  },
  {
   "cell_type": "markdown",
   "metadata": {},
   "source": [
    "Deve-se utilizar \"aspas duplas\", geralmente localizadas perto da tecla de *número 1* no teclado. << Aspas angulares >> não são permitidas em Julia."
   ]
  },
  {
   "cell_type": "markdown",
   "metadata": {},
   "source": [
    "Se você definir uma função no modo interativo, o REPL a indentará para você saber que a definição não está completa:"
   ]
  },
  {
   "cell_type": "code",
   "execution_count": 22,
   "metadata": {},
   "outputs": [
    {
     "ename": "LoadError",
     "evalue": "syntax: incomplete: \"function\" at none:1 requires end",
     "output_type": "error",
     "traceback": [
      "syntax: incomplete: \"function\" at none:1 requires end",
      ""
     ]
    }
   ],
   "source": [
    "function printlyrics()\n",
    "       println(\"Sou um lenhador, e tá tudo maneiro.\")"
   ]
  },
  {
   "cell_type": "markdown",
   "metadata": {},
   "source": [
    "Para encerrar uma função, você deve inserir a palavra-chave `end`."
   ]
  },
  {
   "cell_type": "markdown",
   "metadata": {},
   "source": [
    "A sintaxe para utilizar as novas funções é a mesma para a funções nativas (já existentes em Julia):"
   ]
  },
  {
   "cell_type": "code",
   "execution_count": 23,
   "metadata": {},
   "outputs": [
    {
     "name": "stdout",
     "output_type": "stream",
     "text": [
      "Sou um lenhador, e tá tudo maneiro.\n",
      "Durmo a noite inteira, e trabalho o dia inteiro.\n"
     ]
    }
   ],
   "source": [
    "printlyrics()"
   ]
  },
  {
   "cell_type": "markdown",
   "metadata": {},
   "source": [
    "Uma vez que você definir uma função, você pode usá-la dentro de outras funções. Por exemplo, para repetir o primeiro refrão, nós podemos escrever a função chamada `repeatlyrics` :"
   ]
  },
  {
   "cell_type": "code",
   "execution_count": 24,
   "metadata": {},
   "outputs": [
    {
     "data": {
      "text/plain": [
       "repeatlyrics (generic function with 1 method)"
      ]
     },
     "execution_count": 24,
     "metadata": {},
     "output_type": "execute_result"
    }
   ],
   "source": [
    "function repeatlyrics()\n",
    "    printlyrics()\n",
    "    printlyrics()\n",
    "end"
   ]
  },
  {
   "cell_type": "markdown",
   "metadata": {},
   "source": [
    "E então, utilizar a função `repeatlyrics`"
   ]
  },
  {
   "cell_type": "code",
   "execution_count": 25,
   "metadata": {},
   "outputs": [
    {
     "name": "stdout",
     "output_type": "stream",
     "text": [
      "Sou um lenhador, e tá tudo maneiro.\n",
      "Durmo a noite inteira, e trabalho o dia inteiro.\n",
      "Sou um lenhador, e tá tudo maneiro.\n",
      "Durmo a noite inteira, e trabalho o dia inteiro.\n"
     ]
    }
   ],
   "source": [
    "repeatlyrics()"
   ]
  },
  {
   "cell_type": "markdown",
   "metadata": {},
   "source": [
    "Mas, não é exatamente assim que a música toca."
   ]
  },
  {
   "cell_type": "markdown",
   "metadata": {},
   "source": [
    "## Definições e Utilizações"
   ]
  },
  {
   "cell_type": "markdown",
   "metadata": {},
   "source": [
    "Colocando junto todos os fragmentos de código das sessões anteriores, o programa inteiro fica da seguinte maneira:"
   ]
  },
  {
   "cell_type": "code",
   "execution_count": 26,
   "metadata": {},
   "outputs": [
    {
     "name": "stdout",
     "output_type": "stream",
     "text": [
      "Sou um lenhador, e tá tudo maneiro.\n",
      "Durmo a noite inteira, e trabalho o dia inteiro.\n",
      "Sou um lenhador, e tá tudo maneiro.\n",
      "Durmo a noite inteira, e trabalho o dia inteiro.\n"
     ]
    }
   ],
   "source": [
    "function printlyrics()\n",
    "    println(\"Sou um lenhador, e tá tudo maneiro.\")\n",
    "    println(\"Durmo a noite inteira, e trabalho o dia inteiro.\")\n",
    "end\n",
    "\n",
    "function repeatlyrics()\n",
    "    printlyrics()\n",
    "    printlyrics()\n",
    "end\n",
    "\n",
    "repeatlyrics()"
   ]
  },
  {
   "cell_type": "markdown",
   "metadata": {},
   "source": [
    "Esse programa contém duas definições de funções: `printlyrics` e `repeatlyrics` . As definições de funções são executadas da mesma forma que outras instruções, mas o efeito é criar funções. As instruções dentro das funções não são executadas enquanto a função não é chamada, e a definição de função não gera saídas.\n",
    "\n",
    "Como você deve estar pensando, você precisa criar uma função antes de usá-la. Em outras palavras, uma definição de função tem que ser executada antes da própria função ser chamada."
   ]
  },
  {
   "cell_type": "markdown",
   "metadata": {},
   "source": [
    "### Exercício 3-1"
   ]
  },
  {
   "cell_type": "markdown",
   "metadata": {},
   "source": [
    "a) Mova a última linha do seguinte programa para o início, então a chamada da função aparecerá antes das definições. Execute o programa e veja a menssagem de erro que aparecerá.\n",
    "\n",
    "b) Agora, mova a chama de função de volta para o final do programa e mova a definição do `printlyrics` depois da definição de `repeatlyrics` . O que acontece quando voce roda esse programa?"
   ]
  },
  {
   "cell_type": "markdown",
   "metadata": {},
   "source": [
    "## Fluxo de Execução"
   ]
  },
  {
   "cell_type": "markdown",
   "metadata": {},
   "source": [
    "Para garantir que uma função é definida antes de sua definição, você tem que conhecer a ordem em que as instruções são executadas, o que é chamado de *fluxo de execução*.\n",
    "\n",
    "As execuções sempre começam na primeira instrução de um programa. As instruções são executadas uma por vez, na ordem do topo ao final."
   ]
  },
  {
   "cell_type": "markdown",
   "metadata": {},
   "source": [
    "`Dica:` Conhecido como *paralelismo*, é a forma conhecida para se executar mais de uma instrução por vez "
   ]
  },
  {
   "cell_type": "markdown",
   "metadata": {},
   "source": [
    "As definições de função não alteram o *fluxo de execução* de um programa, mas lembre-se que as instruções dentro de uma função não são executadas antes de sua chamada.\n",
    "\n",
    "Uma chamada de função pode ser entendida como um desvio no *fluxo de execução*. Ao invés de ir para a próxima instrução, o fluxo é direcionado para o corpo da função chamada, executa suas instruções, e então volta ao ponto onde o fluxo foi interrompido.\n",
    "\n",
    "Isso parace simples, antes que você se lembre de que uma função pode chamar outra. Assim, no meio de uma função, o programa poderá executar as instruções de outra. Então, enquanto executa uma função, o programa poderá executar ainda outra função!\n",
    "\n",
    "Por sorte, Julia é boa para acompanhar esse fluxo, então cada vez que uma função é encerrada, o programa mostra onde ocorreu o encerramente dentro de sua chamada. Quando o programa chega ao fim, ele é encerrado.\n",
    "\n",
    "Em resumo, quando você lê um programa, nem sempre a melhor opção seja ler do topo ao fim. As vezes, faz mais sentido você acompanhar o *fluxo de execução*."
   ]
  },
  {
   "cell_type": "markdown",
   "metadata": {},
   "source": [
    "## Parâmetros e Argumentos"
   ]
  },
  {
   "cell_type": "markdown",
   "metadata": {},
   "source": [
    "Algumas das funções que temos visto requerem *argumentos*. Por exemplo, quando você chama `sin` você passa um número como *argumento*. Algumas funções recebem mais que um argumento, como por exemplo: `parse` recebe dois argumentos, um do tipo número e outro do tipo string.\n",
    "\n",
    "Dentro de uma função, os argumentos são atribuídos à variáveis chamadas *parâmetros*. Aqui temos um exemplo de definição para uma função que recebe um *argumento*:"
   ]
  },
  {
   "cell_type": "code",
   "execution_count": 27,
   "metadata": {},
   "outputs": [
    {
     "data": {
      "text/plain": [
       "printtwice (generic function with 1 method)"
      ]
     },
     "execution_count": 27,
     "metadata": {},
     "output_type": "execute_result"
    }
   ],
   "source": [
    "function printtwice(bruce)\n",
    "    println(bruce)\n",
    "    println(bruce)\n",
    "end"
   ]
  },
  {
   "cell_type": "markdown",
   "metadata": {},
   "source": [
    "Essa função atribui o *argumento* para um *parâmetro* chamado `bruce`. Quando uma função é chamada, ele exibe o valor do *parâmetro* (não importa o que seja) duas vezes.\n",
    "\n",
    "Essa função utiliza qualquer valor que pode ser exibido."
   ]
  },
  {
   "cell_type": "code",
   "execution_count": 28,
   "metadata": {},
   "outputs": [
    {
     "name": "stdout",
     "output_type": "stream",
     "text": [
      "Spam\n",
      "Spam\n"
     ]
    }
   ],
   "source": [
    "printtwice(\"Spam\")"
   ]
  },
  {
   "cell_type": "code",
   "execution_count": 29,
   "metadata": {},
   "outputs": [
    {
     "name": "stdout",
     "output_type": "stream",
     "text": [
      "42\n",
      "42\n"
     ]
    }
   ],
   "source": [
    "printtwice(42)"
   ]
  },
  {
   "cell_type": "code",
   "execution_count": 30,
   "metadata": {},
   "outputs": [
    {
     "name": "stdout",
     "output_type": "stream",
     "text": [
      "π = 3.1415926535897...\n",
      "π = 3.1415926535897...\n"
     ]
    }
   ],
   "source": [
    "printtwice(π)"
   ]
  },
  {
   "cell_type": "markdown",
   "metadata": {},
   "source": [
    "As mesmas regras de composição que se aplicam à funções **built-in** também se aplicam à funções **programmer-defined**, então nós podemos utilizar qualquer tipo de expressão como argumento para `printtwice`:"
   ]
  },
  {
   "cell_type": "code",
   "execution_count": 31,
   "metadata": {},
   "outputs": [
    {
     "name": "stdout",
     "output_type": "stream",
     "text": [
      "Spam Spam Spam Spam \n",
      "Spam Spam Spam Spam \n"
     ]
    }
   ],
   "source": [
    "printtwice(\"Spam \"^4)"
   ]
  },
  {
   "cell_type": "code",
   "execution_count": 32,
   "metadata": {},
   "outputs": [
    {
     "name": "stdout",
     "output_type": "stream",
     "text": [
      "-1.0\n",
      "-1.0\n"
     ]
    }
   ],
   "source": [
    "printtwice(cos(π))"
   ]
  },
  {
   "cell_type": "markdown",
   "metadata": {},
   "source": [
    "Os argumentos são calculados antes da chamada de função, então o exemplo de expressões como `\"Spam \"^4` e `cos($\\pi$)` são calculadas apenas uma vez.\n",
    "\n",
    "Você também pode usar uma variável como um argumento:"
   ]
  },
  {
   "cell_type": "code",
   "execution_count": 33,
   "metadata": {},
   "outputs": [
    {
     "data": {
      "text/plain": [
       "\"Eric, a metade de uma abelha.\""
      ]
     },
     "execution_count": 33,
     "metadata": {},
     "output_type": "execute_result"
    }
   ],
   "source": [
    "michael = \"Eric, a metade de uma abelha.\""
   ]
  },
  {
   "cell_type": "code",
   "execution_count": 34,
   "metadata": {},
   "outputs": [
    {
     "name": "stdout",
     "output_type": "stream",
     "text": [
      "Eric, a metade de uma abelha.\n",
      "Eric, a metade de uma abelha.\n"
     ]
    }
   ],
   "source": [
    "printtwice(michael)"
   ]
  },
  {
   "cell_type": "markdown",
   "metadata": {},
   "source": [
    "O nome da variável que nós passamos como argumento (`michael`) não tem relação com o nome do parâmetro (`bruce`). Então não importa como o valor é chamado anteriormente (em relação à chamada de função); aqui na função `printtwice`, nós chamamos todas as variáveis de  `bruce`."
   ]
  },
  {
   "cell_type": "markdown",
   "metadata": {},
   "source": [
    "## Variáveis e Parâmetros São Locais"
   ]
  },
  {
   "cell_type": "markdown",
   "metadata": {},
   "source": [
    "Quando você cria uma variável dentro de uma função, ela é *local*, o que significa que ela existe apenas dentro da função. Por exemplo:"
   ]
  },
  {
   "cell_type": "code",
   "execution_count": 35,
   "metadata": {},
   "outputs": [
    {
     "data": {
      "text/plain": [
       "cattwice (generic function with 1 method)"
      ]
     },
     "execution_count": 35,
     "metadata": {},
     "output_type": "execute_result"
    }
   ],
   "source": [
    "function cattwice(part1, part2)\n",
    "    concat = part1 * part2\n",
    "    printtwice(concat)\n",
    "end"
   ]
  },
  {
   "cell_type": "markdown",
   "metadata": {},
   "source": [
    "Essa função recebe dois argumentos, os concatena e exibe o resultado duas vezes. Aqui temos um exemplo que à utiliza:"
   ]
  },
  {
   "cell_type": "code",
   "execution_count": 36,
   "metadata": {},
   "outputs": [
    {
     "data": {
      "text/plain": [
       "\"Bing tiddle \""
      ]
     },
     "execution_count": 36,
     "metadata": {},
     "output_type": "execute_result"
    }
   ],
   "source": [
    "line1 = \"Bing tiddle \""
   ]
  },
  {
   "cell_type": "code",
   "execution_count": 37,
   "metadata": {},
   "outputs": [
    {
     "data": {
      "text/plain": [
       "\"tiddle bang.\""
      ]
     },
     "execution_count": 37,
     "metadata": {},
     "output_type": "execute_result"
    }
   ],
   "source": [
    "line2 = \"tiddle bang.\""
   ]
  },
  {
   "cell_type": "code",
   "execution_count": 38,
   "metadata": {},
   "outputs": [
    {
     "name": "stdout",
     "output_type": "stream",
     "text": [
      "Bing tiddle tiddle bang.\n",
      "Bing tiddle tiddle bang.\n"
     ]
    }
   ],
   "source": [
    "cattwice(line1, line2)"
   ]
  },
  {
   "cell_type": "markdown",
   "metadata": {},
   "source": [
    "Quando `cattwice` é encerrada, a variável `concat` é destruída. Se nós tentarmos exebí-la, receberemos o seguinte erro:"
   ]
  },
  {
   "cell_type": "code",
   "execution_count": 39,
   "metadata": {},
   "outputs": [
    {
     "ename": "UndefVarError",
     "evalue": "UndefVarError: concat not defined",
     "output_type": "error",
     "traceback": [
      "UndefVarError: concat not defined",
      "",
      "Stacktrace:",
      " [1] top-level scope at In[39]:1"
     ]
    }
   ],
   "source": [
    "println(concat)"
   ]
  },
  {
   "cell_type": "markdown",
   "metadata": {},
   "source": [
    "Os parâmetros também são locais. Por exemplo, fora de `printtwice`, não existe nada chamado `bruce`."
   ]
  },
  {
   "cell_type": "markdown",
   "metadata": {},
   "source": [
    "## Diagramas de Pilha"
   ]
  },
  {
   "cell_type": "markdown",
   "metadata": {},
   "source": [
    "Para acompanhar e saber onde cada variável pode ser usada, as vezes é útil desenhar um *diagrama de pilha*. Como um diagrama de estados, um diagrama de pilhas motra os valores de cada variável, mas ele também mostra as funções cuja cada variável pertence.\n",
    "\n",
    "Cada função é representada como um *quadro*. Um *quadro* é uma caixa com o nome da função, ao lado, e seus parâmetros e variáveis dentro. Veja alguns exemplos:"
   ]
  },
  {
   "cell_type": "markdown",
   "metadata": {},
   "source": [
    "<img src=\"../docs/img/cap3-fig3-stack.svg\" alt=\"Diagrama de Pilha\">"
   ]
  },
  {
   "cell_type": "markdown",
   "metadata": {},
   "source": [
    "Os quadros são organizados em uma pilha que indica o que cada função chama. Nesse exemplo, `printtwice` foi chamada por `cattwice`, e `cattwice` foi chamada pela `Main`, que é um nome especial para o quadro que fica no topo. Quando você cria uma variável fora de qualquer função, ela pertence a função `Main`.\n",
    "\n",
    "Cada parâmetro se refere ao mesmo valor que seu parâmetro correspondente. Então, `part1` tem o mesmo valor que `line1`, `part2` tem o mesmo valor que `line2`, e `bruce` tem o mesmo valor que `concat` .\n",
    "\n",
    "Se ocorrer algum erro durante uma chamada de função, Julia exibe o nome da função onde houve o erro, o nome da função que a chamou, e assim por diante, até que chegue a funão `Main` .\n",
    "\n",
    "Por exemplo, se você tentar acessar a função `concat` de dentro da função `printtwice`, você verá a seguinte mensagem de erro:"
   ]
  },
  {
   "cell_type": "markdown",
   "metadata": {},
   "source": [
    "`ERROR: UndefVarError: concat not defined        \n",
    "Stacktrace:                                     \n",
    " [1] printtwice at ./REPL[1]:2 [inlined]        \n",
    " [2] cattwice(::String, ::String) at ./REPL[2]:3 `"
   ]
  },
  {
   "cell_type": "markdown",
   "metadata": {},
   "source": [
    "Essa lista de funções é chamada de *stacktrace*. Ela te mostra em qual arquivo do programa o erro ocorreu, assim como a linha e quais funções estavam sendo executadas no momento do erro.\n",
    "\n",
    "A ordem das funções na stacktrace é inversa à oderm dos quadros no diagrama de pilhas. A função que estavam sendo executada no momento do erro é a que está no topo."
   ]
  },
  {
   "cell_type": "markdown",
   "metadata": {},
   "source": [
    "## Funções Frutíferas e Funções Nulas"
   ]
  },
  {
   "cell_type": "markdown",
   "metadata": {},
   "source": [
    "Algumas das funções que nós temos usado, tais como as funções matemáticas, retornam resultados (valores). Por falta de um nome melhor, I as chamo de *Funções Frutíferas*. Outras funções como `printtwice` que não devolvem resultados, elas são chamadas de *Funções nulas* (*void functions*, em inglês) .\n",
    "\n",
    "Quanto você chama uma função frutífera, você quase sempre quer utilizar o resultado para alguma coisa. por exemplo, você pode salvar esse valor em uma variável e usá-lo como parte de uma expressão matemática:"
   ]
  },
  {
   "cell_type": "code",
   "execution_count": 42,
   "metadata": {},
   "outputs": [
    {
     "data": {
      "text/plain": [
       "1.618033988749895"
      ]
     },
     "execution_count": 42,
     "metadata": {},
     "output_type": "execute_result"
    }
   ],
   "source": [
    "x = cos(radians)\n",
    "golden = (sqrt(5) + 1) / 2"
   ]
  },
  {
   "cell_type": "markdown",
   "metadata": {},
   "source": [
    "Quando você chama uma função no momo interavo, Julia mostra o resultado:"
   ]
  },
  {
   "cell_type": "code",
   "execution_count": 43,
   "metadata": {},
   "outputs": [
    {
     "data": {
      "text/plain": [
       "2.23606797749979"
      ]
     },
     "execution_count": 43,
     "metadata": {},
     "output_type": "execute_result"
    }
   ],
   "source": [
    "sqrt(5)"
   ]
  },
  {
   "cell_type": "markdown",
   "metadata": {},
   "source": [
    "Mas em um script, se você chama uma função frutífera sem salvar seu valor de retorno, o valor será perdido para sempre!\n",
    "\n",
    "`sqrt(5)`\n",
    "\n",
    "Output:\n",
    "\n",
    "`2.23606797749979`"
   ]
  },
  {
   "cell_type": "markdown",
   "metadata": {},
   "source": [
    "Esse script calcula a raiz quadrada de 5, but, como nós não salvamos ou imprimimos o resultado, esse script não é muito útil.\n",
    "\n",
    "Funções nulas podem imprimir algum resultado na tela ou ter algum outro efeito, mas elas não possuem valor de retorno. Se você salva seu resultado em uma variável, você verá um valor especial chamado `nothing`"
   ]
  },
  {
   "cell_type": "code",
   "execution_count": 45,
   "metadata": {},
   "outputs": [
    {
     "name": "stdout",
     "output_type": "stream",
     "text": [
      "Bing\n",
      "Bing\n"
     ]
    }
   ],
   "source": [
    "result = printtwice(\"Bing\")"
   ]
  },
  {
   "cell_type": "code",
   "execution_count": 46,
   "metadata": {},
   "outputs": [
    {
     "name": "stdout",
     "output_type": "stream",
     "text": [
      "nothing"
     ]
    }
   ],
   "source": [
    "show(result)"
   ]
  },
  {
   "cell_type": "markdown",
   "metadata": {},
   "source": [
    "Para imprimir o valor `nothing`, você tem que usar a função `show` que é como a função `print` mas pode exibit o valor `nothing`.\n",
    "\n",
    "O valor `nothing` não é o mesmo que a string `\"nothing\"`. Esse é um valor especial com seu próprio tipo:"
   ]
  },
  {
   "cell_type": "code",
   "execution_count": 52,
   "metadata": {},
   "outputs": [
    {
     "data": {
      "text/plain": [
       "Nothing"
      ]
     },
     "execution_count": 52,
     "metadata": {},
     "output_type": "execute_result"
    }
   ],
   "source": [
    "typeof(nothing)"
   ]
  },
  {
   "cell_type": "code",
   "execution_count": 50,
   "metadata": {},
   "outputs": [
    {
     "data": {
      "text/plain": [
       "String"
      ]
     },
     "execution_count": 50,
     "metadata": {},
     "output_type": "execute_result"
    }
   ],
   "source": [
    "typeof(\"nothing\")"
   ]
  },
  {
   "cell_type": "markdown",
   "metadata": {},
   "source": [
    "As funções que nós temos escrito até agora são todas nulas. Nós começaremos a escrever funções frutíferas em alguns capítulos."
   ]
  },
  {
   "cell_type": "markdown",
   "metadata": {},
   "source": [
    "## Por que Funções?"
   ]
  },
  {
   "cell_type": "markdown",
   "metadata": {},
   "source": [
    "Pode não estar claro o porque do trabalho de dividir um programa em funções. Aqui temos vários motivos:\n",
    "\n",
    "- Criar novas funções te permite normear um grupo de instruções, o que torna seu programa mais fácil de ser lido e debugado.\n",
    "- As funções podem deixar seu programa menor, eliminando trechos repetitivos de código. Mais tarde, se você fizer alguma modificações no código, você só precisará fazer tal alteração em apenas um local.\n",
    "- Dividir um programa longo em funções te permite debugá-lo um pedaço por vez, e depois montá-los novamente.\n",
    "- Funções bem estruturadas geralmente são utilizadas por vários programas. Uma vez que você a escreveu e debugou, você pode reutilizá-la.\n",
    "- Em Julia, funções podem otimizar muito a performance de um programa."
   ]
  },
  {
   "cell_type": "markdown",
   "metadata": {},
   "source": [
    "## Depurando"
   ]
  },
  {
   "cell_type": "markdown",
   "metadata": {},
   "source": [
    "Uma das habilidades mais importantes que você irá adiquirir é depurar. Embora possa ser frustante, depurar é uma das partes mais intelectualmente ricas, desafiadoras, e interessantes da programação.\n",
    "\n",
    "De certa forma, depurar é como o trabalho de um detetive. Você possui pistas e tem que inferir quais processos e eventos estão levando aos resultados que você recebe.\n",
    "\n",
    "Debugar também é como uma ciência experimental. Uma vez que você tem alguma ideia do porque as coisas estão dando errado, você modifica o seu programa e tenta novamente. Se suas hipóteses estavam corretas, você pode prever o resultado de suas modificações, e então chegar um passo mais perto de ter seu programa funcionando. Se suas hipóteses estiverem erradas, você tem que formular uma nova. Como Sherlock Holmes salientou, \n",
    "\n",
    "\"*Quando você eliminar o impossível, o que restar, mesmo que improvável, deve ser a verdade.*\" - A. Conan Doyle, The Sign of Four.\n",
    "\n",
    "Para algumas pessoas, programação e depuração é a mesma coisa. Ou seja, programar é o processo gradual de depurar um programa até que ele faça o que você quer. A ideia é que você comece com um programa funcional e faça pequenas modificações, depurando-as conforme avançar.\n",
    "\n",
    "Por exemplo, o Linux é um sistema operacional que contém milhões de linhas de código, mas ele foi iniciado como um programa simples que Linus Torvalds utilizada para explorar o microprocessador Intel 80386. De acordo com Larry Greenfield, \"*Um dos primeiros projetos do Linus era um programa que alternava entre imprimir \"AAAA\" e \"BBBB\". Mais tarde, isso evoluiu para o Linux.*\" (*The Linux User's Guide* Beta Version 1)."
   ]
  },
  {
   "cell_type": "markdown",
   "metadata": {},
   "source": [
    "## Glossário"
   ]
  },
  {
   "cell_type": "markdown",
   "metadata": {},
   "source": [
    "**função**\n",
    "Uma sequência (nomeada) de instruções que calculam alguma operação útil. As funções podem ou não receber argumentos e podem ou não retornar resultados.\n",
    "\n",
    "**definição de função**\n",
    "Uma instrução que cria novas funções, especificando seu nome, parâmentros, e as intruções que ela contém.\n",
    "\n",
    "**objeto de função**\n",
    "O valor criado por uma definição de função. O nome de uma função é uma variável que se refere à um objeto de função.\n",
    "\n",
    "**cabeçalho**\n",
    "A primeira linha de uma definição de função.\n",
    "\n",
    "**corpo**\n",
    "A sequência de instruções dentro de uma definição de função.\n",
    "\n",
    "**parâmetro**\n",
    "Um nome usado dentro de uma função que se refere aos valores passados como argumento.\n",
    "\n",
    "**chamada de função**\n",
    "A instrução que executa uma função. Consiste no nome da função seguido de uma lista de parâmetros entre parênteses.\n",
    "\n",
    "**argumento**\n",
    "Um valor passado para um função no momento de sua chamada. Esse valor é atribuído à um parâmetro correspondente dentro da função. \n",
    "\n",
    "**variável local**\n",
    "Uma variável definida dentro de uma função. Uma variável local pode ser usada apenas dentro de sua função.\n",
    "\n",
    "**função frutífera**\n",
    "Uma função que retorna (ou devolve) um resultado.\n",
    "\n",
    "**função nula**\n",
    "Uma função que sempre retorna `nothing`\n",
    "\n",
    "`nothing`\n",
    "Um valor especial retornado por funções nulas.\n",
    "\n",
    "**composição**\n",
    "O uso de uma expressão como parte de uma outra maior, ou uma instrução compondo uma instrução maior.\n",
    "\n",
    "**fluxo de execução**\n",
    "A ordem de intruções executadas.\n",
    "\n",
    "**diagrama de pilha**\n",
    "Uma representação gráfica de uma pilha de funções, suas variáveis, e os valores aos quais se referem.\n",
    "\n",
    "**quadro**\n",
    "Uma caixa em um diagrama de pilha representando uma chamada de funções. Ela contém as variáveis locais e os parametros de uma função.\n",
    "\n",
    "**stacktrace**\n",
    "Uma lista de funções que são executadas, exibidas quando um erro ocorre."
   ]
  },
  {
   "cell_type": "markdown",
   "metadata": {},
   "source": [
    "## Exercícios"
   ]
  },
  {
   "cell_type": "markdown",
   "metadata": {},
   "source": [
    "DICA | Esses exercícios devem ser feitos utilizando apenas as instruções e os outros recurso que temos aprendido até agora."
   ]
  },
  {
   "cell_type": "markdown",
   "metadata": {},
   "source": [
    "### Exercício 3-2\n",
    "\n",
    "Escreva uma função chamada `jutificadireita` que recebe uma string chamada `s` como parâmetro e exibe a string com espaços suficientes para que a última letra da string estja na coluna 70 da tela. Por exemplo:\n",
    "\n",
    "`justificadireita(\"monty\")`\n",
    "`monty`\n",
    "\n",
    "Dica | Use concatenação e repetição de strings. Além disso, Julia oferece uma **built-in** função chamada `lenght` que retorna o tamanho de uma string, então o valor de `lenght(\"monty\")` é 5."
   ]
  },
  {
   "cell_type": "markdown",
   "metadata": {},
   "source": [
    "### Exercício 3-3\n",
    "\n",
    "Um objeto de função é um valor que pode ser atribuído à uma variável ou passado como um argumento. Por exemplo, `facaduasvezes` é uma função que recebe um objeto de função como um argumento e o chama duas vezes:\n"
   ]
  },
  {
   "cell_type": "code",
   "execution_count": 55,
   "metadata": {},
   "outputs": [
    {
     "data": {
      "text/plain": [
       "facaduasvezes (generic function with 1 method)"
      ]
     },
     "execution_count": 55,
     "metadata": {},
     "output_type": "execute_result"
    }
   ],
   "source": [
    "function facaduasvezes(f)\n",
    "    f()\n",
    "    f()\n",
    "end"
   ]
  },
  {
   "cell_type": "markdown",
   "metadata": {},
   "source": [
    "Aqui temos um exemplo em que `facaduasvezes` chama uma função chamada `imprimespam` duas vezes:"
   ]
  },
  {
   "cell_type": "code",
   "execution_count": 57,
   "metadata": {},
   "outputs": [
    {
     "name": "stdout",
     "output_type": "stream",
     "text": [
      "spam\n",
      "spam\n"
     ]
    }
   ],
   "source": [
    "function imprimespam()\n",
    "    println(\"spam\")\n",
    "end\n",
    "\n",
    "facaduasvezes(imprimespam)"
   ]
  },
  {
   "cell_type": "markdown",
   "metadata": {},
   "source": [
    "1. Use esse exemplo em um script e teste.\n",
    "2. Modifique a função `facaduasvezes` para que ela receba dois argumentos, um objeto de função e um valor, e chama essa função duas vezes, passando o valor como um argumento.\n",
    "3. Copie a definição da função `printtwice` que vimos mais cedo, nesse capítulo, para seu script.\n",
    "4. Use a versão modificada de `facaduasvezes` para chamar a função `printtwice` duas vezes, passando `\"spam\"` como um argumento.\n",
    "5. Crie uma nova função chamada `facaquatrovezes` que recebe um objeto de função e um valor e chama a função quatro vezes, passando o valor como um parâmetro. Devem haver apenar duas intruções no corpo dessa função, não quatro."
   ]
  },
  {
   "cell_type": "markdown",
   "metadata": {},
   "source": [
    "### Exercício 3-4\n",
    "\n",
    "1. Escreva a função `imprimerede` que desenhe uma rede como o exemplo a seguir:\n",
    "\n",
    "`imprimerede()`\n",
    "\n",
    "`+ - - - - + - - - - +`\n",
    "`                     `                   \n",
    "`|         |         |`\n",
    "`                     `                   \n",
    "`|         |         |`\n",
    "`                     `                   \n",
    "`|         |         |`\n",
    "`                     `                   \n",
    "`|         |         |`                      \n",
    "`+ - - - - + - - - - +`\n",
    "`                     `                   \n",
    "`|         |         |`\n",
    "`                     `                   \n",
    "`|         |         |`\n",
    "`                     `                   \n",
    "`|         |         |`\n",
    "`                     `                   \n",
    "`|         |         |`                   \n",
    "`+ - - - - + - - - - +`\n",
    "\n",
    "2. Escreva uma função que desenhe uma rede similar om quatro linhas e quatro colunhas.\n"
   ]
  },
  {
   "cell_type": "markdown",
   "metadata": {},
   "source": [
    "Créditos: Esses exercícios são baseados no livro Oualline, Practical C Programming, Third Edition, O’Reilly Media, 1997."
   ]
  },
  {
   "cell_type": "markdown",
   "metadata": {},
   "source": [
    "Dica\n",
    "\n",
    "Para imprimir mais de um valor em uma linha, você pode imprimir uma vírgula como separador de uma sequência de valores: `println(\"+\", \"-\")`.\n",
    "\n",
    "A função `print` não avança para a próxima linha:\n",
    "`print(\"+ \")`\n",
    "`println(\"-\")`\n",
    "\n",
    "A saída dessas intruções é: `\"+ -\"` na mesma linha. A saída do próximo instrução de print começará na próxima linha."
   ]
  }
 ],
 "metadata": {
  "kernelspec": {
   "display_name": "Julia 1.1.1",
   "language": "julia",
   "name": "julia-1.1"
  },
  "language_info": {
   "file_extension": ".jl",
   "mimetype": "application/julia",
   "name": "julia",
   "version": "1.1.1"
  }
 },
 "nbformat": 4,
 "nbformat_minor": 2
}
