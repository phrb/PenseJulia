{
 "cells": [
  {
   "cell_type": "markdown",
   "metadata": {},
   "source": [
    "# Projeto de Interface, um Estudo de Caso\n",
    "\n",
    "Este capítulo introduz um *estudo de caso* que demonstra uma *metodologia*, ou um *process*, para projetar funções que trabalham em conjunto.\n",
    "\n",
    "Este capítulo introduz *gráficos de tartaruga*, uma forma de criar desenhos através de programas. Os recursos para gráficos de tartaruga não estão inclusos na *biblioteca padrão*, ou *standard library*, da linguagem Julia, e portanto o *módulo* *ThinkJulia* deve ser adicionado à sua instalação local da linguagem Julia.\n",
    "\n",
    "Depois da instalação do *pacote* ThinkJulia, os exemplos neste capítulo poderão ser executados diretamente no Notebook Jupyter.\n",
    "\n",
    "## Tartarugas\n",
    "\n",
    "Um módulo, ou pacote, é um arquivo que contém uma coleção de funções relacionadas, também chamada de *biblioteca*. Julia provê alguns módulos em sua biblioteca padrão. Recursos adicionais podem ser adicionados usando o REPL, a partir de uma [coleção de pacotes](https://juliaobserver.com) em crescimento constante.\n",
    "\n",
    "Para adicionar o pacote ThinkJulia no REPL, você pode pressionar a tecla `]` e digitar:\n",
    "\n",
    "```output\n",
    "(v1.1) pkg> add https://github.com/BenLauwens/ThinkJulia.jl\n",
    "```\n",
    "\n",
    "Você também pode digitar o seguinte numa célula deste Notebook:\n",
    "\n",
    "```julia\n",
    "using Pkg\n",
    "Pkg.add(PackageSpec(url = \"https://github.com/BenLauwens/ThinkJulia.jl\"))\n",
    "```\n",
    "\n",
    "É normal que a instalação do pacote ThinkJulia demore bastante para terminar.\n",
    "\n",
    "Depois de instalar um módulo, devemos *importar* o módulo antes de poder utilizar suas funções. Para isso, usamos a palavra-chave `using`, como mostra a célula abaixo. A primeira vez que você executar essa célula vai levar mais tempo que as demais vezes. É normal que *avisos*, ou *warnings*, sejam produzidos após a primeira execução."
   ]
  },
  {
   "cell_type": "code",
   "execution_count": 15,
   "metadata": {},
   "outputs": [
    {
     "data": {
      "text/plain": [
       "Turtle(0.0, 0.0, true, 0.0, (0.0, 0.0, 0.0))"
      ]
     },
     "execution_count": 15,
     "metadata": {},
     "output_type": "execute_result"
    }
   ],
   "source": [
    "using ThinkJulia\n",
    "\n",
    "🐢 = Turtle()"
   ]
  },
  {
   "cell_type": "markdown",
   "metadata": {},
   "source": [
    "O módulo ThinkJulia fornece uma função chamada `Turtle`, ou *tartaruga* em português, que cria um objeto do tipo `Turtle`. Na célula acima, atribuímos um objeto `Turtle` à variável chamada 🐢. Para escrever 🐢 numa célula de código, digite `\\:turtle:` e aperte a tecla `TAB`.\n",
    "\n",
    "Depois de criar uma tartaruga, você pode chamar um função para mover sua tartaruga e criar um desenho. Para mover sua tartaruga para frente, por exemplo, execute o código na célula abaixo:\n",
    "\n",
    "> *Aviso*: A imagem produzida tem um tamanho grande, então continue até o fim dela para ler o resto do livro!"
   ]
  },
  {
   "cell_type": "code",
   "execution_count": 16,
   "metadata": {},
   "outputs": [
    {
     "data": {
      "image/svg+xml": [
       "<?xml version=\"1.0\" encoding=\"UTF-8\"?>\n",
       "<svg xmlns=\"http://www.w3.org/2000/svg\" xmlns:xlink=\"http://www.w3.org/1999/xlink\" width=\"600pt\" height=\"600pt\" viewBox=\"0 0 600 600\" version=\"1.1\">\n",
       "<g id=\"surface51\">\n",
       "<rect x=\"0\" y=\"0\" width=\"600\" height=\"600\" style=\"fill:rgb(100%,100%,100%);fill-opacity:1;stroke:none;\"/>\n",
       "<path style=\"fill:none;stroke-width:2;stroke-linecap:butt;stroke-linejoin:miter;stroke:rgb(0%,0%,0%);stroke-opacity:1;stroke-miterlimit:10;\" d=\"M 300 300 L 400 300 \"/>\n",
       "</g>\n",
       "</svg>\n"
      ]
     },
     "metadata": {},
     "output_type": "display_data"
    }
   ],
   "source": [
    "🐢 = Turtle()\n",
    "\n",
    "@svg begin\n",
    "    forward(🐢, 100)\n",
    "end"
   ]
  },
  {
   "cell_type": "markdown",
   "metadata": {},
   "source": [
    "O risco que você vê na imagem acima é o caminho feito pela sua tartaruga, seguindo o comando da função que você chamou na célula anterior. Todas as tartarugas carregam canetinhas, e deixam um rastro por onde passam.\n",
    "\n",
    "A palavra-chave `@svg` executa uma *macro* que desenha uma imagem no formato SVG. Macros são um recurso avançado importante na linguagem Julia, e em muitas outras.\n",
    "\n",
    "Os argumentos da função `forward` são uma *tartaruga* e uma *distância em pixels*:\n",
    "\n",
    "```julia\n",
    "forward(🐢, 100)\n",
    "```\n",
    "\n",
    "Você também pode chamar a função `turn` para virar sua tartaruga em uma dada direção. O segundo argumento da função `turn` é um *ângulo em graus*.\n",
    "\n",
    "Vimos que todas as tartarugas carregam canetinhas e deixam um rastro por onde passam, mas você pode instruir sua tartaruga a *levantar sua canetinha* do papel chamando a função `penup`, e a *baixar sua canetinha* novamente chamando a função `pendown`.\n",
    "\n",
    "Para desenhar um *ângulo reto*, vamos criar uma nova tartaruga de mesmo nome, e modificar o código que chama a macro `@svg` da seguinte maneira:"
   ]
  },
  {
   "cell_type": "code",
   "execution_count": 17,
   "metadata": {},
   "outputs": [
    {
     "data": {
      "image/svg+xml": [
       "<?xml version=\"1.0\" encoding=\"UTF-8\"?>\n",
       "<svg xmlns=\"http://www.w3.org/2000/svg\" xmlns:xlink=\"http://www.w3.org/1999/xlink\" width=\"600pt\" height=\"600pt\" viewBox=\"0 0 600 600\" version=\"1.1\">\n",
       "<g id=\"surface56\">\n",
       "<rect x=\"0\" y=\"0\" width=\"600\" height=\"600\" style=\"fill:rgb(100%,100%,100%);fill-opacity:1;stroke:none;\"/>\n",
       "<path style=\"fill:none;stroke-width:2;stroke-linecap:butt;stroke-linejoin:miter;stroke:rgb(0%,0%,0%);stroke-opacity:1;stroke-miterlimit:10;\" d=\"M 300 300 L 400 300 \"/>\n",
       "<path style=\"fill:none;stroke-width:2;stroke-linecap:butt;stroke-linejoin:miter;stroke:rgb(0%,0%,0%);stroke-opacity:1;stroke-miterlimit:10;\" d=\"M 400 300 L 400 200 \"/>\n",
       "</g>\n",
       "</svg>\n"
      ]
     },
     "metadata": {},
     "output_type": "display_data"
    }
   ],
   "source": [
    "🐢 = Turtle()\n",
    "\n",
    "@svg begin\n",
    "    forward(🐢, 100)\n",
    "    turn(🐢, -90)\n",
    "    forward(🐢, 100)\n",
    "end"
   ]
  },
  {
   "cell_type": "markdown",
   "metadata": {},
   "source": [
    "## Exercício 4.1\n",
    "\n",
    "Agora, use a célula abaixo e modifique o código que chama a macro `@svg` para fazer sua tartaruga desenhar um quadrado. Não siga adiante no capítulo até conseguir!"
   ]
  },
  {
   "cell_type": "code",
   "execution_count": 18,
   "metadata": {},
   "outputs": [
    {
     "data": {
      "image/svg+xml": [
       "<?xml version=\"1.0\" encoding=\"UTF-8\"?>\n",
       "<svg xmlns=\"http://www.w3.org/2000/svg\" xmlns:xlink=\"http://www.w3.org/1999/xlink\" width=\"600pt\" height=\"600pt\" viewBox=\"0 0 600 600\" version=\"1.1\">\n",
       "<g id=\"surface61\">\n",
       "<rect x=\"0\" y=\"0\" width=\"600\" height=\"600\" style=\"fill:rgb(100%,100%,100%);fill-opacity:1;stroke:none;\"/>\n",
       "<path style=\"fill:none;stroke-width:2;stroke-linecap:butt;stroke-linejoin:miter;stroke:rgb(0%,0%,0%);stroke-opacity:1;stroke-miterlimit:10;\" d=\"M 300 300 L 400 300 \"/>\n",
       "<path style=\"fill:none;stroke-width:2;stroke-linecap:butt;stroke-linejoin:miter;stroke:rgb(0%,0%,0%);stroke-opacity:1;stroke-miterlimit:10;\" d=\"M 400 300 L 400 200 \"/>\n",
       "</g>\n",
       "</svg>\n"
      ]
     },
     "metadata": {},
     "output_type": "display_data"
    }
   ],
   "source": [
    "🐢 = Turtle()\n",
    "\n",
    "@svg begin\n",
    "    forward(🐢, 100)\n",
    "    turn(🐢, -90)\n",
    "    forward(🐢, 100)\n",
    "end"
   ]
  },
  {
   "cell_type": "markdown",
   "metadata": {},
   "source": [
    "## Repetição Simples\n",
    "\n",
    "É provável que você tenha escrito algo assim:"
   ]
  },
  {
   "cell_type": "code",
   "execution_count": 19,
   "metadata": {},
   "outputs": [
    {
     "data": {
      "image/svg+xml": [
       "<?xml version=\"1.0\" encoding=\"UTF-8\"?>\n",
       "<svg xmlns=\"http://www.w3.org/2000/svg\" xmlns:xlink=\"http://www.w3.org/1999/xlink\" width=\"600pt\" height=\"600pt\" viewBox=\"0 0 600 600\" version=\"1.1\">\n",
       "<g id=\"surface66\">\n",
       "<rect x=\"0\" y=\"0\" width=\"600\" height=\"600\" style=\"fill:rgb(100%,100%,100%);fill-opacity:1;stroke:none;\"/>\n",
       "<path style=\"fill:none;stroke-width:2;stroke-linecap:butt;stroke-linejoin:miter;stroke:rgb(0%,0%,0%);stroke-opacity:1;stroke-miterlimit:10;\" d=\"M 300 300 L 400 300 \"/>\n",
       "<path style=\"fill:none;stroke-width:2;stroke-linecap:butt;stroke-linejoin:miter;stroke:rgb(0%,0%,0%);stroke-opacity:1;stroke-miterlimit:10;\" d=\"M 400 300 L 400 200 \"/>\n",
       "<path style=\"fill:none;stroke-width:2;stroke-linecap:butt;stroke-linejoin:miter;stroke:rgb(0%,0%,0%);stroke-opacity:1;stroke-miterlimit:10;\" d=\"M 400 200 L 300 200 \"/>\n",
       "<path style=\"fill:none;stroke-width:2;stroke-linecap:butt;stroke-linejoin:miter;stroke:rgb(0%,0%,0%);stroke-opacity:1;stroke-miterlimit:10;\" d=\"M 300 200 L 300 300 \"/>\n",
       "</g>\n",
       "</svg>\n"
      ]
     },
     "metadata": {},
     "output_type": "display_data"
    }
   ],
   "source": [
    "🐢 = Turtle()\n",
    "@svg begin\n",
    "    forward(🐢, 100)\n",
    "    turn(🐢, -90)\n",
    "    forward(🐢, 100)\n",
    "    turn(🐢, -90)\n",
    "    forward(🐢, 100)\n",
    "    turn(🐢, -90)\n",
    "    forward(🐢, 100)\n",
    "end"
   ]
  },
  {
   "cell_type": "markdown",
   "metadata": {},
   "source": [
    "No entanto, podemos fazer a mesma coisa de forma *mais concisa* usando um *laço*, através da instrução `for`, demonstrada abaixo:"
   ]
  },
  {
   "cell_type": "code",
   "execution_count": 20,
   "metadata": {},
   "outputs": [
    {
     "name": "stdout",
     "output_type": "stream",
     "text": [
      "Olá!\n",
      "Olá!\n",
      "Olá!\n",
      "Olá!\n"
     ]
    }
   ],
   "source": [
    "for i in 1:4\n",
    "    println(\"Olá!\")\n",
    "end"
   ]
  }
 ],
 "metadata": {
  "kernelspec": {
   "display_name": "Julia 1.1.1",
   "language": "julia",
   "name": "julia-1.1"
  },
  "language_info": {
   "file_extension": ".jl",
   "mimetype": "application/julia",
   "name": "julia",
   "version": "1.1.1"
  }
 },
 "nbformat": 4,
 "nbformat_minor": 2
}
