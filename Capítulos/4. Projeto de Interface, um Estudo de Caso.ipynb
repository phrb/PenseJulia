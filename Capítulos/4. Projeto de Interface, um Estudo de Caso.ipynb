{
 "cells": [
  {
   "cell_type": "markdown",
   "metadata": {},
   "source": [
    "# Projeto de Interface, um Estudo de Caso\n",
    "\n",
    "Este capítulo introduz um *estudo de caso* que demonstra uma *metodologia*, ou um *process*, para projetar funções que trabalham em conjunto.\n",
    "\n",
    "Este capítulo introduz *gráficos de tartaruga*, uma forma de criar desenhos através de programas. Os recursos para gráficos de tartaruga não estão inclusos na *biblioteca padrão*, ou *standard library*, da linguagem Julia, e portanto o *módulo* *ThinkJulia* deve ser adicionado à sua instalação local da linguagem Julia.\n",
    "\n",
    "Depois da instalação do *pacote* ThinkJulia, os exemplos neste capítulo poderão ser executados diretamente no Notebook Jupyter.\n",
    "\n",
    "## Tartarugas\n",
    "\n",
    "Um módulo, ou pacote, é um arquivo que contém uma coleção de funções relacionadas, também chamada de *biblioteca*. Julia provê alguns módulos em sua biblioteca padrão. Recursos adicionais podem ser adicionados usando o REPL, a partir de uma [coleção de pacotes](https://juliaobserver.com) em crescimento constante.\n",
    "\n",
    "Para adicionar o pacote ThinkJulia no REPL, você pode pressionar a tecla `]` e digitar:\n",
    "\n",
    "```output\n",
    "(v1.1) pkg> add https://github.com/BenLauwens/ThinkJulia.jl\n",
    "```\n",
    "\n",
    "Você também pode digitar o seguinte numa célula deste Notebook:\n",
    "\n",
    "```julia\n",
    "using Pkg\n",
    "Pkg.add(PackageSpec(url = \"https://github.com/BenLauwens/ThinkJulia.jl\"))\n",
    "```\n",
    "\n",
    "É normal que a instalação do pacote ThinkJulia demore bastante para terminar.\n",
    "\n",
    "Depois de instalar um módulo, devemos *importar* o módulo antes de poder utilizar suas funções. Para isso, usamos a palavra-chave `using`, como mostra a célula abaixo. A primeira vez que você executar essa célula vai levar mais tempo que as demais vezes. É normal que *avisos*, ou *warnings*, sejam produzidos após a primeira execução."
   ]
  },
  {
   "cell_type": "code",
   "execution_count": 15,
   "metadata": {},
   "outputs": [
    {
     "data": {
      "text/plain": [
       "Turtle(0.0, 0.0, true, 0.0, (0.0, 0.0, 0.0))"
      ]
     },
     "execution_count": 15,
     "metadata": {},
     "output_type": "execute_result"
    }
   ],
   "source": [
    "using ThinkJulia\n",
    "\n",
    "🐢 = Turtle()"
   ]
  },
  {
   "cell_type": "markdown",
   "metadata": {},
   "source": [
    "O módulo ThinkJulia fornece uma função chamada `Turtle`, ou *tartaruga* em português, que cria um objeto do tipo `Turtle`. Na célula acima, atribuímos um objeto `Turtle` à variável chamada 🐢. Para escrever 🐢 numa célula de código, digite `\\:turtle:` e aperte a tecla `TAB`.\n",
    "\n",
    "Depois de criar uma tartaruga, você pode chamar um função para mover sua tartaruga e criar um desenho. Para mover sua tartaruga para frente, por exemplo, execute o código na célula abaixo:\n",
    "\n",
    "> *Aviso*: A imagem produzida tem um tamanho grande, então continue até o fim dela para ler o resto do livro!"
   ]
  },
  {
   "cell_type": "code",
   "execution_count": 16,
   "metadata": {},
   "outputs": [
    {
     "data": {
      "image/svg+xml": [
       "<?xml version=\"1.0\" encoding=\"UTF-8\"?>\n",
       "<svg xmlns=\"http://www.w3.org/2000/svg\" xmlns:xlink=\"http://www.w3.org/1999/xlink\" width=\"600pt\" height=\"600pt\" viewBox=\"0 0 600 600\" version=\"1.1\">\n",
       "<g id=\"surface51\">\n",
       "<rect x=\"0\" y=\"0\" width=\"600\" height=\"600\" style=\"fill:rgb(100%,100%,100%);fill-opacity:1;stroke:none;\"/>\n",
       "<path style=\"fill:none;stroke-width:2;stroke-linecap:butt;stroke-linejoin:miter;stroke:rgb(0%,0%,0%);stroke-opacity:1;stroke-miterlimit:10;\" d=\"M 300 300 L 400 300 \"/>\n",
       "</g>\n",
       "</svg>\n"
      ]
     },
     "metadata": {},
     "output_type": "display_data"
    }
   ],
   "source": [
    "🐢 = Turtle()\n",
    "\n",
    "@svg begin\n",
    "    forward(🐢, 100)\n",
    "end"
   ]
  },
  {
   "cell_type": "markdown",
   "metadata": {},
   "source": [
    "O risco que você vê na imagem acima é o caminho feito pela sua tartaruga, seguindo o comando da função que você chamou na célula anterior. Todas as tartarugas carregam canetinhas, e deixam um rastro por onde passam.\n",
    "\n",
    "A palavra-chave `@svg` executa uma *macro* que desenha uma imagem no formato SVG. Macros são um recurso avançado importante na linguagem Julia, e em muitas outras.\n",
    "\n",
    "Os argumentos da função `forward` são uma *tartaruga* e uma *distância em pixels*:\n",
    "\n",
    "```julia\n",
    "forward(🐢, 100)\n",
    "```\n",
    "\n",
    "Você também pode chamar a função `turn` para virar sua tartaruga em uma dada direção. O segundo argumento da função `turn` é um *ângulo em graus*.\n",
    "\n",
    "Vimos que todas as tartarugas carregam canetinhas e deixam um rastro por onde passam, mas você pode instruir sua tartaruga a *levantar sua canetinha* do papel chamando a função `penup`, e a *baixar sua canetinha* novamente chamando a função `pendown`.\n",
    "\n",
    "Para desenhar um *ângulo reto*, vamos criar uma nova tartaruga de mesmo nome, e modificar o código que chama a macro `@svg` da seguinte maneira:"
   ]
  },
  {
   "cell_type": "code",
   "execution_count": 17,
   "metadata": {},
   "outputs": [
    {
     "data": {
      "image/svg+xml": [
       "<?xml version=\"1.0\" encoding=\"UTF-8\"?>\n",
       "<svg xmlns=\"http://www.w3.org/2000/svg\" xmlns:xlink=\"http://www.w3.org/1999/xlink\" width=\"600pt\" height=\"600pt\" viewBox=\"0 0 600 600\" version=\"1.1\">\n",
       "<g id=\"surface56\">\n",
       "<rect x=\"0\" y=\"0\" width=\"600\" height=\"600\" style=\"fill:rgb(100%,100%,100%);fill-opacity:1;stroke:none;\"/>\n",
       "<path style=\"fill:none;stroke-width:2;stroke-linecap:butt;stroke-linejoin:miter;stroke:rgb(0%,0%,0%);stroke-opacity:1;stroke-miterlimit:10;\" d=\"M 300 300 L 400 300 \"/>\n",
       "<path style=\"fill:none;stroke-width:2;stroke-linecap:butt;stroke-linejoin:miter;stroke:rgb(0%,0%,0%);stroke-opacity:1;stroke-miterlimit:10;\" d=\"M 400 300 L 400 200 \"/>\n",
       "</g>\n",
       "</svg>\n"
      ]
     },
     "metadata": {},
     "output_type": "display_data"
    }
   ],
   "source": [
    "🐢 = Turtle()\n",
    "\n",
    "@svg begin\n",
    "    forward(🐢, 100)\n",
    "    turn(🐢, -90)\n",
    "    forward(🐢, 100)\n",
    "end"
   ]
  },
  {
   "cell_type": "markdown",
   "metadata": {},
   "source": [
    "## Exercício 4.1\n",
    "\n",
    "Agora, use a célula abaixo e modifique o código que chama a macro `@svg` para fazer sua tartaruga desenhar um quadrado. Não siga adiante no capítulo até conseguir!"
   ]
  },
  {
   "cell_type": "code",
   "execution_count": 18,
   "metadata": {},
   "outputs": [
    {
     "data": {
      "image/svg+xml": [
       "<?xml version=\"1.0\" encoding=\"UTF-8\"?>\n",
       "<svg xmlns=\"http://www.w3.org/2000/svg\" xmlns:xlink=\"http://www.w3.org/1999/xlink\" width=\"600pt\" height=\"600pt\" viewBox=\"0 0 600 600\" version=\"1.1\">\n",
       "<g id=\"surface61\">\n",
       "<rect x=\"0\" y=\"0\" width=\"600\" height=\"600\" style=\"fill:rgb(100%,100%,100%);fill-opacity:1;stroke:none;\"/>\n",
       "<path style=\"fill:none;stroke-width:2;stroke-linecap:butt;stroke-linejoin:miter;stroke:rgb(0%,0%,0%);stroke-opacity:1;stroke-miterlimit:10;\" d=\"M 300 300 L 400 300 \"/>\n",
       "<path style=\"fill:none;stroke-width:2;stroke-linecap:butt;stroke-linejoin:miter;stroke:rgb(0%,0%,0%);stroke-opacity:1;stroke-miterlimit:10;\" d=\"M 400 300 L 400 200 \"/>\n",
       "</g>\n",
       "</svg>\n"
      ]
     },
     "metadata": {},
     "output_type": "display_data"
    }
   ],
   "source": [
    "🐢 = Turtle()\n",
    "\n",
    "@svg begin\n",
    "    forward(🐢, 100)\n",
    "    turn(🐢, -90)\n",
    "    forward(🐢, 100)\n",
    "end"
   ]
  },
  {
   "cell_type": "markdown",
   "metadata": {},
   "source": [
    "## Repetição Simples\n",
    "\n",
    "É provável que você tenha escrito algo assim:"
   ]
  },
  {
   "cell_type": "code",
   "execution_count": 23,
   "metadata": {},
   "outputs": [
    {
     "data": {
      "image/svg+xml": [
       "<?xml version=\"1.0\" encoding=\"UTF-8\"?>\n",
       "<svg xmlns=\"http://www.w3.org/2000/svg\" xmlns:xlink=\"http://www.w3.org/1999/xlink\" width=\"600pt\" height=\"600pt\" viewBox=\"0 0 600 600\" version=\"1.1\">\n",
       "<g id=\"surface81\">\n",
       "<rect x=\"0\" y=\"0\" width=\"600\" height=\"600\" style=\"fill:rgb(100%,100%,100%);fill-opacity:1;stroke:none;\"/>\n",
       "<path style=\"fill:none;stroke-width:2;stroke-linecap:butt;stroke-linejoin:miter;stroke:rgb(0%,0%,0%);stroke-opacity:1;stroke-miterlimit:10;\" d=\"M 300 300 L 400 300 \"/>\n",
       "<path style=\"fill:none;stroke-width:2;stroke-linecap:butt;stroke-linejoin:miter;stroke:rgb(0%,0%,0%);stroke-opacity:1;stroke-miterlimit:10;\" d=\"M 400 300 L 400 200 \"/>\n",
       "<path style=\"fill:none;stroke-width:2;stroke-linecap:butt;stroke-linejoin:miter;stroke:rgb(0%,0%,0%);stroke-opacity:1;stroke-miterlimit:10;\" d=\"M 400 200 L 300 200 \"/>\n",
       "<path style=\"fill:none;stroke-width:2;stroke-linecap:butt;stroke-linejoin:miter;stroke:rgb(0%,0%,0%);stroke-opacity:1;stroke-miterlimit:10;\" d=\"M 300 200 L 300 300 \"/>\n",
       "</g>\n",
       "</svg>\n"
      ]
     },
     "metadata": {},
     "output_type": "display_data"
    }
   ],
   "source": [
    "🐢 = Turtle()\n",
    "\n",
    "@svg begin\n",
    "    forward(🐢, 100)\n",
    "    turn(🐢, -90)\n",
    "    forward(🐢, 100)\n",
    "    turn(🐢, -90)\n",
    "    forward(🐢, 100)\n",
    "    turn(🐢, -90)\n",
    "    forward(🐢, 100)\n",
    "end"
   ]
  },
  {
   "cell_type": "markdown",
   "metadata": {},
   "source": [
    "No entanto, podemos fazer a mesma coisa de forma *mais concisa* usando um *laço*, através da instrução `for`, demonstrada abaixo:"
   ]
  },
  {
   "cell_type": "code",
   "execution_count": 20,
   "metadata": {},
   "outputs": [
    {
     "name": "stdout",
     "output_type": "stream",
     "text": [
      "Olá!\n",
      "Olá!\n",
      "Olá!\n",
      "Olá!\n"
     ]
    }
   ],
   "source": [
    "for i in 1:4\n",
    "    println(\"Olá!\")\n",
    "end"
   ]
  },
  {
   "cell_type": "markdown",
   "metadata": {},
   "source": [
    "Esse é um dos usos mais simples do comando `for`, e veremos usos mais complexos mais tarde. Adaptar o código acima ao problema anterior deve ser suficiente para permitir que você reescreva seu programa para desenhar um quadrado. Não siga em frente até que você tenha modificado seu código anterior para usar o comando `for`.\n",
    "\n",
    "A célula abaixo contém um laço, ou *loop*, usando a instrução `for` para desenhar um quadrado:"
   ]
  },
  {
   "cell_type": "code",
   "execution_count": 22,
   "metadata": {},
   "outputs": [
    {
     "data": {
      "image/svg+xml": [
       "<?xml version=\"1.0\" encoding=\"UTF-8\"?>\n",
       "<svg xmlns=\"http://www.w3.org/2000/svg\" xmlns:xlink=\"http://www.w3.org/1999/xlink\" width=\"600pt\" height=\"600pt\" viewBox=\"0 0 600 600\" version=\"1.1\">\n",
       "<g id=\"surface76\">\n",
       "<rect x=\"0\" y=\"0\" width=\"600\" height=\"600\" style=\"fill:rgb(100%,100%,100%);fill-opacity:1;stroke:none;\"/>\n",
       "<path style=\"fill:none;stroke-width:2;stroke-linecap:butt;stroke-linejoin:miter;stroke:rgb(0%,0%,0%);stroke-opacity:1;stroke-miterlimit:10;\" d=\"M 300 300 L 400 300 \"/>\n",
       "<path style=\"fill:none;stroke-width:2;stroke-linecap:butt;stroke-linejoin:miter;stroke:rgb(0%,0%,0%);stroke-opacity:1;stroke-miterlimit:10;\" d=\"M 400 300 L 400 200 \"/>\n",
       "<path style=\"fill:none;stroke-width:2;stroke-linecap:butt;stroke-linejoin:miter;stroke:rgb(0%,0%,0%);stroke-opacity:1;stroke-miterlimit:10;\" d=\"M 400 200 L 300 200 \"/>\n",
       "<path style=\"fill:none;stroke-width:2;stroke-linecap:butt;stroke-linejoin:miter;stroke:rgb(0%,0%,0%);stroke-opacity:1;stroke-miterlimit:10;\" d=\"M 300 200 L 300 300 \"/>\n",
       "</g>\n",
       "</svg>\n"
      ]
     },
     "metadata": {},
     "output_type": "display_data"
    }
   ],
   "source": [
    "🐢 = Turtle()\n",
    "\n",
    "@svg begin\n",
    "    for i in 1:4\n",
    "        forward(🐢, 100)\n",
    "        turn(🐢, -90)\n",
    "    end\n",
    "end"
   ]
  },
  {
   "cell_type": "markdown",
   "metadata": {},
   "source": [
    "A sintaxe do comando, ou instrução, `for` é similar a uma definição de função. Um laço `for` possui um cabeçalho e um corpo que termina com a palavra-chave `end`. O corpo pode conter qualquer número de instruções, inclusive outro laço.\n",
    "\n",
    "A instrução `for` é chamada de laço, ou loop, pois o fluxo de execução de um programa percorre o corpo da instrução e depois faz um laço de volta ao cabeçalho, isto é, retorna à primeira instrução do corpo. No código da célula acima, o fluxo de execução percorre o corpo do laço quatro vezes.\n",
    "\n",
    "Essa versão do código para desenhar um quadrado usando laços é um pouco diferente da versão anterior, pois vira uma vez mais após desenhar o último lado do quadrado. Essa curva extra toma mais tempo, mas o código fica mais simples se pudermos fazer a mesma coisa a cada vez que passarmos pelo corpo do laço. A versão com o `for` também tem a vantagem de deixar a tartaruga na posição inicial, de frente para a direção inicial.\n",
    "\n",
    "## Exercícios \n",
    "\n",
    "A seguir temos uma série de exercícios usando tartarugas. Eles foram feitos para serem divertidos, mas também para ensinar alguma coisa. Enquanto trabalha neles, pense sobre o que cada exercício está tentando ensinar.\n",
    "\n",
    "> *Dica*: As seções seguintes têm soluções para esses exercícios, então não continue até que você tenha pelo menos tentado resolvê-los\n",
    "\t\n",
    "\n",
    "### Exercício 4.2\n",
    "\n",
    "Escreva uma função chamada `quadrado`, que deve receber um parâmetro, ou argumento, `t`, que deve ser uma tartaruga. Sua função deve usar a tartaruga `t` para desenhar um quadrado.\n",
    "\n",
    "> *Dica*: Sua definição de função não deve estar dentro de, nem conter, uma chamada à macro `@svg`\n",
    "\n",
    "### Exercício 4.3\n",
    "\n",
    "Escreva uma chamada de função que passe `t` como argumento a `quadrado`, e que use a macro `@svg` para desenhar uma imagem.\n",
    "\n",
    "### Exercício 4.4\n",
    "\n",
    "Adicione um novo parâmetro a `quadrado`, chamado `comprimento`. Modifique a definição de `quadrado` para que o comprimento dos lados do quadrado desenhado seja `comprimento`. Modifique a chamada de função do exercício 4.3 para fornecer o argumento `comprimento`. Execute novamente a chamada à macro `@svg`, e faça experiências com diferentes valores do argumento `comprimento`.\n",
    "\n",
    "### Exercício 4.5\n",
    "\n",
    "Faça uma cópia da definição da função `quadrado`, e mude o nome da função definida na cópia para `polígono`. Adicione um novo parâmetro chamado `lados`, e modifique o corpo da função para fazer com que ela desenhe um *polígono regular* com número de lados dado pelo valor de `lados`.\n",
    "\n",
    "> *Dica*: O valor dos ângulos exteriores de um polígono com número de lados dado pelo valor de $\\texttt{lados}$ é dado por $\\dfrac{360}{\\texttt{lados}}$\n",
    "\n",
    "\n",
    "### Exercício 4.6\n",
    "\n",
    "Escreva uma função chamada `círculo`, que receba como argumentos uma tartaruga `t`, e um raio dado pelo parâmetro `raio`. Sua função deve desenhar uma aproximação de um círculo fazendo chamadas à função `polígono` com valores corretos para `comprimento` e `lados`. Faça experiências diferentes com valores de `raio`.\n",
    "\n",
    "> *Dica*: Descubra como calcular a circunferência de um círculo, e garanta que `comprimento * lados`\tseja igual ao comprimento da circunferência\n",
    "\n",
    "### Exercício 4.7\n",
    "\n",
    "Escreva uma definição *mais geral* da função `círculo` chamada `arco`, que receba um argumento adicional chamado `ângulo`. Esse novo argumento deve determinar a *fração do círculo* a ser desenhada. O argumento `ângulo` é dado em graus, de forma que quando `ângulo = 360`, a função `arco` deve desenhar um círculo completo.\n",
    "\n",
    "## Encapsulamento"
   ]
  }
 ],
 "metadata": {
  "kernelspec": {
   "display_name": "Julia 1.1.1",
   "language": "julia",
   "name": "julia-1.1"
  },
  "language_info": {
   "file_extension": ".jl",
   "mimetype": "application/julia",
   "name": "julia",
   "version": "1.1.1"
  }
 },
 "nbformat": 4,
 "nbformat_minor": 2
}
