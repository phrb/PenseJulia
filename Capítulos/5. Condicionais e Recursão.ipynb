{
 "cells": [
  {
   "cell_type": "markdown",
   "metadata": {},
   "source": [
    "# 5. Condicionais e Recução\n",
    "\n",
    "O principal tópico desse capítulo é a instrução `if`, que executa diferentes códigos dependendo do estado do programa. Mas primeiro eu quero introduzir dois novos operadores: o piso de uma divisão e módulo.\n",
    "\n",
    "## O Piso de Uma Divisão e Módulos\n",
    "\n",
    "O operador *piso de uma divisão* , `$\\div$`  (`\\div TAB`), divide dois números e arredonda para baixo para um inteiro. Por exemplo, suponha que o tempo de duração de um filme é 105 minutos. Você pode querer saber quão longo isso é em horas. Normalmente uma divisão retorna um número de ponto flutuante:"
   ]
  },
  {
   "cell_type": "code",
   "execution_count": 1,
   "metadata": {},
   "outputs": [
    {
     "data": {
      "text/plain": [
       "105"
      ]
     },
     "execution_count": 1,
     "metadata": {},
     "output_type": "execute_result"
    }
   ],
   "source": [
    "minutos = 105"
   ]
  },
  {
   "cell_type": "code",
   "execution_count": 2,
   "metadata": {},
   "outputs": [
    {
     "data": {
      "text/plain": [
       "1.75"
      ]
     },
     "execution_count": 2,
     "metadata": {},
     "output_type": "execute_result"
    }
   ],
   "source": [
    "minutos / 60"
   ]
  },
  {
   "cell_type": "markdown",
   "metadata": {},
   "source": [
    "Mas nós normalmente não escrevemos as horas com número decimais. O chão de uma divisão retorna o úmero inteiro de horas, arrendondando para baixo:"
   ]
  },
  {
   "cell_type": "code",
   "execution_count": 3,
   "metadata": {},
   "outputs": [
    {
     "data": {
      "text/plain": [
       "1"
      ]
     },
     "execution_count": 3,
     "metadata": {},
     "output_type": "execute_result"
    }
   ],
   "source": [
    "horas = minutos ÷ 60"
   ]
  },
  {
   "cell_type": "markdown",
   "metadata": {},
   "source": [
    "Para calcular o resto da divisão, você poderia substrair uma hora em minutos:"
   ]
  },
  {
   "cell_type": "code",
   "execution_count": 4,
   "metadata": {},
   "outputs": [
    {
     "data": {
      "text/plain": [
       "45"
      ]
     },
     "execution_count": 4,
     "metadata": {},
     "output_type": "execute_result"
    }
   ],
   "source": [
    "resto = minutos - horas * 60"
   ]
  },
  {
   "cell_type": "markdown",
   "metadata": {},
   "source": [
    "Outra opção é utilizar o operador *módulo*, `%`, que divide dois números e retorna o resto dessa divisão."
   ]
  },
  {
   "cell_type": "code",
   "execution_count": 5,
   "metadata": {},
   "outputs": [
    {
     "data": {
      "text/plain": [
       "45"
      ]
     },
     "execution_count": 5,
     "metadata": {},
     "output_type": "execute_result"
    }
   ],
   "source": [
    "resto = minutos % 60"
   ]
  },
  {
   "cell_type": "markdown",
   "metadata": {},
   "source": [
    "Dica | Os operadores de módulo são mais úteis do que parece. Por exemplo, você pode verificar se um número é divisível por outros -- se `x % y` é zero, então `x` é divisível por `y`.\n",
    "\n",
    "Além disso, você pode extrair o dígito da extrema direita de um número. Por exemplo, `x % 10` extrai o número à extrema direita de um inteiro `x` (em base 10). Da mesma forma, `x % 100` extrai os dois dígitos à extrema direita de um número.\n",
    "\n",
    "## Expressões Booleanas\n",
    "\n",
    "Uma *expressão booleana* é uma expressão que pode apenas ser verdadeira ou falsa. Os seguintes exemplos utilizam o operador `==`, que compara dois operadores e produz `true` se eles forem iguais, e `falso` caso contrário:"
   ]
  },
  {
   "cell_type": "code",
   "execution_count": 6,
   "metadata": {},
   "outputs": [
    {
     "data": {
      "text/plain": [
       "true"
      ]
     },
     "execution_count": 6,
     "metadata": {},
     "output_type": "execute_result"
    }
   ],
   "source": [
    "5 == 5"
   ]
  },
  {
   "cell_type": "code",
   "execution_count": 7,
   "metadata": {},
   "outputs": [
    {
     "data": {
      "text/plain": [
       "false"
      ]
     },
     "execution_count": 7,
     "metadata": {},
     "output_type": "execute_result"
    }
   ],
   "source": [
    "5 == 6"
   ]
  },
  {
   "cell_type": "markdown",
   "metadata": {},
   "source": [
    "`true` e `false` são valores especiais que pertecem o tipo `Bool`. Eles não são strings:"
   ]
  },
  {
   "cell_type": "code",
   "execution_count": 8,
   "metadata": {},
   "outputs": [
    {
     "data": {
      "text/plain": [
       "Bool"
      ]
     },
     "execution_count": 8,
     "metadata": {},
     "output_type": "execute_result"
    }
   ],
   "source": [
    "typeof(true)"
   ]
  },
  {
   "cell_type": "code",
   "execution_count": 9,
   "metadata": {},
   "outputs": [
    {
     "data": {
      "text/plain": [
       "Bool"
      ]
     },
     "execution_count": 9,
     "metadata": {},
     "output_type": "execute_result"
    }
   ],
   "source": [
    "typeof(false)"
   ]
  },
  {
   "cell_type": "markdown",
   "metadata": {},
   "source": [
    "O operador `==` é um dos operadores operacionais, os outros são:\n",
    "\n",
    "      x != y               # x é diferente de y\n",
    "      x ≠ y                # (\\ne TAB)\n",
    "      x > y                # x é maior que y\n",
    "      x < y                # x é menor que y\n",
    "      x >= y               # x é maior ou igual que y\n",
    "      x ≥ y                # (\\ge TAB)\n",
    "      x <= y               # x é menor ou igual que y\n",
    "      x ≤ y                # (\\le TAB)\n",
    "      \n",
    "Aviso | Apesar desses operadores serem provavelmente familiares para você, os símbolos em Julia são diferentes doq ue os símbolos matemáticos. Um erro comum é utilizar um único sinal de igual (`=`) ao invés de dois sinais de igual (`==`). Lembre-se que `=` é uma instrução de atribuição e o operador `==` é um operador relacional. Lembre-se também que não existem símbolos como `=<` ou `>=`.\n",
    "\n",
    "## Operadores Lógicos\n",
    "\n",
    "Existem três *operadores lógicos*: `&&` (e), `||` (ou), e `!` (não). A semântica (significado) desses operadores é similar com seus significados em Língua Portuguesa. Por exemplo, `x > 0 && x < 10` é verdadeiro apenas se `x` é maior do que `0` *e* menor que `10`.\n",
    "\n",
    "`n % 2 == 0 || n % 3 == 0` é verdadeiro se *uma* ou *ambas* as condições são verdadeiras, ou seja, se o número é divisível por 2 *ou* 3.\n",
    "\n",
    "Ambos `&&` e `||` *associate to the right*, mas `&&` tem prioridade maior do que `||`.\n",
    "\n",
    "Por último, o operador `!` nega uma expressão booleana, então `!(x > y)` é verdadeiro se `x > y` for falso, ou seja, se `x` for menor ou igual que `y` .\n",
    "\n",
    "## Condicionais\n",
    "\n",
    "Para escrever programas úteis, nós quase sempre precisamos da habilidade de verificar condições e mudar o comportamento de um programa em função dessa condições. *Condicionais* nos dão essa habilidade. A forma mais simples de condicional é a instrução `if`:\n",
    "\n",
    "if x > 0\n",
    "    println(\"x is positive\")\n",
    "end\n",
    "\n",
    "A expressão booleana depois do `if` é chamada de *condição*. Se for verdadeira, as instruções identadas são executadas. Caso contrário, nada acontece.\n",
    "\n",
    "A instrução `if` tem a mesma estrutura que definições de funções: um cabeçalho seguido de um corpo, encerrado com uma palava-chave `end`. Instruções como essa são chamadas de `instruções compostas`.\n",
    "\n",
    "Não existe limite para a quantidade de instruções que podem aparecer no corpo de uma condicional. De vez em quando, é útil ter um corpo vazio (geralmente como um espaço separado para acrescentar código posteriormente).\n",
    "\n",
    "if x < 0\n",
    "    # TODO: need to handle negative values!\n",
    "end\n",
    "\n",
    "## Execução Alternativa ~ *verificar melhor tradução*\n",
    "\n",
    "Uma segunda forma da instrução `if` é a *execução alternativa*, onde existem duas possibilidades e a condição determina qual das duas será executada. A syntaxe se parece com a seguinte: \n",
    "\n",
    "if x % 2 == 0\n",
    "    println(\"x is even\")\n",
    "else\n",
    "    println(\"x is odd\")\n",
    "end\n",
    "\n",
    "Se o resto da divisão de `x`por `2` for 0, então sabemos que `x` é par, e o programa exibe uma mensagem apropriada. Se a condição for falsa, o segundo conjunto de instruções é executado. A condição snedo verdadeira ou falsa, exatamente uma das duas alternativas será executada. As alternativas são chamadas de `ramificações`, pois são ramificações do fluxo de execução.\n",
    "\n",
    "## Condicionais Encadeadas\n",
    "\n",
    "As vezes existem mais do que duas possibilidades e nós precisamos de mais do que duas ramificações. Uma forma de expressar um cálculo que é uma *condicional encadeada* :\n",
    "\n",
    "if x < y\n",
    "    println(\"x is less than y\")\n",
    "elseif x > y\n",
    "    println(\"x is greater than y\")\n",
    "else\n",
    "    println(\"x and y are equal\")\n",
    "end\n",
    "\n",
    "Novamente, exatamente uma ramificação será executada. Não existem limites para o número de instruções `elseif`. Se existe uma instrução `else`, a condicional será encerrada, mas não é obrigatória a existência de um.\n",
    "\n",
    "if choice == \"a\"\n",
    "    draw_a()\n",
    "elseif choice == \"b\"\n",
    "    draw_b()\n",
    "elseif choice == \"c\"\n",
    "    draw_c()\n",
    "end\n",
    "\n",
    "Cada condição é verificada em ordem. Se a primeira for falsa, então a segunda é verifica, e assim por diante. Se uma delas é verdadeira, a ramificação correspondente executa suas instruões e se encerra. Se mais de uma condição for verdadeira, apenas a primeira ramificação é executada.\n",
    "\n",
    "## Condições Aninhadas\n",
    "\n",
    "Uma condição pode ser aninhada com outra. Nós poderíamos ter escrito o exemplo da seção anterior como:\n",
    "\n",
    "if x == y\n",
    "    println(\"x and y are equal\")\n",
    "else\n",
    "    if x < y\n",
    "        println(\"x is less than y\")\n",
    "    else\n",
    "        println(\"x is greater than y\")\n",
    "    end\n",
    "end\n",
    "\n",
    "A condição de fora possui duas ramificações. A primeira ramificação contem uma simples instrução. A segunda ramificação contém outra instrução `if`, que compoem duas outras ramificações. Essas duas ramificações possuem instruções simples, apesar delas poderem também ter instruções condicionais.\n",
    "\n",
    "Apesar da identação não obrigatória das instruções torna tal estrutura visível, *condições aninhadas* se tornam difícei de serem lidas muito rapidamente. Uma boa ideia é evitá-las quando puder.\n",
    "\n",
    "Operadores lógicos geralmente oferecem uma maneira de simplificar instruções condicionais aninhadas. Por exemplo, nós podemos escrever o seguinte código utilizando uma unica condicional:\n",
    "\n",
    "\n",
    "if 0 < x\n",
    "    if x < 10\n",
    "        println(\"x is a positive single-digit number.\")\n",
    "    end\n",
    "end\n",
    "\n",
    "A instrução `print` executa apenas se nós passarmos pelas duas condições, então nós podemos ter o mesmo efeito que o causado pelo operado `&&`:\n",
    "\n",
    "if 0 < x && x < 10\n",
    "    println(\"x is a positive single-digit number.\")\n",
    "end\n",
    "\n",
    "Para esse tipo de condição, Julia oferece uma syntaxe mais concisa:\n",
    "\n",
    "if 0 < x < 10\n",
    "    println(\"x is a positive single-digit number.\")\n",
    "end\n",
    "\n",
    "## Recursão\n",
    "\n",
    "É permitido que uma função chame outra. Também é permitido que uma função chame a si mesma. Pode não parecer óbvio porque isso é uma coisa boa, mas isso se torna uma das coisas mais mágicas que um programa pode fazer. Por exemplo, olhe a seguinte função:"
   ]
  },
  {
   "cell_type": "code",
   "execution_count": 10,
   "metadata": {},
   "outputs": [
    {
     "data": {
      "text/plain": [
       "contagemregressiva (generic function with 1 method)"
      ]
     },
     "execution_count": 10,
     "metadata": {},
     "output_type": "execute_result"
    }
   ],
   "source": [
    "function contagemregressiva(n)\n",
    "    if n ≤ 0\n",
    "        println(\"Decolar!\")\n",
    "    else\n",
    "        print(n, \" \")\n",
    "        contagemregressiva(n-1)\n",
    "    end\n",
    "end"
   ]
  },
  {
   "cell_type": "markdown",
   "metadata": {},
   "source": [
    "Se `n` é 0 ou negativo, a saída é a palavra `\"Decolar!\"`. Caso contrário, a função exibe `n` e então chama a função `contagemregressiva` -- ela mesma -- passando `n - 1` como argumento.\n",
    "\n",
    "O que acontece se nós chamarmos uma função como essa?"
   ]
  },
  {
   "cell_type": "code",
   "execution_count": 11,
   "metadata": {},
   "outputs": [
    {
     "name": "stdout",
     "output_type": "stream",
     "text": [
      "3 2 1 Decolar!\n"
     ]
    }
   ],
   "source": [
    "contagemregressiva(3)"
   ]
  },
  {
   "cell_type": "markdown",
   "metadata": {},
   "source": [
    "A execução da função `contagemregressiva` começa com `n = 3`, e desde que `n` seja maior do que 0, ela exibe o valor 3, e então chama a si mesma  ...\n",
    "    \n",
    "    A execução da função `contagemregressiva` começa com `n = 2`, e como `n` é maior do que 0, ela exibe o valor 2, e então chama a si mesma  ...\n",
    "    \n",
    "            A execução da função `contagemregressiva` começa com `n = 1`, e como `n` é maior do que 0, ela exibe o valor 1, e então chama a si mesma  ...\n",
    "            \n",
    "                    A execução da função `contagemregressiva` começa com `n = 0`, e como `n` não é maior do que 0, ela exibe, \"Decolar!\" e então  retorna ...\n",
    "             \n",
    "            A instância de `contagemregressiva` que possuia `n = 1` retorna.\n",
    "         \n",
    "    A instância de `contagemregressiva` que possuia `n = 2` retorna.\n",
    "\n",
    "A instância de `contagemregressiva` que possuia `n = 3` retorna.\n",
    "\n",
    "E então você está de volta na função `Main`\n",
    "\n",
    "A função de chama ela mesma é *recursiva* e o processo de executá-la é chamado de *recusão*.\n",
    "\n",
    "Um outro exemplo, nós podemos escrever a função que exibe a uma string *n* vezes."
   ]
  },
  {
   "cell_type": "code",
   "execution_count": 12,
   "metadata": {},
   "outputs": [
    {
     "data": {
      "text/plain": [
       "exibe (generic function with 1 method)"
      ]
     },
     "execution_count": 12,
     "metadata": {},
     "output_type": "execute_result"
    }
   ],
   "source": [
    "function exibe(s, n)\n",
    "    if n ≤ 0\n",
    "        return\n",
    "    end\n",
    "    println(s)\n",
    "    exibe(s, n-1)\n",
    "end"
   ]
  },
  {
   "cell_type": "markdown",
   "metadata": {},
   "source": [
    "Se `n <= 0` a instrução `return` encerra a função. O fluxo de execução é imediatamente retornado para o ponto inicial da chamada, e o restante das linhas de código da função não serão executados.\n",
    "\n",
    "O retante da função é parecido com `contagemregressiva`: isso exibe `s` e então chama a si própria para mostrar `s` *n - 1* vezes. Então, o número de linhas da saída é 1 + (*n* - 1), que é equivalente a *n*.\n",
    "\n",
    "Para um exemplo simples, é provavelmente fácil de ser feito utilizando um laço `for`. Mas nós veremos exemplos mais tarde onde que são difíceis de escrever com um laço `for` e fáceis com uma recursão, então é bom começar cedo.\n",
    "\n",
    "## Diagrama de Pilhas para Funções Recursivas\n",
    "\n",
    "Vimos que um diagrama de pilhas é usado para representar o estado de um programa durante uma chamada de função. Esse mesmo tipo de diagrama pode ser utilizado para nos ajuda a interpretar funções recursivas.\n",
    "\n",
    "Sempre que uma função é chamada, Julia cria um quadro para manter suas variáveis locais e parâmetros. Quando utilizamos funções recursivas existirão mais de um quadro por vez no diagrama pilha.\n",
    "\n",
    "|Main| | |\n",
    "|contagem_regressiva| n -> 3 |\n",
    "|contagem_regressiva| n -> 2 |\n",
    "|contagem_regressiva| n -> 1 |\n",
    "|contagem_regressiva| n -> 0 |\n",
    "\n",
    "O diagrama de pilhas acima mostra a função `contagem_regressiva` que é chamada com `n = 3`.\n",
    "\n",
    "A pilha é iniciada com a função `Main`, como de costume. Seu quadro está vazio pois não criamos nenhuma variável ou passamos nenhum argumento em sua chamada.\n",
    "\n",
    "Os quatro quadros da função `contagem_regressiva` contém valores diferentes para o parâmetro `n`. O final da pilha, onde `n = 0`, é chamado de *caso base*, pois não faz mais nenhuma chamada recursiva e então não existem mais quadro.\n",
    "\n",
    "### Execício 5.1\n",
    "\n",
    "Desenhe um diagrama de pilha para a função `println` chamada com `s = \"Olá\"` e `n = 2`. Então escreva uma função chamada `faça_n` que recebe como argumento um objeto de função e um número `n`, que chame a função passada *n* vezes. \n",
    "\n",
    "## Recursão Infinita\n",
    "\n",
    "Um função fará chamadas recursivas para sempre se nunca atingir seu caso base, e assim o programa nunca terminará. Essa função é conhecida como *função recursiva*, e em geral não são uma boa ideia. Vejamos um pequeno exemplo de uma função que faz recursão inifinitamente:"
   ]
  },
  {
   "cell_type": "code",
   "execution_count": 13,
   "metadata": {},
   "outputs": [
    {
     "data": {
      "text/plain": [
       "recorrência (generic function with 1 method)"
      ]
     },
     "execution_count": 13,
     "metadata": {},
     "output_type": "execute_result"
    }
   ],
   "source": [
    "function recorrência()\n",
    "    recorrência()\n",
    "end"
   ]
  },
  {
   "cell_type": "markdown",
   "metadata": {},
   "source": [
    "Na prática, um programa com recursão infinita não é executado para sempre. Julia retorna uma mensagem de erro quando atinge a profundidade máxima da recursão. Ou seja, o número máximo de vezes em que pode executar aquela chamada de função recursivamente:"
   ]
  },
  {
   "cell_type": "code",
   "execution_count": 14,
   "metadata": {},
   "outputs": [
    {
     "ename": "StackOverflowError",
     "evalue": "StackOverflowError:",
     "output_type": "error",
     "traceback": [
      "StackOverflowError:",
      "",
      "Stacktrace:",
      " [1] recorrência() at ./In[13]:2 (repeats 80000 times)"
     ]
    }
   ],
   "source": [
    "recorrência()"
   ]
  },
  {
   "cell_type": "markdown",
   "metadata": {},
   "source": [
    "A mensagem de erro nos informa que a função `recorrência` foi chamada 80000 vezes. Ou seja, existiam 80000 quadros na pilha quando o erro ocorreu!\n",
    "\n",
    "Se você fizer uma recursão infinita por acidente, revise o seu código para confirmar se existe um caso base e que ele não faz uma chamada recursiva. E se existir um caso base, confira se é possível chegar até ele.\n",
    "\n",
    "## Entrada do Teclado\n",
    "\n",
    "Os programas que escrevemos até agora não aceitam entrada do usuário e então fazem a mesma coisa sempre.\n",
    "\n",
    "Julia oferece uma função pré-definida chamada `readline` que pausa um programa e espera até que o usuário digite alguma coisa. O programa retorna à sua execução quando o usuário aperta a tecla `ENTER`, e então `readline` retorna o que usuário digitou no formato string."
   ]
  },
  {
   "cell_type": "code",
   "execution_count": 15,
   "metadata": {},
   "outputs": [
    {
     "name": "stdout",
     "output_type": "stream",
     "text": [
      "stdin> O que você está esperando?\n"
     ]
    },
    {
     "data": {
      "text/plain": [
       "\"O que você está esperando?\""
      ]
     },
     "execution_count": 15,
     "metadata": {},
     "output_type": "execute_result"
    }
   ],
   "source": [
    "texto = readline()"
   ]
  },
  {
   "cell_type": "markdown",
   "metadata": {},
   "source": [
    "É uma boa ideia impririmir uma mensagem dizendo ao usuário que tipo de entrada você deseja:"
   ]
  },
  {
   "cell_type": "code",
   "execution_count": 16,
   "metadata": {},
   "outputs": [
    {
     "name": "stdout",
     "output_type": "stream",
     "text": [
      "Qual ... é o seu nome?stdin> Arthur, o rei dos britânicos!\n"
     ]
    },
    {
     "data": {
      "text/plain": [
       "\"Arthur, o rei dos britânicos!\""
      ]
     },
     "execution_count": 16,
     "metadata": {},
     "output_type": "execute_result"
    }
   ],
   "source": [
    "print(\"Qual ... é o seu nome?\"); readline()"
   ]
  },
  {
   "cell_type": "markdown",
   "metadata": {},
   "source": [
    "Um ponto e vírgula `;` permite o uso de múltiplas instruções na mesma linha. Apenas a última instrução retorna valores no REPL.\n",
    "\n",
    "Se você quer que o usuário digite um inteiro, você pode tentar converter o valor retornado para `Int64`:"
   ]
  },
  {
   "cell_type": "code",
   "execution_count": 17,
   "metadata": {},
   "outputs": [
    {
     "name": "stdout",
     "output_type": "stream",
     "text": [
      "Qual ... é a velocidade de uma andorinha?\n",
      "stdin> 42\n"
     ]
    },
    {
     "data": {
      "text/plain": [
       "\"42\""
      ]
     },
     "execution_count": 17,
     "metadata": {},
     "output_type": "execute_result"
    }
   ],
   "source": [
    "println(\"Qual ... é a velocidade de uma andorinha?\"); velocidade = readline()"
   ]
  },
  {
   "cell_type": "code",
   "execution_count": 18,
   "metadata": {},
   "outputs": [
    {
     "data": {
      "text/plain": [
       "42"
      ]
     },
     "execution_count": 18,
     "metadata": {},
     "output_type": "execute_result"
    }
   ],
   "source": [
    "parse(Int64, velocidade)"
   ]
  },
  {
   "cell_type": "markdown",
   "metadata": {},
   "source": [
    "Mas, se o usuário digitar algo como uma sequência de caracteres, você verá o seguinte erro:"
   ]
  },
  {
   "cell_type": "code",
   "execution_count": 19,
   "metadata": {},
   "outputs": [
    {
     "name": "stdout",
     "output_type": "stream",
     "text": [
      "Qual ... é a velocidade de uma andorinha?\n",
      "stdin> Qual é a velocidade de uma andorinha? Como assim, uma androinha Africana ou Européia?\n"
     ]
    },
    {
     "data": {
      "text/plain": [
       "\"Qual é a velocidade de uma andorinha? Como assim, uma androinha Africana ou Européia?\""
      ]
     },
     "execution_count": 19,
     "metadata": {},
     "output_type": "execute_result"
    }
   ],
   "source": [
    "println(\"Qual ... é a velocidade de uma andorinha?\"); velocidade = readline()"
   ]
  },
  {
   "cell_type": "code",
   "execution_count": 20,
   "metadata": {},
   "outputs": [
    {
     "ename": "ArgumentError",
     "evalue": "ArgumentError: invalid base 10 digit 'Q' in \"Qual é a velocidade de uma andorinha? Como assim, uma androinha Africana ou Européia?\"",
     "output_type": "error",
     "traceback": [
      "ArgumentError: invalid base 10 digit 'Q' in \"Qual é a velocidade de uma andorinha? Como assim, uma androinha Africana ou Européia?\"",
      "",
      "Stacktrace:",
      " [1] tryparse_internal(::Type{Int64}, ::String, ::Int64, ::Int64, ::Int64, ::Bool) at ./parse.jl:131",
      " [2] #parse#348(::Nothing, ::Function, ::Type{Int64}, ::String) at ./parse.jl:238",
      " [3] parse(::Type{Int64}, ::String) at ./parse.jl:238",
      " [4] top-level scope at In[20]:1"
     ]
    }
   ],
   "source": [
    "parse(Int64, velocidade)"
   ]
  },
  {
   "cell_type": "markdown",
   "metadata": {},
   "source": [
    "Mas, veremos como lidar com esse tipo de erro mais tarde.\n",
    "\n",
    "## Debugando\n",
    "\n",
    "Quando ocorre um erro de syntaxe ou de execução, as mensagem de erro trazem muita informação, mas isso pode ser assustador. As partes mais úteis são geralmente:\n",
    "\n",
    "- Que tipo de erro occoreu? \n",
    "- Onde o erro ocorreu?\n",
    "\n",
    "Geralmente é fácil de encontrar erros de syntaxe, mas as vezes existem alguma pegadinhas. Em geral, as mensagens de erro indicam onde o erro foi descoberto, mas o verdadeiro erro provavelmente ocorreu antes daquela linha de código, as vezes na linha anterior.\n",
    "\n",
    "O mesmo vale para os erros de execução. Suponha que você está tentando calcular uma razão entre as intensidades de sinal e ruído em decibéis. A fórmula é: \n",
    "\n",
    "SNRdb = 10\\log10 Psinal/ Pruido .\n",
    "\n",
    "Em Julia, você pode escrever algo como:\n",
    "\n",
    "intensidade_sinal = 9\n",
    "intensidade_ruido = 10\n",
    "razão = intensidade_sinal ÷ intensidade_ruido\n",
    "decibéis = 10 * log10(razão)\n",
    "print(decibéis)\n",
    "\n",
    "E você receberá:\n",
    "\n",
    "-Inf\n",
    "\n",
    "O que não é o resultado esperado.\n",
    "\n",
    "Para encontrar o erro, pode ser útil imprimir o valor da razão, que parece ser 0. O problema está na linha 3, cujo usa divisão inteira ao invés de uma divisão de ponto flutuante.\n",
    "\n",
    "> Aviso: Você deve ler as mensagens de erro com calma, mas não tome tudo o que eles informam como verdade.\n",
    "\n",
    "## Glossário\n",
    "\n",
    "**divisão inteira**\n",
    "Um operador, representado por \\div, que divide dois núemeros e arrendonda o resultado para baixo para um inteiro.\n",
    "\n",
    "**operador módulo**\n",
    "Um operador, representado pelo o sinal de porcentagem (%), que retorna o resto da divisão de dois números.\n",
    "\n",
    "**expressão booleana**\n",
    "Uma expressão na qual o valor pode ser `true` ou `false`.\n",
    "\n",
    "**operador relacional**\n",
    "Operadores que comparam seus operandos: `==`, `\\dif`(`!=`), `>`, `<`, `>=`(`>=`), `(<=)`(`<=`)\n",
    "\n",
    "**operador lógico**\n",
    "Operadores que combinam expressões booleanas: `&&`(and), `||`(or), and `!`(not).\n",
    "\n",
    "**intrução condicional**\n",
    "Uma instrução que controla o fluxo de execução dependendo de alguma confição.\n",
    "\n",
    "**condição**\n",
    "Uma expressão booleana dentro de uma instrução condicional, que determina que ramo executar.\n",
    "\n",
    "**instrução composta**\n",
    "Uma instrução que consiste em um cabeçalho e um corpo. O copo é encerrado com a palavra-chave `end`.\n",
    "\n",
    "**ramo**\n",
    "Uma das opções a serem seguidas em uma instrução condicional.\n",
    "\n",
    "**condicional encadeada**\n",
    "Uma instrução condicional com vários ramos.\n",
    "\n",
    "**condicional aninhada**\n",
    "Uma instrução condicional que aparece dentro de um ramo de outra instrução condicial.\n",
    "\n",
    "**instrução de retorno**\n",
    "Uma instrução que encerra uma função imediatamente e retorna para o chamador.\n",
    "\n",
    "**recusão**\n",
    "O processo de chamar a função que está atualmente em execução.\n",
    "\n",
    "**caso base**\n",
    "A ramo condicional de uma função recursiva que não executa uma chamada recursiva.\n",
    "\n",
    "**recursão infinita**\n",
    "Uma recursão que não tem um caso base, ou nunca o alcança. Eventualmente, uma recursão inifinita causa erros em tempo de execução.\n",
    "\n",
    "## Exercícios\n",
    "\n",
    "### Exercício 5.2\n",
    "\n",
    "A função `time` retorna o Horário Médio de Greenwich em segundos desde \"a época\", que é um horário utilizado como ponto de referência. Em sistemas UNIX, \"a época\" é 1 de Janeiro de 1970."
   ]
  },
  {
   "cell_type": "code",
   "execution_count": 21,
   "metadata": {},
   "outputs": [
    {
     "data": {
      "text/plain": [
       "1.566018749481643e9"
      ]
     },
     "execution_count": 21,
     "metadata": {},
     "output_type": "execute_result"
    }
   ],
   "source": [
    "time()"
   ]
  },
  {
   "cell_type": "markdown",
   "metadata": {},
   "source": [
    "Escreva um script que lê o horario atual e o converte em um horário em horas, minutos e secundos, mais o número de dias desde \"a época\"\n",
    "\n",
    "### Exercício 5.3\n",
    "\n",
    "O último teorema de Fermat que não existem inteiros positivos *a*, *b*, e *c* tais que:\n",
    "a^n + b^n = c^n\n",
    "para qualquer n > 2.\n",
    "\n",
    "1. Escreva uma função chamada `verificafermat` que recebe quatro parâmetros-`a`, `b`, `c` e `n`-e verifica se o Teorema de Fermat é válido. Se `n` for maior que 2 e `a^n + b^n = c^n` o programa deve imprimir, \"Santo Deus, Fermat estava errado!\", caso contrário o progama deve imprimir, \"Não, isso funcionar.\"\n",
    "\n",
    "2. Escreva uma função que recebe de entrada do usuário valores para `a`, `b`, `c` e `n`, converte esses valores em inteiros, e usa `verificafermat` para verificar qual deles viola o Teorema de Fermat."
   ]
  },
  {
   "cell_type": "markdown",
   "metadata": {},
   "source": []
  },
  {
   "cell_type": "markdown",
   "metadata": {},
   "source": []
  },
  {
   "cell_type": "markdown",
   "metadata": {},
   "source": []
  },
  {
   "cell_type": "markdown",
   "metadata": {},
   "source": []
  },
  {
   "cell_type": "markdown",
   "metadata": {},
   "source": []
  },
  {
   "cell_type": "markdown",
   "metadata": {},
   "source": []
  },
  {
   "cell_type": "markdown",
   "metadata": {},
   "source": []
  }
 ],
 "metadata": {
  "kernelspec": {
   "display_name": "Julia 1.1.1",
   "language": "julia",
   "name": "julia-1.1"
  },
  "language_info": {
   "file_extension": ".jl",
   "mimetype": "application/julia",
   "name": "julia",
   "version": "1.1.1"
  }
 },
 "nbformat": 4,
 "nbformat_minor": 2
}
