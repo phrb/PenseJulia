{
 "cells": [
  {
   "cell_type": "markdown",
   "metadata": {},
   "source": [
    "# 5. Condicionais e Recução"
   ]
  },
  {
   "cell_type": "markdown",
   "metadata": {},
   "source": [
    "O principal tópico desse capítulo é a instrução `if`, que executa diferentes códigos dependendo do estado do programa. Mas primeiro eu quero introduzir dois novos operadores: o piso de uma divisão e módulo."
   ]
  },
  {
   "cell_type": "markdown",
   "metadata": {},
   "source": [
    "## O Piso de Uma Divisão e Módulos"
   ]
  },
  {
   "cell_type": "markdown",
   "metadata": {},
   "source": [
    "O operador *piso de uma divisão* , `$\\div$`  (`\\div TAB`), divide dois números e arredonda para baixo para um inteiro. Por exemplo, suponha que o tempo de duração de um filme é 105 minutos. Você pode querer saber quão longo isso é em horas. Normalmente uma divisão retorna um número de ponto flutuante:"
   ]
  },
  {
   "cell_type": "code",
   "execution_count": 8,
   "metadata": {},
   "outputs": [
    {
     "data": {
      "text/plain": [
       "105"
      ]
     },
     "execution_count": 8,
     "metadata": {},
     "output_type": "execute_result"
    }
   ],
   "source": [
    "minutos = 105"
   ]
  },
  {
   "cell_type": "code",
   "execution_count": 4,
   "metadata": {},
   "outputs": [
    {
     "data": {
      "text/plain": [
       "1.75"
      ]
     },
     "execution_count": 4,
     "metadata": {},
     "output_type": "execute_result"
    }
   ],
   "source": [
    "minutos / 60"
   ]
  },
  {
   "cell_type": "markdown",
   "metadata": {},
   "source": [
    "Mas nós normalmente não escrevemos as horas com número decimais. O chão de uma divisão retorna o úmero inteiro de horas, arrendondando para baixo:"
   ]
  },
  {
   "cell_type": "code",
   "execution_count": 9,
   "metadata": {},
   "outputs": [
    {
     "data": {
      "text/plain": [
       "1"
      ]
     },
     "execution_count": 9,
     "metadata": {},
     "output_type": "execute_result"
    }
   ],
   "source": [
    "horas = minutos ÷ 60"
   ]
  },
  {
   "cell_type": "markdown",
   "metadata": {},
   "source": [
    "Para calcular o resto da divisão, você poderia substrair uma hora em minutos:"
   ]
  },
  {
   "cell_type": "code",
   "execution_count": 10,
   "metadata": {},
   "outputs": [
    {
     "data": {
      "text/plain": [
       "45"
      ]
     },
     "execution_count": 10,
     "metadata": {},
     "output_type": "execute_result"
    }
   ],
   "source": [
    "resto = minutos - horas * 60"
   ]
  },
  {
   "cell_type": "markdown",
   "metadata": {},
   "source": [
    "Outra opção é utilizar o operador *módulo*, `%`, que divide dois números e retorna o resto dessa divisão."
   ]
  },
  {
   "cell_type": "code",
   "execution_count": 11,
   "metadata": {},
   "outputs": [
    {
     "data": {
      "text/plain": [
       "45"
      ]
     },
     "execution_count": 11,
     "metadata": {},
     "output_type": "execute_result"
    }
   ],
   "source": [
    "resto = minutos % 60"
   ]
  },
  {
   "cell_type": "markdown",
   "metadata": {},
   "source": [
    "Dica | Os operadores de módulo são mais úteis do que parece. Por exemplo, você pode verificar se um número é divisível por outros -- se `x % y` é zero, então `x` é divisível por `y`.\n",
    "\n",
    "Além disso, você pode extrair o dígito da extrema direita de um número. Por exemplo, `x % 10` extrai o número à extrema direita de um inteiro `x` (em base 10). Da mesma forma, `x % 100` extrai os dois dígitos à extrema direita de um número."
   ]
  },
  {
   "cell_type": "markdown",
   "metadata": {},
   "source": [
    "## Expressões Booleanas"
   ]
  },
  {
   "cell_type": "markdown",
   "metadata": {},
   "source": [
    "Uma *expressão booleana* é uma expressão que pode apenas ser verdadeira ou falsa. Os seguintes exemplos utilizam o operador `==`, que compara dois operadores e produz `true` se eles forem iguais, e `falso` caso contrário:"
   ]
  },
  {
   "cell_type": "code",
   "execution_count": 12,
   "metadata": {},
   "outputs": [
    {
     "data": {
      "text/plain": [
       "true"
      ]
     },
     "execution_count": 12,
     "metadata": {},
     "output_type": "execute_result"
    }
   ],
   "source": [
    "5 == 5"
   ]
  },
  {
   "cell_type": "code",
   "execution_count": 13,
   "metadata": {},
   "outputs": [
    {
     "data": {
      "text/plain": [
       "false"
      ]
     },
     "execution_count": 13,
     "metadata": {},
     "output_type": "execute_result"
    }
   ],
   "source": [
    "5 == 6"
   ]
  },
  {
   "cell_type": "markdown",
   "metadata": {},
   "source": [
    "`true` e `false` são valores especiais que pertecem o tipo `Bool`. Eles não são strings:"
   ]
  },
  {
   "cell_type": "code",
   "execution_count": 14,
   "metadata": {},
   "outputs": [
    {
     "data": {
      "text/plain": [
       "Bool"
      ]
     },
     "execution_count": 14,
     "metadata": {},
     "output_type": "execute_result"
    }
   ],
   "source": [
    "typeof(true)"
   ]
  },
  {
   "cell_type": "code",
   "execution_count": 15,
   "metadata": {},
   "outputs": [
    {
     "data": {
      "text/plain": [
       "Bool"
      ]
     },
     "execution_count": 15,
     "metadata": {},
     "output_type": "execute_result"
    }
   ],
   "source": [
    "typeof(false)"
   ]
  },
  {
   "cell_type": "markdown",
   "metadata": {},
   "source": [
    "O operador `==` é um dos operadores operacionais, os outros são:"
   ]
  },
  {
   "cell_type": "markdown",
   "metadata": {},
   "source": [
    "      x != y               # x é diferente de y\n",
    "      x ≠ y                # (\\ne TAB)\n",
    "      x > y                # x é maior que y\n",
    "      x < y                # x é menor que y\n",
    "      x >= y               # x é maior ou igual que y\n",
    "      x ≥ y                # (\\ge TAB)\n",
    "      x <= y               # x é menor ou igual que y\n",
    "      x ≤ y                # (\\le TAB)"
   ]
  },
  {
   "cell_type": "markdown",
   "metadata": {},
   "source": [
    "Aviso | Apesar desses operadores serem provavelmente familiares para você, os símbolos em Julia são diferentes doq ue os símbolos matemáticos. Um erro comum é utilizar um único sinal de igual (`=`) ao invés de dois sinais de igual (`==`). Lembre-se que `=` é uma instrução de atribuição e o operador `==` é um operador relacional. Lembre-se também que não existem símbolos como `=<` ou `>=`."
   ]
  },
  {
   "cell_type": "markdown",
   "metadata": {},
   "source": [
    "## Operadores Lógicos"
   ]
  },
  {
   "cell_type": "markdown",
   "metadata": {},
   "source": [
    "Existem três *operadores lógicos*: `&&` (e), `||` (ou), e `!` (não). A semântica (significado) desses operadores é similar com seus significados em Língua Portuguesa. Por exemplo, `x > 0 && x < 10` é verdadeiro apenas se `x` é maior do que `0` *e* menor que `10`.\n",
    "\n",
    "`n % 2 == 0 || n % 3 == 0` é verdadeiro se *uma* ou *ambas* as condições são verdadeiras, ou seja, se o número é divisível por 2 *ou* 3.\n",
    "\n",
    "Ambos `&&` e `||` *associate to the right*, mas `&&` tem prioridade maior do que `||`.\n",
    "\n",
    "Por último, o operador `!` nega uma expressão booleana, então `!(x > y)` é verdadeiro se `x > y` for falso, ou seja, se `x` for menor ou igual que `y` ."
   ]
  },
  {
   "cell_type": "markdown",
   "metadata": {},
   "source": [
    "## Condicionais"
   ]
  },
  {
   "cell_type": "markdown",
   "metadata": {},
   "source": [
    "Para escrever programas úteis, nós quase sempre precisamos da habilidade de verificar condições e mudar o comportamento de um programa em função dessa condições. *Condicionais* nos dão essa habilidade. A forma mais simples de condicional é a instrução `if`:"
   ]
  },
  {
   "cell_type": "markdown",
   "metadata": {},
   "source": [
    "if x > 0\n",
    "    println(\"x is positive\")\n",
    "end"
   ]
  },
  {
   "cell_type": "markdown",
   "metadata": {},
   "source": [
    "A expressão booleana depois do `if` é chamada de *condição*. Se for verdadeira, as instruções identadas são executadas. Caso contrário, nada acontece.\n",
    "\n",
    "A instrução `if` tem a mesma estrutura que definições de funções: um cabeçalho seguido de um corpo, encerrado com uma palava-chave `end`. Instruções como essa são chamadas de `instruções compostas`.\n",
    "\n",
    "Não existe limite para a quantidade de instruções que podem aparecer no corpo de uma condicional. De vez em quando, é útil ter um corpo vazio (geralmente como um espaço separado para acrescentar código posteriormente)."
   ]
  },
  {
   "cell_type": "markdown",
   "metadata": {},
   "source": [
    "if x < 0\n",
    "    # TODO: need to handle negative values!\n",
    "end"
   ]
  },
  {
   "cell_type": "markdown",
   "metadata": {},
   "source": [
    "## Execução Alternativa ~ *verificar melhor tradução*"
   ]
  },
  {
   "cell_type": "markdown",
   "metadata": {},
   "source": [
    "Uma segunda forma da instrução `if` é a *execução alternativa*, onde existem duas possibilidades e a condição determina qual das duas será executada. A syntaxe se parece com a seguinte: "
   ]
  },
  {
   "cell_type": "markdown",
   "metadata": {},
   "source": [
    "if x % 2 == 0\n",
    "    println(\"x is even\")\n",
    "else\n",
    "    println(\"x is odd\")\n",
    "end"
   ]
  },
  {
   "cell_type": "markdown",
   "metadata": {},
   "source": [
    "Se o resto da divisão de `x`por `2` for 0, então sabemos que `x` é par, e o programa exibe uma mensagem apropriada. Se a condição for falsa, o segundo conjunto de instruções é executado. A condição snedo verdadeira ou falsa, exatamente uma das duas alternativas será executada. As alternativas são chamadas de `ramificações`, pois são ramificações do fluxo de execução."
   ]
  },
  {
   "cell_type": "markdown",
   "metadata": {},
   "source": [
    "## Condicionais Encadeadas"
   ]
  },
  {
   "cell_type": "markdown",
   "metadata": {},
   "source": [
    "As vezes existem mais do que duas possibilidades e nós precisamos de mais do que duas ramificações. Uma forma de expressar um cálculo que é uma *condicional encadeada* :"
   ]
  },
  {
   "cell_type": "markdown",
   "metadata": {},
   "source": [
    "if x < y\n",
    "    println(\"x is less than y\")\n",
    "elseif x > y\n",
    "    println(\"x is greater than y\")\n",
    "else\n",
    "    println(\"x and y are equal\")\n",
    "end"
   ]
  },
  {
   "cell_type": "markdown",
   "metadata": {},
   "source": [
    "Novamente, exatamente uma ramificação será executada. Não existem limites para o número de instruções `elseif`. Se existe uma instrução `else`, a condicional será encerrada, mas não é obrigatória a existência de um."
   ]
  },
  {
   "cell_type": "markdown",
   "metadata": {},
   "source": [
    "if choice == \"a\"\n",
    "    draw_a()\n",
    "elseif choice == \"b\"\n",
    "    draw_b()\n",
    "elseif choice == \"c\"\n",
    "    draw_c()\n",
    "end"
   ]
  },
  {
   "cell_type": "markdown",
   "metadata": {},
   "source": [
    "Cada condição é verificada em ordem. Se a primeira for falsa, então a segunda é verifica, e assim por diante. Se uma delas é verdadeira, a ramificação correspondente executa suas instruões e se encerra. Se mais de uma condição for verdadeira, apenas a primeira ramificação é executada."
   ]
  },
  {
   "cell_type": "markdown",
   "metadata": {},
   "source": [
    "## Condições Aninhadas"
   ]
  },
  {
   "cell_type": "markdown",
   "metadata": {},
   "source": [
    "Uma condição pode ser aninhada com outra. Nós poderíamos ter escrito o exemplo da seção anterior como:"
   ]
  },
  {
   "cell_type": "markdown",
   "metadata": {},
   "source": [
    "if x == y\n",
    "    println(\"x and y are equal\")\n",
    "else\n",
    "    if x < y\n",
    "        println(\"x is less than y\")\n",
    "    else\n",
    "        println(\"x is greater than y\")\n",
    "    end\n",
    "end"
   ]
  },
  {
   "cell_type": "markdown",
   "metadata": {},
   "source": [
    "A condição de fora possui duas ramificações. A primeira ramificação contem uma simples instrução. A segunda ramificação contém outra instrução `if`, que compoem duas outras ramificações. Essas duas ramificações possuem instruções simples, apesar delas poderem também ter instruções condicionais.\n",
    "\n",
    "Apesar da identação não obrigatória das instruções torna tal estrutura visível, *condições aninhadas* se tornam difícei de serem lidas muito rapidamente. Uma boa ideia é evitá-las quando puder.\n",
    "\n",
    "Operadores lógicos geralmente oferecem uma maneira de simplificar instruções condicionais aninhadas. Por exemplo, nós podemos escrever o seguinte código utilizando uma unica condicional:"
   ]
  },
  {
   "cell_type": "markdown",
   "metadata": {},
   "source": [
    "if 0 < x\n",
    "    if x < 10\n",
    "        println(\"x is a positive single-digit number.\")\n",
    "    end\n",
    "end"
   ]
  },
  {
   "cell_type": "markdown",
   "metadata": {},
   "source": [
    "A instrução `print` executa apenas se nós passarmos pelas duas condições, então nós podemos ter o mesmo efeito que o causado pelo operado `&&`:"
   ]
  },
  {
   "cell_type": "markdown",
   "metadata": {},
   "source": [
    "if 0 < x && x < 10\n",
    "    println(\"x is a positive single-digit number.\")\n",
    "end"
   ]
  },
  {
   "cell_type": "markdown",
   "metadata": {},
   "source": [
    "Para esse tipo de condição, Julia oferece uma syntaxe mais concisa:"
   ]
  },
  {
   "cell_type": "markdown",
   "metadata": {},
   "source": [
    "if 0 < x < 10\n",
    "    println(\"x is a positive single-digit number.\")\n",
    "end"
   ]
  },
  {
   "cell_type": "markdown",
   "metadata": {},
   "source": [
    "## Recursão"
   ]
  },
  {
   "cell_type": "markdown",
   "metadata": {},
   "source": [
    "É permitido que uma função chame outra. Também é permitido que uma função chame a si mesma. Pode não parecer óbvio porque isso é uma coisa boa, mas isso se torna uma das coisas mais mágicas que um programa pode fazer. Por exemplo, olhe a seguinte função:"
   ]
  },
  {
   "cell_type": "code",
   "execution_count": 19,
   "metadata": {},
   "outputs": [
    {
     "data": {
      "text/plain": [
       "contagemregressiva (generic function with 1 method)"
      ]
     },
     "execution_count": 19,
     "metadata": {},
     "output_type": "execute_result"
    }
   ],
   "source": [
    "function contagemregressiva(n)\n",
    "    if n ≤ 0\n",
    "        println(\"Decolar!\")\n",
    "    else\n",
    "        print(n, \" \")\n",
    "        contagemregressiva(n-1)\n",
    "    end\n",
    "end"
   ]
  },
  {
   "cell_type": "markdown",
   "metadata": {},
   "source": [
    "Se `n` é 0 ou negativo, a saída é a palavra `\"Decolar!\"`. Caso contrário, a função exibe `n` e então chama a função `contagemregressiva` -- ela mesma -- passando `n - 1` como argumento.\n",
    "\n",
    "O que acontece se nós chamarmos uma função como essa?"
   ]
  },
  {
   "cell_type": "code",
   "execution_count": 20,
   "metadata": {},
   "outputs": [
    {
     "name": "stdout",
     "output_type": "stream",
     "text": [
      "3 2 1 Decolar!\n"
     ]
    }
   ],
   "source": [
    "contagemregressiva(3)"
   ]
  },
  {
   "cell_type": "markdown",
   "metadata": {},
   "source": [
    "A execução da função `contagemregressiva` começa com `n = 3`, e desde que `n` seja maior do que 0, ela exibe o valor 3, e então chama a si mesma  ...\n",
    "    \n",
    "    A execução da função `contagemregressiva` começa com `n = 2`, e como `n` é maior do que 0, ela exibe o valor 2, e então chama a si mesma  ...\n",
    "    \n",
    "            A execução da função `contagemregressiva` começa com `n = 1`, e como `n` é maior do que 0, ela exibe o valor 1, e então chama a si mesma  ...\n",
    "            \n",
    "                    A execução da função `contagemregressiva` começa com `n = 0`, e como `n` não é maior do que 0, ela exibe, \"Decolar!\" e então  retorna ...\n",
    "             \n",
    "            A instância de `contagemregressiva` que possuia `n = 1` retorna.\n",
    "         \n",
    "    A instância de `contagemregressiva` que possuia `n = 2` retorna.\n",
    "\n",
    "A instância de `contagemregressiva` que possuia `n = 3` retorna.\n",
    "\n",
    "E então você está de volta na função `Main`\n",
    "\n",
    "A função de chama ela mesma é *recursiva* e o processo de executá-la é chamado de *recusão*.\n",
    "\n",
    "Um outro exemplo, nós podemos escrever a função que exibe a uma string *n* vezes."
   ]
  },
  {
   "cell_type": "code",
   "execution_count": 21,
   "metadata": {},
   "outputs": [
    {
     "data": {
      "text/plain": [
       "exibe (generic function with 1 method)"
      ]
     },
     "execution_count": 21,
     "metadata": {},
     "output_type": "execute_result"
    }
   ],
   "source": [
    "function exibe(s, n)\n",
    "    if n ≤ 0\n",
    "        return\n",
    "    end\n",
    "    println(s)\n",
    "    exibe(s, n-1)\n",
    "end"
   ]
  },
  {
   "cell_type": "markdown",
   "metadata": {},
   "source": [
    "Se `n <= 0` a instrução `return` encerra a função. O fluxo de execução é imediatamente retornado para o ponto inicial da chamada, e o restante das linhas de código da função não serão executados.\n",
    "\n",
    "O retante da função é parecido com `contagemregressiva`: isso exibe `s` e então chama a si própria para mostrar `s` *n - 1* vezes. Então, o número de linhas da saída é 1 + (*n* - 1), que é equivalente a *n*.\n",
    "\n",
    "Para um exemplo simples, é provavelmente fácil de ser feito utilizando um laço `for`. Mas nós veremos exemplos mais tarde onde que são difíceis de escrever com um laço `for` e fáceis com uma recursão, então é bom começar cedo.\n",
    "\n"
   ]
  },
  {
   "cell_type": "markdown",
   "metadata": {},
   "source": []
  },
  {
   "cell_type": "markdown",
   "metadata": {},
   "source": []
  },
  {
   "cell_type": "markdown",
   "metadata": {},
   "source": []
  },
  {
   "cell_type": "markdown",
   "metadata": {},
   "source": []
  },
  {
   "cell_type": "markdown",
   "metadata": {},
   "source": []
  },
  {
   "cell_type": "markdown",
   "metadata": {},
   "source": []
  },
  {
   "cell_type": "markdown",
   "metadata": {},
   "source": []
  },
  {
   "cell_type": "markdown",
   "metadata": {},
   "source": []
  },
  {
   "cell_type": "markdown",
   "metadata": {},
   "source": []
  }
 ],
 "metadata": {
  "kernelspec": {
   "display_name": "Julia 1.1.1",
   "language": "julia",
   "name": "julia-1.1"
  },
  "language_info": {
   "file_extension": ".jl",
   "mimetype": "application/julia",
   "name": "julia",
   "version": "1.1.1"
  }
 },
 "nbformat": 4,
 "nbformat_minor": 2
}
