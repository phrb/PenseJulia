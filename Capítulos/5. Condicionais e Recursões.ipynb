{
 "cells": [
  {
   "cell_type": "markdown",
   "metadata": {},
   "source": [
    "# 5. Condicionais e Recursões\n",
    "\n",
    "O assunto principal deste capítulo é a instrução `if`, que executa código diferente dependendo do estado do programa. Antes de discutirmos a instrução `if`, no entanto, quero introduzir os operadores *divisão inteira* e *módulo*.\n",
    "\n",
    "## O Piso de Uma Divisão e Módulos\n",
    "\n",
    "O operador de divisão inteira, representado pelo símbolo `÷`, pode ser obtido digitando `\\div` e pressionando a tecla `TAB`. Você também pode usar o operador de divisão inteira através de uma chamada à função `div`. Esse operador divide dois números e fica apenas com a parte inteira. Por exemplo, se a duração de um filme é de 105 minutos, qual a sua duração em horas? Normalmente, uma divisão produzirá um número de ponto flutuante:"
   ]
  },
  {
   "cell_type": "code",
   "execution_count": 1,
   "metadata": {},
   "outputs": [
    {
     "data": {
      "text/plain": [
       "105"
      ]
     },
     "execution_count": 1,
     "metadata": {},
     "output_type": "execute_result"
    }
   ],
   "source": [
    "minutos = 105"
   ]
  },
  {
   "cell_type": "code",
   "execution_count": 2,
   "metadata": {},
   "outputs": [
    {
     "data": {
      "text/plain": [
       "1.75"
      ]
     },
     "execution_count": 2,
     "metadata": {},
     "output_type": "execute_result"
    }
   ],
   "source": [
    "minutos / 60"
   ]
  },
  {
   "cell_type": "markdown",
   "metadata": {},
   "source": [
    "No entanto, não costumamos escrever horas com casas decimais. A divisão inteira produzirá um número de horas inteiro, descartando a parte decimal do resultado anterior:"
   ]
  },
  {
   "cell_type": "code",
   "execution_count": 3,
   "metadata": {},
   "outputs": [
    {
     "data": {
      "text/plain": [
       "1"
      ]
     },
     "execution_count": 3,
     "metadata": {},
     "output_type": "execute_result"
    }
   ],
   "source": [
    "horas = minutos ÷ 60"
   ]
  },
  {
   "cell_type": "code",
   "execution_count": 4,
   "metadata": {},
   "outputs": [
    {
     "data": {
      "text/plain": [
       "1"
      ]
     },
     "execution_count": 4,
     "metadata": {},
     "output_type": "execute_result"
    }
   ],
   "source": [
    "horas = div(minutos, 60)"
   ]
  },
  {
   "cell_type": "markdown",
   "metadata": {},
   "source": [
    "Para calcular o resto de uma divisão inteira, você pode subtrair da variável `minutos` o resultado da divisão inteira, armazenado na variável `horas`, vezes o *divisor* da divisão inteira:"
   ]
  },
  {
   "cell_type": "code",
   "execution_count": 5,
   "metadata": {},
   "outputs": [
    {
     "data": {
      "text/plain": [
       "45"
      ]
     },
     "execution_count": 5,
     "metadata": {},
     "output_type": "execute_result"
    }
   ],
   "source": [
    "resto = minutos - horas * 60"
   ]
  },
  {
   "cell_type": "markdown",
   "metadata": {},
   "source": [
    "Outra forma de fazer isso é utilizar o operador *módulo*, representado pelo símbolo `%`, que produz o *resto* da divisão inteira de dois números:"
   ]
  },
  {
   "cell_type": "code",
   "execution_count": 6,
   "metadata": {},
   "outputs": [
    {
     "data": {
      "text/plain": [
       "45"
      ]
     },
     "execution_count": 6,
     "metadata": {},
     "output_type": "execute_result"
    }
   ],
   "source": [
    "resto = minutos % 60"
   ]
  },
  {
   "cell_type": "markdown",
   "metadata": {},
   "source": [
    "> *Dica*: O operador de módulo é muito útil. Você pode, por exemplo, verificar se `x` é divisível por `y` calculando `x % y`. Se o *resto da divisão inteira* de `x` por `y` for zero, então `x` será divisível por `y`.\n",
    ">\n",
    "> Você também pode usar o operador de módulo para extrair o último dígito de um número. Por exemplo, calcular `x % 10` resulta no último dígito de um inteiro `x` em base 10. Da mesma forma, calcular `x % 100` produz os dois últimos dígitos de um número em base 10. Veja os exemplos nas células abaixo:"
   ]
  },
  {
   "cell_type": "code",
   "execution_count": 7,
   "metadata": {},
   "outputs": [
    {
     "data": {
      "text/plain": [
       "0"
      ]
     },
     "execution_count": 7,
     "metadata": {},
     "output_type": "execute_result"
    }
   ],
   "source": [
    "y = 3\n",
    "x = 3 * 5 # x é divisível por y\n",
    "\n",
    "x % y"
   ]
  },
  {
   "cell_type": "code",
   "execution_count": 8,
   "metadata": {},
   "outputs": [
    {
     "data": {
      "text/plain": [
       "3"
      ]
     },
     "execution_count": 8,
     "metadata": {},
     "output_type": "execute_result"
    }
   ],
   "source": [
    "x = 123\n",
    "\n",
    "x % 10"
   ]
  },
  {
   "cell_type": "code",
   "execution_count": 9,
   "metadata": {},
   "outputs": [
    {
     "data": {
      "text/plain": [
       "23"
      ]
     },
     "execution_count": 9,
     "metadata": {},
     "output_type": "execute_result"
    }
   ],
   "source": [
    "x = 123\n",
    "\n",
    "x % 100"
   ]
  },
  {
   "cell_type": "markdown",
   "metadata": {},
   "source": [
    "## Expressões Booleanas\n",
    "\n",
    "Uma *expressão booleana* é um tipo de expressão que pode ser *verdadeira*, produzindo o valor `true`, ou *falsa*, produzindo o valor `false`. Os exemplos abaixo utilizam o operador de *comparação*, representado pelo símbolo `==`, que compara dois valores e produz `true`, se eles forem iguais, ou `false` caso contrário:"
   ]
  },
  {
   "cell_type": "code",
   "execution_count": 10,
   "metadata": {},
   "outputs": [
    {
     "data": {
      "text/plain": [
       "true"
      ]
     },
     "execution_count": 10,
     "metadata": {},
     "output_type": "execute_result"
    }
   ],
   "source": [
    "5 == 5"
   ]
  },
  {
   "cell_type": "code",
   "execution_count": 11,
   "metadata": {},
   "outputs": [
    {
     "data": {
      "text/plain": [
       "false"
      ]
     },
     "execution_count": 11,
     "metadata": {},
     "output_type": "execute_result"
    }
   ],
   "source": [
    "5 == 6"
   ]
  },
  {
   "cell_type": "markdown",
   "metadata": {},
   "source": [
    "Os valores `true` e `false` são especiais, e são de tipo `Bool`. Eles não são strings:"
   ]
  },
  {
   "cell_type": "code",
   "execution_count": 12,
   "metadata": {},
   "outputs": [
    {
     "data": {
      "text/plain": [
       "Bool"
      ]
     },
     "execution_count": 12,
     "metadata": {},
     "output_type": "execute_result"
    }
   ],
   "source": [
    "typeof(true)"
   ]
  },
  {
   "cell_type": "code",
   "execution_count": 13,
   "metadata": {},
   "outputs": [
    {
     "data": {
      "text/plain": [
       "Bool"
      ]
     },
     "execution_count": 13,
     "metadata": {},
     "output_type": "execute_result"
    }
   ],
   "source": [
    "typeof(false)"
   ]
  },
  {
   "cell_type": "markdown",
   "metadata": {},
   "source": [
    "O operador `==` é um *operador relacional*, ou *operador de comparação*. Em Julia, os operadores de comparação são:\n",
    "\n",
    "| Operador | Nome | Pergunta |\n",
    "| --- | --- | --- |\n",
    "| `x == y` | igualdade | `x` é igual a `y`? |\n",
    "| `x != y` (ou `x ≠ y`, com `\\ne` + `TAB`) | não-igual, ou diferente | `x` é diferente de `y`? |\n",
    "| `x > y` | maior-que | `x` é maior que `y`? |\n",
    "| `x < y` | menor-que |`x` é menor que `y`? |\n",
    "| `x >= y` (ou `x ≥ y`, com `\\ge` + `TAB`) | maior-ou-igual | `x` é maior ou igual a `y`? |\n",
    "| `x <= y` (ou `x ≤ y`, com `\\le` + `TAB`) | menor-ou-igual | `x` é menor ou igual a `y`? |\n",
    "\n",
    "> *Aviso*: Esses operadores podem parecer familiares, mas o significado dos símbolos em Julia é diferente de seu significado matemático. Um erro comum é utilizar o operador de *atribuição*, representado pelo símbolo `=`, numa comparação onde deveria ser utilizado o operador de *igualdade*, representado pelo símbolo `==`. Lembre-se também que os símbolos `=>` e `=<` não são operadores válidos em Julia.\n",
    "\n",
    "## Operadores Lógicos\n",
    "\n",
    "Os três *operadores lógicos* são o operador _e_, representado pelo símbolo `&&`, o operador *ou*, representado por `||`, e o operador *não*, ou *negação*, representado pelo símbolo `!`. Esses operadores possuem *semântica*, ou significado, similar em Julia e em português.\n",
    "\n",
    "Por exemplo, a avaliação da expressão `x > 0 && x < 10` resulta no valor `true`, ou verdadeiro, se `x` for maior que `0` _e_ menor que `10`. Dizemos que uma expressão *é verdadeira* se sua avaliação resulta no valor `true`, e falsa se sua avaliação resulta no valor `false`."
   ]
  },
  {
   "cell_type": "code",
   "execution_count": 14,
   "metadata": {},
   "outputs": [
    {
     "data": {
      "text/plain": [
       "true"
      ]
     },
     "execution_count": 14,
     "metadata": {},
     "output_type": "execute_result"
    }
   ],
   "source": [
    "x = 2.5\n",
    "\n",
    "x > 0 && x < 10"
   ]
  },
  {
   "cell_type": "code",
   "execution_count": 15,
   "metadata": {},
   "outputs": [
    {
     "data": {
      "text/plain": [
       "false"
      ]
     },
     "execution_count": 15,
     "metadata": {},
     "output_type": "execute_result"
    }
   ],
   "source": [
    "x = 0\n",
    "\n",
    "x > 0 && x < 10"
   ]
  },
  {
   "cell_type": "markdown",
   "metadata": {},
   "source": [
    "A expressão `n % 2 == 0 || n % 3 == 0` é verdadeira se *uma*, ou *ambas*, de suas as condições forem verdadeiras, isto é, se o número `n` é divisível por `2` *ou* por `3`:"
   ]
  },
  {
   "cell_type": "code",
   "execution_count": 16,
   "metadata": {},
   "outputs": [
    {
     "data": {
      "text/plain": [
       "true"
      ]
     },
     "execution_count": 16,
     "metadata": {},
     "output_type": "execute_result"
    }
   ],
   "source": [
    "n = 4\n",
    "\n",
    "n % 2 == 0 || n % 3 == 0"
   ]
  },
  {
   "cell_type": "code",
   "execution_count": 17,
   "metadata": {},
   "outputs": [
    {
     "data": {
      "text/plain": [
       "true"
      ]
     },
     "execution_count": 17,
     "metadata": {},
     "output_type": "execute_result"
    }
   ],
   "source": [
    "n = 9\n",
    "\n",
    "n % 2 == 0 || n % 3 == 0"
   ]
  },
  {
   "cell_type": "code",
   "execution_count": 18,
   "metadata": {},
   "outputs": [
    {
     "data": {
      "text/plain": [
       "false"
      ]
     },
     "execution_count": 18,
     "metadata": {},
     "output_type": "execute_result"
    }
   ],
   "source": [
    "n = 5\n",
    "\n",
    "n % 2 == 0 || n % 3 == 0"
   ]
  },
  {
   "cell_type": "markdown",
   "metadata": {},
   "source": [
    "Os operadores `&&` e `||` são [*associativos-à-direita*](https://pt.wikipedia.org/wiki/Associatividade_de_operadores), isto é, a expressão abaixo é verdadeira, independentemente dos valores de `a` e `b`:"
   ]
  },
  {
   "cell_type": "code",
   "execution_count": 19,
   "metadata": {},
   "outputs": [
    {
     "data": {
      "text/plain": [
       "true"
      ]
     },
     "execution_count": 19,
     "metadata": {},
     "output_type": "execute_result"
    }
   ],
   "source": [
    "a = b = c = true\n",
    "\n",
    "(a || b && c) == (a || (b && c))"
   ]
  },
  {
   "cell_type": "markdown",
   "metadata": {},
   "source": [
    "No entanto, o operador`&&` tem mais prioridade que o operador `||`, isto é, a expressão abaixo é falsa:"
   ]
  },
  {
   "cell_type": "code",
   "execution_count": 20,
   "metadata": {},
   "outputs": [
    {
     "data": {
      "text/plain": [
       "false"
      ]
     },
     "execution_count": 20,
     "metadata": {},
     "output_type": "execute_result"
    }
   ],
   "source": [
    "a = b = false\n",
    "c = true\n",
    "\n",
    "(a && b || c) == (a && (b || c))"
   ]
  },
  {
   "cell_type": "markdown",
   "metadata": {},
   "source": [
    "O operador `!` nega uma expressão booleana. Assim, as expressões abaixo são verdadeiras:"
   ]
  },
  {
   "cell_type": "code",
   "execution_count": 21,
   "metadata": {},
   "outputs": [
    {
     "data": {
      "text/plain": [
       "true"
      ]
     },
     "execution_count": 21,
     "metadata": {},
     "output_type": "execute_result"
    }
   ],
   "source": [
    "x = 20\n",
    "y = 30\n",
    "\n",
    "x < y"
   ]
  },
  {
   "cell_type": "code",
   "execution_count": 22,
   "metadata": {},
   "outputs": [
    {
     "data": {
      "text/plain": [
       "true"
      ]
     },
     "execution_count": 22,
     "metadata": {},
     "output_type": "execute_result"
    }
   ],
   "source": [
    "!(x > y)"
   ]
  },
  {
   "cell_type": "markdown",
   "metadata": {},
   "source": [
    "## Execução Condicional\n",
    "\n",
    "Para escrever um programa útil, é quase sempre necessário modificiar seu comportamento de acordo com o *estado* de determinadas *condições*. *Execuções condicionais* permitem fazer essas modificações. A forma mais simples de execução condicional é a instrução `if`:"
   ]
  },
  {
   "cell_type": "code",
   "execution_count": 23,
   "metadata": {},
   "outputs": [
    {
     "name": "stdout",
     "output_type": "stream",
     "text": [
      "x é positivo\n"
     ]
    }
   ],
   "source": [
    "x = 2\n",
    "\n",
    "if x > 0\n",
    "    println(\"x é positivo\")\n",
    "end"
   ]
  },
  {
   "cell_type": "markdown",
   "metadata": {},
   "source": [
    "A expressão booleana que aparece depois da instrução `if` é chamada de *condição*. Se a expressão for verdadeira, as instruções indentadas serão executadas. Caso contrário, nada acontecerá.\n",
    "\n",
    "A instrução `if` tem a mesma estrutura das definições de funções, que vimos no capítulo Funções. Ela começa com um cabeçalho, seguido de um corpo, e termina com a palava-chave `end`. Instruções como essa são chamadas de *instruções compostas*.\n",
    "\n",
    "Como na definição de funções, não há limite para a quantidade de instruções que pode aparecer no corpo de uma instrução condicional. Às vezes, pode ser útil escrever uma instrução condicional com corpo vazio, como uma marcação de que ainda falta escrever código para tratar determinadas condições. Você pode deixar um `println`, ou um comentário, para ressaltar que ainda falta escrever algo:"
   ]
  },
  {
   "cell_type": "code",
   "execution_count": 24,
   "metadata": {},
   "outputs": [
    {
     "name": "stdout",
     "output_type": "stream",
     "text": [
      "Ainda não trato números negativos\n"
     ]
    }
   ],
   "source": [
    "x = -1\n",
    "\n",
    "if x < 0\n",
    "    println(\"Ainda não trato números negativos\")\n",
    "end"
   ]
  },
  {
   "cell_type": "markdown",
   "metadata": {},
   "source": [
    "## Execução Alternativa\n",
    "\n",
    "Uma segunda forma na qual podemos escrever a instrução condicional `if` é a *execução alternativa*. Nesse caso, o fluxo de execução pode seguir *dois caminhos*, e o valor da condição determinará o caminho seguido. A sintaxe dessa forma de instrução condicional é a seguinte:"
   ]
  },
  {
   "cell_type": "code",
   "execution_count": 25,
   "metadata": {},
   "outputs": [
    {
     "name": "stdout",
     "output_type": "stream",
     "text": [
      "x é impar\n"
     ]
    }
   ],
   "source": [
    "x = 3\n",
    "\n",
    "if x % 2 == 0\n",
    "    println(\"x é par\")\n",
    "else\n",
    "    println(\"x é impar\")\n",
    "end"
   ]
  },
  {
   "cell_type": "markdown",
   "metadata": {},
   "source": [
    "Sabemos que `x` é par se o resto da divisão de `x`por `2` for `0`, e nosso código acima exibirá uma mensagem apropriada. Se a condição for falsa, no entanto, o segundo conjunto de instruções será executado. Dado que a condição será *necessariamente* verdadeira *ou* falsa, apenas uma das alternativas será executada. As alternativas são chamadas de *ramos*, ou *branches* em inglês, pois *ramificam* o fluxo de execução.\n",
    "\n",
    "## Expressões Condicionais Encadeadas\n",
    "\n",
    "Às vezes temos mais de duas possibilidades, e precisamos de mais de dois ramos de execução. Podemos expressar uma situação como essa usando uma *expressão condicional encadeada*:"
   ]
  },
  {
   "cell_type": "code",
   "execution_count": 26,
   "metadata": {},
   "outputs": [
    {
     "name": "stdout",
     "output_type": "stream",
     "text": [
      "x é maior que y\n"
     ]
    }
   ],
   "source": [
    "x = 10\n",
    "y = 5\n",
    "\n",
    "if x < y\n",
    "    println(\"x é menor que y\")\n",
    "elseif x > y\n",
    "    println(\"x é maior que y\")\n",
    "else\n",
    "    println(\"x é igual a y\")\n",
    "end"
   ]
  },
  {
   "cell_type": "markdown",
   "metadata": {},
   "source": [
    "Na expressão acima, somente um ramo será executado. Não há limite para a quantidade de instruções `elseif` encadeadas, isto é, você pode criar quantos ramos de execução precisar. Se houver uma instrução, ou *cláusula*, `else`, ela deve estar no final da expressão condicional encadeada. No entanto, não é necessário incluir uma cláusula `else`:"
   ]
  },
  {
   "cell_type": "code",
   "execution_count": 27,
   "metadata": {},
   "outputs": [
    {
     "name": "stdout",
     "output_type": "stream",
     "text": [
      "a escolha foi b\n"
     ]
    }
   ],
   "source": [
    "escolha = \"b\"\n",
    "\n",
    "if escolha == \"a\"\n",
    "    println(\"a escolha foi a\")\n",
    "elseif escolha == \"b\"        \n",
    "    println(\"a escolha foi b\")\n",
    "elseif escolha == \"c\"        \n",
    "    println(\"a escolha foi c\")\n",
    "end"
   ]
  },
  {
   "cell_type": "markdown",
   "metadata": {},
   "source": [
    "Numa expressão condicional encadeada, as condições são verificadas em ordem. Se a primeira condição for falsa, então a segunda será verificada, e assim por diante. Se uma das condições for verdadeira, o ramo correspondente executará suas instruções e a execução condicional encadeada se encerrará. Caso mais de uma condição seja verdadeira, apenas o primeiro ramo com condição verdadeira encontrado será executado.\n",
    "\n",
    "## Expressões Condicionais Aninhadas\n",
    "\n",
    "Condições podem ser colocadas dentro de outras, isto é, condições podem ser *aninhadas*. Podemos reescrever um dos exemplos anteriores usando expressões *condicionais aninhadas*:"
   ]
  },
  {
   "cell_type": "code",
   "execution_count": 28,
   "metadata": {},
   "outputs": [
    {
     "name": "stdout",
     "output_type": "stream",
     "text": [
      "x é menor que y\n"
     ]
    }
   ],
   "source": [
    "x = 10\n",
    "y = 20\n",
    "\n",
    "if x == y\n",
    "    println(\"x é igual a y\")\n",
    "else\n",
    "    if x < y\n",
    "        println(\"x é menor que y\")\n",
    "    else\n",
    "        println(\"x é maior que y\")\n",
    "    end\n",
    "end"
   ]
  },
  {
   "cell_type": "markdown",
   "metadata": {},
   "source": [
    "A condição mais exterior possui dois ramos. O primeiro ramo contém uma instrução simples. O segundo ramo contém outra instrução `if` que cria, por sua vez, dois outros ramos. Esses novos ramos consistem de instruções simples, mas também poderiam ser instruções condicionais.\n",
    "\n",
    "Mesmo usando indentação de código para ressaltar a estrutura de expressões condicionais, expressões aninhadas tornam-se difíceis de ler conforme adicionamos mais ramos. Evitar condicionais aninhadas quando for possível é, portanto, uma ótima ideia.\n",
    "\n",
    "Operadores lógicos podem ser usados para simplificar expressões condicionais aninhadas. Considere o exemplo abaixo:"
   ]
  },
  {
   "cell_type": "code",
   "execution_count": 29,
   "metadata": {},
   "outputs": [
    {
     "name": "stdout",
     "output_type": "stream",
     "text": [
      "x é um número positivo de um dígito\n"
     ]
    }
   ],
   "source": [
    "x = 2\n",
    "\n",
    "if 0 < x\n",
    "    if x < 10\n",
    "        println(\"x é um número positivo de um dígito\")\n",
    "    end\n",
    "end"
   ]
  },
  {
   "cell_type": "markdown",
   "metadata": {},
   "source": [
    "A instrução `println` executa apenas se *passarmos* pelas duas condições, isto é, se forem ambas verdadeiras.\n",
    "Assim, podemos reescrever esse exemplo usando o operador `&&` e uma única expressão condicional:"
   ]
  },
  {
   "cell_type": "code",
   "execution_count": 30,
   "metadata": {},
   "outputs": [
    {
     "name": "stdout",
     "output_type": "stream",
     "text": [
      "x é um número positivo de um dígito\n"
     ]
    }
   ],
   "source": [
    "x = 2\n",
    "\n",
    "if 0 < x && x < 10\n",
    "    println(\"x é um número positivo de um dígito\")\n",
    "end"
   ]
  },
  {
   "cell_type": "markdown",
   "metadata": {},
   "source": [
    "Em Julia, podemos escrever essa expressão de uma forma mais concisa, similar à forma como escrevemos em notação matemática:"
   ]
  },
  {
   "cell_type": "code",
   "execution_count": 31,
   "metadata": {},
   "outputs": [
    {
     "name": "stdout",
     "output_type": "stream",
     "text": [
      "x é um número positivo de um dígito\n"
     ]
    }
   ],
   "source": [
    "x = 2\n",
    "\n",
    "if 0 < x < 10\n",
    "    println(\"x é um número positivo de um dígito\")\n",
    "end"
   ]
  },
  {
   "cell_type": "markdown",
   "metadata": {},
   "source": [
    "## Recursão\n",
    "\n",
    "Assim como uma função pode chamar outras funções, uma função também pode chamar a si mesma. Pode não ser óbvio à primeira vista por que isso pode ser interessante, mas essa propriedade simples é uma das coisas mais mágicas que um programa pode fazer.\n",
    "\n",
    "Por exemplo, considere a seguinte função:"
   ]
  },
  {
   "cell_type": "code",
   "execution_count": 32,
   "metadata": {},
   "outputs": [
    {
     "name": "stdout",
     "output_type": "stream",
     "text": [
      "3 2 1 Decolar!\n"
     ]
    }
   ],
   "source": [
    "function contagem_regressiva(n)\n",
    "    if n ≤ 0\n",
    "        println(\"Decolar!\")\n",
    "    else\n",
    "        print(n, \" \")\n",
    "        contagem_regressiva(n - 1)\n",
    "    end\n",
    "end\n",
    "\n",
    "contagem_regressiva(3)"
   ]
  },
  {
   "cell_type": "markdown",
   "metadata": {},
   "source": [
    "Se `n` for `0`, ou negativo, a saída será `\"Decolar!\"`. Caso contrário, a função imprime o número `n` e chama a função `contagem_regressiva`, isto é, ela mesma, passando o número `n - 1` como argumento.\n",
    "\n",
    "O que aconteceu quando chamamos a função `contagem_regressiva` na célula anterior? Vamos ver:\n",
    "\n",
    "1. A execução começa com `n == 3` e, como `n > 0`, a função imprime `3` e chama a si mesma com `n - 1`...\n",
    "    1. A execução começa com `n == 2` e, como `n > 0`, a função imprime `2` e chama a si mesma com `n - 1`...\n",
    "        1. A execução começa com `n == 1` e, como `n > 0`, a função imprime `1` e chama a si mesma com `n - 1`...\n",
    "            1. A execução começa com `n == 0` e, como `n <= 0`, a função imprime `\"Decolar!\"` e termina.\n",
    "        2. A função que recebeu `n == 1` termina.\n",
    "    2. A função que recebeu `n == 2` termina.\n",
    "2. A função que recebeu `n == 3` termina.\n",
    "3. E agora estamos de volta à função `main`.\n",
    "\n",
    "Uma função que chama a si mesma é chamada de *função recursiva*, e o processo que uma função recursiva segue quando é executada é chamado de *recursão*.\n",
    "\n",
    "A célula abaixo apresenta um outro exemplo de recursão, definindo uma função que imprime uma string `n` vezes:"
   ]
  },
  {
   "cell_type": "code",
   "execution_count": 33,
   "metadata": {},
   "outputs": [
    {
     "name": "stdout",
     "output_type": "stream",
     "text": [
      "Recursão!\n",
      "Recursão!\n",
      "Recursão!\n",
      "Recursão!\n",
      "Recursão!\n"
     ]
    }
   ],
   "source": [
    "function imprime_n(s, n)\n",
    "    if n ≤ 0\n",
    "        return\n",
    "    end\n",
    "    \n",
    "    println(s)\n",
    "    \n",
    "    imprime_n(s, n - 1)\n",
    "end\n",
    "\n",
    "imprime_n(\"Recursão!\", 5)"
   ]
  },
  {
   "cell_type": "markdown",
   "metadata": {},
   "source": [
    "No exemplo acima, a instrução `return` interrompe a função quando `n <= 0`. Nesse caso, o fluxo de execução volta para o chamador, e o resto da função não é executado.\n",
    "\n",
    "O resto da função é parecido com a função `contagem_regressiva`. A função imprime `s` e chama a si mesma para imprimir `s` mais `n - 1` vezes. O número total de linhas impressas será `1 + (n - 1)`, isto é, `n`.\n",
    "\n",
    "Em exemplos simples como esse, é mais fácil usar um laço `for`. Mais tarde, veremos exemplos difíceis de escrever usando laços `for`, porém fáceis de escrever usando recursão. Por isso, é bom começarmos cedo a estudar recursão.\n",
    "\n",
    "## Diagramas de Pilha para Funções Recursivas\n",
    "\n",
    "Vimos que os diagramas de pilha podem ser usados para descrever o estado de um programa durante uma chamada de função, e veremos agora que eles também podem nos ajudar a interpretar funções recursivas.\n",
    "\n",
    "Sempre que uma chamada ocorre, um quadro para manter as variáveis locais e parâmetros de uma função é criado. Durante a execução de uma função recursiva, teremos mais de um quadro de mesmo nome no diagrama pilha. Considere, por exemplo, o diagrama abaixo, para a função `contagem_regressiva`, chamada inicialmente com `n = 3`:\n",
    "\n",
    "| Função | Quadro |\n",
    "| --- | --- |\n",
    "|Main | $-$ |\n",
    "|contagem_regressiva | `n` $\\rightarrow$ `3` |\n",
    "|contagem_regressiva | `n` $\\rightarrow$ `2` |\n",
    "|contagem_regressiva | `n` $\\rightarrow$ `1` |\n",
    "|contagem_regressiva | `n` $\\rightarrow$ `0` |\n",
    "\n",
    "A pilha começa com a função `Main`, como de costume. Seu quadro está vazio pois não criamos nenhuma variável ou passamos nenhum argumento em sua chamada.\n",
    "\n",
    "Os quatro quadros da função `contagem_regressiva` contêm valores diferentes para o parâmetro `n`. O final da pilha, onde `n = 0`, é chamado de *caso base*, pois não faz mais nenhuma chamada recursiva.\n",
    "\n",
    "### Execício 5.1\n",
    "\n",
    "Desenhe um diagrama de pilha para a função `println` chamada com `s = \"Olá\"` e `n = 2`. Depois, escreva uma função chamada `faça_n`, que receba como argumentos um objeto de tipo função e um número `n`, e chame `n` vezes a função recebida.\n",
    "\n",
    "## Recursão Infinita\n",
    "\n",
    "Uma função fará chamadas recursivas infinitamente se nunca atingir seu caso base, e o programa nunca terminará. Esse fenômeno é chamada de *recursão infinita* e escrever funções assim não é uma boa ideia.\n",
    "\n",
    "Na prática, um programa com recursão infinita não é executado para sempre. O REPL devolve uma mensagem de erro quando a execução atinge a máxima profundidade de recursão permitida.\n",
    "\n",
    "A célula abaixo contém um exemplo onde ocorre recursão inifinita, e mostra como o REPL responde:"
   ]
  },
  {
   "cell_type": "code",
   "execution_count": 34,
   "metadata": {},
   "outputs": [
    {
     "ename": "StackOverflowError",
     "evalue": "StackOverflowError:",
     "output_type": "error",
     "traceback": [
      "StackOverflowError:",
      "",
      "Stacktrace:",
      " [1] recorrência() at ./In[34]:2 (repeats 80000 times)"
     ]
    }
   ],
   "source": [
    "function recorrência()\n",
    "    recorrência()\n",
    "end\n",
    "\n",
    "recorrência()"
   ]
  },
  {
   "cell_type": "markdown",
   "metadata": {},
   "source": [
    "A mensagem de erro nos informa que a função `recorrência` foi chamada 80000 vezes. Ou seja, haviam 80000 quadros na pilha quando o erro ocorreu!\n",
    "\n",
    "Se você escrever código que faz recursão infinita por acidente, revise o seu código para confirmar se existe um caso base que não faz uma chamada recursiva. Caso exista, confira se a execução da sua função chega até ele.\n",
    "\n",
    "## Entrada do Teclado\n",
    "\n",
    "Os programas que escrevemos até agora não aceitam nenhum tipo de entrada, e por isso fazem sempre a mesma coisa, isto é, têm sempre a mesma saída.\n",
    "\n",
    "Em Julia há uma função pré-definida chamada `readline`, que pausa um programa, e espera até que o usuário digite alguma coisa. Após o usuário pressionar a tecla `ENTER`, o programa continua a execução e então `readline` devolve um valor do tipo string contendo o que foi digitado."
   ]
  },
  {
   "cell_type": "code",
   "execution_count": 35,
   "metadata": {},
   "outputs": [
    {
     "name": "stdout",
     "output_type": "stream",
     "text": [
      "stdin> O que você está esperando?\n"
     ]
    },
    {
     "data": {
      "text/plain": [
       "\"O que você está esperando?\""
      ]
     },
     "execution_count": 35,
     "metadata": {},
     "output_type": "execute_result"
    }
   ],
   "source": [
    "texto = readline()"
   ]
  },
  {
   "cell_type": "markdown",
   "metadata": {},
   "source": [
    "Antes de esperar por uma entrada, é sempre interessante imprimir uma mensagem dizendo ao usuário qual é o tipo de entrada esperado:"
   ]
  },
  {
   "cell_type": "code",
   "execution_count": 36,
   "metadata": {},
   "outputs": [
    {
     "name": "stdout",
     "output_type": "stream",
     "text": [
      "Qual... é o seu nome? stdin> Artur, o Rei dos Bretões!\n"
     ]
    },
    {
     "data": {
      "text/plain": [
       "\"Artur, o Rei dos Bretões!\""
      ]
     },
     "execution_count": 36,
     "metadata": {},
     "output_type": "execute_result"
    }
   ],
   "source": [
    "print(\"Qual... é o seu nome? \"); readline()"
   ]
  },
  {
   "cell_type": "markdown",
   "metadata": {},
   "source": [
    "O símbol de ponto-e-vírgula `;` faz com que seja possível usar múltiplas instruções numa mesma linha. Lembre-se de que, no REPL e em células deste Notebook, apenas a última instrução imprimirá seu resultado se não houver uma instrução `println`.\n",
    "\n",
    "Se a sua expectativa for que usuário digite um número inteiro, você poderá tentar converter o valor devolvido por `readline` para `Int64`:"
   ]
  },
  {
   "cell_type": "code",
   "execution_count": 47,
   "metadata": {},
   "outputs": [
    {
     "name": "stdout",
     "output_type": "stream",
     "text": [
      "Qual... é a velocidade de uma andorinha descarregada? \n",
      "stdin> 42\n"
     ]
    },
    {
     "data": {
      "text/plain": [
       "\"42\""
      ]
     },
     "execution_count": 47,
     "metadata": {},
     "output_type": "execute_result"
    }
   ],
   "source": [
    "println(\"Qual... é a velocidade de uma andorinha descarregada? \"); velocidade = readline()"
   ]
  },
  {
   "cell_type": "code",
   "execution_count": 48,
   "metadata": {},
   "outputs": [
    {
     "data": {
      "text/plain": [
       "42"
      ]
     },
     "execution_count": 48,
     "metadata": {},
     "output_type": "execute_result"
    }
   ],
   "source": [
    "parse(Int64, velocidade)"
   ]
  },
  {
   "cell_type": "markdown",
   "metadata": {},
   "source": [
    "No entanto, caso o usuário digite algo diferente de uma sequência de caracteres, teremos um erro:"
   ]
  },
  {
   "cell_type": "code",
   "execution_count": 49,
   "metadata": {},
   "outputs": [
    {
     "name": "stdout",
     "output_type": "stream",
     "text": [
      "Qual... é a velocidade de uma andorinha descarregada? \n",
      "stdin> Como assim, uma andorinha Africana ou Europeia?\n"
     ]
    },
    {
     "ename": "ArgumentError",
     "evalue": "ArgumentError: invalid base 10 digit 'C' in \"Como assim, uma andorinha Africana ou Europeia?\"",
     "output_type": "error",
     "traceback": [
      "ArgumentError: invalid base 10 digit 'C' in \"Como assim, uma andorinha Africana ou Europeia?\"",
      "",
      "Stacktrace:",
      " [1] top-level scope at In[49]:1"
     ]
    }
   ],
   "source": [
    "println(\"Qual... é a velocidade de uma andorinha descarregada? \"); velocidade = readline(); parse(Int64, velocidade)"
   ]
  },
  {
   "cell_type": "markdown",
   "metadata": {},
   "source": [
    "Veremos como lidar com esse tipo de erro mais tarde.\n",
    "\n",
    "## Depuração\n",
    "\n",
    "Quando observamos um erro de sintaxe ou de execução, as mensagens de erro contêm sempre muita informação. Isso pode assustar um pouco, mas devemos nos concentrar nas partes úteis de uma saída de erro, que geralmente informam:\n",
    "\n",
    "1. Qual o tipo do erro\n",
    "2. Onde aconteceu o erro\n",
    "\n",
    "Encontrar erros de sintaxe é relativamente fácil, mas às vezes você vai se deparar com pegadinhas. É comum que as mensagens de erro indiquem a linha de código onde o erro foi descoberto, mas o verdadeiro erro provavelmente aconteceu antes, às vezes na linha anterior. O mesmo vale para os erros de execução.\n",
    "\n",
    "Suponha que você está tentando calcular a razão entre as intensidades de um sinal e de seu ruído, medidas em decibéis. A fórmula para isso é:\n",
    "\n",
    "$$\n",
    "\\texttt{R} = 10 \\times \\log_{10}\\left(\\dfrac{\\texttt{sinal}}{\\texttt{ruido}}\\right).\n",
    "$$\n",
    "\n",
    "Em Julia, podemos escrever assim:"
   ]
  },
  {
   "cell_type": "code",
   "execution_count": 51,
   "metadata": {},
   "outputs": [
    {
     "name": "stdout",
     "output_type": "stream",
     "text": [
      "-Inf\n"
     ]
    }
   ],
   "source": [
    "sinal = 9\n",
    "ruido = 10\n",
    "\n",
    "r = sinal ÷ ruido\n",
    "\n",
    "decibéis = 10 * log10(r)\n",
    "\n",
    "println(decibéis)"
   ]
  },
  {
   "cell_type": "markdown",
   "metadata": {},
   "source": [
    "No entanto, `-Inf` não é o resultado que esperávamos.\n",
    "\n",
    "Para tentar encontrar o problema, vamos imprimir o valor de `r`:"
   ]
  },
  {
   "cell_type": "code",
   "execution_count": 52,
   "metadata": {},
   "outputs": [
    {
     "name": "stdout",
     "output_type": "stream",
     "text": [
      "0\n",
      "-Inf\n"
     ]
    }
   ],
   "source": [
    "sinal = 9\n",
    "ruido = 10\n",
    "\n",
    "r = sinal ÷ ruido\n",
    "\n",
    "println(r)\n",
    "\n",
    "decibéis = 10 * log10(r)\n",
    "\n",
    "println(decibéis)"
   ]
  },
  {
   "cell_type": "markdown",
   "metadata": {},
   "source": [
    "O problema neste exemplo está no use de uma divisão inteira, com o símbol `÷`, ao invés de uma divisão de ponto flutuante, com o símbolo `/`. Assim, basta trocar `÷` por `/`, e corrigimos o problema:"
   ]
  },
  {
   "cell_type": "code",
   "execution_count": 53,
   "metadata": {},
   "outputs": [
    {
     "name": "stdout",
     "output_type": "stream",
     "text": [
      "0.9\n",
      "-0.4575749056067512\n"
     ]
    }
   ],
   "source": [
    "sinal = 9\n",
    "ruido = 10\n",
    "\n",
    "r = sinal / ruido\n",
    "\n",
    "println(r)\n",
    "\n",
    "decibéis = 10 * log10(r)\n",
    "\n",
    "println(decibéis)"
   ]
  },
  {
   "cell_type": "markdown",
   "metadata": {},
   "source": [
    "> *Aviso*: Leia mensagens de erro muito cuidado e atenção, mas não presuma que tudo o que elas dizem é completamente verdade.\n",
    "\n",
    "## Glossário\n",
    "\n",
    "**divisão inteira**\n",
    "\n",
    "Um operador representado por `÷`, que divide dois números e fica apenas com a parte inteira do resultado.\n",
    " \n",
    "**operador módulo**\n",
    "\n",
    "Um operador representado por `%`, que produz o resto da divisão de dois números.\n",
    "\n",
    "**expressão booleana**\n",
    "\n",
    "Uma expressão cujo valor pode ser `true` ou `false`.\n",
    "\n",
    "**operadores relacionais**, ou **operadores de comparação**\n",
    "\n",
    "Operadores que comparam seus operandos: `==`, `≠` ou `!=`, `>`, `<`, `≥` ou `>=`, e `≤` ou `<=`\n",
    "\n",
    "**operadores lógicos**\n",
    "\n",
    "Operadores que combinam expressões booleanas: _e_, representado por `&&`, *ou*, por `||`, e *não*, por `!`.\n",
    "\n",
    "**instrução condicional**\n",
    "\n",
    "Uma instrução que controla o fluxo de execução dependendo de uma condição.\n",
    "\n",
    "**condição**\n",
    "\n",
    "Uma expressão booleana dentro de uma instrução condicional, que determina qual ramo será executado.\n",
    "\n",
    "**instrução composta**\n",
    "\n",
    "Uma instrução que consiste em um cabeçalho e um corpo. O corpo é encerrado com a palavra-chave `end`.\n",
    "\n",
    "**ramo**\n",
    "\n",
    "Uma das ramificações que podem ser seguidas numa instrução condicional.\n",
    "\n",
    "**expressão condicional encadeada**\n",
    "\n",
    "Uma expressão condicional com vários ramos.\n",
    "\n",
    "**expressão condicional aninhada**\n",
    "\n",
    "Uma expressão condicional que aparece dentro de um ramo de outra expressão condicional.\n",
    "\n",
    "**instrução de término**, ou `return`\n",
    "\n",
    "Uma instrução que encerra uma função imediatamente e retorna o fluxo de execução para o chamador.\n",
    "\n",
    "**recursão**\n",
    "\n",
    "O processo onde uma função em execução chama a si mesma.\n",
    "\n",
    "**caso base**\n",
    "\n",
    "O ramo condicional de uma função recursiva que não executa uma chamada recursiva.\n",
    "\n",
    "**recursão infinita**\n",
    "\n",
    "Uma recursão que não tem caso base, ou nunca o alcança. Uma recursão inifinita sempre causará erros em tempo de execução.\n",
    "\n",
    "## Exercícios\n",
    "\n",
    "### Exercício 5.2\n",
    "\n",
    "A função `time` devolve a *Hora Média de Greenwich* em segundos desde *a Era UNIX*. A Era UNIX é a data utilizada como ponto de partida em sistemas UNIX, é definida como primeiro de Janeiro de 1970."
   ]
  },
  {
   "cell_type": "code",
   "execution_count": 57,
   "metadata": {},
   "outputs": [
    {
     "data": {
      "text/plain": [
       "1.566092156338637e9"
      ]
     },
     "execution_count": 57,
     "metadata": {},
     "output_type": "execute_result"
    }
   ],
   "source": [
    "time()"
   ]
  },
  {
   "cell_type": "markdown",
   "metadata": {},
   "source": [
    "Escreva uma função `agora`, que lê o horario atual e o converte para o formato `dias horas minutos segundos`, sua saída deve ser no formato do exemplo abaixo:\n",
    "\n",
    "```julia\n",
    "agora()\n",
    "```\n",
    "```output\n",
    "42d 42h 42m 42s\n",
    "```\n",
    "\n",
    "### Exercício 5.3\n",
    "\n",
    "*O Último Teorema de Fermat* afirma que não existem inteiros positivos $a$, $b$, e $c$ tais que:\n",
    "\n",
    "$$\n",
    "a^n + b^n = c^n\n",
    "$$\n",
    "para qualquer $n > 2$.\n",
    "\n",
    "1. Escreva uma função chamada `verifica_fermat` que recebe parâmetros `a`, `b`, `c`, e `n`, e verifica se o teorema de Fermat vale para esses argumentos. Se $n > 2$ e $a^n + b^n = c^n$ o programa deve imprimir: \"Santo Deus, Fermat estava errado!\", caso contrário o progama deve imprimir: \"Não, esses não funcionam.\"\n",
    "\n",
    "2. Escreva uma função que recebe como entrada do usuário os valores para `a`, `b`, `c`, e `n`, converte esses valores em inteiros, e usa `verifica_fermat` para verificar se respeitam ou não o Teorema de Fermat.\n",
    "\n",
    "### Exercício 5.4\n",
    "\n",
    "Todo triângulo é formado por 3 lados, ou arestas, mas nem sempre é possível formar um triângulo com 3 arestas quaisquer. Por exemplo, se uma aresta possui 12 centímetros de comprimento e as outras duas arestas possuem 1 centímetro de comprimento, não será possível conectar as 3 arestas. Existe um modo de verificar se três arestas podem formar um triângulo:\n",
    "\n",
    "> *Dica*: Não é possível formar um triângulo se o comprimento de qualquer uma das três arestas disponíveis for maior que a soma dos comprimentos das outras duas arestas. Se a soma dos outros dois comprimentos for igual ao comprimento da terceira aresta, teremos um *triângulo degenerado*.\n",
    "\n",
    "1. Escreva uma função chamada `é_triângulo` que receba como argumento três inteiros e imprima \"Sim\" ou \"Não\", caso seja ou não possível formar um triângulo que tenha as arestas com os comprimentos dados.\n",
    "\n",
    "2. Escreva uma função que receba do usuário o comprimento de três arestas, convirta-os em inteiros e use `é_triângulo` para verificar se é possível formar um triângulo com essas arestas.\n",
    "\n",
    "### Exercício 5.5\n",
    "\n",
    "Execute a célula abaixo, e desenhe um diagrama de pilha que mostre o estado do programa quando ele imprime o seu resultado."
   ]
  },
  {
   "cell_type": "code",
   "execution_count": 58,
   "metadata": {},
   "outputs": [
    {
     "name": "stdout",
     "output_type": "stream",
     "text": [
      "6\n"
     ]
    }
   ],
   "source": [
    "function recorrência(n, s)\n",
    "    if n == 0\n",
    "        println(s)\n",
    "    else\n",
    "        recorrência(n - 1, n + s)\n",
    "    end\n",
    "end\n",
    "\n",
    "recorrência(3, 0)"
   ]
  },
  {
   "cell_type": "markdown",
   "metadata": {},
   "source": [
    "Responda:\n",
    "\n",
    "1. O que aconteceria se você fizesse a chamada `recorrência(-1, 0)`?\n",
    "\n",
    "2. Escreva uma docstring que explique o que essa função faz e como utilizá-la.\n",
    "\n",
    "### Exercício 5.6\n",
    "\n",
    "> *Aviso*: Os próximos exercícios utilizam o módulo `ThinkJulia` descrito no capítulo Projeto de Interface, um Estudo de Caso\n",
    "\n",
    "Descubra o que a função abaixo faz. Você pode voltar e relembrar alguns exemplos do capítulo Projeto de Interface, um Estudo de Caso. Não continue até ter ao menos tentado descobrir o que a função faz.\n",
    "\n",
    "Execute a função e veja se você acertou. Depois, desenhe o diagrama de estado, para o argumento `n`, durante a chamada `desenhar(t, 50, 3)`."
   ]
  },
  {
   "cell_type": "code",
   "execution_count": 81,
   "metadata": {},
   "outputs": [
    {
     "data": {
      "image/svg+xml": [
       "<?xml version=\"1.0\" encoding=\"UTF-8\"?>\n",
       "<svg xmlns=\"http://www.w3.org/2000/svg\" xmlns:xlink=\"http://www.w3.org/1999/xlink\" width=\"600pt\" height=\"600pt\" viewBox=\"0 0 600 600\" version=\"1.1\">\n",
       "<g id=\"surface69\">\n",
       "<rect x=\"0\" y=\"0\" width=\"600\" height=\"600\" style=\"fill:rgb(100%,100%,100%);fill-opacity:1;stroke:none;\"/>\n",
       "<path style=\"fill:none;stroke-width:2;stroke-linecap:butt;stroke-linejoin:miter;stroke:rgb(0%,0%,0%);stroke-opacity:1;stroke-miterlimit:10;\" d=\"M 300 300 L 450 300 \"/>\n",
       "<path style=\"fill:none;stroke-width:2;stroke-linecap:butt;stroke-linejoin:miter;stroke:rgb(0%,0%,0%);stroke-opacity:1;stroke-miterlimit:10;\" d=\"M 450 300 L 514.277344 223.394531 \"/>\n",
       "<path style=\"fill:none;stroke-width:2;stroke-linecap:butt;stroke-linejoin:miter;stroke:rgb(0%,0%,0%);stroke-opacity:1;stroke-miterlimit:10;\" d=\"M 514.277344 223.394531 L 505.597656 174.15625 \"/>\n",
       "<path style=\"fill:none;stroke-width:2;stroke-linecap:butt;stroke-linejoin:miter;stroke:rgb(0%,0%,0%);stroke-opacity:1;stroke-miterlimit:10;\" d=\"M 505.597656 174.15625 L 514.277344 223.394531 \"/>\n",
       "<path style=\"fill:none;stroke-width:2;stroke-linecap:butt;stroke-linejoin:miter;stroke:rgb(0%,0%,0%);stroke-opacity:1;stroke-miterlimit:10;\" d=\"M 514.277344 223.394531 L 564.277344 223.394531 \"/>\n",
       "<path style=\"fill:none;stroke-width:2;stroke-linecap:butt;stroke-linejoin:miter;stroke:rgb(0%,0%,0%);stroke-opacity:1;stroke-miterlimit:10;\" d=\"M 564.277344 223.394531 L 514.277344 223.394531 \"/>\n",
       "<path style=\"fill:none;stroke-width:2;stroke-linecap:butt;stroke-linejoin:miter;stroke:rgb(0%,0%,0%);stroke-opacity:1;stroke-miterlimit:10;\" d=\"M 514.277344 223.394531 L 450 300 \"/>\n",
       "<path style=\"fill:none;stroke-width:2;stroke-linecap:butt;stroke-linejoin:miter;stroke:rgb(0%,0%,0%);stroke-opacity:1;stroke-miterlimit:10;\" d=\"M 450 300 L 514.277344 376.605469 \"/>\n",
       "<path style=\"fill:none;stroke-width:2;stroke-linecap:butt;stroke-linejoin:miter;stroke:rgb(0%,0%,0%);stroke-opacity:1;stroke-miterlimit:10;\" d=\"M 514.277344 376.605469 L 564.277344 376.605469 \"/>\n",
       "<path style=\"fill:none;stroke-width:2;stroke-linecap:butt;stroke-linejoin:miter;stroke:rgb(0%,0%,0%);stroke-opacity:1;stroke-miterlimit:10;\" d=\"M 564.277344 376.605469 L 514.277344 376.605469 \"/>\n",
       "<path style=\"fill:none;stroke-width:2;stroke-linecap:butt;stroke-linejoin:miter;stroke:rgb(0%,0%,0%);stroke-opacity:1;stroke-miterlimit:10;\" d=\"M 514.277344 376.605469 L 505.597656 425.84375 \"/>\n",
       "<path style=\"fill:none;stroke-width:2;stroke-linecap:butt;stroke-linejoin:miter;stroke:rgb(0%,0%,0%);stroke-opacity:1;stroke-miterlimit:10;\" d=\"M 505.597656 425.84375 L 514.277344 376.605469 \"/>\n",
       "<path style=\"fill:none;stroke-width:2;stroke-linecap:butt;stroke-linejoin:miter;stroke:rgb(0%,0%,0%);stroke-opacity:1;stroke-miterlimit:10;\" d=\"M 514.277344 376.605469 L 450 300 \"/>\n",
       "<path style=\"fill:none;stroke-width:2;stroke-linecap:butt;stroke-linejoin:miter;stroke:rgb(0%,0%,0%);stroke-opacity:1;stroke-miterlimit:10;\" d=\"M 450 300 L 300 300 \"/>\n",
       "</g>\n",
       "</svg>\n"
      ]
     },
     "metadata": {},
     "output_type": "display_data"
    }
   ],
   "source": [
    "using ThinkJulia\n",
    "\n",
    "function desenhar(t, comprimento, n)\n",
    "    if n == 0\n",
    "        return\n",
    "    end\n",
    "    \n",
    "    ângulo = 50\n",
    "    \n",
    "    forward(t, comprimento * n)\n",
    "    turn(t, -ângulo)\n",
    "    desenhar(t, comprimento, n - 1)\n",
    "    \n",
    "    turn(t, 2 * ângulo)\n",
    "    desenhar(t, comprimento, n - 1)\n",
    "    turn(t, -ângulo)\n",
    "    \n",
    "    forward(t, -comprimento * n)\n",
    "end\n",
    "\n",
    "t = Turtle()\n",
    "\n",
    "@svg begin\n",
    "    desenhar(t, 50, 3)\n",
    "end"
   ]
  },
  {
   "cell_type": "markdown",
   "metadata": {},
   "source": [
    "### Exercício 5.7\n",
    "\n",
    "![Uma curva de Koch de Tartaruga](../docs/img/koch-curve.png)\n",
    "\n",
    "A curva de Koch é um fractal parecido com a figura acima. Para desenhar uma curva de Koch de comprimento $x$, você precisa seguir os seguintes passos:\n",
    "\n",
    "1. Desenhar uma curva de Koch de comprimento $\\dfrac{x}{3}$.\n",
    "2. Girar 60º à esquerda.\n",
    "3. Desenhar uma curva de Koch de comprimento $\\dfrac{x}{3}$.\n",
    "4. Girar 120º à direita.\n",
    "5. Desenhar uma curva de Koch de comprimento $\\dfrac{x}{3}$.\n",
    "6. Girar 60º à esquerda.\n",
    "7. Desenhar uma curva de Koch de comprimento $\\dfrac{x}{3}$.\n",
    "\n",
    "Essas regras não se aplicam se $x < 3$. Nesse caso, você pode desenhar uma linha reta de comprimento $x$. Faça o seguinte:\n",
    "\n",
    "1. Escreva uma função chamada `koch` que receba como parâmetro uma tartaruga `t` e um comprimento `c`, e use a tartaruga para desenhar uma curva de Koch com o comprimento dado.\n",
    "2. Escreva uma função chamada `floco_de_neve` que desenhe três curvas de Koch, de forma que a saída seja parecida com um floco de neve.\n",
    "3. As curvas de Koch podem ser representadas de várias maneiras. Veja [alguns exemplos](https://en.wikipedia.org/wiki/Koch_snowflake) e implemente pelo menos um dos seus favoritos."
   ]
  }
 ],
 "metadata": {
  "kernelspec": {
   "display_name": "Julia 1.1.1",
   "language": "julia",
   "name": "julia-1.1"
  },
  "language_info": {
   "file_extension": ".jl",
   "mimetype": "application/julia",
   "name": "julia",
   "version": "1.1.1"
  }
 },
 "nbformat": 4,
 "nbformat_minor": 2
}
