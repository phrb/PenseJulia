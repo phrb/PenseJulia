{
 "cells": [
  {
   "cell_type": "markdown",
   "metadata": {
    "ein.tags": "worksheet-0",
    "slideshow": {
     "slide_type": "-"
    }
   },
   "source": [
    "# 6. Funções com Resultado\n",
    "\n",
    "Muitas das funções que utilizamos até agora devolvem valores, como por exemplo as funções matemáticas. No entanto, todas as funções que escrevemos até agora são nulas, isto é, produzem um resultado como imprimir um valor ou mover uma tartaruga, mas não devolvem nada. Neste capítulo, você vai aprender sobre *funções com resultado*.\n",
    "\n",
    "## Valores de Resultado\n",
    "\n",
    "Chamar uma função produz um *valor de resultado*, ou *return value* em inglês. É comum atribuir esse valor a uma variável, ou usá-lo como parte de uma expressão:"
   ]
  },
  {
   "cell_type": "code",
   "execution_count": 1,
   "metadata": {
    "autoscroll": false,
    "ein.hycell": false,
    "ein.tags": "worksheet-0",
    "slideshow": {
     "slide_type": "-"
    }
   },
   "outputs": [
    {
     "data": {
      "text/plain": [
       "2.718281828459045"
      ]
     },
     "execution_count": 1,
     "metadata": {},
     "output_type": "execute_result"
    }
   ],
   "source": [
    "e = exp(1.0)"
   ]
  },
  {
   "cell_type": "code",
   "execution_count": 2,
   "metadata": {
    "autoscroll": false,
    "ein.hycell": false,
    "ein.tags": "worksheet-0",
    "slideshow": {
     "slide_type": "-"
    }
   },
   "outputs": [
    {
     "data": {
      "text/plain": [
       "14.14213562373095"
      ]
     },
     "execution_count": 2,
     "metadata": {},
     "output_type": "execute_result"
    }
   ],
   "source": [
    "raio = 20\n",
    "radianos = π / 4\n",
    "\n",
    "altura = raio * sin(radianos)"
   ]
  },
  {
   "cell_type": "markdown",
   "metadata": {
    "ein.tags": "worksheet-0",
    "slideshow": {
     "slide_type": "-"
    }
   },
   "source": [
    "Funções *nulas*, ou *void* em inglês, não possuem valor de resultado. Mais especificamente, funções nulas devolvem o valor `nothing`. Neste capítulo vamos, enfim, escrever funções com resultado. O primeiro exemple é a função `área`, que devolve a área de um círculo de raio dado:"
   ]
  },
  {
   "cell_type": "code",
   "execution_count": 3,
   "metadata": {
    "autoscroll": false,
    "ein.hycell": false,
    "ein.tags": "worksheet-0",
    "slideshow": {
     "slide_type": "-"
    }
   },
   "outputs": [
    {
     "data": {
      "text/plain": [
       "314.1592653589793"
      ]
     },
     "execution_count": 3,
     "metadata": {},
     "output_type": "execute_result"
    }
   ],
   "source": [
    "function área(raio)\n",
    "    a = π * raio ^ 2\n",
    "    return a\n",
    "end\n",
    "\n",
    "área(10)"
   ]
  },
  {
   "cell_type": "markdown",
   "metadata": {
    "ein.tags": "worksheet-0",
    "slideshow": {
     "slide_type": "-"
    }
   },
   "source": [
    "Já vimos a instrução de término `return` em capítulos anteriores, mas numa função com resultado essa instrução inclui uma expressão. Uma instrução `return` com uma expressão significa:\n",
    "\n",
    "> Termine a função imediatamente, e use a expressão como valor de resultado.\n",
    "\n",
    "A expressão usada pode ser tão complicada quanto for preciso. Assim, podemos reescrever o exemplo anterior de forma mais concisa:"
   ]
  },
  {
   "cell_type": "code",
   "execution_count": 4,
   "metadata": {
    "autoscroll": false,
    "ein.hycell": false,
    "ein.tags": "worksheet-0",
    "slideshow": {
     "slide_type": "-"
    }
   },
   "outputs": [
    {
     "data": {
      "text/plain": [
       "314.1592653589793"
      ]
     },
     "execution_count": 4,
     "metadata": {},
     "output_type": "execute_result"
    }
   ],
   "source": [
    "function área(raio)\n",
    "    return π * raio ^ 2\n",
    "end\n",
    "\n",
    "área(10)"
   ]
  },
  {
   "cell_type": "markdown",
   "metadata": {
    "ein.tags": "worksheet-0",
    "slideshow": {
     "slide_type": "-"
    }
   },
   "source": [
    "Em Julia, o valor de resultado de uma função é a *última expressão avaliada na função*. Isso quer dizer que podemos escrever a função `área` da seguinte maneira:"
   ]
  },
  {
   "cell_type": "code",
   "execution_count": 5,
   "metadata": {
    "autoscroll": false,
    "ein.hycell": false,
    "ein.tags": "worksheet-0",
    "slideshow": {
     "slide_type": "-"
    }
   },
   "outputs": [
    {
     "data": {
      "text/plain": [
       "314.1592653589793"
      ]
     },
     "execution_count": 5,
     "metadata": {},
     "output_type": "execute_result"
    }
   ],
   "source": [
    "function área(raio)\n",
    "    π * raio ^ 2\n",
    "end\n",
    "\n",
    "área(10)"
   ]
  },
  {
   "cell_type": "markdown",
   "metadata": {
    "ein.tags": "worksheet-0",
    "slideshow": {
     "slide_type": "-"
    }
   },
   "source": [
    "Porém, isso não quer dizer que instruções `return` são supérfluas. Pode ser complicado determinar à primeira vista qual será a última expressão avaliada numa função com vários ramos de execução condicional, por exemplo. Adicionar instruções `return` serve como documentação nesse caso, facilitando a compreensão do código.\n",
    "\n",
    "Escrever instruções `return` explícitas e usar variáveis intermediárias, como a variável `a` nos exemplos anteriores, também ajuda no processo de depuração de uma função.\n",
    "\n",
    "Se quisermos devolver valores diferentes numa função com expressões de execução condicional, podemos garantir que as últimas expressões de cada ramo serão as últimas expressões avaliadas na função, como no exemplo abaixo:"
   ]
  },
  {
   "cell_type": "code",
   "execution_count": 6,
   "metadata": {
    "autoscroll": false,
    "ein.hycell": false,
    "ein.tags": "worksheet-0",
    "slideshow": {
     "slide_type": "-"
    }
   },
   "outputs": [
    {
     "name": "stdout",
     "output_type": "stream",
     "text": [
      "1\n",
      "2\n"
     ]
    }
   ],
   "source": [
    "function valor_absoluto(x)\n",
    "    if x < 0\n",
    "        -x\n",
    "    elseif x > 0\n",
    "        x\n",
    "    end\n",
    "end\n",
    "\n",
    "println(valor_absoluto(-1))\n",
    "println(valor_absoluto(2))"
   ]
  },
  {
   "cell_type": "markdown",
   "metadata": {
    "ein.tags": "worksheet-0",
    "slideshow": {
     "slide_type": "-"
    }
   },
   "source": [
    "Porém, a função acima será mais clara se usarmos uma instrução `return` por ramo:"
   ]
  },
  {
   "cell_type": "code",
   "execution_count": 7,
   "metadata": {
    "autoscroll": false,
    "ein.hycell": false,
    "ein.tags": "worksheet-0",
    "slideshow": {
     "slide_type": "-"
    }
   },
   "outputs": [
    {
     "name": "stdout",
     "output_type": "stream",
     "text": [
      "1\n",
      "2\n"
     ]
    }
   ],
   "source": [
    "function valor_absoluto(x)\n",
    "    if x < 0\n",
    "        return -x\n",
    "    elseif x > 0\n",
    "        return x\n",
    "    end\n",
    "end\n",
    "\n",
    "println(valor_absoluto(-1))\n",
    "println(valor_absoluto(2))"
   ]
  },
  {
   "cell_type": "markdown",
   "metadata": {
    "ein.tags": "worksheet-0",
    "slideshow": {
     "slide_type": "-"
    }
   },
   "source": [
    "Escrever código claro e explícito é cada vez mais importante conforme aumenta a complexidade das funções que escrevemos e lemos. Mesmo uma função simples pode ser mais difícil de depurar caso seu código não seja claro.\n",
    "\n",
    "A função `valor_absoluto` contém um erro, por exemplo. Se `x` for `0`, nenhum dos dois ramos será executado, e a função termina sem encontrar uma instrução `return`. Se o fluxo de execução chega ao fim do corpo de uma função sem avaliar nenhuma expressão com resultado, o valor de resultado da função será `nothing`, o que não é o valor absoluto de `0`:"
   ]
  },
  {
   "cell_type": "code",
   "execution_count": 8,
   "metadata": {
    "autoscroll": false,
    "ein.hycell": false,
    "ein.tags": "worksheet-0",
    "slideshow": {
     "slide_type": "-"
    }
   },
   "outputs": [
    {
     "name": "stdout",
     "output_type": "stream",
     "text": [
      "nothing"
     ]
    }
   ],
   "source": [
    "function valor_absoluto(x)\n",
    "    if x < 0\n",
    "        return -x\n",
    "    elseif x > 0\n",
    "        return x\n",
    "    end\n",
    "end\n",
    "\n",
    "show(valor_absoluto(0))"
   ]
  },
  {
   "cell_type": "markdown",
   "metadata": {
    "ein.tags": "worksheet-0",
    "slideshow": {
     "slide_type": "-"
    }
   },
   "source": [
    "> *Dica*: Em Julia, a função `abs` calcula valores absolutos."
   ]
  },
  {
   "cell_type": "code",
   "execution_count": 9,
   "metadata": {
    "autoscroll": false,
    "ein.hycell": false,
    "ein.tags": "worksheet-0",
    "slideshow": {
     "slide_type": "-"
    }
   },
   "outputs": [
    {
     "name": "stdout",
     "output_type": "stream",
     "text": [
      "0\n",
      "1\n"
     ]
    }
   ],
   "source": [
    "println(abs(0))\n",
    "println(abs(-1))"
   ]
  },
  {
   "cell_type": "markdown",
   "metadata": {
    "ein.tags": "worksheet-0",
    "slideshow": {
     "slide_type": "-"
    }
   },
   "source": [
    "### Exercício 6.1\n",
    "\n",
    "Escreva uma função `compare`, que receba os argumentos `x` e `y`, e devolva `1` se `x > y`, `0` se `x == y`, e `-1` se `x < y`.\n",
    "\n",
    "## Desenvolvimento Incremental\n",
    "\n",
    "Você vai passar mais tempo depurando código à medida que escrever funções maiores.\n",
    "\n",
    "Para lidar com esse aumento na complexidade de seus programas, você pode tentar utilizar um processo chamado de *desenvolvimento incremental*, cujo objetivo é evitar que você fique longas horas depurando um longo programa. O desenvolvimento incremental consiste em adicionar e testar pequenas porções de código por vez, ao invés de escrever todo o código de uma vez, e só depois testá-lo.\n",
    "\n",
    "Por exemplo, imagine que você gostaria de escrever código para calcular a distância $d$ entre dois pontos, dados pelas coordenadas $\\left(x_1, y_1\\right)$ e $\\left(x_2, y_2\\right)$. Usando o Teorema de Pitágoras, sabemos que essa distância é dada por:\n",
    "\n",
    "$$\n",
    "d = \\sqrt{(x_2 - x_1)^2 + (y_2 - y_1)^2}\n",
    "$$\n",
    "\n",
    "O primeiro passo para escrever uma função em Julia que calcule a equação acima é pensar em quais seriam suas entradas, ou argumentos, e qual seria sua saída, ou valor de resultado.\n",
    "\n",
    "Nesse caso as entradas são os dois os pontos, que você representar usando quatro números. O valor de resultado é a distância entre os pontos, que pode ser representada por um número de ponto-flutuante.\n",
    "\n",
    "Com isso, já é possível escrever um *esboço*, ou *protótipo*, da função:"
   ]
  },
  {
   "cell_type": "code",
   "execution_count": 10,
   "metadata": {
    "autoscroll": false,
    "ein.hycell": false,
    "ein.tags": "worksheet-0",
    "slideshow": {
     "slide_type": "-"
    }
   },
   "outputs": [
    {
     "data": {
      "text/plain": [
       "0.0"
      ]
     },
     "execution_count": 10,
     "metadata": {},
     "output_type": "execute_result"
    }
   ],
   "source": [
    "function distância(x₁, y₁, x₂, y₂)\n",
    "    0.0\n",
    "end\n",
    "\n",
    "distância(1, 2, 4, 6)"
   ]
  },
  {
   "cell_type": "markdown",
   "metadata": {
    "ein.tags": "worksheet-0",
    "slideshow": {
     "slide_type": "-"
    }
   },
   "source": [
    "É claro que esse esboço não calcula as distâncias entre seus argumentos, pois sempre devolve zero. No entanto, é um exemplo *sintaticamente* correto que executa corretamente. Assim, você pode testá-lo antes de seguir em frente.\n",
    "\n",
    "> *Dica*: Digite `\\_1` e pressione `TAB` para escrever os subscritos nos nomes dos argumentos.\n",
    "\n",
    "A chamada `distância(1, 2, 4, 6)` na célula acima é um *teste* do nosso esboço. Os valores para os argumentos foram escolhidos de forma que a distância vertical seja 4, e a distância horizontal seja 3. Assim a distância entre os dois pontos será 5, isto é, a hipotenusa de um triângulo de lados 3-4-5. É crucial conhecer o resultado esperado quando escrever um teste para uma função.\n",
    "\n",
    "Agora que já confirmamos que a função tem sintaxe correta, podemos começar a adicionar código ao seu corpo. Um próximo passo pode ser calcular as differenças $x_2 - x_1$ e $y_2 - y_1$. A próxima versão atribui esses resultados a variáveis temporárias, e imprime essas variáveis usando a macro `@show`:"
   ]
  },
  {
   "cell_type": "code",
   "execution_count": 11,
   "metadata": {
    "autoscroll": false,
    "ein.hycell": false,
    "ein.tags": "worksheet-0",
    "slideshow": {
     "slide_type": "-"
    }
   },
   "outputs": [
    {
     "name": "stdout",
     "output_type": "stream",
     "text": [
      "dx = 3\n",
      "dy = 4\n"
     ]
    },
    {
     "data": {
      "text/plain": [
       "0.0"
      ]
     },
     "execution_count": 11,
     "metadata": {},
     "output_type": "execute_result"
    }
   ],
   "source": [
    "function distância(x₁, y₁, x₂, y₂)\n",
    "    dx = x₂ - x₁\n",
    "    dy = y₂ - y₁\n",
    "    \n",
    "    @show dx dy\n",
    "    \n",
    "    0.0\n",
    "end\n",
    "\n",
    "distância(1, 2, 4, 6)"
   ]
  },
  {
   "cell_type": "markdown",
   "metadata": {
    "ein.tags": "worksheet-0",
    "slideshow": {
     "slide_type": "-"
    }
   },
   "source": [
    "Se tudo funcionar corretamente, a função vai imprimir `dx = 3` e `dy = 4`, e saberemos que a função está recebendo os arumentos corretos e fazer os primeiros cálculos corretamente. Se algo de estranho acontecer, teremos que verificar apenas algumas poucas linhas de código.\n",
    "\n",
    "Agora, podemos calcular a *soma dos quadrados* de `dx` e `dy`:"
   ]
  },
  {
   "cell_type": "code",
   "execution_count": 12,
   "metadata": {
    "autoscroll": false,
    "ein.hycell": false,
    "ein.tags": "worksheet-0",
    "slideshow": {
     "slide_type": "-"
    }
   },
   "outputs": [
    {
     "name": "stdout",
     "output_type": "stream",
     "text": [
      "d² = 25\n"
     ]
    },
    {
     "data": {
      "text/plain": [
       "0.0"
      ]
     },
     "execution_count": 12,
     "metadata": {},
     "output_type": "execute_result"
    }
   ],
   "source": [
    "function distância(x₁, y₁, x₂, y₂)\n",
    "    dx = x₂ - x₁\n",
    "    dy = y₂ - y₁\n",
    "    \n",
    "    d² = dx ^ 2 + dy ^ 2\n",
    "    \n",
    "    @show d²\n",
    "    \n",
    "    0.0\n",
    "end\n",
    "\n",
    "distância(1, 2, 4, 6)"
   ]
  },
  {
   "cell_type": "markdown",
   "metadata": {
    "ein.tags": "worksheet-0",
    "slideshow": {
     "slide_type": "-"
    }
   },
   "source": [
    "> *Dica*: Digite `\\^2` e pressione `TAB` para escrever os superscritos nos nomes dos argumentos.\n",
    "\n",
    "Também devemos verificar a saída da função após essa modificação. A saída esperada é `d² = 25`. Finalmente, podemos usar a função `srqt` para calcular a *raiz quadrada*, ou *square root* em inglês, do valor da variável `d²`:"
   ]
  },
  {
   "cell_type": "code",
   "execution_count": 13,
   "metadata": {
    "autoscroll": false,
    "ein.hycell": false,
    "ein.tags": "worksheet-0",
    "slideshow": {
     "slide_type": "-"
    }
   },
   "outputs": [
    {
     "data": {
      "text/plain": [
       "5.0"
      ]
     },
     "execution_count": 13,
     "metadata": {},
     "output_type": "execute_result"
    }
   ],
   "source": [
    "function distância(x₁, y₁, x₂, y₂)\n",
    "    dx = x₂ - x₁\n",
    "    dy = y₂ - y₁\n",
    "    \n",
    "    d² = dx ^ 2 + dy ^ 2\n",
    "    \n",
    "    sqrt(d²)\n",
    "end\n",
    "\n",
    "distância(1, 2, 4, 6)"
   ]
  },
  {
   "cell_type": "markdown",
   "metadata": {
    "ein.tags": "worksheet-0",
    "slideshow": {
     "slide_type": "-"
    }
   },
   "source": [
    "Se  tudo  correr bem,  e  observarmos  o valor  esperado  `5.0`,  a função  está\n",
    "pronta.  Caso contrário,  pode ser  interessante imprimir  o valor  da expressão\n",
    "`sqrt(d²)` antes da instrução `return`.\n",
    "\n",
    "A versão final  não imprime nada ao  fim de sua execução, ela  apenas devolve um\n",
    "valor.  As instruções  `println`  e `@show`  que usamos  durante  a depuração  e\n",
    "desenvolvimento devem ser  removidas quando o processo  termina. Instruções como\n",
    "`println`  e  `@show` adicionadas  durante  o  desenvolvimento são  chamadas  de\n",
    "*andaime*, ou  *scaffolding* em  inglês, pois  são úteis  durante o  processo de\n",
    "desenvolvimento, mas não são parte do produto final.\n",
    "\n",
    "No início do  seu aprendizado de programação, você deve  adicionar apenas uma ou\n",
    "duas  linhas de  código por  vez. Conforme  for ganhando  experiência, você  vai\n",
    "acabar escrevendo  e depurando porções de  código cada vez maiores.  De qualquer\n",
    "forma,  o processo  de desenvolvimento  incremental pode  evitar muito  tempo de\n",
    "depuração.\n",
    "\n",
    "Os conceitos-chave do processo de desenvolvimento incremental são:\n",
    "\n",
    "1. Comece com um programa pequeno e funcional, e faça pequenas mudanças. Se você\n",
    "   se deparar com um erro, vai ter uma boa ideia de onde ele está.\n",
    "2.  Use variáveis  para armazenar  valores intermediários,  para que  você possa\n",
    "   imprimí-los e verificá-los.\n",
    "3.  Depois que  o programa  estiver completo  e funcional,  você pode  remover o\n",
    "   andaime  e agrupar  expressões  em expressões  compostas  mais concisas,  mas\n",
    "   apenas se isso não atrapalhar a legibilidade do programa.\n",
    "\n",
    "### Exercício 6.2\n",
    "\n",
    "Use o processo  de desenvolvimento incremental para escrever  uma função chamada\n",
    "`hipotenusa`, que devolva o comprimento da hipotenusa de um triângulo retângulo,\n",
    "dados  os comprimentos  de duas  de suas  arestas. Crie  células demonstrando  e\n",
    "testando cada etapa do processo.\n",
    "\n",
    "## Composição\n",
    "\n",
    "Como já vimos em outros capítulos, podemos chamar uma função enquanto executamos outra. Como exemplo, vamos escrever uma função que receba dois *pontos*, um representando o *centro* de um círculo, e o outro representando um *ponto no perímetro* do círculo. Nossa função vai calcular a área do círculo definido pelos dois pontos.\n",
    "\n",
    "O ponto central será representado pelas variáveis `xc` e `yc`, e o ponto no perímetro será representado pelas variáveis `xp` e `yp`. O primeiro passo é encontrar o *raio do círculo*, isto é, a distância entre os dois pontos. Podemos usar a função `distância`, que escrevemos acima, para fazer isso:"
   ]
  },
  {
   "cell_type": "code",
   "execution_count": 14,
   "metadata": {},
   "outputs": [
    {
     "data": {
      "text/plain": [
       "3.605551275463989"
      ]
     },
     "execution_count": 14,
     "metadata": {},
     "output_type": "execute_result"
    }
   ],
   "source": [
    "xc = yc = 0.0\n",
    "xp = 3.0\n",
    "yp = 2.0\n",
    "\n",
    "raio = distância(xc, yc, xp, yp)"
   ]
  },
  {
   "cell_type": "markdown",
   "metadata": {},
   "source": [
    "O próximo passo é encontrar a área do círculo cujo raio é o que acabamos de calcular. Também já escrevemos uma função que realiza essa tarefa:"
   ]
  },
  {
   "cell_type": "code",
   "execution_count": 15,
   "metadata": {},
   "outputs": [
    {
     "data": {
      "text/plain": [
       "40.84070449666731"
      ]
     },
     "execution_count": 15,
     "metadata": {},
     "output_type": "execute_result"
    }
   ],
   "source": [
    "resultado = área(raio)"
   ]
  },
  {
   "cell_type": "markdown",
   "metadata": {},
   "source": [
    "*Encapsulando* esses passos numa função, temos:"
   ]
  },
  {
   "cell_type": "code",
   "execution_count": 17,
   "metadata": {},
   "outputs": [
    {
     "data": {
      "text/plain": [
       "40.84070449666731"
      ]
     },
     "execution_count": 17,
     "metadata": {},
     "output_type": "execute_result"
    }
   ],
   "source": [
    "function área_círculo(xc, yc, xp, yp)\n",
    "    raio = distância(xc, yc, xp, yp)\n",
    "    resultado = área(raio)\n",
    "    return resultado\n",
    "end\n",
    "\n",
    "xc = yc = 0.0\n",
    "xp = 3.0\n",
    "yp = 2.0\n",
    "\n",
    "área_círculo(xc, yc, xp, yp)"
   ]
  },
  {
   "cell_type": "markdown",
   "metadata": {},
   "source": [
    "As variáveis temporárias `raio` e `resultado` foram úteis durante o desenvolvimento e a depuração, mas depois que o programa estiver funcionando, podemos torná-lo mais conciso escrevendo a *composição* das chamadas de função:"
   ]
  },
  {
   "cell_type": "code",
   "execution_count": 19,
   "metadata": {},
   "outputs": [
    {
     "data": {
      "text/plain": [
       "40.84070449666731"
      ]
     },
     "execution_count": 19,
     "metadata": {},
     "output_type": "execute_result"
    }
   ],
   "source": [
    "function área_círculo(xc, yc, xp, yp)\n",
    "    área(distância(xc, yc, xp, yp))\n",
    "end\n",
    "\n",
    "xc = yc = 0.0\n",
    "xp = 3.0\n",
    "yp = 2.0\n",
    "\n",
    "área_círculo(xc, yc, xp, yp)"
   ]
  },
  {
   "cell_type": "markdown",
   "metadata": {},
   "source": [
    "## Funções Booleanas\n",
    "\n",
    "Funções podem produzir resultados de tipo booleano, o que permite esconder testes complicados convenientemente dentro de funções. Considere os exemplos nas células abaixo:"
   ]
  },
  {
   "cell_type": "code",
   "execution_count": 22,
   "metadata": {},
   "outputs": [
    {
     "data": {
      "text/plain": [
       "true"
      ]
     },
     "execution_count": 22,
     "metadata": {},
     "output_type": "execute_result"
    }
   ],
   "source": [
    "function édivisível(x, y)\n",
    "    if x % y == 0\n",
    "        return true\n",
    "    else\n",
    "        return false\n",
    "    end\n",
    "end\n",
    "\n",
    "x = 25\n",
    "y = 5\n",
    "\n",
    "édivisível(x, y)"
   ]
  },
  {
   "cell_type": "code",
   "execution_count": 23,
   "metadata": {},
   "outputs": [
    {
     "data": {
      "text/plain": [
       "false"
      ]
     },
     "execution_count": 23,
     "metadata": {},
     "output_type": "execute_result"
    }
   ],
   "source": [
    "x = 23\n",
    "y = 7\n",
    "\n",
    "édivisível(x, y)"
   ]
  },
  {
   "cell_type": "markdown",
   "metadata": {},
   "source": [
    "É comum dar a funções booleanas nomes que soem como perguntas de resposta *sim ou não*. A função `édivisível` devolve `true` ou `false` para indicar se `x` *é divisível* por `y`, como vimos nos exemplos acima.\n",
    "\n",
    "Como o resultado do operador `==` é um valor de tipo booleano, podemos escrever a função `édivisível` de forma mais concisa:"
   ]
  },
  {
   "cell_type": "code",
   "execution_count": 26,
   "metadata": {},
   "outputs": [
    {
     "data": {
      "text/plain": [
       "false"
      ]
     },
     "execution_count": 26,
     "metadata": {},
     "output_type": "execute_result"
    }
   ],
   "source": [
    "function édivisível(x, y)\n",
    "    x % y == 0\n",
    "end\n",
    "\n",
    "édivisível(6, 4)"
   ]
  },
  {
   "cell_type": "markdown",
   "metadata": {},
   "source": [
    "Funções booleanas são usadas frequentemente em expressões condicionais:"
   ]
  },
  {
   "cell_type": "code",
   "execution_count": 28,
   "metadata": {},
   "outputs": [
    {
     "name": "stdout",
     "output_type": "stream",
     "text": [
      "x é divisível por y\n"
     ]
    }
   ],
   "source": [
    "x = 25\n",
    "y = 5\n",
    "\n",
    "if édivisível(x, y)\n",
    "    println(\"x é divisível por y\")\n",
    "end"
   ]
  },
  {
   "cell_type": "markdown",
   "metadata": {},
   "source": [
    "É tentador escrever uma expressão da seguinte forma:"
   ]
  },
  {
   "cell_type": "code",
   "execution_count": 29,
   "metadata": {},
   "outputs": [
    {
     "name": "stdout",
     "output_type": "stream",
     "text": [
      "x é divisível por y\n"
     ]
    }
   ],
   "source": [
    "x = 25\n",
    "y = 5\n",
    "\n",
    "if édivisível(x, y) == true\n",
    "    println(\"x é divisível por y\")\n",
    "end"
   ]
  },
  {
   "cell_type": "markdown",
   "metadata": {},
   "source": [
    "No entanto, a comparação extra feita com o valor `true` é redundante, e portanto desnecessária."
   ]
  },
  {
   "cell_type": "markdown",
   "metadata": {},
   "source": [
    "### Exercício 6.3\n",
    "\n",
    "Escreva uma função chamada `está_entre(x, y, z)`, que devolva `true` se $x \\leq y \\leq z$, e `false` caso contrário.\n",
    "\n",
    "## Mais Recursão\n",
    "\n",
    "O que cobrimos até aqui é apenas um pequeno subconjunto da linguagem Julia, mas você pode gostar de saber que esse subconjunto é uma *linguagem de programação completa*, isto é, tudo o que pode ser calculado pode ser expressado usando esse subconjunto. Isso quer dizer que todos os programas existentes podem ser reescritos usando apenas os recursos de programação que você já aprendeu. Na verdade, você ainda precisaria de comandos para controlar periféricos como o mouse, por exemplo, mas isso é tudo.\n",
    "\n",
    "Provar a afirmação acima é um exercício nada trivial, e foi feito por Alan Turing, um dos primeiros cientistas da computação. Pode-se dizer que ele era na verdade um matemático, mas muitos cientistas da computação começaram como matemáticos naquela época. A prova feita por Turing é apropriadamente chamada de *Tese de Turing*. Recomendo a leitura do livro de Michael Sipser, *Introdução à Teoria da Computação*, para uma discussão mais precisa e completa da Tese de Turing.\n",
    "\n",
    "Para dar uma ideia do que você pode fazer com as ferramentas que aprendeu até agora, vamos avaliar algumas funções matemáticas com *definições recursivas*. Uma definição recursiva é parecida com uma *definição circular*, isto é, uma definição desse tipo contém uma referência ao que está sendo definido. Uma definição circular por si só não é muito útil:\n",
    "\n",
    "**vorpal**\n",
    "\n",
    "Um adjetivo usado para descrever algo vorpal\n",
    "\n",
    "Se você visse essa definição num dicionário, provavelmente ficaria incomodado. Por outro lado, se você procurasse a definição da *função fatorial*, representada pelo símbolo $!$, veria:\n",
    "\n",
    "$$\n",
    "n! = \\begin{cases} 1& \\textrm{if}\\ n = 0 \\\\ n (n-1)!& \\textrm{if}\\ n > 0 \\end{cases}\n",
    "$$\n",
    "\n",
    "A definição acima diz que o factorial de $0$ é $1$, e o fatorial de qualquer outro valor $n$ é $n$ vezes o fatorial de $n - 1$.\n",
    "\n",
    "Assim, $3!$ é $3$ vezes $2!$, que é $2$ vezes $1!$, que é $1$ vezes $0!$. Colocando tudo junto, $3!$ é igual a $3$ vezes $2$ vezes $1$ vezes $1$, isto é, $3! = 6$.\n",
    "\n",
    "Se for possível escrever uma definição recursiva de algum coisa, será possível escrever um programa em Julia para avaliá-la. O primeiro passo é decidir quais serão os argumentos. Nesse caso, é evidente que a função `fatorial` deve receber um inteiro:"
   ]
  },
  {
   "cell_type": "code",
   "execution_count": 30,
   "metadata": {},
   "outputs": [
    {
     "data": {
      "text/plain": [
       "fatorial (generic function with 1 method)"
      ]
     },
     "execution_count": 30,
     "metadata": {},
     "output_type": "execute_result"
    }
   ],
   "source": [
    "function fatorial(n) end"
   ]
  },
  {
   "cell_type": "markdown",
   "metadata": {},
   "source": [
    "Primeiro, vamos cuidar do caso base. Se o argumento for zero, basta devolvermos `1`:"
   ]
  },
  {
   "cell_type": "code",
   "execution_count": 32,
   "metadata": {},
   "outputs": [
    {
     "data": {
      "text/plain": [
       "1"
      ]
     },
     "execution_count": 32,
     "metadata": {},
     "output_type": "execute_result"
    }
   ],
   "source": [
    "function fatorial(n)\n",
    "    if n == 0\n",
    "        return 1\n",
    "    end\n",
    "end\n",
    "\n",
    "fatorial(0)"
   ]
  },
  {
   "cell_type": "markdown",
   "metadata": {},
   "source": [
    "Caso contrário, e esta é a parte interessante, devemos fazer uma chamada recursiva para calcular o fatorial de `n - 1`, e multiplicar esse valor por `n`:"
   ]
  },
  {
   "cell_type": "code",
   "execution_count": 11,
   "metadata": {},
   "outputs": [
    {
     "data": {
      "text/plain": [
       "6"
      ]
     },
     "execution_count": 11,
     "metadata": {},
     "output_type": "execute_result"
    }
   ],
   "source": [
    "function fatorial(n)\n",
    "    if n == 0\n",
    "        return 1\n",
    "    else\n",
    "        recursão = fatorial(n - 1)\n",
    "        resultado = recursão * n\n",
    "        return resultado\n",
    "    end\n",
    "end\n",
    "\n",
    "fatorial(3)"
   ]
  },
  {
   "cell_type": "markdown",
   "metadata": {},
   "source": [
    "O fluxo de execução deste programa é similar ao do programa `contagem_regressiva`, no *Capítulo Condicionais e Recursão*. Se chamarmos a função `fatorial` com `n = 3`, temos:\n",
    "\n",
    "1. Como `3` é diferente de `0`, tomamos o segundo ramo e calculamos o fatorial de `n - 1`$\\dots$\n",
    "    1. Como `2` é diferente de `0`, tomamos o segundo ramo e calculamos o fatorial de `n - 1`$\\dots$\n",
    "        1. Como `1` é diferente de `0`, tomamos o segundo ramo e calculamos o fatorial de `n - 1`$\\dots$\n",
    "            1. Como `0` é igual a `0`, tomamos o primeiro ramo e devolvemos `1`, sem fazer novas chamadas recursivas\n",
    "        2. O valor devolvido `1` é multiplicado por `n`, que vale `1`, e devolvemos o resultado\n",
    "    2. O valor devolvido `1` é multiplicado por `n`, que vale `2`, e devolvemos o resultado\n",
    "2. O valor devolvido `2` é multiplicado por `n`, que vale `3`, e o resultado `6` será o valor devolvido pela função chamada no início do processo\n",
    "\n",
    "A tabela abaixo descreve o diagrama de pilha da execução da chamada `fatorial(3)`, listando a profundidade de cada chamada de função, seu valor devolvido, e os valores das variáveis `n`, `recursão`, e `resultado` dentro de cada chamada:\n",
    "\n",
    "| Função | Profundidade | Valor Devolvido | `n` | `recursão` | `resultado` |\n",
    "| --- | --- | --- | --- | --- | --- |\n",
    "| `Main` | 0 | $-$ | $-$ | $-$ | $-$ |\n",
    "| `fatorial` | 1 | `6` | `3` | `2` |  `6` |\n",
    "| `fatorial` | 2 | `2` | `2` | `1` |  `2` |\n",
    "| `fatorial` | 3 | `1` | `1` | `1` |  `1` |\n",
    "| `fatorial` | 4 | `0` | $-$ | $-$ |  $-$ |\n",
    "\n",
    "Os valores devolvidos por cada chamada estão representados na coluna *Valor Devolvido*. Em cada chamada de função, o valor devolvido é o valor da variável `resultado`, isto é, o produto das variáveis `n` e `recursão`.\n",
    "\n",
    "No último quadro, ou chamada de função, as variáveis `recursão` e `resultado` não existem, pois o ramo que as cria não é executado. Por isso, seus valores são representados por \"$-$\".\n",
    "\n",
    "> Dica: Você pode usar a função `factorial` disponível em Julia para calcular o fatorial de um número inteiro:"
   ]
  },
  {
   "cell_type": "code",
   "execution_count": 1,
   "metadata": {},
   "outputs": [
    {
     "data": {
      "text/plain": [
       "6"
      ]
     },
     "execution_count": 1,
     "metadata": {},
     "output_type": "execute_result"
    }
   ],
   "source": [
    "factorial(3)"
   ]
  },
  {
   "cell_type": "code",
   "execution_count": 2,
   "metadata": {},
   "outputs": [
    {
     "data": {
      "text/plain": [
       "1"
      ]
     },
     "execution_count": 2,
     "metadata": {},
     "output_type": "execute_result"
    }
   ],
   "source": [
    "factorial(0)"
   ]
  },
  {
   "cell_type": "markdown",
   "metadata": {},
   "source": [
    "## Um Salto de Fé\n",
    "\n",
    "Seguir o fluxo de execução de um programa é uma boa maneira de lê-lo, mas pode se tornar complicado rapidamente. Um alternativa é o que chamo de \"*salto de fé*\". Quando você encontrar uma chamada de função, ao invés de seguir o fluxo de execução e começar a ler a função, presuma que a função funciona corretamente e devolve o resultado correto.\n",
    "\n",
    "Na verdade, você já praticou esse salto de fé em todas as vezes que usou funções da biblioteca padrão de Julia. Quando você chamou as funções `cos` ou `exp`, você não procurou ler o corpo dessas funções. Você presumiu que elas funcionavam, por que as pessoas que as escreveram são bons programadores.\n",
    "\n",
    "O mesmo acontece quando você chama uma de suas próprias funções. Em Funções Booleanas, por exemplo, escrevemos uma função chamada `édivisível`, que determina se um número é divisível por outro. Uma vez que nos convencemos de que a função estava correta, depois que verificamos e testamos sua saída, podemos usá-la sem ler seu corpo novamente.\n",
    "\n",
    "Isso também vale para programas recursivos. Quando chegamos a uma chamada recursiva, ao invés de seguirmos o fluxo de execução, devemos assumir que a chamada recursiva funciona corretamentes, e então nos perguntar: \"*Presumindo que eu possa encontrar o fatorial de `n - 1`, consigo calcular o fatorial de `n`?*\". Fica claro que sim, pois basta multiplicar o fatorial de `n - 1` por `n`.\n",
    "\n",
    "É claro, é um pouco estranho presumir que a função funcione corretamente antes de terminar de escrevê-la, mas é por isso que chamamos isso de salto de fé!\n",
    "\n",
    "## Mais um Exemplo\n",
    "\n",
    "Depois do cálculo do fatorial, o exemplo mais comum de funções matemáticas definidas recursivamente é a [sequência de Fibonacci](https://pt.wikipedia.org/wiki/Sequ%C3%AAncia_de_Fibonacci), definida de seguinte maneira:\n",
    "\n",
    "$$\n",
    "\\text{fib}(n) =\n",
    "\\begin{cases} 0, & \\text{se } n = 0 \\\\\n",
    "1, & \\text{se } n = 1 \\\\\n",
    "\\text{fib}(n - 1) + \\text{fib}(n - 2), & \\text{se } n > 1\n",
    "\\end{cases}\n",
    "$$\n",
    "\n",
    "Traduzindo para Julia, temos:"
   ]
  },
  {
   "cell_type": "code",
   "execution_count": 8,
   "metadata": {},
   "outputs": [
    {
     "data": {
      "text/plain": [
       "13"
      ]
     },
     "execution_count": 8,
     "metadata": {},
     "output_type": "execute_result"
    }
   ],
   "source": [
    "function fib(n)\n",
    "    if n == 0\n",
    "        return 0\n",
    "    elseif n == 1\n",
    "        return 1\n",
    "    else\n",
    "        return fib(n - 1) + fib(n - 2)\n",
    "    end\n",
    "end\n",
    "\n",
    "fib(7)"
   ]
  },
  {
   "cell_type": "markdown",
   "metadata": {},
   "source": [
    "É complicado tentar seguir o fluxo de execução da função `fib`, mesmo para valores de `n` relativamente pequenos. Mas se você der um salto de fé, e presumir que as duas chamadas recursivas funcionam corretamente, fica claro que você terá o resultado correto somando seus resultados.\n",
    "\n",
    "## Verificando Tipos\n",
    "\n",
    "O que acontece se chamarmos a nossa função `fatorial`, passando `1.5` como argumento?"
   ]
  },
  {
   "cell_type": "code",
   "execution_count": 12,
   "metadata": {},
   "outputs": [
    {
     "ename": "StackOverflowError",
     "evalue": "StackOverflowError:",
     "output_type": "error",
     "traceback": [
      "StackOverflowError:",
      "",
      "Stacktrace:",
      " [1] fatorial(::Float64) at ./In[11]:5 (repeats 80000 times)"
     ]
    }
   ],
   "source": [
    "fatorial(1.5)"
   ]
  },
  {
   "cell_type": "markdown",
   "metadata": {},
   "source": [
    "O erro resultante parece ser proveniente de uma recursão infinita. Por que será?  Nossa função tem um caso base, quando `n == 0`. Mas se `n` não for um inteiro, vamos passar direto pelo caso base, e fazer chamadas recursivas sem parar.\n",
    "\n",
    "Na primeira chamada recursiva, o valor de `n` é `0.5`. Na próxima, será `-0.5`. Daí em diante, o valor de `n` fica cada vez menor, ou mais negativo, mas nunca será `0`.\n",
    "\n",
    "Nesse caso, temos duas escolhas. Podemos tentar generalizar a função `fatorial` para fazer com que ela funcione com números de ponto flutuante, ou podemos fazer a função `fatorial` *verificar o tipo* de seu argumento. A primeira opção é implementar a chamada função $\\Gamma$, ou [função gama](https://pt.wikipedia.org/wiki/Fun%C3%A7%C3%A3o_gama), mas isso está um pouco fora do escopo deste livro. Assim, vamos tentar a segunda opção.\n",
    "\n",
    "Podemos usar o operador `isa` para verificar o tipo de um argumento. Podemos aproveitar a oportunidade para verificar se o argumento também é positivo:"
   ]
  },
  {
   "cell_type": "code",
   "execution_count": 20,
   "metadata": {},
   "outputs": [
    {
     "data": {
      "text/plain": [
       "fatorial (generic function with 1 method)"
      ]
     },
     "execution_count": 20,
     "metadata": {},
     "output_type": "execute_result"
    }
   ],
   "source": [
    "function fatorial(n)\n",
    "    if !(n isa Int64)\n",
    "        error(\"O fatorial só é definido para números inteiros.\")\n",
    "    elseif n < 0\n",
    "        error(\"O fatorial não é definido para números negativos.\")\n",
    "    elseif n == 0\n",
    "        return 1\n",
    "    else\n",
    "        return n * fatorial(n - 1)\n",
    "    end\n",
    "end"
   ]
  },
  {
   "cell_type": "code",
   "execution_count": 21,
   "metadata": {},
   "outputs": [
    {
     "ename": "ErrorException",
     "evalue": "O fatorial só é definido para números inteiros.",
     "output_type": "error",
     "traceback": [
      "O fatorial só é definido para números inteiros.",
      "",
      "Stacktrace:",
      " [1] fatorial(::Float64) at ./In[20]:3",
      " [2] top-level scope at In[21]:1"
     ]
    }
   ],
   "source": [
    "fatorial(1.5)"
   ]
  },
  {
   "cell_type": "code",
   "execution_count": 22,
   "metadata": {},
   "outputs": [
    {
     "ename": "ErrorException",
     "evalue": "O fatorial não é definido para números negativos.",
     "output_type": "error",
     "traceback": [
      "O fatorial não é definido para números negativos.",
      "",
      "Stacktrace:",
      " [1] fatorial(::Int64) at ./In[20]:5",
      " [2] top-level scope at In[22]:1"
     ]
    }
   ],
   "source": [
    "fatorial(-1)"
   ]
  },
  {
   "cell_type": "markdown",
   "metadata": {},
   "source": [
    "O primeiro caso base lida com números que não são inteiros, e o segundo lida com números negativos. Nos dois casos, a função imprime uma mensagem de erro e interrompe a execução do programa.\n",
    "\n",
    "Se passarmos pelas duas verificações, saberemos que `n` é positivo ou zero, e poderemos estar certos de que a recursão terminará.\n",
    "\n",
    "Essa função demonstra um padrão que pode ser chamado de *guardião*. As primeiras duas condições funcionam como guardiãs, protegendo o código que segue de valores que podem causar erros. Os guardiões tornam possível provar a corretude do código.\n",
    "\n",
    "Na seção *Capturando Exceções*, veremos uma alternativa mais flexível do que a produção de um erro: *lançar uma exceção*.\n",
    "\n",
    "## Depuração\n",
    "\n",
    "Dividir um programa em pedaços com funções menores cria *pontos de parada*, ou *checkpoints*, para depuração. Se uma função não estiver funcionando, devemos considerar três possibilidades:\n",
    "\n",
    "- Há algo errado com os argumentos passados à função: alguma pré-condição foi violada\n",
    "- Há algo errado com a função: alguma pós-condição foi violada\n",
    "- Há algo errado com o valor devolvido pela função, ou com como esse valor é utilizado\n",
    "\n",
    "Para descartar a primeira possibildiade, você pode adicionar uma instrução `println` ao começo da função e imprimir os valores dos argumentos recebidos, e também seus tipos. Ou você pode escrever código para verificar as pré-condições de forma explícita, como fizemos no exemplo acima.\n",
    "\n",
    "Se os argumentos estiverem corretos, adicione uma instrução `println` antes de cada instrução `return`, imprimindo o valor devolvido. Se possível, simule sua função e verifique se a saída está correta. Chame a função com argumentos cuja saída correspondente seja fácil de verificar, como fizemos na seção Desenvolvimento Incremental.\n",
    "\n",
    "Se a função estiver funcionando, estude a chamada de função para ter certeza de que o valor devolvido está sendo usado corretamente.\n",
    "\n",
    "Adicionar instruções `println` ao começo e ao fim de uma função pode deixar o fluxo de execução mais visível. Por exemplo, aqui está uma versão de `fatorial` com instruções `println`:"
   ]
  },
  {
   "cell_type": "code",
   "execution_count": 37,
   "metadata": {},
   "outputs": [
    {
     "name": "stdout",
     "output_type": "stream",
     "text": [
      "                        fatorial 6\n",
      "                    fatorial 5\n",
      "                fatorial 4\n",
      "            fatorial 3\n",
      "        fatorial 2\n",
      "    fatorial 1\n",
      "fatorial 0\n",
      "devolvendo 1\n",
      "    devolvendo 1\n",
      "        devolvendo 2\n",
      "            devolvendo 6\n",
      "                devolvendo 24\n",
      "                    devolvendo 120\n",
      "                        devolvendo 720\n"
     ]
    },
    {
     "data": {
      "text/plain": [
       "720"
      ]
     },
     "execution_count": 37,
     "metadata": {},
     "output_type": "execute_result"
    }
   ],
   "source": [
    "function fatorial(n)\n",
    "    espaço = \" \" ^ (4 * n)\n",
    "    println(espaço, \"fatorial \", n)\n",
    "    \n",
    "    if n == 0\n",
    "        println(espaço, \"devolvendo 1\")\n",
    "        return 1\n",
    "    else\n",
    "        recursão = fatorial(n - 1)\n",
    "        resultado = n * recursão\n",
    "        println(espaço, \"devolvendo \", resultado)\n",
    "        return resultado\n",
    "    end\n",
    "end\n",
    "\n",
    "fatorial(6)"
   ]
  },
  {
   "cell_type": "markdown",
   "metadata": {},
   "source": [
    "Note que a variável `espaço` controla a indentação do texto impresso por `println`, de acordo com a profundidade da chamada recursiva.\n",
    "\n",
    "Se o fluxo de execução estiver confuso para você, esse tipo de saída pode ajudar. Leva tempo para desenvolver um *andaime*, ou *scaffolding*, eficiente, mas um pouco de *scaffolding* pode economizar muito tempo de depuração.\n",
    "\n",
    "## Glossário\n",
    "\n",
    "**variável temporária**\n",
    "\n",
    "Uma variável usada para guardar um valor intermediário em um cálculo complexo.\n",
    "\n",
    "**código morto**\n",
    "\n",
    "Uma parte de um programa que nunca é executada, muitas vezes porque aparece depois de uma instrução `return`.\n",
    "\n",
    "**desenvolvimento incremental**\n",
    "\n",
    "Um plano de desenvolvimento de código para reduzir o tempo de depuração, que acrescenta e testa poucas linhas de código de cada vez.\n",
    "\n",
    "**scaffolding, ou *andaime***\n",
    "\n",
    "O código que se usa durante o desenvolvimento de programa, mas que não faz parte da versão final.\n",
    "\n",
    "**guardião**\n",
    "\n",
    "Um padrão de programação que usa uma instrução condicional para verificar e lidar com circunstâncias que possam causar erros.\n",
    "\n",
    "## Exercícios\n",
    "\n",
    "### Exercício 6.4\n",
    "\n",
    "Desenhe um diagrama de pilha para o programa abaixo. Usando suas palavras, explique a o resultado produzido pela função `c`."
   ]
  },
  {
   "cell_type": "code",
   "execution_count": 39,
   "metadata": {},
   "outputs": [
    {
     "name": "stdout",
     "output_type": "stream",
     "text": [
      "9 prod\n",
      "8100\n"
     ]
    }
   ],
   "source": [
    "function b(z)\n",
    "    produto = a(z, z)\n",
    "    println(z, \" \", prod)\n",
    "    produto\n",
    "end\n",
    "\n",
    "function a(x, y)\n",
    "    x = x + 1\n",
    "    x * y\n",
    "end\n",
    "\n",
    "function c(x, y, z)\n",
    "    total = x + y + z\n",
    "    quadrado = b(total)^2\n",
    "    quadrado\n",
    "end\n",
    "\n",
    "x = 1\n",
    "y = x + 1\n",
    "println(c(x, y + 3, x + y))"
   ]
  },
  {
   "cell_type": "markdown",
   "metadata": {},
   "source": [
    "### Exercício 6.5\n",
    "\n",
    "A [*função de Ackermann*](https://pt.wikipedia.org/wiki/Fun%C3%A7%C3%A3o_de_Ackermann) é definida como:\n",
    "\n",
    "$$\n",
    "A(m,n) = \\begin{cases} n + 1 & \\text{se } m = 0 \\\\\n",
    "A(m - 1, 1) & \\text{se } m > 0 \\text{ e } n = 0 \\\\\n",
    "A(m - 1, A(m, n - 1)) & \\text{se } m > 0 \\text{ e } n > 0\n",
    "\\end{cases}\n",
    "$$\n",
    "\n",
    "Escreva uma função chamada `ackermann`, que avalia a função de Ackermann nos valores `m` e `n`. Use sua função para calcular `ackermann(3, 4)`, que deve ser igual a `125`. O que acontece para valores maiores de `m` e `n`?\n",
    "\n",
    "\n",
    "### Exercício 6.6\n",
    "\n",
    "Um *palíndromo* é uma palavra ou frase que é idêntica se lida de frente para trás e de trás para frente, como  \"Socorram-me, subi no ônibus em Marrocos”. Podemos determinar recursivamente se uma palavra é um palíndromo verificando se a primeira e a última letra são iguais, e depois verificando se o meio restante também é um palíndromo.\n",
    "\n",
    "As funções abaixo recebem uma string como argumento, e devolvem suas *primeiras* e *últimas* letras, e suas *letras do meio*:"
   ]
  },
  {
   "cell_type": "code",
   "execution_count": 46,
   "metadata": {},
   "outputs": [
    {
     "data": {
      "text/plain": [
       "meio (generic function with 1 method)"
      ]
     },
     "execution_count": 46,
     "metadata": {},
     "output_type": "execute_result"
    }
   ],
   "source": [
    "function primeira(palavra)\n",
    "    primeira = firstindex(palavra)\n",
    "    palavra[primeira]\n",
    "end\n",
    "\n",
    "function última(palavra)\n",
    "    última = lastindex(palavra)\n",
    "    palavra[última]\n",
    "end\n",
    "\n",
    "function meio(palavra)\n",
    "    primeira = firstindex(palavra)\n",
    "    última = lastindex(palavra)\n",
    "    palavra[nextind(palavra, primeira) : prevind(palavra, última)]\n",
    "end"
   ]
  },
  {
   "cell_type": "markdown",
   "metadata": {},
   "source": [
    "Veremos como essas funções funcionam no Capítulo Strings. Faça os seguintes exercícios:\n",
    "\n",
    "1. Teste essas funções. O que acontece se você chama a função `meio` com uma string de apenas duas letras? E de apenas uma letra? E se você passar a string vazia, escrita como `\"\"`, e que não tem nenhuma letra?\n",
    "2. Escreva uma função chamada `épalindromo`, que recebe um argumento contento uma string e devolve `true` caso o argumento seja um palíndromo, e `false` caso contrário. Lembre-se que você pode usar a função `length` para verificar o tamanho de uma string.\n",
    "\n",
    "### Exercício 6.7\n",
    "\n",
    "Um número $a$ é uma potência de outro número $b$ se $a$ for divisível por $b$, e $ab$ também for uma potência de $b$. Escreva uma função chamada `épotência`, que recebe argumentos `a` e `b` e devolve `true` se `a` é uma potência de `b`, e `false` caso contrário.\n",
    "\n",
    "> *Dica*: Você terá que pensar sobre o caso base.\n",
    "\n",
    "### Exercício 6.8\n",
    "\n",
    "O máximo divisor comum (MDC) de $a$ e $b$ é o maior número que divide $a$ e $b$ sem deixar resto. Uma forma de calcular o MDC de dois números baseia-se no fato de que, se $r$ for o resto da divisão de $a$ por $b$, então `mdc(a, b) == mdc(b, r)`.  O caso base é `mdc(a, 0) == a`.\n",
    "\n",
    "Escreve uma função chamada `mdc`, que recebe argumentos `a` e `b` e devolve seu máximo divisor comum.\n",
    "\n",
    "Crédito: Esse exercício é baseado num exemplo do livro *Structure and Interpretation of Computer Programs*, de Abelson and Sussman."
   ]
  }
 ],
 "metadata": {
  "kernelspec": {
   "display_name": "Julia 1.1.1",
   "language": "julia",
   "name": "julia-1.1"
  },
  "language_info": {
   "file_extension": ".jl",
   "mimetype": "application/julia",
   "name": "julia",
   "version": "1.2.0"
  },
  "name": "6. Funções com Resultado.ipynb"
 },
 "nbformat": 4,
 "nbformat_minor": 2
}
