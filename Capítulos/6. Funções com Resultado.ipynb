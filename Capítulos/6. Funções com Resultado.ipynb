{
 "cells": [
  {
   "cell_type": "markdown",
   "metadata": {},
   "source": [
    "# 6. Funções com Resultado\n",
    "\n",
    "Muitas das funções que utilizamos até agora devolvem valores, como por exemplo as funções matemáticas. No entanto, todas as funções que escrevemos até agora são nulas, isto é, produzem um resultado como imprimir um valor ou mover uma tartaruga, mas não devolvem nada. Neste capítulo, você vai aprender sobre *funções com resultado*.\n",
    "\n",
    "## Valores de Resultado\n",
    "\n",
    "Chamar uma função produz um *valor de resultado*, ou *return value* em inglês. É comum atribuir esse valor a uma variável, ou usá-lo como parte de uma expressão:"
   ]
  },
  {
   "cell_type": "code",
   "execution_count": 2,
   "metadata": {},
   "outputs": [
    {
     "data": {
      "text/plain": [
       "2.718281828459045"
      ]
     },
     "execution_count": 2,
     "metadata": {},
     "output_type": "execute_result"
    }
   ],
   "source": [
    "e = exp(1.0)"
   ]
  },
  {
   "cell_type": "code",
   "execution_count": 11,
   "metadata": {},
   "outputs": [
    {
     "data": {
      "text/plain": [
       "14.14213562373095"
      ]
     },
     "execution_count": 11,
     "metadata": {},
     "output_type": "execute_result"
    }
   ],
   "source": [
    "raio = 20\n",
    "radianos = π / 4\n",
    "\n",
    "altura = raio * sin(radianos)"
   ]
  },
  {
   "cell_type": "markdown",
   "metadata": {},
   "source": [
    "Funções *nulas*, ou *void* em inglês, não possuem valor de resultado. Mais especificamente, funções nulas devolvem o valor `nothing`. Neste capítulo vamos, enfim, escrever funções com resultado. O primeiro exemple é a função `área`, que devolve a área de um círculo de raio dado:"
   ]
  },
  {
   "cell_type": "code",
   "execution_count": 13,
   "metadata": {},
   "outputs": [
    {
     "data": {
      "text/plain": [
       "314.1592653589793"
      ]
     },
     "execution_count": 13,
     "metadata": {},
     "output_type": "execute_result"
    }
   ],
   "source": [
    "function área(raio)\n",
    "    a = π * raio ^ 2\n",
    "    return a\n",
    "end\n",
    "\n",
    "área(10)"
   ]
  },
  {
   "cell_type": "markdown",
   "metadata": {},
   "source": [
    "Já vimos a instrução de término `return` em capítulos anteriores, mas numa função com resultado essa instrução inclui uma expressão. Uma instrução `return` com uma expressão significa:\n",
    "\n",
    "> Termine a função imediatamente, e use a expressão como valor de resultado.\n",
    "\n",
    "A expressão usada pode ser tão complicada quanto for preciso. Assim, podemos reescrever o exemplo anterior de forma mais concisa:"
   ]
  },
  {
   "cell_type": "code",
   "execution_count": 14,
   "metadata": {},
   "outputs": [
    {
     "data": {
      "text/plain": [
       "314.1592653589793"
      ]
     },
     "execution_count": 14,
     "metadata": {},
     "output_type": "execute_result"
    }
   ],
   "source": [
    "function área(raio)\n",
    "    return π * raio ^ 2\n",
    "end\n",
    "\n",
    "área(10)"
   ]
  },
  {
   "cell_type": "markdown",
   "metadata": {},
   "source": [
    "Em Julia, o valor de resultado de uma função é a *última expressão avaliada na função*. Isso quer dizer que podemos escrever a função `área` da seguinte maneira:"
   ]
  },
  {
   "cell_type": "code",
   "execution_count": 15,
   "metadata": {},
   "outputs": [
    {
     "data": {
      "text/plain": [
       "314.1592653589793"
      ]
     },
     "execution_count": 15,
     "metadata": {},
     "output_type": "execute_result"
    }
   ],
   "source": [
    "function área(raio)\n",
    "    π * raio ^ 2\n",
    "end\n",
    "\n",
    "área(10)"
   ]
  },
  {
   "cell_type": "markdown",
   "metadata": {},
   "source": [
    "Porém, isso não quer dizer que instruções `return` são supérfluas. Pode ser complicado determinar à primeira vista qual será a última expressão avaliada numa função com vários ramos de execução condicional, por exemplo. Adicionar instruções `return` serve como documentação nesse caso, facilitando a compreensão do código.\n",
    "\n",
    "Escrever instruções `return` explícitas e usar variáveis intermediárias, como a variável `a` nos exemplos anteriores, também ajuda no processo de depuração de uma função.\n",
    "\n",
    "Se quisermos devolver valores diferentes numa função com expressões de execução condicional, podemos garantir que as últimas expressões de cada ramo serão as últimas expressões avaliadas na função, como no exemplo abaixo:"
   ]
  },
  {
   "cell_type": "code",
   "execution_count": 22,
   "metadata": {},
   "outputs": [
    {
     "name": "stdout",
     "output_type": "stream",
     "text": [
      "1\n",
      "2\n"
     ]
    }
   ],
   "source": [
    "function valor_absoluto(x)\n",
    "    if x < 0\n",
    "        -x\n",
    "    elseif x > 0\n",
    "        x\n",
    "    end\n",
    "end\n",
    "\n",
    "println(valor_absoluto(-1))\n",
    "println(valor_absoluto(2))"
   ]
  },
  {
   "cell_type": "markdown",
   "metadata": {},
   "source": [
    "Porém, a função acima será mais clara se usarmos uma instrução `return` por ramo:"
   ]
  },
  {
   "cell_type": "code",
   "execution_count": 23,
   "metadata": {},
   "outputs": [
    {
     "name": "stdout",
     "output_type": "stream",
     "text": [
      "1\n",
      "2\n"
     ]
    }
   ],
   "source": [
    "function valor_absoluto(x)\n",
    "    if x < 0\n",
    "        return -x\n",
    "    elseif x > 0\n",
    "        return x\n",
    "    end\n",
    "end\n",
    "\n",
    "println(valor_absoluto(-1))\n",
    "println(valor_absoluto(2))"
   ]
  },
  {
   "cell_type": "markdown",
   "metadata": {},
   "source": [
    "Escrever código claro e explícito é cada vez mais importante conforme aumenta a complexidade das funções que escrevemos e lemos. Mesmo uma função simples pode ser mais difícil de depurar caso seu código não seja claro.\n",
    "\n",
    "A função `valor_absoluto` contém um erro, por exemplo. Se `x` for `0`, nenhum dos dois ramos será executado, e a função termina sem encontrar uma instrução `return`. Se o fluxo de execução chega ao fim do corpo de uma função sem avaliar nenhuma expressão com resultado, o valor de resultado da função será `nothing`, o que não é o valor absoluto de `0`:"
   ]
  },
  {
   "cell_type": "code",
   "execution_count": 24,
   "metadata": {},
   "outputs": [
    {
     "name": "stdout",
     "output_type": "stream",
     "text": [
      "nothing"
     ]
    }
   ],
   "source": [
    "function valor_absoluto(x)\n",
    "    if x < 0\n",
    "        return -x\n",
    "    elseif x > 0\n",
    "        return x\n",
    "    end\n",
    "end\n",
    "\n",
    "show(valor_absoluto(0))"
   ]
  },
  {
   "cell_type": "markdown",
   "metadata": {},
   "source": [
    "> *Dica*: Em Julia, a função `abs` calcula valores absolutos."
   ]
  },
  {
   "cell_type": "code",
   "execution_count": 26,
   "metadata": {},
   "outputs": [
    {
     "name": "stdout",
     "output_type": "stream",
     "text": [
      "0\n",
      "1\n"
     ]
    }
   ],
   "source": [
    "println(abs(0))\n",
    "println(abs(-1))"
   ]
  },
  {
   "cell_type": "markdown",
   "metadata": {},
   "source": [
    "### Exercício 6.1\n",
    "\n",
    "Escreva uma função `compare`, que receba os argumentos `x` e `y`, e devolva `1` se `x > y`, `0` se `x == y`, e `-1` se `x < y`.\n",
    "\n",
    "## Desenvolvimento Incremental\n",
    "\n",
    "Você vai passar mais tempo depurando código à medida que escrever funções maiores.\n",
    "\n",
    "Para lidar com esse aumento na complexidade de seus programas, você pode tentar utilizar um processo chamado de *desenvolvimento incremental*, cujo objetivo é evitar que você fique longas horas depurando um longo programa. O desenvolvimento incremental consiste em adicionar e testar pequenas porções de código por vez, ao invés de escrever todo o código de uma vez, e só depois testá-lo.\n",
    "\n",
    "Por exemplo, imagine que você gostaria de escrever código para calcular a distância $d$ entre dois pontos, dados pelas coordenadas $\\left(x_1, y_1\\right)$ e $\\left(x_2, y_2\\right)$. Usando o Teorema de Pitágoras, sabemos que essa distância é dada por:\n",
    "\n",
    "$$\n",
    "d = \\sqrt{(x_2 - x_1)^2 + (y_2 - y_1)^2}\n",
    "$$\n",
    "\n",
    "O primeiro passo para escrever uma função em Julia que calcule a equação acima é pensar em quais seriam suas entradas, ou argumentos, e qual seria sua saída, ou valor de resultado.\n",
    "\n",
    "Nesse caso as entradas são os dois os pontos, que você representar usando quatro números. O valor de resultado é a distância entre os pontos, que pode ser representada por um número de ponto-flutuante.\n",
    "\n",
    "Com isso, já é possível escrever um *esboço*, ou *protótipo*, da função:"
   ]
  },
  {
   "cell_type": "code",
   "execution_count": 30,
   "metadata": {},
   "outputs": [
    {
     "data": {
      "text/plain": [
       "0.0"
      ]
     },
     "execution_count": 30,
     "metadata": {},
     "output_type": "execute_result"
    }
   ],
   "source": [
    "function distância(x₁, y₁, x₂, y₂)\n",
    "    0.0\n",
    "end\n",
    "\n",
    "distância(1, 2, 4, 6)"
   ]
  },
  {
   "cell_type": "markdown",
   "metadata": {},
   "source": [
    "É claro que esse esboço não calcula as distâncias entre seus argumentos, pois sempre devolve zero. No entanto, é um exemplo *sintaticamente* correto que executa corretamente. Assim, você pode testá-lo antes de seguir em frente.\n",
    "\n",
    "> *Dica*: Digite `\\_1` e pressione `TAB` para escrever os subscritos nos nomes dos argumentos.\n",
    "\n",
    "A chamada `distância(1, 2, 4, 6)` na célula acima é um *teste* do nosso esboço. Os valores para os argumentos foram escolhidos de forma que a distância vertical seja 4, e a distância horizontal seja 3. Assim a distância entre os dois pontos será 5, isto é, a hipotenusa de um triângulo de lados 3-4-5. É crucial conhecer o resultado esperado quando escrever um teste para uma função.\n",
    "\n",
    "Agora que já confirmamos que a função tem sintaxe correta, podemos começar a adicionar código ao seu corpo. Um próximo passo pode ser calcular as differenças $x_2 - x_1$ e $y_2 - y_1$. A próxima versão atribui esses resultados a variáveis temporárias, e imprime essas variáveis usando a macro `@show`:"
   ]
  },
  {
   "cell_type": "code",
   "execution_count": 32,
   "metadata": {},
   "outputs": [
    {
     "name": "stdout",
     "output_type": "stream",
     "text": [
      "dx = 3\n",
      "dy = 4\n"
     ]
    },
    {
     "data": {
      "text/plain": [
       "0.0"
      ]
     },
     "execution_count": 32,
     "metadata": {},
     "output_type": "execute_result"
    }
   ],
   "source": [
    "function distância(x₁, y₁, x₂, y₂)\n",
    "    dx = x₂ - x₁\n",
    "    dy = y₂ - y₁\n",
    "    \n",
    "    @show dx dy\n",
    "    \n",
    "    0.0\n",
    "end\n",
    "\n",
    "distância(1, 2, 4, 6)"
   ]
  },
  {
   "cell_type": "markdown",
   "metadata": {},
   "source": [
    "Se tudo funcionar corretamente, a função vai imprimir `dx = 3` e `dy = 4`, e saberemos que a função está recebendo os arumentos corretos e fazer os primeiros cálculos corretamente. Se algo de estranho acontecer, teremos que verificar apenas algumas poucas linhas de código.\n",
    "\n",
    "Agora, podemos calcular a *soma dos quadrados* de `dx` e `dy`:"
   ]
  },
  {
   "cell_type": "code",
   "execution_count": 35,
   "metadata": {},
   "outputs": [
    {
     "name": "stdout",
     "output_type": "stream",
     "text": [
      "d² = 25\n"
     ]
    },
    {
     "data": {
      "text/plain": [
       "0.0"
      ]
     },
     "execution_count": 35,
     "metadata": {},
     "output_type": "execute_result"
    }
   ],
   "source": [
    "function distância(x₁, y₁, x₂, y₂)\n",
    "    dx = x₂ - x₁\n",
    "    dy = y₂ - y₁\n",
    "    \n",
    "    d² = dx ^ 2 + dy ^ 2\n",
    "    \n",
    "    @show d²\n",
    "    \n",
    "    0.0\n",
    "end\n",
    "\n",
    "distância(1, 2, 4, 6)"
   ]
  },
  {
   "cell_type": "markdown",
   "metadata": {},
   "source": [
    "> *Dica*: Digite `\\^2` e pressione `TAB` para escrever os superscritos nos nomes dos argumentos.\n",
    "\n",
    "Também devemos verificar a saída da função após essa modificação. A saída esperada é `d² = 25`. Finalmente, podemos usar a função `srqt` para calcular a *raiz quadrada*, ou *square root* em inglês, do valor da variável `d²`:"
   ]
  },
  {
   "cell_type": "code",
   "execution_count": 36,
   "metadata": {},
   "outputs": [
    {
     "data": {
      "text/plain": [
       "5.0"
      ]
     },
     "execution_count": 36,
     "metadata": {},
     "output_type": "execute_result"
    }
   ],
   "source": [
    "function distância(x₁, y₁, x₂, y₂)\n",
    "    dx = x₂ - x₁\n",
    "    dy = y₂ - y₁\n",
    "    \n",
    "    d² = dx ^ 2 + dy ^ 2\n",
    "    \n",
    "    sqrt(d²)\n",
    "end\n",
    "\n",
    "distância(1, 2, 4, 6)"
   ]
  },
  {
   "cell_type": "markdown",
   "metadata": {},
   "source": [
    "Se tudo correr bem, e observarmos o valor esperado `5.0`, a função está pronta. Caso contrário, pode ser interessante imprimir o valor da expressão `sqrt(d²)` antes da instrução `return`.\n",
    "\n",
    "A versão final não imprime nada ao fim de sua execução, ela apenas devolve um valor. As instruções `println` e `@show` que usamos durante a depuração e desenvolvimento devem ser removidas quando o processo termina. Instruções como `println` e `@show` adicionadas durante o desenvolvimento são chamadas de *andaime*, ou *scaffolding* em inglês, pois são úteis durante o processo de desenvolvimento, mas não são parte do produto final.\n",
    "\n",
    "No início do seu aprendizado de programação, você deve adicionar apenas uma ou duas linhas de código por vez. Conforme for ganhando experiência, você vai acabar escrevendo e depurando porções de código cada vez maiores. De qualquer forma, o processo de desenvolvimento incremental pode evitar muito tempo de depuração.\n",
    "\n",
    "Os conceitos-chave do processo de desenvolvimento incremental são:\n",
    "\n",
    "1. Comece com um programa pequeno e funcional, e faça pequenas mudanças. Se você se deparar com um erro, vai ter uma boa ideia de onde ele está.\n",
    "2. Use variáveis para armazenar valores intermediários, para que você possa imprimí-los e verificá-los.\n",
    "3. Depois que o programa estiver completo e funcional, você pode remover o andaime e agrupar expressões em expressões compostas mais concisas, mas apenas se isso não atrapalhar a legibilidade do programa.\n",
    "\n",
    "### Exercício 6.2\n",
    "\n",
    "Use o processo de desenvolvimento incremental para escrever uma função chamada `hipotenusa`, que devolva o comprimento da hipotenusa de um triângulo retângulo, dados os comprimentos de duas de suas arestas. Crie células demonstrando e testando cada etapa do processo.\n",
    "\n",
    "## Composição"
   ]
  }
 ],
 "metadata": {
  "kernelspec": {
   "display_name": "Julia 1.1.1",
   "language": "julia",
   "name": "julia-1.1"
  },
  "language_info": {
   "file_extension": ".jl",
   "mimetype": "application/julia",
   "name": "julia",
   "version": "1.1.1"
  }
 },
 "nbformat": 4,
 "nbformat_minor": 2
}
