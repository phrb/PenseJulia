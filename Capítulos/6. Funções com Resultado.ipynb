{
 "cells": [
  {
   "cell_type": "markdown",
   "metadata": {},
   "source": [
    "# 6. Funções com Resultado\n",
    "\n",
    "Muitas das funções que utilizamos até agora devolvem valores, como por exemplo as funções matemáticas. No entanto, todas as funções que escrevemos até agora são nulas, isto é, produzem um resultado como imprimir um valor ou mover uma tartaruga, mas não devolvem nada. Neste capítulo, você vai aprender sobre *funções com resultado*.\n",
    "\n",
    "## Valores de Resultado\n",
    "\n",
    "Chamar uma função produz um *valor de resultado*, ou *return value* em inglês. É comum atribuir esse valor a uma variável, ou usá-lo como parte de uma expressão:"
   ]
  },
  {
   "cell_type": "code",
   "execution_count": 2,
   "metadata": {},
   "outputs": [
    {
     "data": {
      "text/plain": [
       "2.718281828459045"
      ]
     },
     "execution_count": 2,
     "metadata": {},
     "output_type": "execute_result"
    }
   ],
   "source": [
    "e = exp(1.0)"
   ]
  },
  {
   "cell_type": "code",
   "execution_count": 11,
   "metadata": {},
   "outputs": [
    {
     "data": {
      "text/plain": [
       "14.14213562373095"
      ]
     },
     "execution_count": 11,
     "metadata": {},
     "output_type": "execute_result"
    }
   ],
   "source": [
    "raio = 20\n",
    "radianos = π / 4\n",
    "\n",
    "altura = raio * sin(radianos)"
   ]
  },
  {
   "cell_type": "markdown",
   "metadata": {},
   "source": [
    "Funções *nulas*, ou *void* em inglês, não possuem valor de resultado. Mais especificamente, funções nulas devolvem o valor `nothing`. Neste capítulo vamos, enfim, escrever funções com resultado. O primeiro exemple é a função `área`, que devolve a área de um círculo de raio dado:"
   ]
  },
  {
   "cell_type": "code",
   "execution_count": 13,
   "metadata": {},
   "outputs": [
    {
     "data": {
      "text/plain": [
       "314.1592653589793"
      ]
     },
     "execution_count": 13,
     "metadata": {},
     "output_type": "execute_result"
    }
   ],
   "source": [
    "function área(raio)\n",
    "    a = π * raio ^ 2\n",
    "    return a\n",
    "end\n",
    "\n",
    "área(10)"
   ]
  },
  {
   "cell_type": "markdown",
   "metadata": {},
   "source": [
    "Já vimos a instrução de término `return` em capítulos anteriores, mas numa função com resultado essa instrução inclui uma expressão. Uma instrução `return` com uma expressão significa:\n",
    "\n",
    "> Termine a função imediatamente, e use a expressão como valor de resultado.\n",
    "\n",
    "A expressão usada pode ser tão complicada quanto for preciso. Assim, podemos reescrever o exemplo anterior de forma mais concisa:"
   ]
  },
  {
   "cell_type": "code",
   "execution_count": 14,
   "metadata": {},
   "outputs": [
    {
     "data": {
      "text/plain": [
       "314.1592653589793"
      ]
     },
     "execution_count": 14,
     "metadata": {},
     "output_type": "execute_result"
    }
   ],
   "source": [
    "function área(raio)\n",
    "    return π * raio ^ 2\n",
    "end\n",
    "\n",
    "área(10)"
   ]
  },
  {
   "cell_type": "markdown",
   "metadata": {},
   "source": [
    "Em Julia, o valor de resultado de uma função é a *última expressão avaliada na função*. Isso quer dizer que podemos escrever a função `área` da seguinte maneira:"
   ]
  },
  {
   "cell_type": "code",
   "execution_count": 15,
   "metadata": {},
   "outputs": [
    {
     "data": {
      "text/plain": [
       "314.1592653589793"
      ]
     },
     "execution_count": 15,
     "metadata": {},
     "output_type": "execute_result"
    }
   ],
   "source": [
    "function área(raio)\n",
    "    π * raio ^ 2\n",
    "end\n",
    "\n",
    "área(10)"
   ]
  },
  {
   "cell_type": "markdown",
   "metadata": {},
   "source": [
    "Porém, isso não quer dizer que instruções `return` são supérfluas. Pode ser complicado determinar à primeira vista qual será a última expressão avaliada numa função com vários ramos de execução condicional, por exemplo. Adicionar instruções `return` serve como documentação nesse caso, facilitando a compreensão do código.\n",
    "\n",
    "Escrever instruções `return` explícitas e usar variáveis intermediárias, como a variável `a` nos exemplos anteriores, também ajuda no processo de depuração de uma função.\n",
    "\n",
    "Se quisermos devolver valores diferentes numa função com expressões de execução condicional, podemos garantir que as últimas expressões de cada ramo serão as últimas expressões avaliadas na função, como no exemplo abaixo:"
   ]
  },
  {
   "cell_type": "code",
   "execution_count": 22,
   "metadata": {},
   "outputs": [
    {
     "name": "stdout",
     "output_type": "stream",
     "text": [
      "1\n",
      "2\n"
     ]
    }
   ],
   "source": [
    "function valor_absoluto(x)\n",
    "    if x < 0\n",
    "        -x\n",
    "    elseif x > 0\n",
    "        x\n",
    "    end\n",
    "end\n",
    "\n",
    "println(valor_absoluto(-1))\n",
    "println(valor_absoluto(2))"
   ]
  },
  {
   "cell_type": "markdown",
   "metadata": {},
   "source": [
    "Porém, a função acima será mais clara se usarmos uma instrução `return` por ramo:"
   ]
  },
  {
   "cell_type": "code",
   "execution_count": 23,
   "metadata": {},
   "outputs": [
    {
     "name": "stdout",
     "output_type": "stream",
     "text": [
      "1\n",
      "2\n"
     ]
    }
   ],
   "source": [
    "function valor_absoluto(x)\n",
    "    if x < 0\n",
    "        return -x\n",
    "    elseif x > 0\n",
    "        return x\n",
    "    end\n",
    "end\n",
    "\n",
    "println(valor_absoluto(-1))\n",
    "println(valor_absoluto(2))"
   ]
  },
  {
   "cell_type": "markdown",
   "metadata": {},
   "source": [
    "Escrever código claro e explícito é cada vez mais importante conforme aumenta a complexidade das funções que escrevemos e lemos. Mesmo uma função simples pode ser mais difícil de depurar caso seu código não seja claro.\n",
    "\n",
    "A função `valor_absoluto` contém um erro, por exemplo. Se `x` for `0`, nenhum dos dois ramos será executado, e a função termina sem encontrar uma instrução `return`. Se o fluxo de execução chega ao fim do corpo de uma função sem avaliar nenhuma expressão com resultado, o valor de resultado da função será `nothing`, o que não é o valor absoluto de `0`:"
   ]
  },
  {
   "cell_type": "code",
   "execution_count": 24,
   "metadata": {},
   "outputs": [
    {
     "name": "stdout",
     "output_type": "stream",
     "text": [
      "nothing"
     ]
    }
   ],
   "source": [
    "function valor_absoluto(x)\n",
    "    if x < 0\n",
    "        return -x\n",
    "    elseif x > 0\n",
    "        return x\n",
    "    end\n",
    "end\n",
    "\n",
    "show(valor_absoluto(0))"
   ]
  },
  {
   "cell_type": "markdown",
   "metadata": {},
   "source": [
    "> *Dica*: Em Julia, a função `abs` calcula valores absolutos."
   ]
  },
  {
   "cell_type": "code",
   "execution_count": 26,
   "metadata": {},
   "outputs": [
    {
     "name": "stdout",
     "output_type": "stream",
     "text": [
      "0\n",
      "1\n"
     ]
    }
   ],
   "source": [
    "println(abs(0))\n",
    "println(abs(-1))"
   ]
  },
  {
   "cell_type": "markdown",
   "metadata": {},
   "source": [
    "### Exercício 6.1\n",
    "\n",
    "Escreva uma função `compare`, que receba os argumentos `x` e `y`, e devolva `1` se `x > y`, `0` se `x == y`, e `-1` se `x < y`.\n",
    "\n",
    "## Desenvolvimento Incremental"
   ]
  }
 ],
 "metadata": {
  "kernelspec": {
   "display_name": "Julia 1.1.1",
   "language": "julia",
   "name": "julia-1.1"
  },
  "language_info": {
   "file_extension": ".jl",
   "mimetype": "application/julia",
   "name": "julia",
   "version": "1.1.1"
  }
 },
 "nbformat": 4,
 "nbformat_minor": 2
}
