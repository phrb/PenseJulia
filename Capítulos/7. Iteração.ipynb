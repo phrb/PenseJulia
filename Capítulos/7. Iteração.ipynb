{
 "cells": [
  {
   "cell_type": "markdown",
   "metadata": {},
   "source": [
    "# 7. Iteração\n",
    "\n",
    "A repetição da execução de um bloco de instruções é chamada de *iteração*, e é o assunto deste capítulo. Já vimos alguns exemplos de iteração quando aprendemos recursão no capítulo *Recursão*, e quando usamos o laço `for` no capítulo *Repetição Simples*. Neste capítulo veremos um exemplo diferente, usando a instrução `while`. Mas antes eu gostaria de discutir um pouco mais sobre atribuição de variáveis.\n",
    "\n",
    "## Reatribuição\n",
    "\n",
    "Como você já deve ter percebido, é permitido fazer mais de uma atribuição a uma variável, fazendo com que a variável *referencie* um novo valor e deixe de referenciar o anterior. Considere o seguinte exemplo:"
   ]
  },
  {
   "cell_type": "code",
   "execution_count": 1,
   "metadata": {},
   "outputs": [
    {
     "data": {
      "text/plain": [
       "5"
      ]
     },
     "execution_count": 1,
     "metadata": {},
     "output_type": "execute_result"
    }
   ],
   "source": [
    "x = 5"
   ]
  },
  {
   "cell_type": "code",
   "execution_count": 2,
   "metadata": {},
   "outputs": [
    {
     "data": {
      "text/plain": [
       "7"
      ]
     },
     "execution_count": 2,
     "metadata": {},
     "output_type": "execute_result"
    }
   ],
   "source": [
    "x = 7"
   ]
  },
  {
   "cell_type": "markdown",
   "metadata": {},
   "source": [
    "Na primeira célula do exemplo acima, `x` tem valor `5`, e depois do segundo bloco, `x` tem valor `7`.\n",
    "\n",
    "|Variável|Valor|\n",
    "| -|- |\n",
    "|x | 5|\n",
    "|x |7|\n",
    "\n",
    "Vamos agora tratar de um caso onde é comum haver confusão. Como Julia utiliza o sinal de igual `=` para atribuições, é tentador interpretar instruções como `a = b` como a proposição matemática de igualdade, isto é, interpretar que `a` *é igual a* `b`. Mas essa não é a interpretação correta.\n",
    "\n",
    "A primeira diferença é que a igualdade matemática é uma relação simétrica e a atribuição, não. Por exemplo, na igualdade matemática, se `a = 7` então `7 = a`. Em Julia, a instrução `a = 7` é válida, mas `7 = a`, não.\n",
    "\n",
    "Em matemática, uma proposição de igualdade é verdadeira ou falsa, *sempre*. Se `a = b`, então `a` será sempre igual a `b`. Em Julia, uma instrução de atribuição pode fazer com que duas variáveis sejam iguais, mas não garante que o serão para sempre. Por exemplo:"
   ]
  },
  {
   "cell_type": "code",
   "execution_count": 8,
   "metadata": {},
   "outputs": [
    {
     "data": {
      "text/plain": [
       "5"
      ]
     },
     "execution_count": 8,
     "metadata": {},
     "output_type": "execute_result"
    }
   ],
   "source": [
    "a = 5"
   ]
  },
  {
   "cell_type": "code",
   "execution_count": 9,
   "metadata": {},
   "outputs": [
    {
     "data": {
      "text/plain": [
       "5"
      ]
     },
     "execution_count": 9,
     "metadata": {},
     "output_type": "execute_result"
    }
   ],
   "source": [
    "b = a"
   ]
  },
  {
   "cell_type": "code",
   "execution_count": 10,
   "metadata": {},
   "outputs": [
    {
     "data": {
      "text/plain": [
       "true"
      ]
     },
     "execution_count": 10,
     "metadata": {},
     "output_type": "execute_result"
    }
   ],
   "source": [
    "a == b"
   ]
  },
  {
   "cell_type": "code",
   "execution_count": 12,
   "metadata": {},
   "outputs": [
    {
     "data": {
      "text/plain": [
       "3"
      ]
     },
     "execution_count": 12,
     "metadata": {},
     "output_type": "execute_result"
    }
   ],
   "source": [
    "a = 3"
   ]
  },
  {
   "cell_type": "code",
   "execution_count": 13,
   "metadata": {},
   "outputs": [
    {
     "data": {
      "text/plain": [
       "false"
      ]
     },
     "execution_count": 13,
     "metadata": {},
     "output_type": "execute_result"
    }
   ],
   "source": [
    "a == b"
   ]
  },
  {
   "cell_type": "markdown",
   "metadata": {},
   "source": [
    "A quarta célula do exemplo acima muda o valor de `a`, mas não de `b`. Assim, `a` deixa de ser igual a `b`.\n",
    "\n",
    "> *Aviso*: Reatribuição de variáveis pode ser útil, mas você deve tomar cuidado. Pode ser difícil ler e depurar um código se os valores das variáveis mudarem frequentemente.\n",
    ">\n",
    "> Não é permitido definir uma função com o mesmo nome de uma variável utilizada anteriormente.\n",
    "\n",
    "## Atualizando Variáveis\n",
    "\n",
    "Uma *atualização* é um caso comum de reatribuição, onde o novo valor de uma variável depende de seu valor anterior: "
   ]
  },
  {
   "cell_type": "code",
   "execution_count": 14,
   "metadata": {},
   "outputs": [
    {
     "data": {
      "text/plain": [
       "8"
      ]
     },
     "execution_count": 14,
     "metadata": {},
     "output_type": "execute_result"
    }
   ],
   "source": [
    "x = x + 1"
   ]
  },
  {
   "cell_type": "markdown",
   "metadata": {},
   "source": [
    "A instrução na célula acima pega o valor de `x`, adiciona `1`, e atualiza `x` com o novo valor.\n",
    "\n",
    "Você verá um erro se tentar atualizar uma variável que não existe, pois o *lado direito* de uma instrução é *calculado antes* da atribuição:"
   ]
  },
  {
   "cell_type": "code",
   "execution_count": 15,
   "metadata": {},
   "outputs": [
    {
     "ename": "UndefVarError",
     "evalue": "UndefVarError: y not defined",
     "output_type": "error",
     "traceback": [
      "UndefVarError: y not defined",
      "",
      "Stacktrace:",
      " [1] top-level scope at In[15]:1"
     ]
    }
   ],
   "source": [
    "y = y + 1"
   ]
  },
  {
   "cell_type": "markdown",
   "metadata": {},
   "source": [
    "Portanto, é necessário inicializar uma variável antes de atualizá-la:"
   ]
  },
  {
   "cell_type": "code",
   "execution_count": 16,
   "metadata": {},
   "outputs": [
    {
     "data": {
      "text/plain": [
       "0"
      ]
     },
     "execution_count": 16,
     "metadata": {},
     "output_type": "execute_result"
    }
   ],
   "source": [
    "y = 0"
   ]
  },
  {
   "cell_type": "code",
   "execution_count": 17,
   "metadata": {},
   "outputs": [
    {
     "data": {
      "text/plain": [
       "1"
      ]
     },
     "execution_count": 17,
     "metadata": {},
     "output_type": "execute_result"
    }
   ],
   "source": [
    "y = y + 1"
   ]
  },
  {
   "cell_type": "markdown",
   "metadata": {},
   "source": [
    "Atualizar uma variável através da adição do número `1` chama-se *incrementar uma variável*, e atualizar através da subtração de `1` chama-se *decrementar*.\n",
    "\n",
    "## A Instrução `while`\n",
    "\n",
    "Computadores geralmente são usados para executar tarefas idênticas ou similares repetidamente, onde nós cometemos erros de vez em quando. Num programa, repetições também são chamadas de iterações.\n",
    "\n",
    "Já vimos duas funções que *iteram* utilizando recursão, `contagem_regressiva` e `imprime_n`. Como o uso de iterações é muito comum, Julia disponibiliza recursos para facilitá-lo. Um deles é a instrução `for`, já vista em *Repetição Simples*, e retomaremos essa instrução mais tarde.\n",
    "\n",
    "Outro recurso é a instrução `while`. No exemplo abaixo temos a função `contagem_regressiva` que usa a instrução `while`:"
   ]
  },
  {
   "cell_type": "code",
   "execution_count": 22,
   "metadata": {},
   "outputs": [
    {
     "name": "stdout",
     "output_type": "stream",
     "text": [
      "10, 9, 8, 7, 6, 5, 4, 3, 2, 1, Decolar!!! 🚀\n"
     ]
    }
   ],
   "source": [
    "function contagem_regressiva(n)\n",
    "    while n > 0\n",
    "        print(n, \", \")\n",
    "        n = n - 1\n",
    "    end\n",
    "    println(\"Decolar!!! 🚀\")\n",
    "end\n",
    "\n",
    "contagem_regressiva(10)"
   ]
  },
  {
   "cell_type": "markdown",
   "metadata": {},
   "source": [
    "A palavra `while` que significa *enquanto* em Português, e podemos escrever a função `contagem_regressiva` em Português da seguinte forma:\n",
    "\n",
    "> *Enquanto `n` for maior que `0`, imprima e decremente `n`. Quando `n` for zero, imprima \"Decolar!!! 🚀\"*\n",
    "\n",
    "Mais formalmente, o fluxo de execução para a instrução `while` é:\n",
    "\n",
    "1. Determine se a condição é verdadeira ou falsa\n",
    "2. Se for falsa, saia da instrução `while` e continue a execução do programa a partir da próxima instrução\n",
    "3. Se a condição for verdadeira, execute o corpo da instrução `while` e volte para o passo 1\n",
    "\n",
    "Esse tipo de fluxo é chamado de *laço*, pois o terceiro passo volta para o topo.\n",
    "\n",
    "O corpo do laço deve atualizar uma ou mais variáveis, garantindo que sua condição se torne falsa em algum momento da execução, fazendo com que o laço termine. Se isso não acontecer, o laço irá se repetir indefinidamente, o que chamamos de *laço infinito*. As instruções nas embalagens de shampoo, *lavar, enxugar, repetir*, são um divertimento para cientistas da computação, e também um bom exemplo de laços infinitos.\n",
    "\n",
    "Podemos provar que o laço termina no caso da função `contagem_regressiva`. Se `n` for zero ou negativo, o laço nunca será executado. Caso contrário, `n` diminui a cada iteração dentro do laço, chegando sempre a `0`.\n",
    "\n",
    "Não é tão fácil mostrar essa propriedade para outros laços, como por exemplo:"
   ]
  },
  {
   "cell_type": "code",
   "execution_count": 25,
   "metadata": {},
   "outputs": [
    {
     "name": "stdout",
     "output_type": "stream",
     "text": [
      "3\n",
      "10\n",
      "5.0\n",
      "16.0\n",
      "8.0\n",
      "4.0\n",
      "2.0\n"
     ]
    }
   ],
   "source": [
    "function sequência(n)\n",
    "    while n != 1\n",
    "        println(n)\n",
    "        if n % 2 == 0        # n é par\n",
    "            n = n / 2\n",
    "        else                 # n é ímpar \n",
    "            n = n * 3 + 1\n",
    "        end\n",
    "    end\n",
    "end\n",
    "\n",
    "sequência(3)"
   ]
  },
  {
   "cell_type": "markdown",
   "metadata": {},
   "source": [
    "A condição desse laço é `n != 1`, então o laço executará até que `n` seja `1`.\n",
    "\n",
    "A cada iteração, a função imprime o valor de `n` e verifica se esse valor é par ou ímpar. Se for par, `n` é dividido por `2`. Se for ímpar, o valor de `n` é atualizado com `n * 3 + 1`.\n",
    "\n",
    "Como `n` às vezes aumenta e às vezes diminui, não é óbvio provar que ele atingirá o valor `1`, isto é, que o programa terminará. No entanto, podemos provar que o programa termina para alguns casos de `n`. \n",
    "\n",
    "Por exemplo, se o valor inicial for uma potência de `2`, `n` será sempre par dentro do laço, e portanto chegará  `1`:"
   ]
  },
  {
   "cell_type": "code",
   "execution_count": 26,
   "metadata": {},
   "outputs": [
    {
     "name": "stdout",
     "output_type": "stream",
     "text": [
      "256\n",
      "128.0\n",
      "64.0\n",
      "32.0\n",
      "16.0\n",
      "8.0\n",
      "4.0\n",
      "2.0\n"
     ]
    }
   ],
   "source": [
    "sequência(2 ^ 8)"
   ]
  },
  {
   "cell_type": "markdown",
   "metadata": {},
   "source": [
    "A pergunta difícil é se podemos provar que esse programa termina para todos os valores positivos de `n`. Até agora, ninguém foi capaz de provar isso! Se quiser saber mais, veja a [Conjectura de Collatz](https://pt.wikipedia.org/wiki/Conjectura_de_Collatz).\n",
    "\n",
    "\n",
    "### Exercício 7.1\n",
    "\n",
    "Reescreva a função `imprime_n` do capítulo *Recursão*, usando iteração ao invés de recursão.\n",
    "\n",
    "## A Instrução `break`\n",
    "\n",
    "Pode ser difícil saber a hora de sair de um laço até que se esteja na metade dele. Nesses casos, você pode usar a instrução `break` para sair de um laço imediatamente.\n",
    "\n",
    "Por exemplo, imagine que você deseje receber várias entradas do usuário até que ele forneça a palavra *fim*. Um jeito de fazer isso é o seguinte:"
   ]
  },
  {
   "cell_type": "code",
   "execution_count": 28,
   "metadata": {},
   "outputs": [
    {
     "name": "stdout",
     "output_type": "stream",
     "text": [
      "> stdin> 3\n",
      "3\n",
      "> stdin> 2\n",
      "2\n",
      "> stdin> 1\n",
      "1\n",
      "> stdin> fim\n",
      "Fim!\n"
     ]
    }
   ],
   "source": [
    "while true\n",
    "    print(\"> \")\n",
    "    entrada = readline()\n",
    "    \n",
    "    if entrada == \"fim\"\n",
    "        break\n",
    "    end\n",
    "    \n",
    "    println(entrada)\n",
    "end\n",
    "println(\"Fim!\")"
   ]
  },
  {
   "cell_type": "markdown",
   "metadata": {},
   "source": [
    "A condição do laço é o valor `true`, que por definição é sempre verdadeiro. Assim, esse laço será executado até que execute a instrução `break`.\n",
    "\n",
    "A cada iteração, o programa imprime ao usuário o símbolo `>`, e solicita entrada. Se o usuário digitiar *fim*, a instrução *break* encerrará o laço. Caso contrário, o programa imprimirá o que o usuário digitar e então reiniciará o laço.\n",
    "\n",
    "Essa maneira de escrever laços `while` é comum, pois permite verificar condições em qualquer lugar dentro do corpo de um laço, não apenas em sua condição inicial. Dessa forma, você pode expressar a condição de parada de forma afirmativa, dizendo pare *quando* algo ocorrer, em oposição à forma negativa, dizendo execute *até que* algo ocorra.\n",
    "\n",
    "## A Instrução `continue`\n",
    "\n",
    "A instrução `break` encerra um laço. A instrução `continue`, por sua vez, faz com que o laço vá para sua próxima iteração, pulando as instruções restantes da iteração atual. Veja o seguinte exemplo:"
   ]
  },
  {
   "cell_type": "code",
   "execution_count": 29,
   "metadata": {},
   "outputs": [
    {
     "name": "stdout",
     "output_type": "stream",
     "text": [
      "1 2 4 5 7 8 10 "
     ]
    }
   ],
   "source": [
    "for i in 1:10\n",
    "    if i % 3 == 0\n",
    "        continue\n",
    "    end\n",
    "    print(i, \" \")\n",
    "end"
   ]
  },
  {
   "cell_type": "markdown",
   "metadata": {},
   "source": [
    "Se `i` for divisível por `3`, a instrução `continue` pausa a execução da iteração atual e força o começo da próxima iteração. Note que são impressos apenas os números no intervalo de `1` a `10` que não são divisíveis por `3`.\n",
    "\n",
    "## Raiz Quadrada\n",
    "\n",
    "Laços são usados frequentemente em programas que efetuam cálculos numéricos. É comum nesses cálculos começar com um valor aproximado e aumentar a precisão desse valor a cada iteração.\n",
    "\n",
    "Por exemplo, o *Método de Newton* é uma forma de calcular raízes quadradas. Suponha que você quer saber a raiz quadrada de $a$. Se você começar com uma aproximação $x$, pode melhor essa aproximação utilizando a seguinte fórmula: \n",
    "\n",
    "$$\n",
    "y = \\dfrac{{1}}{2}(x + \\dfrac{{a}}{x})\n",
    "$$\n",
    "\n",
    "Por exemplo, se $a = 4$ e $x = 3$:"
   ]
  },
  {
   "cell_type": "code",
   "execution_count": 38,
   "metadata": {},
   "outputs": [
    {
     "data": {
      "text/plain": [
       "2.1666666666666665"
      ]
     },
     "execution_count": 38,
     "metadata": {},
     "output_type": "execute_result"
    }
   ],
   "source": [
    "a = 4\n",
    "x = 3\n",
    "\n",
    "y = (1 / 2) * (x + a / x)"
   ]
  },
  {
   "cell_type": "markdown",
   "metadata": {},
   "source": [
    "O resultado é mais próximo da resposta correta, $\\sqrt{4} = 2$, do que o valor inicial $x = 3$. Podemos nos aproximar cada vez mais do valor correto ao repetirmos esse mesmo processo:"
   ]
  },
  {
   "cell_type": "code",
   "execution_count": 34,
   "metadata": {},
   "outputs": [
    {
     "data": {
      "text/plain": [
       "2.0064102564102564"
      ]
     },
     "execution_count": 34,
     "metadata": {},
     "output_type": "execute_result"
    }
   ],
   "source": [
    "x = y\n",
    "y = (1 / 2) * (x + a / x)"
   ]
  },
  {
   "cell_type": "markdown",
   "metadata": {},
   "source": [
    "Executando mais algumas vezes, a aproximação é quase exata:"
   ]
  },
  {
   "cell_type": "code",
   "execution_count": 35,
   "metadata": {},
   "outputs": [
    {
     "data": {
      "text/plain": [
       "2.0000000000262146"
      ]
     },
     "execution_count": 35,
     "metadata": {},
     "output_type": "execute_result"
    }
   ],
   "source": [
    "x = y\n",
    "y = (1 / 2) * (x + a / x)\n",
    "\n",
    "x = y\n",
    "y = (1 / 2) * (x + a / x)"
   ]
  },
  {
   "cell_type": "markdown",
   "metadata": {},
   "source": [
    "Em geral, não sabemos de antemão quantas repetições são necessárias para chegar ao valor correto. Apesar disso, nossa aproximação vai parar de mudar drasticamente num determinado ponto, e sabemos que chegamos numa aproximação boa o suficiente:"
   ]
  },
  {
   "cell_type": "code",
   "execution_count": 36,
   "metadata": {},
   "outputs": [
    {
     "data": {
      "text/plain": [
       "2.0"
      ]
     },
     "execution_count": 36,
     "metadata": {},
     "output_type": "execute_result"
    }
   ],
   "source": [
    "x = y\n",
    "y = (x + a / x) / 2\n",
    "\n",
    "x = y\n",
    "y = (x + a / x) / 2"
   ]
  },
  {
   "cell_type": "markdown",
   "metadata": {},
   "source": [
    "Quando `y == x`, podemos parar. Assim, podemos escrever o seguinte trecho de código, onde temos um laço que começa com um valor estimado `x`, e melhora a aproximação desse valor até que essa aproximação pare de mudar:"
   ]
  },
  {
   "cell_type": "code",
   "execution_count": 39,
   "metadata": {},
   "outputs": [
    {
     "name": "stdout",
     "output_type": "stream",
     "text": [
      "3\n",
      "2.1666666666666665\n",
      "2.0064102564102564\n",
      "2.0000102400262145\n",
      "2.0000000000262146\n",
      "2.0\n"
     ]
    }
   ],
   "source": [
    "a = 4\n",
    "x = 3\n",
    "\n",
    "while true\n",
    "    println(x)\n",
    "    y = (x + a / x) / 2\n",
    "    if y == x\n",
    "        break\n",
    "    end\n",
    "    x = y\n",
    "end"
   ]
  },
  {
   "cell_type": "markdown",
   "metadata": {},
   "source": [
    "Esse trecho de código funciona bem para a maioria dos valores de `a`, mas temos que tomar cuidado com o teste de igualdade entre números de ponto flutuante, pois eles são apenas aproximações, e números como $\\frac{{1}}{3}$ e $\\sqrt{2}$ não podem ser representados sem perda de precisão com `Float64`.\n",
    "\n",
    "Assim, ao invés de verificar se `x == y`, é mais seguro usar a função `abs` para calcular o valor absoluto, isto é, a magnitude da diferença entre `x` e `y`:"
   ]
  },
  {
   "cell_type": "code",
   "execution_count": 40,
   "metadata": {},
   "outputs": [
    {
     "name": "stdout",
     "output_type": "stream",
     "text": [
      "3\n",
      "2.1666666666666665\n",
      "2.0064102564102564\n",
      "2.0000102400262145\n",
      "2.0000000000262146\n"
     ]
    }
   ],
   "source": [
    "a = 4\n",
    "x = 3\n",
    "\n",
    "ε = 0.0000001\n",
    "\n",
    "while true\n",
    "    println(x)\n",
    "    y = (x + a / x) / 2\n",
    "    if abs(y - x) < ε\n",
    "        break\n",
    "    end\n",
    "    x = y\n",
    "end"
   ]
  },
  {
   "cell_type": "markdown",
   "metadata": {},
   "source": [
    "A variável `ε`, obtida digitando `\\varepsilon` + `TAB`, tem valor `0.0000001` e controla a *precisão da aproximação*.\n",
    "\n",
    "## Algoritmos\n",
    "\n",
    "O [Método de Newton](https://pt.wikipedia.org/wiki/M%C3%A9todo_de_Newton%E2%80%93Raphson) é um exemplo de *algoritmo*, um processo mecânico que resolve uma categoria de problemas, que no caso do Método de Newton, é o cáculo de raízes quadradas.\n",
    "\n",
    "Para entender o que é um algoritmo, pode ser útil começar pensando em algo que não seja um algortimo. Você provavelmente decorou a tabuada quando aprendeu a multiplicar números. Na prática, você memorizou 100 soluções específicas. Esse tipo de conhecimento ou processo não é algorítmico.\n",
    "\n",
    "Se você era \"preguiçoso\", provavelmente aprendeu alguns truques. Por exemplo, para encontrar o valor da multiplicação de $n$ por $9$, você pode escrever $n - 1$ como primeiro dígito, e $10 - n$ como segundo dígito. Esse truque é uma solução genérica para o problema da multiplicação de $9$ por qualquer outro número de um dígito, tembém é um algoritmo!\n",
    "\n",
    "Da mesma maneira, as técnicas que você aprendeu para a soma, como o \"leva um\", a subtração com empréstimo e a divisão de números grandes também são algoritmos. Uma das características de algoritmos é que eles não requerem inteligência para ser executados. Algoritmos são processos mecânicos onde cada passo continua a partir do fim do anterior, seguindo um conjunto bem definido de regras.\n",
    "\n",
    "Executar algortimos pode ser chato, mas desenvolvê-los é interessante, é um desafio mental, e é parte fundamental da Ciência da Computação.\n",
    "\n",
    "Algumas das coisas que somos capazes de fazer naturalmente, sem nenhuma dificuldade ou pensamento consciente, são as mais difíceis de se expressar num algoritmo. A compreensão de linguagens naturais é bom exemplo, pois todos nos compreendemos sem dificuldade, na maior parte do tempo, mas ninguém conseguiu até agora explicar algoritimicamente como fazemos isso.\n",
    "\n",
    "## Debugando\n",
    "\n",
    "Você vai perceber que assim que começar a escrever programas maiores, vai passar mais tempo debugando. Mais código significa mais chances de cometer erros e mais lugares para os *bugs* se esconderem.\n",
    "\n",
    "Uma alternativa para reduzir o tempo gasto debugando é *debugar por bissecção*. Por exemplo, se seu programa tem 100 linhas de código e você for verificar uma a uma, você gastaria 100 passos.\n",
    "\n",
    "Ao invés de fazer isso, tente dividir o problema pela metade. Encontre um ponto próximo à metade do programa, onde você possa verificar um valor intermediário, e então adicione uma instrução de `println`.\n",
    "\n",
    "Se a verificação na metade do caminho estiver incorreta, então o problema estará na primeira metade do programa. Se estiver correta, o problema estará na segunda metade.\n",
    "\n",
    "Sempre que você fizer testes desse tipo, reduzirá pela metade o número de linhas que precisa verfiicar. Depois de 6 passos, o que é menos de 100, você terá reduzido o número de linhas a verificar a uma ou duas linhas.\n",
    "\n",
    "Na prática, nem sempre é claro onde é a *metade do programa*, e nem sempre é possível encontrá-la. Note que não faz sentido contar o número de linhas de seu programa e dividir esse número por dois. Ao invés disso, pense nos trechos de seu programa que pode conter erros, e onde você pode inserir instruções para verificação. Depois, escolha um ponto de verificação onde há *uma chance igual* de que o *bug* esteja *antes* ou *depois* do ponto.\n",
    "\n",
    "## Glossário\n",
    "\n",
    "**reatribuição**\n",
    "\n",
    "Atribuição de um novo valor a uma variável já existente.\n",
    "\n",
    "**atualização**\n",
    "\n",
    "Uma atribuição onde o novo valor da variável depende de seu valor antigo.\n",
    "    \n",
    "**inicialização**\n",
    "\n",
    "Uma atribuição que atribui um valor inicial a uma variável.\n",
    "\n",
    "**incremento**\n",
    "\n",
    "Uma atualização que aumenta o valor de uma variável, geralmente feito de um em um.\n",
    "\n",
    "**decremento**\n",
    "\n",
    "Uma atualizaçao que diminui o valor de uma variável, geralmente feito de um em um.\n",
    "\n",
    "**iteração**\n",
    "\n",
    "Execuções repetidas de um conjunto de instruções usando uma chamada de função recursiva ou um laço.\n",
    "\n",
    "**instrução `while`**\n",
    "\n",
    "Instrução para iterações controladas por uma condição.\n",
    "\n",
    "**instrução `break`**\n",
    "\n",
    "Instrução para sair de um laço.\n",
    "\n",
    "**instrução `continue`**\n",
    "\n",
    "Instrução dentro de um laço que pula o resto iteração atual e parte para a próxima.\n",
    "\n",
    "**laço infinito**\n",
    "\n",
    "Um laço no qual a condição de encerramento nunca é satisfeita.\n",
    "\n",
    "**algoritmo**\n",
    "\n",
    "Um processo geral de resolução de uma categoria de problemas.\n",
    "\n",
    "## Exercícios\n",
    "\n",
    "### Exercício 7.2\n",
    "\n",
    "Copie o laço da função da seção *Raiz Quadrada* e coloque-a em uma função chamada `minha_sqrt`, que recebe `a` como um parâmetro, escolhe uma valor razoável para `x`, e devolve uma estimativa da raiz quadrada de `a`.\n",
    "\n",
    "Para testar essa função, escreva outra função chamada `testa_raiz_quadrada`, que imprime uma tabela como a seguinte:\n",
    "\n",
    "|a|minha_sqrt|sqrt|diff|\n",
    "| -| - | - | - |\n",
    "|1.0 |1.0                |1.0                |0.0|\n",
    "|2.0 |1.414213562373095  |1.4142135623730951 |2.220446049250313e-16|\n",
    "|3.0 |1.7320508075688772 |1.7320508075688772 |0.0|\n",
    "|4.0 |2.0                |2.0                |0.0|\n",
    "|5.0 |2.23606797749979   |2.23606797749979   |0.0|\n",
    "|6.0 |2.449489742783178  |2.449489742783178  |0.0|\n",
    "|7.0 |2.6457513110645907 |2.6457513110645907 |0.0|\n",
    "|8.0 |2.82842712474619   |2.8284271247461903 |4.440892098500626e-16|\n",
    "|9.0 |3.0                |3.0                |0.0|\n",
    "\n",
    "\n",
    "A primeira coluna contém o número `a`. A segunda coluna deve conter a raiz quadrada calculada pela função `minha_sqrt`. A terceira coluna deve conter a raiz quadrada calculada pela função `sqrt`. A quarta coluna contém valor absoluto da diferença entre as duas estimativas."
   ]
  },
  {
   "cell_type": "code",
   "execution_count": null,
   "metadata": {},
   "outputs": [],
   "source": []
  },
  {
   "cell_type": "markdown",
   "metadata": {},
   "source": [
    "### Exercício 7.3\n",
    "\n",
    "A função `Meta.parse` recebe uma string e devolve uma expressão que pode ser calculada com a função `Core.eval`. Por exemplo:"
   ]
  },
  {
   "cell_type": "code",
   "execution_count": 45,
   "metadata": {},
   "outputs": [
    {
     "data": {
      "text/plain": [
       ":(1 + 2 * 3)"
      ]
     },
     "execution_count": 45,
     "metadata": {},
     "output_type": "execute_result"
    }
   ],
   "source": [
    "expr = Meta.parse(\"1 + 2 * 3\")"
   ]
  },
  {
   "cell_type": "code",
   "execution_count": 46,
   "metadata": {},
   "outputs": [
    {
     "data": {
      "text/plain": [
       "7"
      ]
     },
     "execution_count": 46,
     "metadata": {},
     "output_type": "execute_result"
    }
   ],
   "source": [
    "eval(expr)"
   ]
  },
  {
   "cell_type": "code",
   "execution_count": 47,
   "metadata": {},
   "outputs": [
    {
     "data": {
      "text/plain": [
       ":(sqrt(π))"
      ]
     },
     "execution_count": 47,
     "metadata": {},
     "output_type": "execute_result"
    }
   ],
   "source": [
    "expr = Meta.parse(\"sqrt(π)\")"
   ]
  },
  {
   "cell_type": "code",
   "execution_count": 48,
   "metadata": {},
   "outputs": [
    {
     "data": {
      "text/plain": [
       "1.7724538509055159"
      ]
     },
     "execution_count": 48,
     "metadata": {},
     "output_type": "execute_result"
    }
   ],
   "source": [
    "eval(expr)"
   ]
  },
  {
   "cell_type": "markdown",
   "metadata": {},
   "source": [
    "Escreva uma função chamada `calcula_laço`, que interage com o usuário. A função deve receber um valor do usuário, e efetuar o cálculo desse valor utilizando a função `eval`, imprimindo o resultado. A função deve continuar interagindo com usuário até que receba a string `\"fim\"`, e imprimir a última expressão calculada."
   ]
  },
  {
   "cell_type": "code",
   "execution_count": null,
   "metadata": {},
   "outputs": [],
   "source": []
  },
  {
   "cell_type": "markdown",
   "metadata": {},
   "source": [
    "### Exercício 7.4\n",
    "\n",
    "O matemático [Srinivasa Ramanujan](https://pt.wikipedia.org/wiki/Srinivasa_Ramanujan) descobriu uma série infinita que pode ser utilizada aproximar $\\dfrac{1}{\\pi}$ :\n",
    "\n",
    "$$\n",
    "\\dfrac{1}{\\pi} = \\dfrac{2\\sqrt{2}}{9801}\\sum_{k = 0}^{\\infty} {\\dfrac{(4k)!(1103+26390k)}{(k!)^{4} 396^{4k}}}\n",
    "$$\n",
    "\n",
    "Escreva uma função chamada `estima_pi` que usa essa fórmula para calcular e devolver uma estimativa para $\\pi$. A função deve usar um laço `while` para calcular os termos da somatória, até que o último termo seja menor que `1e-15`, isto é, $10^{-15}$. Você pode verificar seu resultado comparando-o com $\\pi$."
   ]
  },
  {
   "cell_type": "code",
   "execution_count": null,
   "metadata": {},
   "outputs": [],
   "source": []
  }
 ],
 "metadata": {
  "kernelspec": {
   "display_name": "Julia 1.1.1",
   "language": "julia",
   "name": "julia-1.1"
  },
  "language_info": {
   "file_extension": ".jl",
   "mimetype": "application/julia",
   "name": "julia",
   "version": "1.1.1"
  }
 },
 "nbformat": 4,
 "nbformat_minor": 2
}
