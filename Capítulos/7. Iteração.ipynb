{
 "cells": [
  {
   "cell_type": "markdown",
   "metadata": {},
   "source": [
    "# 7. Iteração\n",
    "\n",
    "A ação de executar um bloco de instruções repetidamente é chamada de *iteração*, e é o foco desse capítulo. Nós ja vimos alguns exemplos de iterações: usando recursão, no capítulo [Recursão]; e usando o loop `for`, no capítulo [Repetição Simples]. Nesse capítulo veremos um exemplo diferente, usando a instrução `while`. Mas, primeiro eu gostaria de falar um pouco mais sobre atribuição de variável.\n",
    "\n",
    "## Reatribuição\n",
    "\n",
    "Como você já deve ter percebido, é permitido fazer mais de uma artribuição para a mesma variável, o que faz com que a variável referencie um novo valor, deixando de referencia o anterior. Vejamos o seguinte exemplo:"
   ]
  },
  {
   "cell_type": "code",
   "execution_count": 1,
   "metadata": {},
   "outputs": [
    {
     "data": {
      "text/plain": [
       "5"
      ]
     },
     "execution_count": 1,
     "metadata": {},
     "output_type": "execute_result"
    }
   ],
   "source": [
    "x = 5"
   ]
  },
  {
   "cell_type": "code",
   "execution_count": 2,
   "metadata": {},
   "outputs": [
    {
     "data": {
      "text/plain": [
       "7"
      ]
     },
     "execution_count": 2,
     "metadata": {},
     "output_type": "execute_result"
    }
   ],
   "source": [
    "x = 7"
   ]
  },
  {
   "cell_type": "markdown",
   "metadata": {},
   "source": [
    "No exemplo acima, na execução do primeiro comando, o x possui valor 5, e a partir do segundo comando, x possui valor 7.\n",
    "\n",
    "| Variável| |Valor|\n",
    "| -|- |- |\n",
    "|x | --> | 5|\n",
    "|x | --> | 7|\n",
    "\n",
    "*Figura 10. Diagrama de Estado*\n",
    "\n",
    "Aqui, gostaria de abordar um ponto comum de confusão. Como Julia utiliza o sinal de igual `=` para atribuições, é tentador interpretar sentenças do tipo `a = b` como a proposição matemática de igualdade, ou seja, interpretar que `a` é igual a `b`. Mas isso não é a interpretação correta.\n",
    "Primeiro, a igualdade é uma relação simétrica e atribuição não é. Em matemática, por exemplo, se `a = 7` então `7 = a`. Em Julia, a instrução `a = 7` é permitida, já `7 = a ` não é.\n",
    "Além disso, em matemática, uma proposição de igual é `verdadeira` ou `falsa`. Se `a = b`, então `a` sempre será igual a `b`. Em Julia, uma instrução de atribuição pode fazer com que duas variáveis sejam iguais momentaneamente, mas, não garante isso para sempe. Como por exemplo: "
   ]
  },
  {
   "cell_type": "code",
   "execution_count": 21,
   "metadata": {},
   "outputs": [
    {
     "data": {
      "text/plain": [
       "5"
      ]
     },
     "execution_count": 21,
     "metadata": {},
     "output_type": "execute_result"
    }
   ],
   "source": [
    "a = 5"
   ]
  },
  {
   "cell_type": "code",
   "execution_count": 22,
   "metadata": {},
   "outputs": [
    {
     "data": {
      "text/plain": [
       "5"
      ]
     },
     "execution_count": 22,
     "metadata": {},
     "output_type": "execute_result"
    }
   ],
   "source": [
    "b = a"
   ]
  },
  {
   "cell_type": "code",
   "execution_count": 23,
   "metadata": {},
   "outputs": [
    {
     "data": {
      "text/plain": [
       "3"
      ]
     },
     "execution_count": 23,
     "metadata": {},
     "output_type": "execute_result"
    }
   ],
   "source": [
    "a = 3"
   ]
  },
  {
   "cell_type": "code",
   "execution_count": 24,
   "metadata": {},
   "outputs": [
    {
     "data": {
      "text/plain": [
       "5"
      ]
     },
     "execution_count": 24,
     "metadata": {},
     "output_type": "execute_result"
    }
   ],
   "source": [
    "b"
   ]
  },
  {
   "cell_type": "markdown",
   "metadata": {},
   "source": [
    "A terceira linha, do exemplo acima, muda o valor de `a` mas não muda o valor de `b`, e então essas variáveis deixam de ser iguais.\n",
    "\n",
    "> *Aviso*: Reatribuição de variáveis pode ser útil, mas você deve tomar cuidado. Pode ser difícil ler e depurar um código se os valores das variáveis mudarem frequentemente.\n",
    "> Além disso, não é permitido definir uma função com o mesmo nome de uma variável utilizada anteriormente.\n",
    "\n",
    "## Atualizando Variáveis\n",
    "\n",
    "Uma atualização é um caso comum de reatribuição. Isso ocorre quando o novo valor de uma variável depende do anterior, como: `x = x + 1` . Tal instrução pode ser interpretada como: \"tome o valor de `x`, adicione 1, e atualize `x` com esse novo valor\".\n",
    "\n",
    "Se você tentar atualizar uma variável que não existe, voce recebrá um erro, pois Julia calcula o lado direito de uma instrução antes de atribuir esse valor para a variável do lado esquedo. No exemplo dado, Julia calculará `x + 1` depois atribuirá o resultado para `x`."
   ]
  },
  {
   "cell_type": "code",
   "execution_count": 36,
   "metadata": {},
   "outputs": [
    {
     "data": {
      "text/plain": [
       "3"
      ]
     },
     "execution_count": 36,
     "metadata": {},
     "output_type": "execute_result"
    }
   ],
   "source": [
    "x = x + 1"
   ]
  },
  {
   "cell_type": "markdown",
   "metadata": {},
   "source": [
    "Então, antes de atualizar uma variável, você deve inicializá-la, o que geralmente é feito com uma instrução simples:"
   ]
  },
  {
   "cell_type": "code",
   "execution_count": 37,
   "metadata": {},
   "outputs": [
    {
     "data": {
      "text/plain": [
       "1"
      ]
     },
     "execution_count": 37,
     "metadata": {},
     "output_type": "execute_result"
    }
   ],
   "source": [
    "x = 0\n",
    "x = x + 1"
   ]
  },
  {
   "cell_type": "markdown",
   "metadata": {},
   "source": [
    "Chamamos de *incrementar* como sendo a ação de atualizar uma variável adicionando 1. Assim sendo, atualizar uma variável subtraindo 1 é chamado de *decrementar*."
   ]
  },
  {
   "cell_type": "markdown",
   "metadata": {},
   "source": [
    "## A Instrução `while`"
   ]
  }
 ],
 "metadata": {
  "kernelspec": {
   "display_name": "Julia 1.1.1",
   "language": "julia",
   "name": "julia-1.1"
  },
  "language_info": {
   "file_extension": ".jl",
   "mimetype": "application/julia",
   "name": "julia",
   "version": "1.1.1"
  }
 },
 "nbformat": 4,
 "nbformat_minor": 2
}
