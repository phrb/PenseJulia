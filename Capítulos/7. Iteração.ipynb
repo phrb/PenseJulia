{
 "cells": [
  {
   "cell_type": "markdown",
   "metadata": {},
   "source": [
    "# 7. Iteração\n",
    "\n",
    "A ação de executar um bloco de instruções repetidamente é chamada de *iteração*, e é o foco desse capítulo. Nós ja vimos alguns exemplos de iterações: usando recursão, no capítulo [Recursão]; e usando o loop `for`, no capítulo [Repetição Simples]. Nesse capítulo veremos um exemplo diferente, usando a instrução `while`. Mas, primeiro eu gostaria de falar um pouco mais sobre atribuição de variável.\n",
    "\n",
    "## Reatribuição\n",
    "\n",
    "Como você já deve ter percebido, é permitido fazer mais de uma artribuição para a mesma variável, o que faz com que a variável referencie um novo valor, deixando de referencia o anterior. Vejamos o seguinte exemplo:"
   ]
  },
  {
   "cell_type": "code",
   "execution_count": 1,
   "metadata": {},
   "outputs": [
    {
     "data": {
      "text/plain": [
       "5"
      ]
     },
     "execution_count": 1,
     "metadata": {},
     "output_type": "execute_result"
    }
   ],
   "source": [
    "x = 5"
   ]
  },
  {
   "cell_type": "code",
   "execution_count": 2,
   "metadata": {},
   "outputs": [
    {
     "data": {
      "text/plain": [
       "7"
      ]
     },
     "execution_count": 2,
     "metadata": {},
     "output_type": "execute_result"
    }
   ],
   "source": [
    "x = 7"
   ]
  },
  {
   "cell_type": "markdown",
   "metadata": {},
   "source": [
    "No exemplo acima, na execução do primeiro comando, o x possui valor 5, e a partir do segundo comando, x possui valor 7.\n",
    "\n",
    "| Variável| |Valor|\n",
    "| -|- |- |\n",
    "|x | --> | 5|\n",
    "|x | --> | 7|\n",
    "\n",
    "*Figura 10. Diagrama de Estado*\n",
    "\n",
    "Aqui, gostaria de abordar um ponto comum de confusão. Como Julia utiliza o sinal de igual `=` para atribuições, é tentador interpretar sentenças do tipo `a = b` como a proposição matemática de igualdade, ou seja, interpretar que `a` é igual a `b`. Mas isso não é a interpretação correta.\n",
    "Primeiro, a igualdade é uma relação simétrica e atribuição não é. Em matemática, por exemplo, se `a = 7` então `7 = a`. Em Julia, a instrução `a = 7` é permitida, já `7 = a ` não é.\n",
    "Além disso, em matemática, uma proposição de igual é `verdadeira` ou `falsa`. Se `a = b`, então `a` sempre será igual a `b`. Em Julia, uma instrução de atribuição pode fazer com que duas variáveis sejam iguais momentaneamente, mas, não garante isso para sempe. Como por exemplo: "
   ]
  },
  {
   "cell_type": "code",
   "execution_count": 21,
   "metadata": {},
   "outputs": [
    {
     "data": {
      "text/plain": [
       "5"
      ]
     },
     "execution_count": 21,
     "metadata": {},
     "output_type": "execute_result"
    }
   ],
   "source": [
    "a = 5"
   ]
  },
  {
   "cell_type": "code",
   "execution_count": 22,
   "metadata": {},
   "outputs": [
    {
     "data": {
      "text/plain": [
       "5"
      ]
     },
     "execution_count": 22,
     "metadata": {},
     "output_type": "execute_result"
    }
   ],
   "source": [
    "b = a"
   ]
  },
  {
   "cell_type": "code",
   "execution_count": 23,
   "metadata": {},
   "outputs": [
    {
     "data": {
      "text/plain": [
       "3"
      ]
     },
     "execution_count": 23,
     "metadata": {},
     "output_type": "execute_result"
    }
   ],
   "source": [
    "a = 3"
   ]
  },
  {
   "cell_type": "code",
   "execution_count": 24,
   "metadata": {},
   "outputs": [
    {
     "data": {
      "text/plain": [
       "5"
      ]
     },
     "execution_count": 24,
     "metadata": {},
     "output_type": "execute_result"
    }
   ],
   "source": [
    "b"
   ]
  },
  {
   "cell_type": "markdown",
   "metadata": {},
   "source": [
    "A terceira linha, do exemplo acima, muda o valor de `a` mas não muda o valor de `b`, e então essas variáveis deixam de ser iguais.\n",
    "\n",
    "> *Aviso*: Reatribuição de variáveis pode ser útil, mas você deve tomar cuidado. Pode ser difícil ler e depurar um código se os valores das variáveis mudarem frequentemente.\n",
    "> Além disso, não é permitido definir uma função com o mesmo nome de uma variável utilizada anteriormente.\n",
    "\n",
    "## Atualizando Variáveis\n",
    "\n",
    "Uma atualização é um caso comum de reatribuição. Isso ocorre quando o novo valor de uma variável depende do anterior, como: `x = x + 1` . Tal instrução pode ser interpretada como: \"tome o valor de `x`, adicione 1, e atualize `x` com esse novo valor\".\n",
    "\n",
    "Se você tentar atualizar uma variável que não existe, voce recebrá um erro, pois Julia calcula o lado direito de uma instrução antes de atribuir esse valor para a variável do lado esquedo. No exemplo dado, Julia calculará `x + 1` depois atribuirá o resultado para `x`."
   ]
  },
  {
   "cell_type": "code",
   "execution_count": 36,
   "metadata": {},
   "outputs": [
    {
     "data": {
      "text/plain": [
       "3"
      ]
     },
     "execution_count": 36,
     "metadata": {},
     "output_type": "execute_result"
    }
   ],
   "source": [
    "x = x + 1"
   ]
  },
  {
   "cell_type": "markdown",
   "metadata": {},
   "source": [
    "Então, antes de atualizar uma variável, você deve inicializá-la, o que geralmente é feito com uma instrução simples:"
   ]
  },
  {
   "cell_type": "code",
   "execution_count": 37,
   "metadata": {},
   "outputs": [
    {
     "data": {
      "text/plain": [
       "1"
      ]
     },
     "execution_count": 37,
     "metadata": {},
     "output_type": "execute_result"
    }
   ],
   "source": [
    "x = 0\n",
    "x = x + 1"
   ]
  },
  {
   "cell_type": "markdown",
   "metadata": {},
   "source": [
    "Chamamos de *incrementar* como sendo a ação de atualizar uma variável adicionando 1. Assim sendo, atualizar uma variável subtraindo 1 é chamado de *decrementar*.\n",
    "\n",
    "## A Instrução `while`\n",
    "\n",
    "Computadaores geralmente são usados para executar tarefas identicas ou similares repetidamente. O que cometemos erros de vez em quando. Em um programa, repetições também são chamadas de iterações.\n",
    "\n",
    "Nós já vimos duas funções que iteram utilizando recursão, `contagem_regressiva` e `printn`. Como o uso de iterações é muito comum, Julia disponibiliza funcionalidades para facilitá-lo. Uma delas é a instrução `for`, já vista em [Repetição Simples], mas retomaremos essa instrução mais tarde.\n",
    "\n",
    "Outra funcionalidade é a instrução `while`. No exemplo abaixo temos a instrução `contagem_regressiva` que usa a instrução while:"
   ]
  },
  {
   "cell_type": "code",
   "execution_count": 1,
   "metadata": {},
   "outputs": [
    {
     "data": {
      "text/plain": [
       "contagem_regressiva (generic function with 1 method)"
      ]
     },
     "execution_count": 1,
     "metadata": {},
     "output_type": "execute_result"
    }
   ],
   "source": [
    "function contagem_regressiva(n)\n",
    "    while n > 0\n",
    "        print(n, \" \")\n",
    "        n = n - 1\n",
    "    end\n",
    "    println(\"Decolar!!!\")\n",
    "end"
   ]
  },
  {
   "cell_type": "markdown",
   "metadata": {},
   "source": [
    "Você pode praticamente ler a instrução `while` como sua tradução em Portugûes, \"enquanto\". \"Enquanto `n` for maior que 0, imprima o valor de `n` e então o decremente. Quando `n` for zero, imprima a string Decolar!!!\"\n",
    "\n",
    "Mais formalmente, o fluxo de execução para a instrução `while` segue:\n",
    "1. Determina se a condição é verdadeira ou falsa.\n",
    "2. Se for false, saia da instrução while e continue a execução do programa a partir da próxima instrução.\n",
    "3. Se a condição for verdadeira, execute o corpo do da instrução while e então volte para o passo 1.\n",
    "\n",
    "This type of flow is called a loop because the third step loops back around to the top.\n",
    "\n",
    "Esse tipo de fluxo é chamado de laço pois o terceiro passo volta para o topo, ou seja, para o primeio passo.\n",
    "\n",
    "O corpo do laço deve mudar o valor de uma ou mais variáveis para que sua condição se torne falsa eventualemte e o laço termine. Caso contrário, o laço irá se repetir para sempre, o que é chamado de *laço infinito*. Uma fonte de divertimento para cientistas da computação e um bom exemplo de laços infinitos são as instruções nas embalagens de shampoo: \"lavar, enxugar, repetir\".\n",
    "\n",
    "Nós podemos provar que no caso da função `contagem_regressiva`, o laço termina: se `n` for zero ou negativo, o laço nunca será executado. Caso contrário, o `n` diminui a cada iteração dentro do laço, então, eventualmente chegará à 0.\n",
    "\n",
    "O que já não é tão fácil de afirmar para outros laços, como por exemplo:"
   ]
  },
  {
   "cell_type": "code",
   "execution_count": 2,
   "metadata": {},
   "outputs": [
    {
     "data": {
      "text/plain": [
       "sequência (generic function with 1 method)"
      ]
     },
     "execution_count": 2,
     "metadata": {},
     "output_type": "execute_result"
    }
   ],
   "source": [
    "function sequência(n)\n",
    "    while n != 1\n",
    "        println(n)\n",
    "        if n % 2 == 0        # n é par\n",
    "            n = n / 2\n",
    "        else                 # n é ímpar \n",
    "            n = n*3 + 1\n",
    "        end\n",
    "    end\n",
    "end"
   ]
  },
  {
   "cell_type": "markdown",
   "metadata": {},
   "source": [
    "A condição desse laço é n != 1, então o laço continuará a ser executado até que n seja 1, o que faz da condição falsa.\n",
    "\n",
    "O programa, a cada iteração, imprime o valor de `n` e verifica se esse valor é par ou ímpar. Se esse valor for par, `n` é dividido por 2. Se o valor for ímpar, o valor de `n` é substituído por `n * 3 + 1`. Por exemplo, se o argumento passado para a função `sequência` for 3, os valores resultantes serão 3, 10, 5, 16, 8, 4, 2, 1.\n",
    "\n",
    "Como `n` as vezes cresce e as vezes diminui, não é óbvio provar que ele atingirá o valor 1, ou seja, que o programa terminará. Mas, podemos provar para alguns casos particulares de `n`. Por exemplo, se o valor inicial for uma potência de 2, `n` será sempre par dentro do laço, e então chegará à 1. O exemplo anterior se encerrou exibindo parte da sequência resultante desse exemplo, començando pelo valor 16.\n",
    "\n",
    "A pergunta difícil a se fazer é se podemos provar que esse programa se encerra para todos os valores positivos de `n`. Até agora, ninguém foi capaz de provar ou negar isso! (Veja https://en.wikipedia.org/wiki/Collatz_conjecture.)\n",
    "\n",
    "\n",
    "### Exercise 7.1\n",
    "\n",
    "Reescreva a função `printn` do capítulo Recursão (no capítulo 5. Condicionais e Recursão) usando iteração ao invés de recursão.\n",
    "\n",
    "## A Instrução `break`\n",
    "\n",
    "As vezes você pode não saber a hora de sair de um laço até que esteja na metade dele. Nesses casos, você pode usar a instrução `break` para sair imediatamente.\n",
    "\n",
    "Por exemplo, suponha que você quer receber várias entrada do usuário até que ele insira a palavra *feito*. Você poderia escrever o seguinte trecho de código:"
   ]
  },
  {
   "cell_type": "code",
   "execution_count": 1,
   "metadata": {},
   "outputs": [
    {
     "name": "stdout",
     "output_type": "stream",
     "text": [
      "> stdin> oi\n",
      "oi\n",
      "> stdin> pokemon\n",
      "pokemon\n",
      "> stdin> mac115\n",
      "mac115\n",
      "> stdin> feito\n",
      "Feito!\n"
     ]
    }
   ],
   "source": [
    "while true\n",
    "    print(\"> \")\n",
    "    entrada = readline()\n",
    "    if entrada == \"feito\"\n",
    "        break\n",
    "    end\n",
    "    println(entrada)\n",
    "end\n",
    "println(\"Feito!\")"
   ]
  },
  {
   "cell_type": "markdown",
   "metadata": {},
   "source": [
    "A condição do laço é o valor `true`, que por definição é sempre verdadeiro. Assim, esse laço nunca terminaria até que ele chegue na instrução `break`.\n",
    "\n",
    "A cada iteração, o programa exibe ao usuário uma 'angle bracket', solicitando uma entrada. Se o usuário digitiar *feito*, a instrução *break* encerrará o laço. Caso contrário, o programa imprimirá o que o usuário digitar e então reiniciará o laço.\n",
    "\n",
    "Essa maneira de escrever laços `while` é comum pois assim você pode verificar condições em qualquer lugar dentro de um laço, não apenas no topo, em sua condição inicial. Para isso, você pode expressar a condição de parada afirmativamente: \"pare quando isso ocorrer\", ao invés de sempre a construir na forma negativa: \"continue façando até que aquilo ocorra\".\n",
    "\n",
    "## A Instrução `continue`\n",
    "\n",
    "A instrução *break* encerra um laço. Já a instrução `continue` faz com que o laço recomece, em sua próxima iteração, de forma a pular a proóximas instruções da iteração atual. Veja o seguinte exemplo:"
   ]
  },
  {
   "cell_type": "code",
   "execution_count": 2,
   "metadata": {},
   "outputs": [
    {
     "name": "stdout",
     "output_type": "stream",
     "text": [
      "1 2 4 5 7 8 10 "
     ]
    }
   ],
   "source": [
    "for i in 1:10\n",
    "    if i % 3 == 0\n",
    "        continue\n",
    "    end\n",
    "    print(i, \" \")\n",
    "end"
   ]
  },
  {
   "cell_type": "markdown",
   "metadata": {},
   "source": [
    "Se i é divisível por 3, a instrução *continue* pausa a execução da iteração atual e faz com a próxima iteração se inicie. Note que apenas os números no intervalo de 1 até 10 não divisíveis por 10 são impressos.\n",
    "\n",
    "## Raiz Quadrada\n",
    "\n",
    "Os laços são usados geralmente em programas que efetuam cálculos numéricos, eles começam com um valor aproximado e então melhoram esse valor a cada iteração.\n",
    "\n",
    "Por exemplo, o **Método de Newton** é uma forma de calcular raízes quadradas. Suponha que você quer saber a raiz quadrada de *a*. Se você começar com uma aproximação *x*, você pode melhor essa aproximação utilizando a seguinte fórmula: \n",
    "\n",
    "y = $\\dfrac{{1}}{2}(x + \\dfrac{{a}}{x}$)\n",
    "\n",
    "Por exemplo, se a = 4 and x = 3:\n",
    "\n"
   ]
  },
  {
   "cell_type": "code",
   "execution_count": 3,
   "metadata": {},
   "outputs": [
    {
     "data": {
      "text/plain": [
       "2.1666666666666665"
      ]
     },
     "execution_count": 3,
     "metadata": {},
     "output_type": "execute_result"
    }
   ],
   "source": [
    "a = 4\n",
    "x = 3\n",
    "y = (x + a/x) / 2"
   ]
  },
  {
   "cell_type": "markdown",
   "metadata": {},
   "source": [
    "O resultado é mais próximo da resposta correta ($\\sqrt{4}$ = 2), do que o nosso valor inicial (x = 3). E podemos chegar nos aproximar mais do valor correto conforme repetirmos esse mesmo processo, veja:"
   ]
  },
  {
   "cell_type": "code",
   "execution_count": 5,
   "metadata": {},
   "outputs": [
    {
     "data": {
      "text/plain": [
       "2.0000102400262145"
      ]
     },
     "execution_count": 5,
     "metadata": {},
     "output_type": "execute_result"
    }
   ],
   "source": [
    "x = y\n",
    "y = (x + a/x) / 2"
   ]
  },
  {
   "cell_type": "markdown",
   "metadata": {},
   "source": [
    "E executando mais algumas vezes, a nossa aproximação é quase exata:"
   ]
  },
  {
   "cell_type": "code",
   "execution_count": 7,
   "metadata": {},
   "outputs": [
    {
     "data": {
      "text/plain": [
       "2.0"
      ]
     },
     "execution_count": 7,
     "metadata": {},
     "output_type": "execute_result"
    }
   ],
   "source": [
    "x = y\n",
    "y = (x + a/x) / 2\n",
    "x = y\n",
    "y = (x + a/x) / 2"
   ]
  },
  {
   "cell_type": "markdown",
   "metadata": {},
   "source": [
    "Em geral, nós não sabemos de antemão quantos passos ou repetições são necessárias para chegarmos no valor correto. Mas, em um certo ponto, nossa aproximação para de mudar e então sabemos que chegamos na melhor aproximação possível:"
   ]
  },
  {
   "cell_type": "code",
   "execution_count": 9,
   "metadata": {},
   "outputs": [
    {
     "data": {
      "text/plain": [
       "2.0"
      ]
     },
     "execution_count": 9,
     "metadata": {},
     "output_type": "execute_result"
    }
   ],
   "source": [
    "x = y\n",
    "y = (x + a/x) / 2\n",
    "x = y\n",
    "y = (x + a/x) / 2"
   ]
  },
  {
   "cell_type": "markdown",
   "metadata": {},
   "source": [
    "Quando `y == x`, nós podemos parar. Então, temos um laço que começa inicialmente com um valor estimado x, e melhora a aproximação desse valor até que essa aproximação pare de mudar:"
   ]
  },
  {
   "cell_type": "code",
   "execution_count": 18,
   "metadata": {},
   "outputs": [
    {
     "name": "stdout",
     "output_type": "stream",
     "text": [
      "2.0\n"
     ]
    }
   ],
   "source": [
    "while true\n",
    "    println(x)\n",
    "    y = (x + a/x) / 2\n",
    "    if y == x\n",
    "        break\n",
    "    end\n",
    "    x = y\n",
    "end"
   ]
  },
  {
   "cell_type": "markdown",
   "metadata": {},
   "source": [
    "Para a maioria dos valores de *a*, esse trecho de código funciona bem, mas, em geral, temos que tomar cuidado com o teste de igualdade entre números de ponto flutuante. Pois, os números de ponto flutuante são apenas aproximações e não podem ser representados exatamente com `Float64`. Por exemplo, os número racionais, como $\\dfrac{{1}}{3}$, ou os números irracionais como $\\sqrt{2}$.\n",
    "\n",
    "Rather than checking whether x and y are exactly equal, it is safer to use the built-in function abs to compute the absolute value, or magnitude, of the difference between them:\n",
    "\n",
    "Então, é mais seguro usar a função pré-definida `abs` para calcular o valor absoluto, ou magnitude da diferença entre entre *x* e *y*, ao invés de verificar se essas variáveis são exatamente iguais. Como o trecho a seguir:\n",
    "\n",
    "`\n",
    "ε = 0.0000001\n",
    "if abs(y-x) < ε\n",
    "    break\n",
    "end\n",
    "`\n",
    "\n"
   ]
  },
  {
   "cell_type": "markdown",
   "metadata": {},
   "source": [
    "Onde ε (\\varepsilon TAB) permite valores como 0.0000001 e determina o quão próximo é suficientemente próximo. E então, podemos refazer o código acima da seguinte forma:"
   ]
  },
  {
   "cell_type": "code",
   "execution_count": 17,
   "metadata": {},
   "outputs": [
    {
     "name": "stdout",
     "output_type": "stream",
     "text": [
      "2.0\n"
     ]
    }
   ],
   "source": [
    "ε = 0.0000001\n",
    "while true\n",
    "    println(x)\n",
    "    y = (x + a/x) / 2\n",
    "    if abs(y-x) < ε\n",
    "        break\n",
    "    end\n",
    "    x = y\n",
    "end"
   ]
  },
  {
   "cell_type": "markdown",
   "metadata": {},
   "source": [
    "## Algoritmos"
   ]
  },
  {
   "cell_type": "markdown",
   "metadata": {},
   "source": []
  },
  {
   "cell_type": "markdown",
   "metadata": {},
   "source": []
  },
  {
   "cell_type": "markdown",
   "metadata": {},
   "source": []
  },
  {
   "cell_type": "markdown",
   "metadata": {},
   "source": []
  },
  {
   "cell_type": "markdown",
   "metadata": {},
   "source": []
  },
  {
   "cell_type": "markdown",
   "metadata": {},
   "source": []
  },
  {
   "cell_type": "markdown",
   "metadata": {},
   "source": []
  }
 ],
 "metadata": {
  "kernelspec": {
   "display_name": "Julia 1.1.1",
   "language": "julia",
   "name": "julia-1.1"
  },
  "language_info": {
   "file_extension": ".jl",
   "mimetype": "application/julia",
   "name": "julia",
   "version": "1.1.1"
  }
 },
 "nbformat": 4,
 "nbformat_minor": 2
}
