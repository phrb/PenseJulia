{
 "cells": [
  {
   "cell_type": "markdown",
   "metadata": {},
   "source": [
    "# 7. Iteração\n",
    "\n",
    "A ação de executar um bloco de instruções repetidamente é chamada de *iteração*, e é o foco desse capítulo. Nós já vimos alguns exemplos de iterações: usando recursão, no capítulo *Recursão*; e usando o laço `for`, no capítulo *Repetição Simples*. Nesse capítulo veremos um exemplo diferente, usando a instrução `while`. Mas, primeiro eu gostaria de falar um pouco mais sobre atribuição de variáveis.\n",
    "\n",
    "## Reatribuição\n",
    "\n",
    "Como você já deve ter percebido, é permitido fazer mais de uma artribuição para a mesma variável. Isso faz com que a variável referencie um novo valor, deixando de referenciar o anterior. Vejamos o seguinte exemplo:"
   ]
  },
  {
   "cell_type": "code",
   "execution_count": 1,
   "metadata": {},
   "outputs": [
    {
     "data": {
      "text/plain": [
       "5"
      ]
     },
     "execution_count": 1,
     "metadata": {},
     "output_type": "execute_result"
    }
   ],
   "source": [
    "x = 5"
   ]
  },
  {
   "cell_type": "code",
   "execution_count": 2,
   "metadata": {},
   "outputs": [
    {
     "data": {
      "text/plain": [
       "7"
      ]
     },
     "execution_count": 2,
     "metadata": {},
     "output_type": "execute_result"
    }
   ],
   "source": [
    "x = 7"
   ]
  },
  {
   "cell_type": "markdown",
   "metadata": {},
   "source": [
    "No exemplo acima, na execução do primeiro comando, o x possui valor 5, e a partir do segundo comando, x possui valor 7.\n",
    "\n",
    "|Variável| |Valor|\n",
    "| -|- |- |\n",
    "|x | --> | 5|\n",
    "|x | --> | 7|\n",
    "\n",
    "*Figura 10. Diagrama de Estado*\n",
    "\n",
    "Aqui, gostaria de abordar um ponto comum de confusão. Como Julia utiliza o sinal de igual `=` para atribuições, é tentador interpretar sentenças do tipo `a = b` como a proposição matemática de igualdade, ou seja, interpretar que `a` é igual a `b`. Mas, essa não é a interpretação correta.\n",
    "\n",
    "Primeiro, a igualdade é uma relação simétrica e a atribuição não é. Por exemplo, em matemática, se `a = 7` então `7 = a`. Em Julia, a instrução `a = 7` é permitida, já `7 = a ` não é.\n",
    "\n",
    "Além disso, em matemática, uma proposição de igual é `verdadeira` ou `falsa`. Se `a = b`, então `a` sempre será igual a `b`. Em Julia, uma instrução de atribuição pode fazer com que duas variáveis sejam iguais momentaneamente, mas, não garante isso para sempe. Como por exemplo: "
   ]
  },
  {
   "cell_type": "code",
   "execution_count": 21,
   "metadata": {},
   "outputs": [
    {
     "data": {
      "text/plain": [
       "5"
      ]
     },
     "execution_count": 21,
     "metadata": {},
     "output_type": "execute_result"
    }
   ],
   "source": [
    "a = 5"
   ]
  },
  {
   "cell_type": "code",
   "execution_count": 22,
   "metadata": {},
   "outputs": [
    {
     "data": {
      "text/plain": [
       "5"
      ]
     },
     "execution_count": 22,
     "metadata": {},
     "output_type": "execute_result"
    }
   ],
   "source": [
    "b = a"
   ]
  },
  {
   "cell_type": "code",
   "execution_count": 23,
   "metadata": {},
   "outputs": [
    {
     "data": {
      "text/plain": [
       "3"
      ]
     },
     "execution_count": 23,
     "metadata": {},
     "output_type": "execute_result"
    }
   ],
   "source": [
    "a = 3"
   ]
  },
  {
   "cell_type": "code",
   "execution_count": 24,
   "metadata": {},
   "outputs": [
    {
     "data": {
      "text/plain": [
       "5"
      ]
     },
     "execution_count": 24,
     "metadata": {},
     "output_type": "execute_result"
    }
   ],
   "source": [
    "b"
   ]
  },
  {
   "cell_type": "markdown",
   "metadata": {},
   "source": [
    "A terceira linha, do exemplo acima, muda o valor de `a` mas não muda o valor de `b`, e então essas variáveis deixam de ser iguais.\n",
    "\n",
    "> *Aviso*: Reatribuição de variáveis pode ser útil, mas você deve tomar cuidado. Pode ser difícil ler e depurar um código se os valores das variáveis mudarem frequentemente.\n",
    "\n",
    "> Além disso, não é permitido definir uma função com o mesmo nome de uma variável utilizada anteriormente.\n",
    "\n",
    "## Atualizando Variáveis\n",
    "\n",
    "Uma atualização é um caso comum de reatribuição. Isso ocorre quando o novo valor de uma variável depende do anterior, como: `x = x + 1` . Tal instrução pode ser interpretada como: \"tome o valor de `x`, adicione 1, e atualize `x` com esse novo valor\".\n",
    "\n",
    "Você receberá um erro se tentar atualizar uma variável que não existe, pois Julia calcula o lado direito de uma instrução antes de atribuir esse valor para a variável do lado esquerdo. No exemplo dado, Julia calculará `x + 1` depois atribuirá o resultado para `x`.\n",
    "\n",
    "E já que acabamos de atribuir valor à `x`, vejamos um novo exemplo com `y = y + 1` :"
   ]
  },
  {
   "cell_type": "code",
   "execution_count": 1,
   "metadata": {},
   "outputs": [
    {
     "ename": "UndefVarError",
     "evalue": "UndefVarError: y not defined",
     "output_type": "error",
     "traceback": [
      "UndefVarError: y not defined",
      "",
      "Stacktrace:",
      " [1] top-level scope at In[1]:1"
     ]
    }
   ],
   "source": [
    "y = y + 1"
   ]
  },
  {
   "cell_type": "markdown",
   "metadata": {},
   "source": [
    "Então, antes de atualizar uma variável, você deve inicializá-la, o que geralmente é feito com uma instrução simples:"
   ]
  },
  {
   "cell_type": "code",
   "execution_count": 2,
   "metadata": {},
   "outputs": [
    {
     "data": {
      "text/plain": [
       "0"
      ]
     },
     "execution_count": 2,
     "metadata": {},
     "output_type": "execute_result"
    }
   ],
   "source": [
    "y = 0"
   ]
  },
  {
   "cell_type": "code",
   "execution_count": 3,
   "metadata": {},
   "outputs": [
    {
     "data": {
      "text/plain": [
       "1"
      ]
     },
     "execution_count": 3,
     "metadata": {},
     "output_type": "execute_result"
    }
   ],
   "source": [
    "y = y + 1"
   ]
  },
  {
   "cell_type": "markdown",
   "metadata": {},
   "source": [
    "Chamamos de *incrementar* como sendo a ação de atualizar uma variável adicionando 1. E então, *decrementar* é a ação de atualizar uma varíavel subtraindo 1.\n",
    "\n",
    "## A Instrução `while`\n",
    "\n",
    "Computadores geralmente são usados para executar tarefas identicas ou similares repetidamente. Ação na qual cometemos erros de vez em quando. Em um programa, repetições também são chamadas de iterações.\n",
    "\n",
    "Nós já vimos duas funções que iteram utilizando recursão, `contagem_regressiva` e `imprime_n`. Como o uso de iterações é muito comum, Julia disponibiliza recursos para facilitá-lo. Um deles é a instrução `for`, já vista em /Repetição Simples/, mas retomaremos essa instrução mais tarde.\n",
    "\n",
    "Outro recurso é a instrução `while`. No exemplo abaixo temos a função `contagem_regressiva` que usa a instrução `while`:"
   ]
  },
  {
   "cell_type": "code",
   "execution_count": 4,
   "metadata": {},
   "outputs": [
    {
     "data": {
      "text/plain": [
       "contagem_regressiva (generic function with 1 method)"
      ]
     },
     "execution_count": 4,
     "metadata": {},
     "output_type": "execute_result"
    }
   ],
   "source": [
    "function contagem_regressiva(n)\n",
    "    while n > 0\n",
    "        print(n, \" \")\n",
    "        n = n - 1\n",
    "    end\n",
    "    println(\"Decolar!!!\")\n",
    "end"
   ]
  },
  {
   "cell_type": "markdown",
   "metadata": {},
   "source": [
    "Você pode ler a instrução `while` como sua tradução em Portugûes, \"enquanto\". Assim, podemos entender esse trecho de código como: \"Enquanto `n` for maior que 0, imprima o valor de `n` e então o decremente. Quando `n` for zero, imprima a string Decolar!!!\"\n",
    "\n",
    "Mais formalmente, o fluxo de execução para a instrução `while` segue:\n",
    "1. Determina se a condição é verdadeira ou falsa.\n",
    "2. Se for falsa, saia da instrução while e continue a execução do programa a partir da próxima instrução.\n",
    "3. Se a condição for verdadeira, execute o corpo da instrução while e então volte para o passo 1.\n",
    "\n",
    "Esse tipo de fluxo é chamado de laço pois o terceiro passo volta para o topo, ou seja, para o primeio passo.\n",
    "\n",
    "O corpo do laço deve mudar o valor de uma ou mais variáveis para que sua condição se torne falsa eventualemte e o laço termine. Caso contrário, o laço irá se repetir para sempre, o que é chamado de *laço infinito*. Uma fonte de divertimento para cientistas da computação e um bom exemplo de laços infinitos são as instruções nas embalagens de shampoo: \"lavar, enxugar, repetir\".\n",
    "\n",
    "Nós podemos provar que no caso da função `contagem_regressiva`, o laço termina: se `n` for zero ou negativo, o laço nunca será executado. Caso contrário, o `n` diminui a cada iteração dentro do laço, então, eventualmente chegará à 0.\n",
    "\n",
    "O que já não é tão fácil de afirmar para outros laços, como por exemplo:"
   ]
  },
  {
   "cell_type": "code",
   "execution_count": 2,
   "metadata": {},
   "outputs": [
    {
     "data": {
      "text/plain": [
       "sequência (generic function with 1 method)"
      ]
     },
     "execution_count": 2,
     "metadata": {},
     "output_type": "execute_result"
    }
   ],
   "source": [
    "function sequência(n)\n",
    "    while n != 1\n",
    "        println(n)\n",
    "        if n % 2 == 0        # n é par\n",
    "            n = n / 2\n",
    "        else                 # n é ímpar \n",
    "            n = n*3 + 1\n",
    "        end\n",
    "    end\n",
    "end"
   ]
  },
  {
   "cell_type": "markdown",
   "metadata": {},
   "source": [
    "A condição desse laço é `n != 1`, então o laço continuará a ser executado até que `n` seja 1, o que fará a condição falsa.\n",
    "\n",
    "O programa, a cada iteração, imprime o valor de `n` e verifica se esse valor é par ou ímpar. Se esse valor for par, `n` é dividido por 2. Se o valor for ímpar, o valor de `n` é substituído por `n * 3 + 1`. Por exemplo, se o argumento passado para a função `sequência` for 3, os valores resultantes serão 3, 10, 5, 16, 8, 4, 2, 1.\n",
    "\n",
    "Como `n` as vezes cresce e as vezes diminui, não é óbvio provar que ele atingirá o valor 1, ou seja, que o programa terminará. Mas, podemos provar para alguns casos particulares de `n`. \n",
    "\n",
    "Por exemplo, se o valor inicial for uma potência de 2, `n` será sempre par dentro do laço, e então chegará à 1: `n = 16`, resultará na sequência: 16, 8, 4, 2, 1.\n",
    "\n",
    "A pergunta difícil a se fazer é se podemos provar que esse programa se encerra para todos os valores positivos de `n`. Até agora, ninguém foi capaz de provar ou negar isso! (Veja https://en.wikipedia.org/wiki/Collatz_conjecture.)\n",
    "\n",
    "\n",
    "### Exercise 7.1\n",
    "\n",
    "Reescreva a função `imprime_n` do capítulo /Recursão/, usando iteração ao invés de recursão.\n",
    "\n",
    "## A Instrução `break`\n",
    "\n",
    "As vezes você pode não saber a hora de sair de um laço até que esteja na metade dele. Nesses casos, você pode usar a instrução `break` para sair imediatamente.\n",
    "\n",
    "Por exemplo, suponha que você quer receber várias entrada do usuário até que ele insira a palavra *feito*. Você poderia escrever o seguinte trecho de código:"
   ]
  },
  {
   "cell_type": "code",
   "execution_count": 5,
   "metadata": {},
   "outputs": [
    {
     "name": "stdout",
     "output_type": "stream",
     "text": [
      "> stdin> oi\n",
      "oi\n",
      "> stdin> mac0115\n",
      "mac0115\n",
      "> stdin> feito\n",
      "Feito!\n"
     ]
    }
   ],
   "source": [
    "while true\n",
    "    print(\"> \")\n",
    "    entrada = readline()\n",
    "    if entrada == \"feito\"\n",
    "        break\n",
    "    end\n",
    "    println(entrada)\n",
    "end\n",
    "println(\"Feito!\")"
   ]
  },
  {
   "cell_type": "markdown",
   "metadata": {},
   "source": [
    "A condição do laço é o valor `true`, que por definição é sempre verdadeiro. Assim, esse laço será executado até que execute a instrução `break`.\n",
    "\n",
    "A cada iteração, o programa exibe ao usuário um símbolo de maior, solicitando uma entrada. Se o usuário digitiar *feito*, a instrução *break* encerrará o laço. Caso contrário, o programa imprimirá o que o usuário digitar e então reiniciará o laço.\n",
    "\n",
    "Essa maneira de escrever laços `while` é comum pois assim você pode verificar condições em qualquer lugar dentro de um laço, em sua condição inicial. Dessa forma, você pode expressa a condição de parada afirmativamente: \"*pare quando isso ocorrer*\", ao invés de sempre a construir na forma negativa: \"*continue executando até que isso ocorra*\".\n",
    "\n",
    "## A Instrução `continue`\n",
    "\n",
    "A instrução `break` encerra um laço. Já a instrução `continue` faz com que o laço vá para sua próxima iteração, pulando as instruções restantes da iteração atual. Veja o seguinte exemplo:"
   ]
  },
  {
   "cell_type": "code",
   "execution_count": 2,
   "metadata": {},
   "outputs": [
    {
     "name": "stdout",
     "output_type": "stream",
     "text": [
      "1 2 4 5 7 8 10 "
     ]
    }
   ],
   "source": [
    "for i in 1:10\n",
    "    if i % 3 == 0\n",
    "        continue\n",
    "    end\n",
    "    print(i, \" \")\n",
    "end"
   ]
  },
  {
   "cell_type": "markdown",
   "metadata": {},
   "source": [
    "Se `i` for divisível por 3, a instrução `continue` pausa a execução da iteração atual e faz com a próxima iteração se inicie. Note que apenas os números no intervalo de 1 até 10 não divisíveis por 10 são impressos.\n",
    "\n",
    "## Raiz Quadrada\n",
    "\n",
    "Os laços são usados geralmente em programas que efetuam cálculos numéricos, eles começam com um valor aproximado e então melhoram esse valor a cada iteração.\n",
    "\n",
    "Por exemplo, o **Método de Newton** é uma forma de calcular raízes quadradas. Suponha que você quer saber a raiz quadrada de *a*. Se você começar com uma aproximação *x*, você pode melhor essa aproximação utilizando a seguinte fórmula: \n",
    "\n",
    "y = $\\dfrac{{1}}{2}(x + \\dfrac{{a}}{x}$)\n",
    "\n",
    "Por exemplo, se `a = 4` e `x = 3`:"
   ]
  },
  {
   "cell_type": "code",
   "execution_count": 7,
   "metadata": {},
   "outputs": [
    {
     "data": {
      "text/plain": [
       "2.1666666666666665"
      ]
     },
     "execution_count": 7,
     "metadata": {},
     "output_type": "execute_result"
    }
   ],
   "source": [
    "a = 4\n",
    "x = 3\n",
    "y = 1/2 * (x + a/x)"
   ]
  },
  {
   "cell_type": "markdown",
   "metadata": {},
   "source": [
    "O resultado é mais próximo da resposta correta ($\\sqrt{4}$ = 2), do que o nosso valor inicial (x = 3). E podemos nos aproximar mais do valor correto conforme repetirmos esse mesmo processo, veja:"
   ]
  },
  {
   "cell_type": "code",
   "execution_count": 8,
   "metadata": {},
   "outputs": [
    {
     "data": {
      "text/plain": [
       "2.0064102564102564"
      ]
     },
     "execution_count": 8,
     "metadata": {},
     "output_type": "execute_result"
    }
   ],
   "source": [
    "x = y\n",
    "y = 1/2 * (x + a/x)"
   ]
  },
  {
   "cell_type": "markdown",
   "metadata": {},
   "source": [
    "E executando mais algumas vezes, a nossa aproximação é quase exata:"
   ]
  },
  {
   "cell_type": "code",
   "execution_count": 9,
   "metadata": {},
   "outputs": [
    {
     "data": {
      "text/plain": [
       "2.0000000000262146"
      ]
     },
     "execution_count": 9,
     "metadata": {},
     "output_type": "execute_result"
    }
   ],
   "source": [
    "x = y\n",
    "y = 1/2 * (x + a/x)\n",
    "x = y\n",
    "y = 1/2 * (x + a/x)"
   ]
  },
  {
   "cell_type": "markdown",
   "metadata": {},
   "source": [
    "Em geral, nós não sabemos de antemão quantos passos ou repetições são necessárias para chegarmos no valor correto. Mas, em um certo ponto, nossa aproximação para de mudar e então sabemos que chegamos na melhor aproximação possível:"
   ]
  },
  {
   "cell_type": "code",
   "execution_count": 10,
   "metadata": {},
   "outputs": [
    {
     "data": {
      "text/plain": [
       "2.0"
      ]
     },
     "execution_count": 10,
     "metadata": {},
     "output_type": "execute_result"
    }
   ],
   "source": [
    "x = y\n",
    "y = (x + a/x) / 2\n",
    "x = y\n",
    "y = (x + a/x) / 2"
   ]
  },
  {
   "cell_type": "markdown",
   "metadata": {},
   "source": [
    "Quando `y == x`, nós podemos parar. Assim, podemos construir o seguinte trecho de código, onde temos um laço que começa com um valor estimado `x`, e melhora a aproximação desse valor até que essa aproximação pare de mudar:"
   ]
  },
  {
   "cell_type": "code",
   "execution_count": 18,
   "metadata": {},
   "outputs": [
    {
     "name": "stdout",
     "output_type": "stream",
     "text": [
      "2.0\n"
     ]
    }
   ],
   "source": [
    "while true\n",
    "    println(x)\n",
    "    y = (x + a/x) / 2\n",
    "    if y == x\n",
    "        break\n",
    "    end\n",
    "    x = y\n",
    "end"
   ]
  },
  {
   "cell_type": "markdown",
   "metadata": {},
   "source": [
    "Para a maioria dos valores de *a*, esse trecho de código funciona bem, mas, em geral, temos que tomar cuidado com o teste de igualdade entre números de ponto flutuante. Pois, os números de ponto flutuante são apenas aproximações e não podem ser representados exatamente com `Float64`. Por exemplo, os número racionais, como $\\dfrac{{1}}{3}$, ou os números irracionais como $\\sqrt{2}$.\n",
    "\n",
    "Então, ao invés de verificar se *x* e *y* são iguais, é mais seguro usar a função pré-definida `abs` para calcular o valor absoluto, ou magnitude da diferença entre *x* e *y*. Da seguinte forma: `if abs(y-x) < 0`. Abaixo temos um exemplo que utiliza uma verificação dessa forma, especificando um ε :"
   ]
  },
  {
   "cell_type": "code",
   "execution_count": 17,
   "metadata": {},
   "outputs": [
    {
     "name": "stdout",
     "output_type": "stream",
     "text": [
      "2.0\n"
     ]
    }
   ],
   "source": [
    "ε = 0.0000001\n",
    "while true\n",
    "    println(x)\n",
    "    y = (x + a/x) / 2\n",
    "    if abs(y-x) < ε\n",
    "        break\n",
    "    end\n",
    "    x = y\n",
    "end"
   ]
  },
  {
   "cell_type": "markdown",
   "metadata": {},
   "source": [
    "Onde ε (\\varepsilon TAB) permite valores até 0.0000001. Isso determina o quão próximo queremos que nossa aproximação chegue.\n",
    "\n",
    "## Algoritmos\n",
    "\n",
    "O Método de Newton é um exemplo de algoritmo, um processo mecânico que resolve uma categoria de problemas, que nesse caso é o cáculo de raízes quadradas.\n",
    "\n",
    "Talvez ajude pensar primeiro em algo que não seja um algortimo, para então entender o que é um algoritmo. Você provavelmente decorou uma matriz de multiplicação quando aprendeu a multiplicar números compostos por apenas um dígito. Na prática, você memorizou 100 soluções específicas, o que não é o tipo de conhecimento algorítmico.\n",
    "\n",
    "Mas, se você era \"preguiçoso\", provavelmente aprendeu alguns truques. Por exemplo, para encontrar o valor da multiplicação de *n* e 9, voce pode escrever de *n* à 1 na posição do primeiro dígito, e de 10 à *n* na posição do segundo dígito. Esse truque é uma solução genérica para o problema da multiplicação de 9 com qualquer número de apenas um dígito. E isso é um algoritmo!\n",
    "\n",
    "De forma similar, as técnicas que você aprendeu para soma com transporte, subtração com empréstimo e divisão longa também são algoritmos. Uma das características de algoritmos é que eles não requerem nenhum conhecimento prévio para serem executados. Eles são processos mecânicos onde cada passo continua a partir do fim do anterior, seguindo um conjunto de regras.\n",
    "\n",
    "Executar algortimos pode ser chato, mas desenvolvê-los é interessante, intelectualmente desafiador e é uma parte central da Ciência da Computação.\n",
    "\n",
    "As vezes uma das coisas mais difíceis de se expressar algoritmicamente são coisas que as pessoas fazem naturalmente, sem nenhuma dificuldade ou pensamento consciente. Um bom exemplo é a compreensão de linguagens naturais. Todos nós fazemos, mas ninguém consegue explicar exatamente como fazemos, pelo menos de forma algorítmica.\n",
    "\n",
    "## Debugando\n",
    "\n",
    "Você vai perceber que assim que começar a escrever programas maiores irá passar mais tempo debugando-os. Mais código quer dizer mais chances de cometer erros e mais espaço para *bugs* se esconderem.\n",
    "\n",
    "Uma alternativa para reduzir o tempo gasto debugando é *debugar por bisseções*. Por exemplo, se você possui um programa com 100 linhas de código e checar de uma só vez, uma a uma, isso te consumiria 100 passos.\n",
    "\n",
    "Ao invés disso, tente dividir o problema pela metade. Encontre um ponto no meio do programa, ou próximo à isso, para checar um valor intermediário e então adicione uma instrução de print (ou qualquer outra coisa para efeito de verificação) e execute o programa.\n",
    "\n",
    "Se a verificação na metade do caminho estiver incorreta, então o problema deve estar na primeira metade do programa. Se estiver correta, o problema está na segunda metade.\n",
    "\n",
    "Sempre que você fizer testes como esse, reduzirá pela metade o número de linhas para procurar algum problema. Depois de alguns passos (menores do que 100), vamos supor 6, você terá reduzido sua verificação a uma ou duas linhas de código, ao menos em teoria.\n",
    "\n",
    "Na prática, nem sempre é claro onde é o \"meio do programa\" e nem sempre é possível encontrá-lo. Note que não faz sentido contar o número de linhas de seu programa e dividir esse número ao meio. Ao invés disso, pense nos trechos de seu programa onde podem haver erros e onde você pode inserir instruções para verificações. Então escolha um ponto onde você acha que um *bug* pode estar antes ou depois da checagem.\n",
    "\n",
    "## Glossário\n",
    "\n",
    "**reatribuição**\n",
    "\n",
    "Atruibuição de uma novo valor à uma variável já existente.\n",
    "\n",
    "**atualizar**\n",
    "\n",
    "Uma atribuição cujo o novo valor da variável depende do valor antigo.\n",
    "    \n",
    "**inicialização**\n",
    "\n",
    "Uma atribuição que insere um valor inicial em uma variável que será atualizada.\n",
    "\n",
    "**incremento**\n",
    "\n",
    "Uma atualização que aumenta o valor de uma variável, geralmente feito de um em um.\n",
    "\n",
    "**decremento**\n",
    "\n",
    "Uma atualizaçao que diminui o valor de uma vaiável, geralmente feito de um em um.\n",
    "\n",
    "**iteração**\n",
    "\n",
    "Execuções repetidas de um conjunto de instruções usando a chamada de uma função recursiva ou um laço.\n",
    "\n",
    "**instrução while**\n",
    "\n",
    "Instrução que permite iterações controladas por uma condição.\n",
    "\n",
    "**instrução break**\n",
    "\n",
    "Instrução que permite a saída de um laço.\n",
    "\n",
    "**instrução continue**\n",
    "\n",
    "Instrução dentro de uma laço que permite a saída da iteração atual para ir para a próxima.\n",
    "\n",
    "**laço infinito**\n",
    "\n",
    "Um laço no qual a condição de encerramento nunca é satisfeita.\n",
    "\n",
    "**algoritmo**\n",
    "\n",
    "Um processo geral de resolução de uma categoria de problemas.\n",
    "\n",
    "## Exercícios\n",
    "\n",
    "### Exercício 7-2\n",
    "\n",
    "Copie o laço da função da seção *Raiz Quadrada* e coloque-a em uma função chamada `minha_sqrt` que recebe `a` como um parâmetro, escolhe uma valor razoável para `x`, e retorna uma estimativa da raíz quadrada de `a`.\n",
    "\n",
    "Para testar essa função, escreva outra chamada `testa_raiz_quadrada` que imprime uma tabela como a seguinte:\n",
    "\n",
    "|a|minha_sqrt|sqrt|diff|\n",
    "| -| - | - | - |\n",
    "|1.0 |1.0                |1.0                |0.0|\n",
    "|2.0 |1.414213562373095  |1.4142135623730951 |2.220446049250313e-16|\n",
    "|3.0 |1.7320508075688772 |1.7320508075688772 |0.0|\n",
    "|4.0 |2.0                |2.0                |0.0|\n",
    "|5.0 |2.23606797749979   |2.23606797749979   |0.0|\n",
    "|6.0 |2.449489742783178  |2.449489742783178  |0.0|\n",
    "|7.0 |2.6457513110645907 |2.6457513110645907 |0.0|\n",
    "|8.0 |2.82842712474619   |2.8284271247461903 |4.440892098500626e-16|\n",
    "|9.0 |3.0                |3.0                |0.0|\n",
    "\n",
    "\n",
    "A primeira coluna é um número, `a`. A segunda coluna é a raíz quadrada calculada pela função `minha_sqrt`. A terceira coluna é a raíz quadrada calculada pela função `sqrt`. A quarta coluna é o valor absoluto da diferença entre as duas estimativas.\n",
    "\n",
    "### Exercício 7-3\n",
    "\n",
    "A função pré-definida `Meta.parse` recebe uma string e a transforma em uma expressão que pode ser calculada, em Julia, com a função `Core.eval`. Por exemplo:"
   ]
  },
  {
   "cell_type": "code",
   "execution_count": 11,
   "metadata": {},
   "outputs": [
    {
     "data": {
      "text/plain": [
       ":(1 + 2 * 3)"
      ]
     },
     "execution_count": 11,
     "metadata": {},
     "output_type": "execute_result"
    }
   ],
   "source": [
    "expr = Meta.parse(\"1+2*3\")"
   ]
  },
  {
   "cell_type": "code",
   "execution_count": 12,
   "metadata": {},
   "outputs": [
    {
     "data": {
      "text/plain": [
       "7"
      ]
     },
     "execution_count": 12,
     "metadata": {},
     "output_type": "execute_result"
    }
   ],
   "source": [
    "eval(expr)"
   ]
  },
  {
   "cell_type": "code",
   "execution_count": 5,
   "metadata": {},
   "outputs": [
    {
     "data": {
      "text/plain": [
       ":(sqrt(π))"
      ]
     },
     "execution_count": 5,
     "metadata": {},
     "output_type": "execute_result"
    }
   ],
   "source": [
    "expr = Meta.parse(\"sqrt(π)\")"
   ]
  },
  {
   "cell_type": "code",
   "execution_count": 6,
   "metadata": {},
   "outputs": [
    {
     "data": {
      "text/plain": [
       "1.7724538509055159"
      ]
     },
     "execution_count": 6,
     "metadata": {},
     "output_type": "execute_result"
    }
   ],
   "source": [
    "eval(expr)"
   ]
  },
  {
   "cell_type": "markdown",
   "metadata": {},
   "source": [
    "Escreva uma função chamada `calcula_laço` que interage com o usuário. A função deve receber um valor inserido por ele, e então efetuar o cálculo desse valor utilizando a função `eval` e imprimir o resultado. Ela deve continuar interagindo com usuário até que ele insira `feito`, e então imprimir a última expressão calculada.\n",
    "\n",
    "### Exercício 7-4\n",
    "\n",
    "O matemático Srinivasa Ramanujan descobriu uma série infinita que pode ser utilizada para gerar aproximações numéricas de $\\dfrac{1}{\\pi}$ :\n",
    "\n",
    "$\\dfrac{1}{\\pi}$ = $\\dfrac{22 – \\sqrt{2}}{9801}$$\\sum_{i=1}^{\\infty} {\\dfrac{(4k)!(1103+26390k)}{(k!)^{4} 396^{4k}}}$\n",
    "\n",
    "Escreva uma função chamada `estima_pi` que usa essa fórmula para calcular e retornar uma estimativa para $\\pi$. Ela deve usar um laço *while* para calcular os termos da somatória enquanto o último termo for menor que `1e-15`, que em Julia é uma notação para $10^{-15}$. Você pode checar seu resultado comparando-o com $\\pi$."
   ]
  }
 ],
 "metadata": {
  "kernelspec": {
   "display_name": "Julia 1.1.1",
   "language": "julia",
   "name": "julia-1.1"
  },
  "language_info": {
   "file_extension": ".jl",
   "mimetype": "application/julia",
   "name": "julia",
   "version": "1.1.1"
  }
 },
 "nbformat": 4,
 "nbformat_minor": 2
}
