{
 "cells": [
  {
   "cell_type": "markdown",
   "metadata": {},
   "source": [
    "# Funções"
   ]
  },
  {
   "cell_type": "markdown",
   "metadata": {},
   "source": [
    "No contexto de programação, é conhecido como *função* uma sequência de declarações que executam operações de computação. Quando você define uma função, você especifica o nome e a sequência de declarações. Depois, você poderá *chamar* ou utilizar essa função pelo nome especificado."
   ]
  },
  {
   "cell_type": "markdown",
   "metadata": {},
   "source": [
    "## Chamada de Funções"
   ]
  },
  {
   "cell_type": "markdown",
   "metadata": {},
   "source": [
    "Nós já vimos um exemplo de chamada de função:"
   ]
  },
  {
   "cell_type": "code",
   "execution_count": 5,
   "metadata": {},
   "outputs": [
    {
     "name": "stdout",
     "output_type": "stream",
     "text": [
      "Olá, Mundo!\n"
     ]
    }
   ],
   "source": [
    "println(\"Olá, Mundo!\")"
   ]
  },
  {
   "cell_type": "markdown",
   "metadata": {},
   "source": [
    "O nome dessa função é `println` . A expressão em parênteses é chamada de *argumento* de função.\n",
    "É comum dizer que uma função *recebe* um argumento e *devolve* um resultado. O resultado é chamado de *Valor de retorno*.\n",
    "Julia fornece funções quem convertem valores de um tipo para outro. A função `parse` recebe uma string e a converte em um número, se possível, ou exibe uma mensagem de erro caso contrário."
   ]
  },
  {
   "cell_type": "code",
   "execution_count": 7,
   "metadata": {},
   "outputs": [
    {
     "data": {
      "text/plain": [
       "32"
      ]
     },
     "execution_count": 7,
     "metadata": {},
     "output_type": "execute_result"
    }
   ],
   "source": [
    "parse(Int64, \"32\")"
   ]
  },
  {
   "cell_type": "code",
   "execution_count": 8,
   "metadata": {},
   "outputs": [
    {
     "data": {
      "text/plain": [
       "3.14159"
      ]
     },
     "execution_count": 8,
     "metadata": {},
     "output_type": "execute_result"
    }
   ],
   "source": [
    "parse(Float64, \"3.14159\")"
   ]
  },
  {
   "cell_type": "code",
   "execution_count": null,
   "metadata": {},
   "outputs": [],
   "source": [
    "parse(Int64, \"Olá\")"
   ]
  },
  {
   "cell_type": "markdown",
   "metadata": {},
   "source": [
    "No último caso, não foi possível fazer a conversão, pois não é possível converter letras em número. Nos dois primeiros casos, fizemos a conversão de uma string de números em números."
   ]
  },
  {
   "cell_type": "markdown",
   "metadata": {},
   "source": [
    "A função `trunc` pode converter números em formato float para números em formato int, mas essa função não faz arredondamentos, ela remova a pate decimal do valor:"
   ]
  },
  {
   "cell_type": "code",
   "execution_count": 11,
   "metadata": {},
   "outputs": [
    {
     "data": {
      "text/plain": [
       "3"
      ]
     },
     "execution_count": 11,
     "metadata": {},
     "output_type": "execute_result"
    }
   ],
   "source": [
    "trunc(Int64, 3.99999)"
   ]
  },
  {
   "cell_type": "code",
   "execution_count": 12,
   "metadata": {},
   "outputs": [
    {
     "data": {
      "text/plain": [
       "-2"
      ]
     },
     "execution_count": 12,
     "metadata": {},
     "output_type": "execute_result"
    }
   ],
   "source": [
    "trunc(Int64, -2.3)"
   ]
  },
  {
   "cell_type": "markdown",
   "metadata": {},
   "source": [
    "A função `float` converte números em formato int em formato float:"
   ]
  },
  {
   "cell_type": "code",
   "execution_count": 14,
   "metadata": {},
   "outputs": [
    {
     "data": {
      "text/plain": [
       "32.0"
      ]
     },
     "execution_count": 14,
     "metadata": {},
     "output_type": "execute_result"
    }
   ],
   "source": [
    "float(32)"
   ]
  },
  {
   "cell_type": "markdown",
   "metadata": {},
   "source": [
    "Por fim, a função `string` converte o argumento recebido em uma string:"
   ]
  },
  {
   "cell_type": "code",
   "execution_count": 16,
   "metadata": {},
   "outputs": [
    {
     "data": {
      "text/plain": [
       "\"32\""
      ]
     },
     "execution_count": 16,
     "metadata": {},
     "output_type": "execute_result"
    }
   ],
   "source": [
    "string(32)"
   ]
  },
  {
   "cell_type": "code",
   "execution_count": 17,
   "metadata": {},
   "outputs": [
    {
     "data": {
      "text/plain": [
       "\"3.14159\""
      ]
     },
     "execution_count": 17,
     "metadata": {},
     "output_type": "execute_result"
    }
   ],
   "source": [
    "string(3.14159)"
   ]
  },
  {
   "cell_type": "markdown",
   "metadata": {},
   "source": [
    "## Funções Matemáticas"
   ]
  },
  {
   "cell_type": "markdown",
   "metadata": {},
   "source": [
    "Em Julia, a maioria das funções matemáticas conhecidas estão disponíveis para utilização direta:"
   ]
  },
  {
   "cell_type": "code",
   "execution_count": 1,
   "metadata": {},
   "outputs": [
    {
     "ename": "UndefVarError",
     "evalue": "UndefVarError: signal_power not defined",
     "output_type": "error",
     "traceback": [
      "UndefVarError: signal_power not defined",
      "",
      "Stacktrace:",
      " [1] top-level scope at In[1]:1"
     ]
    }
   ],
   "source": [
    "ratio = signal_power / noise_power\n",
    "decibels = 10 * log10(ratio)"
   ]
  },
  {
   "cell_type": "markdown",
   "metadata": {},
   "source": [
    "O primeiro exemplo usa `log 10` para calcular uma proporção sinal-ruído em decibéis (assumindo que `signal_power` e `noise_power` estão definidos). `log`, que calcula logaritmo natural, também está disponível."
   ]
  },
  {
   "cell_type": "code",
   "execution_count": 2,
   "metadata": {},
   "outputs": [
    {
     "data": {
      "text/plain": [
       "0.644217687237691"
      ]
     },
     "execution_count": 2,
     "metadata": {},
     "output_type": "execute_result"
    }
   ],
   "source": [
    "radians = 0.7\n",
    "height = sin(radians)"
   ]
  },
  {
   "cell_type": "markdown",
   "metadata": {},
   "source": [
    "Esse segundo exemplo calcula o seno de `radians` . O nome da variável é uma dica, pois `sin` e as outras funções trigonométricas (`cos` , `tan` , etc.) recebem argumentos em radiano. Para converter de *graus* para *radianos* , divida por 180 e muitplique por $\\pi$:  "
   ]
  },
  {
   "cell_type": "code",
   "execution_count": 4,
   "metadata": {},
   "outputs": [
    {
     "data": {
      "text/plain": [
       "45"
      ]
     },
     "execution_count": 4,
     "metadata": {},
     "output_type": "execute_result"
    }
   ],
   "source": [
    "degrees = 45"
   ]
  },
  {
   "cell_type": "code",
   "execution_count": 5,
   "metadata": {},
   "outputs": [
    {
     "data": {
      "text/plain": [
       "0.7853981633974483"
      ]
     },
     "execution_count": 5,
     "metadata": {},
     "output_type": "execute_result"
    }
   ],
   "source": [
    "radians = degrees / 180 * π"
   ]
  },
  {
   "cell_type": "code",
   "execution_count": 6,
   "metadata": {},
   "outputs": [
    {
     "data": {
      "text/plain": [
       "0.7071067811865475"
      ]
     },
     "execution_count": 6,
     "metadata": {},
     "output_type": "execute_result"
    }
   ],
   "source": [
    "sin(radians)"
   ]
  },
  {
   "cell_type": "markdown",
   "metadata": {},
   "source": [
    "O valor da variável $\\pi$ é uma aproximação em float para o número $\\pi$, que possui representação fiel próxima de 16 dígitos.\n",
    "Se você sabe trigonometria, você pode checar o resulado anterior comparando-o com a ($\\sqrt{2}$)/2:"
   ]
  },
  {
   "cell_type": "code",
   "execution_count": 8,
   "metadata": {},
   "outputs": [
    {
     "data": {
      "text/plain": [
       "0.7071067811865476"
      ]
     },
     "execution_count": 8,
     "metadata": {},
     "output_type": "execute_result"
    }
   ],
   "source": [
    "sqrt(2) / 2"
   ]
  },
  {
   "cell_type": "markdown",
   "metadata": {},
   "source": [
    "## Composição"
   ]
  },
  {
   "cell_type": "markdown",
   "metadata": {},
   "source": [
    "Até agora, vimos os elementos de um programa: *variáveis, expressões e declarações* separadamente,sem falarmos sobre como combiná-los.\n",
    "Um dos recursos mais úteis em linguagens de programação é a possibilidade de usar pequenos blocos e combiná-los. Por exemplo, o argumento de uma função pode ser qualquer tipo de expressão, incluindo uma operação aritmética:"
   ]
  },
  {
   "cell_type": "code",
   "execution_count": 9,
   "metadata": {},
   "outputs": [
    {
     "data": {
      "text/plain": [
       "0.7071067811865475"
      ]
     },
     "execution_count": 9,
     "metadata": {},
     "output_type": "execute_result"
    }
   ],
   "source": [
    "x = sin(degrees / 360 * 2 * π)"
   ]
  },
  {
   "cell_type": "markdown",
   "metadata": {},
   "source": [
    "E também podem ser chamadas de funções:"
   ]
  },
  {
   "cell_type": "code",
   "execution_count": 11,
   "metadata": {},
   "outputs": [
    {
     "data": {
      "text/plain": [
       "1.7071067811865475"
      ]
     },
     "execution_count": 11,
     "metadata": {},
     "output_type": "execute_result"
    }
   ],
   "source": [
    "x = exp(log(x+1))"
   ]
  },
  {
   "cell_type": "markdown",
   "metadata": {},
   "source": [
    "Você pode usar expressões arbitrárias em quase todos os lugares onde você pode usar valores, com uma exceção: o lado esquerdo de uma definição tem que ser um nome de variável. Qualquer outra expressão no lado esquerdo é considerado um *erro de sintaxe* (nós vamos ver exceções para essa regra mais tarde)."
   ]
  },
  {
   "cell_type": "code",
   "execution_count": 3,
   "metadata": {},
   "outputs": [
    {
     "data": {
      "text/plain": [
       "3600"
      ]
     },
     "execution_count": 3,
     "metadata": {},
     "output_type": "execute_result"
    }
   ],
   "source": [
    "hours = 60 # 1 hora é igual a 60 minutos\n",
    "minutes = hours * 60 # direita"
   ]
  },
  {
   "cell_type": "code",
   "execution_count": 4,
   "metadata": {},
   "outputs": [
    {
     "ename": "ErrorException",
     "evalue": "syntax: \"60\" is not a valid function argument name",
     "output_type": "error",
     "traceback": [
      "syntax: \"60\" is not a valid function argument name",
      ""
     ]
    }
   ],
   "source": [
    "hours * 60 = minutes # errado!"
   ]
  },
  {
   "cell_type": "markdown",
   "metadata": {},
   "source": [
    "## Adicionando Novas Funções"
   ]
  },
  {
   "cell_type": "markdown",
   "metadata": {},
   "source": [
    "Até agora, temos usado as funções oferecidas pela linguagem Julia, mas também é possivel adicionar novas funções. Uma *definição de função* especifica o nome de uma nova função e a sequência de instruções que serão executadas quando a função é utilizada. Veja o exemplo abaixo:"
   ]
  },
  {
   "cell_type": "code",
   "execution_count": 5,
   "metadata": {},
   "outputs": [
    {
     "data": {
      "text/plain": [
       "printlyrics (generic function with 1 method)"
      ]
     },
     "execution_count": 5,
     "metadata": {},
     "output_type": "execute_result"
    }
   ],
   "source": [
    "function printlyrics()\n",
    "    println(\"I'm a lumberjack, and I'm okay.\")\n",
    "    println(\"I sleep all night and I work all day.\")\n",
    "end"
   ]
  },
  {
   "cell_type": "markdown",
   "metadata": {},
   "source": [
    "A palavra-chave `function` indica que esse trecho é um definição de função. O nome da função exemplificada é `printlyrics`. As regras para nomes de funções são as mesmas que as utilizadas para nomes de variáveis: eles podem conter quase todos os catacteres *Unicode*, mas *o primeiro caractere não pode ser um número*. Veja o capítulo Caracteres. Você não pode usar uma palavra-chave como nome de uma função, e você deve evitar utilizar variáveis e funções com o mesmo nome."
   ]
  },
  {
   "cell_type": "markdown",
   "metadata": {},
   "source": [
    "Os parênteses vazios depois de um nome indicam que a função não recebe nenhum argumento.\n",
    "A primeira linha de uma definição de função é chamado de *cabeçalho* (*header*, em inglês); o resto da função é chamado de *corpo*, (em inglês, *body*). O fim da função é marcada com o uso da palavra-chave `end` no final do corpo da função, e não pode conter nenhum número ou intrução. Para facilitar a leitura e compreensão, o corpo da função deve ser indentado."
   ]
  },
  {
   "cell_type": "markdown",
   "metadata": {},
   "source": [
    "Deve-se utilizar \"aspas duplas\", geralmente localizadas perto da tecla de *número 1* no teclado. 'Aspas simples' não são permitidas em Julia."
   ]
  },
  {
   "cell_type": "markdown",
   "metadata": {},
   "source": [
    "Se você definir uma função no modo interativo, o REPL a indentará para você saber que a definição não está completa:"
   ]
  },
  {
   "cell_type": "code",
   "execution_count": 20,
   "metadata": {},
   "outputs": [
    {
     "ename": "LoadError",
     "evalue": "syntax: incomplete: \"function\" at none:1 requires end",
     "output_type": "error",
     "traceback": [
      "syntax: incomplete: \"function\" at none:1 requires end",
      ""
     ]
    }
   ],
   "source": [
    "function printlyrics()\n",
    "       println(\"I'm a lumberjack, and I'm okay.\")"
   ]
  },
  {
   "cell_type": "markdown",
   "metadata": {},
   "source": [
    "Para encerrar uma função, você deve inserir a palavra-chave `end`."
   ]
  },
  {
   "cell_type": "markdown",
   "metadata": {},
   "source": [
    "A sintaxe para utilizar as novas funções é a mesma para a funções nativas (já existentes em Julia):"
   ]
  },
  {
   "cell_type": "code",
   "execution_count": 21,
   "metadata": {},
   "outputs": [
    {
     "name": "stdout",
     "output_type": "stream",
     "text": [
      "I'm a lumberjack, and I'm okay.\n",
      "I sleep all night and I work all day.\n"
     ]
    }
   ],
   "source": [
    "printlyrics()"
   ]
  },
  {
   "cell_type": "markdown",
   "metadata": {},
   "source": [
    "Uma vez que você definir uma função, você pode usá-la dentro de outras funções. Por exemplo, para repetir o primeiro refrão, nós podemos escrever a função chamada `repeatlyrics` :"
   ]
  },
  {
   "cell_type": "code",
   "execution_count": 22,
   "metadata": {},
   "outputs": [
    {
     "data": {
      "text/plain": [
       "repeatlyrics (generic function with 1 method)"
      ]
     },
     "execution_count": 22,
     "metadata": {},
     "output_type": "execute_result"
    }
   ],
   "source": [
    "function repeatlyrics()\n",
    "    printlyrics()\n",
    "    printlyrics()\n",
    "end"
   ]
  },
  {
   "cell_type": "markdown",
   "metadata": {},
   "source": [
    "E então, utilizar a função `repeatlyrics`"
   ]
  },
  {
   "cell_type": "code",
   "execution_count": 23,
   "metadata": {},
   "outputs": [
    {
     "name": "stdout",
     "output_type": "stream",
     "text": [
      "I'm a lumberjack, and I'm okay.\n",
      "I sleep all night and I work all day.\n",
      "I'm a lumberjack, and I'm okay.\n",
      "I sleep all night and I work all day.\n"
     ]
    }
   ],
   "source": [
    "repeatlyrics()"
   ]
  },
  {
   "cell_type": "markdown",
   "metadata": {},
   "source": [
    "Mas, não é exatamente assim que a música toca."
   ]
  },
  {
   "cell_type": "markdown",
   "metadata": {},
   "source": [
    "## Definições e Utilizações"
   ]
  }
 ],
 "metadata": {
  "kernelspec": {
   "display_name": "Julia 1.1.1",
   "language": "julia",
   "name": "julia-1.1"
  },
  "language_info": {
   "file_extension": ".jl",
   "mimetype": "application/julia",
   "name": "julia",
   "version": "1.1.1"
  }
 },
 "nbformat": 4,
 "nbformat_minor": 2
}
