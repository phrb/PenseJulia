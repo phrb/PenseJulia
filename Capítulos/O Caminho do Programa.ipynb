{
 "cells": [
  {
   "cell_type": "markdown",
   "metadata": {},
   "source": [
    "# O Caminho do Programa\n",
    "\n",
    "O objetivo deste livro é ensinar a pensar como um cientista da computação. Esta maneira de pensar combina algumas das melhores características da matemática, da engenharia, e das ciências naturais. Assim como os matemáticos, os cientistas da computação usam linguagens formais para representar ideias, ou mais especificamente, operações de computação. Assim como engenheiros, eles projetam coisas, reunindo componentes em sistemas e avaliando os custos e os benefícios das alternativas à disposição. Assim como cientistas, observam o comportamento de sistemas complexos, formam hipóteses e testam previsões.\n",
    "\n",
    "A habilidade mais importante para um cientista da computação é a *resolução de problemas*, isto é, a capacidade de formular problemas, pensar em soluções criativas, e expressá-las de maneira clara e precisa. No fim das contas, o processo de aprender a programar é uma ótima oportunidade para praticar suas habilidades de resolução de problemas. Por isso, este capítulo se chama \"O Caminho do Programa\".\n",
    "\n",
    "Num nível, você vai aprender a programar, o que é uma habilidade útil por si só. Num outro nível, vai usar a programação como um meio para um fim. Conforme avançarmos, este fim vai ficar mais claro.\n",
    "\n",
    "## O Quê é um Programa?\n",
    "\n",
    "Um *programa* é uma sequência de instruções que especifica como realizar uma operação de computação. A operação de computação pode ser relacionada com a matemática, como solucionar um sistema de equações ou encontrar as raízes de um polinômio, mas também pode ser uma operação de computação simbólica, como a busca e a substituição de textos em um documento, ou uma operação relacionada ao audiovisual, como o processamento de uma imagem ou a reprodução de um vídeo.\n",
    "\n",
    "Os detalhes de cada operação mudam de uma linguagem de programação a outra, mas alguns conceitos e instruções básicas aparecem em praticamente todas as linguagens:\n",
    "\n",
    "**Entrada**\n",
    "\n",
    "Receber dados do teclado, de um arquivo, da rede, ou de algum outro dispositivo.\n",
    "\n",
    "**Saída**\n",
    "\n",
    "Exibir dados na tela, salvá-los em um arquivo, enviá-los pela rede etc.\n",
    "\n",
    "**Matemática**\n",
    "\n",
    "Executar operações matemáticas básicas, como adição e multiplicação.\n",
    "\n",
    "**Execução Condicional**\n",
    "\n",
    "Verificar a veracidade de determinadas condições e executar o código adequado.\n",
    "    \n",
    "**Repetição**\n",
    "\n",
    "Repetir uma ação, normalmente com pequenas variações.\n",
    "\n",
    "***\n",
    "\n",
    "Você pode não acreditar, mas isso é praticamente tudo o que você precisa saber. Todo programa que você já usou, não importa o quão complicado, consiste em instruções muito parecidas com essas. Portanto, você pode pensar sobre programação como sendo o processo de quebrar tarefas grandes e complexas em *subtarefas*, e de quebrar essas subtarefas em \"sub-subtarefas\" cada vez menores, até que elas sejam suficientemente simples para serem descritas e realizadas por uma das instruções básicas da lista acima.\n",
    "\n",
    "## Instalando e Executando Julia\n",
    "\n",
    "Um dos desafios de começar a programar em Julia é a instalação da linguagem e de seu *software* de apoio em seu computador. Se você já conhece bem o *sistema operacional* de seu computador e, principalmente, é confortável na *interface de linha de comando*, você não terá nenhum problema instalando Julia. Para principiantes, no entanto, pode ser doloroso ter que aprender sobre programação e gerenciamento de sistemas ao mesmo tempo.\n",
    "\n",
    "Para evitar esse problema, recomendo que você comece executando Julia no seu navegador. Mais tarde, quando estiver confortável com a linguagem, vou sugerir como instalar Julia no seu computador. No momento da tradução deste livro, a maneira mais simples de experimentar a linguagem Julia é através de um *Notebook Jupyter* para Julia, acessando o [site do Projeto Jupyter](https://jupyter.org/try) e escolhendo a linguagem Julia. Você começar por lá e tentar executar os exemplos deste capítulo enquanto não instala Julia em seu computador.\n",
    "\n",
    "No entanto, a maneira recomendada de acompanhar esta versão de *Pense Julia* é [instalar o Notebook Jupyter](https://jupyter.org/install) e o pacote Julia [IJulia](https://github.com/JuliaLang/IJulia.jl). Dessa maneira, você vai poder executar os capítulos em seu próprio computador, à medida que vai avançando no material. Como o material é disponibilizado em Notebooks Jupyter, essa é a maneira mais fluida de acompanhar o curso.\n",
    "\n",
    "Se quiser, você também pode fazer uma conta no [site da Julia Computing](https://juliacomputing.com/), e rodar Julia no seu navegador usando a [JuliaBox](https://juliabox.com/). Além disso, você pode baixar o [JuliaPro](https://juliacomputing.com/products/juliapro.html), que vem com uma série de pacotes Julia já instalados. No momento da tradução deste material, todos esses serviços são gratuitos.\n",
    "\n",
    "O *Laço de Leitura-Avaliação-Impressão*, ou *Read-Eval-Print Loop* (REPL) em inglês, é um programa que lê e executa código em Julia. \n",
    "\n",
    "Os Notebooks Jupyter funcionam com diversas linguagens de programação. O Notebook que você usando neste momento está executando um REPL de Julia com o qual podemos interagir através de *células*, com as quais você vai se familiarizar bastante ao longo do livro. As células de um Notebook contêm instruções para o REPL, também chamadas de *código* ou *programa*. Ao clicar em uma célula, você vai observar uma borda colorida aparecer em volta dela.\n",
    "\n",
    "Se você apertar a combinação de teclas `Ctrl + Enter` depois de selecionar uma célula, vai executar o programa contido na célula e vai observar seu resultado, também chamado de *saída do programa*. Agora, interaja com o REPL clicando na célula abaixo e pressionando simultaneamente as teclas `Ctrl` e `Enter` em seu teclado. A instrução `Base.banner()` dentro da célula é uma instrução de **saída**, e portanto vai mostrar informações em sua tela. A instrução abaixo mostra informações sobre o REPL que está sendo executado por este Notebook:"
   ]
  },
  {
   "cell_type": "code",
   "execution_count": 14,
   "metadata": {
    "slideshow": {
     "slide_type": "-"
    }
   },
   "outputs": [
    {
     "name": "stdout",
     "output_type": "stream",
     "text": [
      "               \u001b[1m\u001b[32m_\u001b[0m\n",
      "   \u001b[1m\u001b[34m_\u001b[0m       \u001b[0m_\u001b[0m \u001b[1m\u001b[31m_\u001b[1m\u001b[32m(_)\u001b[1m\u001b[35m_\u001b[0m     |  Documentation: https://docs.julialang.org\n",
      "  \u001b[1m\u001b[34m(_)\u001b[0m     | \u001b[1m\u001b[31m(_)\u001b[0m \u001b[1m\u001b[35m(_)\u001b[0m    |\n",
      "   \u001b[0m_ _   _| |_  __ _\u001b[0m   |  Type \"?\" for help, \"]?\" for Pkg help.\n",
      "  \u001b[0m| | | | | | |/ _` |\u001b[0m  |\n",
      "  \u001b[0m| | |_| | | | (_| |\u001b[0m  |  Version 1.1.1 (2019-05-16)\n",
      " \u001b[0m_/ |\\__'_|_|_|\\__'_|\u001b[0m  |  \n",
      "\u001b[0m|__/\u001b[0m                   |\n",
      "\n"
     ]
    }
   ],
   "source": [
    "Base.banner()"
   ]
  },
  {
   "cell_type": "markdown",
   "metadata": {},
   "source": [
    "Agora estamos prontos para começar. Daqui pra frente, vou assumir que você sabe como inicializar o Notebook Jupyter e executar código dentro de células.\n",
    "\n",
    "## O Primeiro Programa\n",
    "\n",
    "A tradição é que o *Olá, Mundo!* é primeiro programa que você escreve quando está aprendendo uma nova linguagem de programação, pois tudo que esse programa faz é mostrar \"Olá, Mundo!\" na tela do seu computador. Em Julia, escrevemos esse programa assim:"
   ]
  },
  {
   "cell_type": "code",
   "execution_count": 15,
   "metadata": {},
   "outputs": [
    {
     "name": "stdout",
     "output_type": "stream",
     "text": [
      "Olá, Mundo!\n"
     ]
    }
   ],
   "source": [
    "println(\"Olá, Mundo!\")"
   ]
  },
  {
   "cell_type": "markdown",
   "metadata": {},
   "source": [
    "A instrução nesse exemplo é uma *instrução de impressão*, mesmo que ela não imprima nada no papel. Seu propósito é mostrar informações na tela.\n",
    "\n",
    "As *aspas duplas* no programa marcam o início e o fim do texto que deve ser mostrado. Elas não aparecem no resultado.\n",
    "\n",
    "Os *parênteses* indicam que `println` é uma *função*. Nós vamos falar de funções no capítulo Funções.\n",
    "\n",
    "## Operadores Aritméticos\n",
    "\n",
    "Depois do \"Olá, Mundo!\", o próximo passo é a *aritmética*. A linguagem Julia fornece símbolos, chamados de *operadores*, que representam operações de computação como *adição* e *multiplicação*.\n",
    "\n",
    "Os operadores `+`, `-`, e `*` fazem adição, subtração, e multiplicação nos exemplos abaixo:"
   ]
  },
  {
   "cell_type": "code",
   "execution_count": 17,
   "metadata": {},
   "outputs": [
    {
     "data": {
      "text/plain": [
       "42"
      ]
     },
     "execution_count": 17,
     "metadata": {},
     "output_type": "execute_result"
    }
   ],
   "source": [
    "40 + 2"
   ]
  },
  {
   "cell_type": "code",
   "execution_count": 18,
   "metadata": {},
   "outputs": [
    {
     "data": {
      "text/plain": [
       "42"
      ]
     },
     "execution_count": 18,
     "metadata": {},
     "output_type": "execute_result"
    }
   ],
   "source": [
    "43 - 1"
   ]
  },
  {
   "cell_type": "code",
   "execution_count": 19,
   "metadata": {},
   "outputs": [
    {
     "data": {
      "text/plain": [
       "42"
      ]
     },
     "execution_count": 19,
     "metadata": {},
     "output_type": "execute_result"
    }
   ],
   "source": [
    "6 * 7"
   ]
  },
  {
   "cell_type": "markdown",
   "metadata": {},
   "source": [
    "O operador `/` faz divisão:"
   ]
  },
  {
   "cell_type": "code",
   "execution_count": 20,
   "metadata": {},
   "outputs": [
    {
     "data": {
      "text/plain": [
       "42.0"
      ]
     },
     "execution_count": 20,
     "metadata": {},
     "output_type": "execute_result"
    }
   ],
   "source": [
    "84 / 2"
   ]
  },
  {
   "cell_type": "markdown",
   "metadata": {},
   "source": [
    "Talvez você esteja se perguntando porque o resultado é `42.0` e não `42`. Eu vou explicar na próxima seção.\n",
    "\n",
    "Finalmente, o operador `^` faz *exponenciação*, isto é, eleva um número a uma potência:"
   ]
  },
  {
   "cell_type": "code",
   "execution_count": 21,
   "metadata": {},
   "outputs": [
    {
     "data": {
      "text/plain": [
       "42"
      ]
     },
     "execution_count": 21,
     "metadata": {},
     "output_type": "execute_result"
    }
   ],
   "source": [
    "6 ^ 2 + 6"
   ]
  },
  {
   "cell_type": "markdown",
   "metadata": {},
   "source": [
    "## Valores e Tipos\n",
    "\n",
    "Um *valor* é uma das coisas simples com as quais um programa trabalha, como uma *letra* ou um *número*. Alguns valores que vimos até agora são `2`, `42.0`, e `\"Olá, Mundo!\"`.\n",
    "\n",
    "Esses valores pertencem a *tipos* diferentes: `2` é um *inteiro*, `42.0` é um *número de ponto flutuante*, e `\"Olá, Mundo!\"` é uma *cadeia de caracteres*, ou *string* em inglês, chamado assim pois as letras que compõem esse valor estão encadeadas em sequência.\n",
    "\n",
    "Se você não souber qual o tipo de um valor, o REPL pode te contar:"
   ]
  },
  {
   "cell_type": "code",
   "execution_count": 1,
   "metadata": {},
   "outputs": [
    {
     "data": {
      "text/plain": [
       "Int64"
      ]
     },
     "execution_count": 1,
     "metadata": {},
     "output_type": "execute_result"
    }
   ],
   "source": [
    "typeof(2)"
   ]
  },
  {
   "cell_type": "code",
   "execution_count": 2,
   "metadata": {},
   "outputs": [
    {
     "data": {
      "text/plain": [
       "Float64"
      ]
     },
     "execution_count": 2,
     "metadata": {},
     "output_type": "execute_result"
    }
   ],
   "source": [
    "typeof(42.0)"
   ]
  },
  {
   "cell_type": "code",
   "execution_count": 3,
   "metadata": {},
   "outputs": [
    {
     "data": {
      "text/plain": [
       "String"
      ]
     },
     "execution_count": 3,
     "metadata": {},
     "output_type": "execute_result"
    }
   ],
   "source": [
    "typeof(\"Olá, Mundo!\")"
   ]
  },
  {
   "cell_type": "markdown",
   "metadata": {},
   "source": [
    "Valores inteiros são de tipo `Int64`, strings são de tipo `String`, e números de ponto flutuante são de tipo `Float64`.\n",
    "\n",
    "E valores como `\"2\"` e `\"42\"`? Eles parecem ser números, mas estão entre aspas como as strings. Valores assim também são strings:"
   ]
  },
  {
   "cell_type": "code",
   "execution_count": 4,
   "metadata": {},
   "outputs": [
    {
     "data": {
      "text/plain": [
       "String"
      ]
     },
     "execution_count": 4,
     "metadata": {},
     "output_type": "execute_result"
    }
   ],
   "source": [
    "typeof(\"2\")"
   ]
  },
  {
   "cell_type": "code",
   "execution_count": 5,
   "metadata": {},
   "outputs": [
    {
     "data": {
      "text/plain": [
       "String"
      ]
     },
     "execution_count": 5,
     "metadata": {},
     "output_type": "execute_result"
    }
   ],
   "source": [
    "typeof(\"42.0\")"
   ]
  },
  {
   "cell_type": "markdown",
   "metadata": {},
   "source": [
    "Se você digitar um número decimal usando a notação que usamos no Brasil, como `1,99`, por exemplo, não vai observar o resultado desejado. O valor `1,99` é *válido* em Julia, mas não é um *inteiro*:"
   ]
  },
  {
   "cell_type": "code",
   "execution_count": 6,
   "metadata": {},
   "outputs": [
    {
     "data": {
      "text/plain": [
       "(1, 99)"
      ]
     },
     "execution_count": 6,
     "metadata": {},
     "output_type": "execute_result"
    }
   ],
   "source": [
    "1,99"
   ]
  },
  {
   "cell_type": "markdown",
   "metadata": {},
   "source": [
    "Esse resultado não é o esperado! Julia interpreta `1,99`como uma *sequência de inteiros separada por vírgula*. Nós vamos aprender sobre esse tipo de valor mais tarde.\n",
    "\n",
    "Se você precisar escrever um número muito grande, como `1000000`, pode escrevê-lo de uma maneira mais fácil de ler assim:"
   ]
  },
  {
   "cell_type": "code",
   "execution_count": 7,
   "metadata": {},
   "outputs": [
    {
     "data": {
      "text/plain": [
       "1000000"
      ]
     },
     "execution_count": 7,
     "metadata": {},
     "output_type": "execute_result"
    }
   ],
   "source": [
    "1_000_000"
   ]
  },
  {
   "cell_type": "markdown",
   "metadata": {},
   "source": [
    "## Linguagens Formais e Naturais\n",
    "\n",
    "Linguagens naturais, ou línguas, são as línguas faladas pelas pessoas, como Português, Espanhol, e Inglês. Essas linguagens não foram *projetadas* por ninguém. Embora algumas pessoas tentem impor ordem sobre elas, essas linguagens\n",
    "evoluíram naturalmente."
   ]
  }
 ],
 "metadata": {
  "kernelspec": {
   "display_name": "Julia 1.1.1",
   "language": "julia",
   "name": "julia-1.1"
  },
  "language_info": {
   "file_extension": ".jl",
   "mimetype": "application/julia",
   "name": "julia",
   "version": "1.1.1"
  }
 },
 "nbformat": 4,
 "nbformat_minor": 2
}
