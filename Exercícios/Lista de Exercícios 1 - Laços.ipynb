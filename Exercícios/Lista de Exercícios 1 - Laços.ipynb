{
 "cells": [
  {
   "cell_type": "markdown",
   "metadata": {},
   "source": [
    "# Lista de Exercícios 1 - Laços\n",
    "\n",
    "## Exercício 1: Cálculos com Laços\n",
    "\n",
    "Os exercícios abaixo podem ser resolvidos apenas com laços `for` ou `while`.\n",
    "\n",
    "### a) Série Harmônica\n",
    "\n",
    "Escreva a função `soma_harmônica`, que recebe um inteiro `n` e calcula a soma $S_h$ dos $n$ primeiros termos da série harmônica:\n",
    "\n",
    "$$\n",
    "S_h = \\dfrac{1}{1} + \\dfrac{1}{2} + \\dots + \\dfrac{1}{n}\n",
    "$$\n",
    "\n",
    "O que acontece com o valor de $S_h$ conforme `n` cresce?"
   ]
  },
  {
   "cell_type": "code",
   "execution_count": null,
   "metadata": {},
   "outputs": [],
   "source": []
  },
  {
   "cell_type": "markdown",
   "metadata": {},
   "source": [
    "### b) Série Harmônica Alternada\n",
    "\n",
    "Escreva a função `soma_harmônica_alternada`, que recebe um inteiro `n` e calcula a soma $S_{ha}$ dos $n$ primeiros termos da série harmônica alternada:\n",
    "\n",
    "$$\n",
    "S_{ha} = \\dfrac{1}{1} - \\dfrac{1}{2} + \\dfrac{1}{3} - \\dfrac{1}{4} + \\dots + \\dfrac{1}{n}\n",
    "$$\n",
    "\n",
    "- O que acontece com o valor de $S_{ha}$ conforme `n` cresce?\n",
    "- Qual é o valor do [logaritmo natural](https://pt.wikipedia.org/wiki/Logaritmo_natural) de $2$, escrito como $ln(2)$?"
   ]
  },
  {
   "cell_type": "code",
   "execution_count": null,
   "metadata": {},
   "outputs": [],
   "source": []
  },
  {
   "cell_type": "markdown",
   "metadata": {},
   "source": [
    "## c) Triângulo de Pascal\n",
    "\n",
    "### c.1) Usando a função `binomial`\n",
    "\n",
    "Escreva uma função que imprima as `n` primeiras linhas do [Triângulo de Pascal](https://pt.wikipedia.org/wiki/Tri%C3%A2ngulo_de_Pascal).\n",
    "\n",
    "> *Dica*: Esse exercício é muito fácil se você usar a função `binomial`."
   ]
  },
  {
   "cell_type": "code",
   "execution_count": null,
   "metadata": {},
   "outputs": [],
   "source": []
  },
  {
   "cell_type": "markdown",
   "metadata": {},
   "source": [
    "### c.2) Desafio\n",
    "\n",
    "Escreva uma função que imprima as `n` primeiras linhas do Triângulo de Pascal, sem usar a função `binomial`.\n"
   ]
  },
  {
   "cell_type": "code",
   "execution_count": null,
   "metadata": {},
   "outputs": [],
   "source": []
  },
  {
   "cell_type": "markdown",
   "metadata": {},
   "source": [
    "## Exercício 2: Estimando o valor de $\\pi$\n",
    "\n",
    "Podemos aproximar o valor de $\\pi$ através do cálculo da área $A$ de um círculo de raio $r$ conhecido:\n",
    "\n",
    "$$\n",
    "\\pi = Ar^2\n",
    "$$\n",
    "\n",
    "Mas como calcular a área de um círculo sem usar o valor de $\\pi$? Neste exercício, você vai aprender a estimar $\\pi$ através de uma aproximação da área $A$ do círculo, usando laços `while` e gerando números aleatórios.\n",
    "\n",
    "Antes de começar, lembre que em Julia, podemos obter o valor de $\\pi$ através da variável `pi`, que também pode ser escrita com `π` (`\\pi` + `TAB`):"
   ]
  },
  {
   "cell_type": "code",
   "execution_count": 22,
   "metadata": {},
   "outputs": [
    {
     "name": "stdout",
     "output_type": "stream",
     "text": [
      "3.141592653589793\n",
      "3.141592653589793\n"
     ]
    }
   ],
   "source": [
    "println(float(pi))\n",
    "println(float(π))"
   ]
  },
  {
   "cell_type": "markdown",
   "metadata": {},
   "source": [
    "Você deve usar o valor de `π` para verificar a precisão da aproximação que você vai implementar ao final deste exercício.\n",
    "\n",
    "### a) Contando amostras num intervalo\n",
    "\n",
    "A função `rand` produz [números pseudoaleatórios](https://pt.wikipedia.org/wiki/Gerador_de_n%C3%BAmeros_pseudoaleat%C3%B3rios) de ponto flutuante, distribuídos [uniformemente](https://pt.wikipedia.org/wiki/Distribui%C3%A7%C3%A3o_uniforme), no intervalo $[0,1]$:"
   ]
  },
  {
   "cell_type": "code",
   "execution_count": 10,
   "metadata": {},
   "outputs": [
    {
     "data": {
      "text/plain": [
       "0.4426094229702977"
      ]
     },
     "execution_count": 10,
     "metadata": {},
     "output_type": "execute_result"
    }
   ],
   "source": [
    "rand()"
   ]
  },
  {
   "cell_type": "markdown",
   "metadata": {},
   "source": [
    "Use a função `rand` para escrever a função `conta_amostra`, que deve receber como argumento um número inteiro `n` e um número de ponto flutuante `p`, no intervalo $[0,1]$. Sua função deve gerar `n` números pseudoaleatórios no intervalo $[0,1]$, e devolver quantos dos números gerados estão no intervalo $[0,p]$."
   ]
  },
  {
   "cell_type": "code",
   "execution_count": null,
   "metadata": {},
   "outputs": [],
   "source": []
  },
  {
   "cell_type": "markdown",
   "metadata": {},
   "source": [
    "Note que, como a função `rand` gera números uniformemente distribuídos, a função `conta_amostra` deve constatar que o número de pontos gerados *dentro do intervalo* $[0,p]$ se *aproxima* de `n * p`, conforme o valor de `n` aumenta:"
   ]
  },
  {
   "cell_type": "code",
   "execution_count": null,
   "metadata": {},
   "outputs": [],
   "source": []
  },
  {
   "cell_type": "markdown",
   "metadata": {},
   "source": [
    "### b) Contando amostras dentro de um círculo\n",
    "\n",
    "Lembre-se que um [círculo](https://pt.wikipedia.org/wiki/C%C3%ADrculo) é uma região do plano delimitada por uma circunferência de raio $r$ conhecido. Cada ponto do plano, com coordenadas dadas por $(x,y)$, está *dentro do círculo* se:\n",
    "\n",
    "$$\n",
    "\\sqrt{x^2 + y^2} \\leq r\n",
    "$$\n",
    "\n",
    "Modifique a função `conta_amostra` do item **a)** e escreva a função `conta_amostra_círculo`, que deve receber como argumento um número inteiro `n` e um número de ponto flutuante `r`, representando o raio de um círculo. Sua função deve gerar pontos uniformemente distribuídos no quadrado de lado `r`, centrado na origem $(0,0)$. Você deve usar a função `rand`, e contar quantos dos pontos gerados estão dentro do círculo de raio `r`, centrado na origem.\n",
    "\n",
    "> *Dica*: Para simplificar o exercício, gere apenas pontos dentro do [primeiro quadrante do plano](https://pt.wikipedia.org/wiki/Quadrante_(geometria)), onde $0 \\leq x \\leq r$ e $0 \\leq y \\leq r$."
   ]
  },
  {
   "cell_type": "code",
   "execution_count": null,
   "metadata": {},
   "outputs": [],
   "source": []
  },
  {
   "cell_type": "markdown",
   "metadata": {},
   "source": [
    "### c) Estimando $\\pi$\n",
    "\n",
    "Considere um círculo de raio $1$, centrado na origem $(0,0)$. Usando a função `rand`, somos capazes de gerar números aleatórios uniformemente no quadrado de lado $1$, centrado na origem. Aprendemos no item **b)** a contar quantos desses números gerados estão dentro de um círculo de raio $1$, circunscrito ao quadrado inicial.\n",
    "\n",
    "Vamos agora fazer a hipótese de que a área do círculo de raio $1$ pode ser aproximada pela *proporção* entre os *pontos que caem dentro do círculo*, representados por $c$, e o total de *pontos gerados*, representados por $g$:\n",
    "\n",
    "$$\n",
    "A = \\dfrac{c}{g}\n",
    "$$\n",
    "\n",
    "Essa é uma hipótese razoável? Por que?\n",
    "\n",
    "Considerando que estamos convencidos de que a hipótese seja razoável, podemos construir uma aproximação de $\\pi$ lemebrando da fórmula da área do círculo:\n",
    "\n",
    "$$\n",
    "A = \\dfrac{c}{g} = \\pi{}r^2\n",
    "$$\n",
    "\n",
    "Assim, podemos aproximar $\\pi$ por:\n",
    "\n",
    "$$\n",
    "\\pi = \\dfrac{c}{g}r^2\n",
    "$$\n",
    "\n",
    "Agora, use a função `conta_amostra_círculo` para estimar o valor de $\\pi$ com *precisão ao menos três casas decimais*, comparado com o valor de `π`.\n",
    "\n",
    "> *Dica*: Lembre-se que simplificamos o problema no item **b)** ao gerar apenas pontos no primeiro quadrante do plano."
   ]
  },
  {
   "cell_type": "code",
   "execution_count": null,
   "metadata": {},
   "outputs": [],
   "source": []
  }
 ],
 "metadata": {
  "kernelspec": {
   "display_name": "Julia 1.1.1",
   "language": "julia",
   "name": "julia-1.1"
  },
  "language_info": {
   "file_extension": ".jl",
   "mimetype": "application/julia",
   "name": "julia",
   "version": "1.1.0"
  }
 },
 "nbformat": 4,
 "nbformat_minor": 2
}
