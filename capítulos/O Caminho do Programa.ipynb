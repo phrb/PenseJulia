{
 "cells": [
  {
   "cell_type": "markdown",
   "metadata": {},
   "source": [
    "# O Caminho do Programa\n",
    "\n",
    "O objetivo deste livro é ensinar a pensar como um cientista da computação. Esta maneira de pensar combina algumas das melhores características da matemática, da engenharia, e das ciências naturais. Assim como os matemáticos, os cientistas da computação usam linguagens formais para representar ideias, ou mais especificamente, operações de computação. Assim como engenheiros, eles projetam coisas, reunindo componentes em sistemas e avaliando os custos e os benefícios das alternativas à disposição. Assim como cientistas, observam o comportamento de sistemas complexos, formam hipóteses e testam previsões.\n",
    "\n",
    "A habilidade mais importante para um cientista da computação é a *resolução de problemas*, isto é, a capacidade de formular problemas, pensar em soluções criativas, e expressá-las de maneira clara e precisa. No fim das contas, o processo de aprender a programar é uma ótima oportunidade para praticar suas habilidades de resolução de problemas. Por isso, este capítulo se chama \"O Caminho do Programa.\n",
    "\n",
    "Num nível, você vai aprender a programar, o que é uma habilidade útil por si só. Num outro nível, vai usar a programação como um meio para um fim. Conforme avançarmos, este fim vai ficar mais claro.\n",
    "\n",
    "## O Quê é um Programa?\n",
    "\n",
    "Um *programa* é uma sequência de instruções que especifica como realizar uma operação de computação. A operação de computação pode ser relacionada com a matemática, como solucionar um sistema de equações ou encontrar as raízes de um polinômio, mas também pode ser uma operação de computação simbólica, como a busca e a substituição de textos em um documento, ou uma operação relacionada ao audiovisual, como o processamento de uma imagem ou a reprodução de um vídeo.\n",
    "\n",
    "Os detalhes de cada operação mudam de uma linguagem de programação a outra, mas alguns conceitos e instruções básicas aparecem em praticamente todas as linguagens:\n",
    "\n",
    "**Entrada**\n",
    "\n",
    "Receber dados do teclado, de um arquivo, da rede, ou de algum outro dispositivo.\n",
    "\n",
    "**Saída**\n",
    "\n",
    "Exibir dados na tela, salvá-los em um arquivo, enviá-los pela rede etc.\n",
    "\n",
    "**Matemática**\n",
    "\n",
    "Executar operações matemáticas básicas, como adição e multiplicação.\n",
    "\n",
    "**Execução Condicional**\n",
    "\n",
    "Verificar a veracidade de determinadas condições e executar o código adequado.\n",
    "    \n",
    "**Repetição**\n",
    "\n",
    "Repetir uma ação, normalmente com pequenas variações.\n",
    "\n",
    "***\n",
    "\n",
    "Você pode não acreditar, mas isso é praticamente tudo o que você precisa saber. Todo programa que você já usou, não importa o quão complicado, consiste em instruções muito parecidas com essas. Portanto, você pode pensar sobre programação como sendo o processo de quebrar tarefas grandes e complexas em *subtarefas*, e de quebrar essas subtarefas em \"sub-subtarefas\" cada vez menores, até que elas sejam suficientemente simples para serem descritas e realizadas por uma das instruções básicas da lista acima.\n",
    "\n",
    "## Executando Julia"
   ]
  }
 ],
 "metadata": {
  "kernelspec": {
   "display_name": "Julia 1.1.1",
   "language": "julia",
   "name": "julia-1.1"
  },
  "language_info": {
   "file_extension": ".jl",
   "mimetype": "application/julia",
   "name": "julia",
   "version": "1.1.1"
  }
 },
 "nbformat": 4,
 "nbformat_minor": 2
}
